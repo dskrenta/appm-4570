{
 "cells": [
  {
   "cell_type": "markdown",
   "metadata": {},
   "source": [
    "# Homework #2: Computational Section\n",
    "All computations should be done in this notebook using the R kernel. Working in small groups is allowed, but it is important that you make an effort to master the material and hand in your own work.\n",
    "\n",
    "#### You will be required to submit this notebook, fully compiled with your solutions, as an HTML file to Canvas by 2pm on Friday, Feburary 2."
   ]
  },
  {
   "cell_type": "markdown",
   "metadata": {},
   "source": [
    "\n",
    "## Problem 1\n",
    "\n",
    "Some claim that the final hours aboard the Titanic were marked by class warfare; other claim it was characterized by male chivalry.  Load the titanic data frame into R. This dataset contains information pertaining to class status ${\\tt pclass}$, survival of passengers ${\\tt survived}$, and gender ${\\tt sex}$, among others.  You can learn more about the data here: https://cran.r-project.org/web/packages/PASWR2/PASWR2.pdf\n",
    "\n",
    "\n",
    "#### (a) Determine the fraction of survivors from each passenger class."
   ]
  },
  {
   "cell_type": "code",
   "execution_count": 20,
   "metadata": {},
   "outputs": [
    {
     "data": {
      "text/html": [
       "0.62037037037037"
      ],
      "text/latex": [
       "0.62037037037037"
      ],
      "text/markdown": [
       "0.62037037037037"
      ],
      "text/plain": [
       "[1] 0.6203704"
      ]
     },
     "metadata": {},
     "output_type": "display_data"
    },
    {
     "data": {
      "text/html": [
       "0.431654676258993"
      ],
      "text/latex": [
       "0.431654676258993"
      ],
      "text/markdown": [
       "0.431654676258993"
      ],
      "text/plain": [
       "[1] 0.4316547"
      ]
     },
     "metadata": {},
     "output_type": "display_data"
    },
    {
     "data": {
      "text/html": [
       "0.256338028169014"
      ],
      "text/latex": [
       "0.256338028169014"
      ],
      "text/markdown": [
       "0.256338028169014"
      ],
      "text/plain": [
       "[1] 0.256338"
      ]
     },
     "metadata": {},
     "output_type": "display_data"
    }
   ],
   "source": [
    "data = data.frame(read.table(\"./titanic3.csv\", sep=\",\", header=TRUE))\n",
    "\n",
    "first = data[data$pclass == 1,]\n",
    "firstPercentageSurvived = nrow(first[first$survived == 1,]) / nrow(first)\n",
    "firstPercentageSurvived\n",
    "\n",
    "second = data[data$pclass == 2,]\n",
    "secondPercentageSurvived = nrow(second[second$survived == 1,]) / nrow(second)\n",
    "secondPercentageSurvived\n",
    "\n",
    "third = data[data$pclass == 3,]\n",
    "thirdPercentageSurvived = nrow(thrid[thrid$survived == 1,]) / nrow(third)\n",
    "thirdPercentageSurvived"
   ]
  },
  {
   "cell_type": "markdown",
   "metadata": {},
   "source": [
    "#### (b) Compute the fraction of survivors according to class and gender. Did men in the first class or women in the third class have a higher survival rate?"
   ]
  },
  {
   "cell_type": "code",
   "execution_count": 36,
   "metadata": {},
   "outputs": [
    {
     "data": {
      "text/html": [
       "'First Class Male Survival Percentage'"
      ],
      "text/latex": [
       "'First Class Male Survival Percentage'"
      ],
      "text/markdown": [
       "'First Class Male Survival Percentage'"
      ],
      "text/plain": [
       "[1] \"First Class Male Survival Percentage\""
      ]
     },
     "metadata": {},
     "output_type": "display_data"
    },
    {
     "data": {
      "text/html": [
       "0.344444444444444"
      ],
      "text/latex": [
       "0.344444444444444"
      ],
      "text/markdown": [
       "0.344444444444444"
      ],
      "text/plain": [
       "[1] 0.3444444"
      ]
     },
     "metadata": {},
     "output_type": "display_data"
    },
    {
     "data": {
      "text/html": [
       "'First Class Female Survival Percentage'"
      ],
      "text/latex": [
       "'First Class Female Survival Percentage'"
      ],
      "text/markdown": [
       "'First Class Female Survival Percentage'"
      ],
      "text/plain": [
       "[1] \"First Class Female Survival Percentage\""
      ]
     },
     "metadata": {},
     "output_type": "display_data"
    },
    {
     "data": {
      "text/html": [
       "0.96551724137931"
      ],
      "text/latex": [
       "0.96551724137931"
      ],
      "text/markdown": [
       "0.96551724137931"
      ],
      "text/plain": [
       "[1] 0.9655172"
      ]
     },
     "metadata": {},
     "output_type": "display_data"
    },
    {
     "data": {
      "text/html": [
       "'Second Class Male Survival Percentage'"
      ],
      "text/latex": [
       "'Second Class Male Survival Percentage'"
      ],
      "text/markdown": [
       "'Second Class Male Survival Percentage'"
      ],
      "text/plain": [
       "[1] \"Second Class Male Survival Percentage\""
      ]
     },
     "metadata": {},
     "output_type": "display_data"
    },
    {
     "data": {
      "text/html": [
       "0.151162790697674"
      ],
      "text/latex": [
       "0.151162790697674"
      ],
      "text/markdown": [
       "0.151162790697674"
      ],
      "text/plain": [
       "[1] 0.1511628"
      ]
     },
     "metadata": {},
     "output_type": "display_data"
    },
    {
     "data": {
      "text/html": [
       "'Second Class Female Survival Percentage'"
      ],
      "text/latex": [
       "'Second Class Female Survival Percentage'"
      ],
      "text/markdown": [
       "'Second Class Female Survival Percentage'"
      ],
      "text/plain": [
       "[1] \"Second Class Female Survival Percentage\""
      ]
     },
     "metadata": {},
     "output_type": "display_data"
    },
    {
     "data": {
      "text/html": [
       "0.88785046728972"
      ],
      "text/latex": [
       "0.88785046728972"
      ],
      "text/markdown": [
       "0.88785046728972"
      ],
      "text/plain": [
       "[1] 0.8878505"
      ]
     },
     "metadata": {},
     "output_type": "display_data"
    },
    {
     "data": {
      "text/html": [
       "'Third Class Male Survival Percentage'"
      ],
      "text/latex": [
       "'Third Class Male Survival Percentage'"
      ],
      "text/markdown": [
       "'Third Class Male Survival Percentage'"
      ],
      "text/plain": [
       "[1] \"Third Class Male Survival Percentage\""
      ]
     },
     "metadata": {},
     "output_type": "display_data"
    },
    {
     "data": {
      "text/html": [
       "0.153846153846154"
      ],
      "text/latex": [
       "0.153846153846154"
      ],
      "text/markdown": [
       "0.153846153846154"
      ],
      "text/plain": [
       "[1] 0.1538462"
      ]
     },
     "metadata": {},
     "output_type": "display_data"
    },
    {
     "data": {
      "text/html": [
       "'Third Class Female Survival Percentage'"
      ],
      "text/latex": [
       "'Third Class Female Survival Percentage'"
      ],
      "text/markdown": [
       "'Third Class Female Survival Percentage'"
      ],
      "text/plain": [
       "[1] \"Third Class Female Survival Percentage\""
      ]
     },
     "metadata": {},
     "output_type": "display_data"
    },
    {
     "data": {
      "text/html": [
       "0.493087557603687"
      ],
      "text/latex": [
       "0.493087557603687"
      ],
      "text/markdown": [
       "0.493087557603687"
      ],
      "text/plain": [
       "[1] 0.4930876"
      ]
     },
     "metadata": {},
     "output_type": "display_data"
    }
   ],
   "source": [
    "# male = data[data$sex == \"male\",]\n",
    "# female = data[data$sex == \"female\",]\n",
    "\n",
    "firstMaleSurvived = nrow(first[first$survived == 1 & first$sex == \"male\",]) / nrow(first[first$sex == \"male\",])\n",
    "\"First Class Male Survival Percentage\"\n",
    "firstMaleSurvived\n",
    "\n",
    "firstFemaleSurvived = nrow(first[first$survived == 1 & first$sex == \"female\",]) / nrow(first[first$sex == \"female\",])\n",
    "\"First Class Female Survival Percentage\"\n",
    "firstFemaleSurvived\n",
    "\n",
    "secondMaleSurvived = nrow(second[second$survived == 1 & second$sex == \"male\",]) / nrow(second[second$sex == \"male\",])\n",
    "\"Second Class Male Survival Percentage\"\n",
    "secondMaleSurvived\n",
    "\n",
    "secondFemaleSurvived = nrow(second[second$survived == 1 & second$sex == \"female\",]) / nrow(second[second$sex == \"female\",])\n",
    "\"Second Class Female Survival Percentage\"\n",
    "secondFemaleSurvived\n",
    "\n",
    "thirdMaleSurvived = nrow(thrid[third$survived == 1 & third$sex == \"male\",]) / nrow(third[thrid$sex == \"male\",])\n",
    "\"Third Class Male Survival Percentage\"\n",
    "thirdMaleSurvived\n",
    "\n",
    "thirdFemaleSurvived = nrow(third[third$survived == 1 & third$sex == \"female\",]) / nrow(third[third$sex == \"female\",])\n",
    "\"Third Class Female Survival Percentage\"\n",
    "thirdFemaleSurvived"
   ]
  },
  {
   "cell_type": "markdown",
   "metadata": {},
   "source": [
    "#### (c) How would you characterize the distribution of ${\\tt age}$ (e.g., is it symmetric, positively/negatively skewed, unimodal, multimodal)?\n",
    "\n"
   ]
  },
  {
   "cell_type": "code",
   "execution_count": 41,
   "metadata": {},
   "outputs": [
    {
     "data": {
      "image/png": "[encoded data removed]",
      "text/plain": [
       "Plot with title “Histogram of data$age”"
      ]
     },
     "metadata": {},
     "output_type": "display_data"
    },
    {
     "data": {
      "image/png": "[encoded data removed]",
      "text/plain": [
       "Plot with title “Histogram of first$age”"
      ]
     },
     "metadata": {},
     "output_type": "display_data"
    },
    {
     "data": {
      "image/png": "[encoded data removed]",
      "text/plain": [
       "Plot with title “Histogram of second$age”"
      ]
     },
     "metadata": {},
     "output_type": "display_data"
    },
    {
     "data": {
      "text/html": [
       "'The distribution of age is skewed negatively towards yonger ages between 15 and 30'"
      ],
      "text/latex": [
       "'The distribution of age is skewed negatively towards yonger ages between 15 and 30'"
      ],
      "text/markdown": [
       "'The distribution of age is skewed negatively towards yonger ages between 15 and 30'"
      ],
      "text/plain": [
       "[1] \"The distribution of age is skewed negatively towards yonger ages between 15 and 30\""
      ]
     },
     "metadata": {},
     "output_type": "display_data"
    },
    {
     "data": {
      "text/html": [
       "'In higher classes the distribution of age is skewed towards higher ages'"
      ],
      "text/latex": [
       "'In higher classes the distribution of age is skewed towards higher ages'"
      ],
      "text/markdown": [
       "'In higher classes the distribution of age is skewed towards higher ages'"
      ],
      "text/plain": [
       "[1] \"In higher classes the distribution of age is skewed towards higher ages\""
      ]
     },
     "metadata": {},
     "output_type": "display_data"
    },
    {
     "data": {
      "text/html": [
       "'The distribution is unimodal except for first class'"
      ],
      "text/latex": [
       "'The distribution is unimodal except for first class'"
      ],
      "text/markdown": [
       "'The distribution is unimodal except for first class'"
      ],
      "text/plain": [
       "[1] \"The distribution is unimodal except for first class\""
      ]
     },
     "metadata": {},
     "output_type": "display_data"
    },
    {
     "data": {
      "image/png": "[encoded data removed]",
      "text/plain": [
       "Plot with title “Histogram of thrid$age”"
      ]
     },
     "metadata": {},
     "output_type": "display_data"
    }
   ],
   "source": [
    "hist(data$age)\n",
    "hist(first$age)\n",
    "hist(second$age)\n",
    "hist(thrid$age)\n",
    "\"The distribution of age is skewed negatively towards yonger ages between 15 and 30\"\n",
    "\"In higher classes the distribution of age is skewed towards higher ages\"\n",
    "\"The distribution is unimodal except for first class\""
   ]
  },
  {
   "cell_type": "markdown",
   "metadata": {},
   "source": [
    "#### (d) Were the median and mean ages for females who survived higher or lower than for females who did not survive? Report the median and mean ages as well as an appropriate measure of spread for each statistic."
   ]
  },
  {
   "cell_type": "code",
   "execution_count": 55,
   "metadata": {},
   "outputs": [
    {
     "data": {
      "text/html": [
       "'Female Survived Age Statistics'"
      ],
      "text/latex": [
       "'Female Survived Age Statistics'"
      ],
      "text/markdown": [
       "'Female Survived Age Statistics'"
      ],
      "text/plain": [
       "[1] \"Female Survived Age Statistics\""
      ]
     },
     "metadata": {},
     "output_type": "display_data"
    },
    {
     "data": {
      "text/html": [
       "29.815354109589"
      ],
      "text/latex": [
       "29.815354109589"
      ],
      "text/markdown": [
       "29.815354109589"
      ],
      "text/plain": [
       "[1] 29.81535"
      ]
     },
     "metadata": {},
     "output_type": "display_data"
    },
    {
     "data": {
      "text/html": [
       "28.5"
      ],
      "text/latex": [
       "28.5"
      ],
      "text/markdown": [
       "28.5"
      ],
      "text/plain": [
       "[1] 28.5"
      ]
     },
     "metadata": {},
     "output_type": "display_data"
    },
    {
     "data": {
      "text/html": [
       "14.7692775358796"
      ],
      "text/latex": [
       "14.7692775358796"
      ],
      "text/markdown": [
       "14.7692775358796"
      ],
      "text/plain": [
       "[1] 14.76928"
      ]
     },
     "metadata": {},
     "output_type": "display_data"
    },
    {
     "data": {
      "text/html": [
       "218.131558931839"
      ],
      "text/latex": [
       "218.131558931839"
      ],
      "text/markdown": [
       "218.131558931839"
      ],
      "text/plain": [
       "[1] 218.1316"
      ]
     },
     "metadata": {},
     "output_type": "display_data"
    },
    {
     "data": {
      "text/html": [
       "'Female Died Age Statistics'"
      ],
      "text/latex": [
       "'Female Died Age Statistics'"
      ],
      "text/markdown": [
       "'Female Died Age Statistics'"
      ],
      "text/plain": [
       "[1] \"Female Died Age Statistics\""
      ]
     },
     "metadata": {},
     "output_type": "display_data"
    },
    {
     "data": {
      "text/html": [
       "25.2552083333333"
      ],
      "text/latex": [
       "25.2552083333333"
      ],
      "text/markdown": [
       "25.2552083333333"
      ],
      "text/plain": [
       "[1] 25.25521"
      ]
     },
     "metadata": {},
     "output_type": "display_data"
    },
    {
     "data": {
      "text/html": [
       "24.5"
      ],
      "text/latex": [
       "24.5"
      ],
      "text/markdown": [
       "24.5"
      ],
      "text/plain": [
       "[1] 24.5"
      ]
     },
     "metadata": {},
     "output_type": "display_data"
    },
    {
     "data": {
      "text/html": [
       "13.4768797715641"
      ],
      "text/latex": [
       "13.4768797715641"
      ],
      "text/markdown": [
       "13.4768797715641"
      ],
      "text/plain": [
       "[1] 13.47688"
      ]
     },
     "metadata": {},
     "output_type": "display_data"
    },
    {
     "data": {
      "text/html": [
       "181.626288377193"
      ],
      "text/latex": [
       "181.626288377193"
      ],
      "text/markdown": [
       "181.626288377193"
      ],
      "text/plain": [
       "[1] 181.6263"
      ]
     },
     "metadata": {},
     "output_type": "display_data"
    },
    {
     "data": {
      "text/html": [
       "'Mean and median ages were higher for women who survived.'"
      ],
      "text/latex": [
       "'Mean and median ages were higher for women who survived.'"
      ],
      "text/markdown": [
       "'Mean and median ages were higher for women who survived.'"
      ],
      "text/plain": [
       "[1] \"Mean and median ages were higher for women who survived.\""
      ]
     },
     "metadata": {},
     "output_type": "display_data"
    }
   ],
   "source": [
    "femaleSurvived = data[data$sex == \"female\" & data$survived == 1,]\n",
    "femaleDied = data[data$sex == \"female\" & data$survived == 0,]\n",
    "\n",
    "femaleSurvivedAges = na.omit(femaleSurvived$age)\n",
    "femaleDiedAges = na.omit(femaleDied$age)\n",
    "\n",
    "\"Female Survived Age Statistics\"\n",
    "mean(femaleSurvivedAges)\n",
    "median(femaleSurvivedAges)\n",
    "sd(femaleSurvivedAges)\n",
    "var(femaleSurvivedAges)\n",
    "\n",
    "\"Female Died Age Statistics\"\n",
    "mean(femaleDiedAges)\n",
    "median(femaleDiedAges)\n",
    "sd(femaleDiedAges)\n",
    "var(femaleDiedAges)\n",
    "\n",
    "\"Mean and median ages were higher for women who survived.\""
   ]
  },
  {
   "cell_type": "markdown",
   "metadata": {},
   "source": [
    "#### (e) Were the median and mean ages for males who survived higher or lower than for males who did not survive? Report the median and mean ages as well as an appropriate measure of spread for each statistic."
   ]
  },
  {
   "cell_type": "code",
   "execution_count": 56,
   "metadata": {},
   "outputs": [
    {
     "data": {
      "text/html": [
       "'Male Survived Age Statistics'"
      ],
      "text/latex": [
       "'Male Survived Age Statistics'"
      ],
      "text/markdown": [
       "'Male Survived Age Statistics'"
      ],
      "text/plain": [
       "[1] \"Male Survived Age Statistics\""
      ]
     },
     "metadata": {},
     "output_type": "display_data"
    },
    {
     "data": {
      "text/html": [
       "26.9777777777778"
      ],
      "text/latex": [
       "26.9777777777778"
      ],
      "text/markdown": [
       "26.9777777777778"
      ],
      "text/plain": [
       "[1] 26.97778"
      ]
     },
     "metadata": {},
     "output_type": "display_data"
    },
    {
     "data": {
      "text/html": [
       "27"
      ],
      "text/latex": [
       "27"
      ],
      "text/markdown": [
       "27"
      ],
      "text/plain": [
       "[1] 27"
      ]
     },
     "metadata": {},
     "output_type": "display_data"
    },
    {
     "data": {
      "text/html": [
       "15.5538844230892"
      ],
      "text/latex": [
       "15.5538844230892"
      ],
      "text/markdown": [
       "15.5538844230892"
      ],
      "text/plain": [
       "[1] 15.55388"
      ]
     },
     "metadata": {},
     "output_type": "display_data"
    },
    {
     "data": {
      "text/html": [
       "241.923320646816"
      ],
      "text/latex": [
       "241.923320646816"
      ],
      "text/markdown": [
       "241.923320646816"
      ],
      "text/plain": [
       "[1] 241.9233"
      ]
     },
     "metadata": {},
     "output_type": "display_data"
    },
    {
     "data": {
      "text/html": [
       "'Male Died Age Statistics'"
      ],
      "text/latex": [
       "'Male Died Age Statistics'"
      ],
      "text/markdown": [
       "'Male Died Age Statistics'"
      ],
      "text/plain": [
       "[1] \"Male Died Age Statistics\""
      ]
     },
     "metadata": {},
     "output_type": "display_data"
    },
    {
     "data": {
      "text/html": [
       "31.5164116634799"
      ],
      "text/latex": [
       "31.5164116634799"
      ],
      "text/markdown": [
       "31.5164116634799"
      ],
      "text/plain": [
       "[1] 31.51641"
      ]
     },
     "metadata": {},
     "output_type": "display_data"
    },
    {
     "data": {
      "text/html": [
       "29"
      ],
      "text/latex": [
       "29"
      ],
      "text/markdown": [
       "29"
      ],
      "text/plain": [
       "[1] 29"
      ]
     },
     "metadata": {},
     "output_type": "display_data"
    },
    {
     "data": {
      "text/html": [
       "13.7963454280416"
      ],
      "text/latex": [
       "13.7963454280416"
      ],
      "text/markdown": [
       "13.7963454280416"
      ],
      "text/plain": [
       "[1] 13.79635"
      ]
     },
     "metadata": {},
     "output_type": "display_data"
    },
    {
     "data": {
      "text/html": [
       "190.339147169845"
      ],
      "text/latex": [
       "190.339147169845"
      ],
      "text/markdown": [
       "190.339147169845"
      ],
      "text/plain": [
       "[1] 190.3391"
      ]
     },
     "metadata": {},
     "output_type": "display_data"
    },
    {
     "data": {
      "text/html": [
       "'Mean and median ages were lower for men who survived.'"
      ],
      "text/latex": [
       "'Mean and median ages were lower for men who survived.'"
      ],
      "text/markdown": [
       "'Mean and median ages were lower for men who survived.'"
      ],
      "text/plain": [
       "[1] \"Mean and median ages were lower for men who survived.\""
      ]
     },
     "metadata": {},
     "output_type": "display_data"
    }
   ],
   "source": [
    "maleSurvived = data[data$sex == \"male\" & data$survived == 1,]\n",
    "maleDied = data[data$sex == \"male\" & data$survived == 0,]\n",
    "\n",
    "maleSurvivedAges = na.omit(maleSurvived$age)\n",
    "maleDiedAges = na.omit(maleDied$age)\n",
    "\n",
    "\"Male Survived Age Statistics\"\n",
    "mean(maleSurvivedAges)\n",
    "median(maleSurvivedAges)\n",
    "sd(maleSurvivedAges)\n",
    "var(maleSurvivedAges)\n",
    "\n",
    "\"Male Died Age Statistics\"\n",
    "mean(maleDiedAges)\n",
    "median(maleDiedAges)\n",
    "sd(maleDiedAges)\n",
    "var(maleDiedAges)\n",
    "\n",
    "\"Mean and median ages were lower for men who survived.\""
   ]
  },
  {
   "cell_type": "markdown",
   "metadata": {},
   "source": [
    "#### (f) What was the age of the youngest female in the first class who survived?"
   ]
  },
  {
   "cell_type": "code",
   "execution_count": 60,
   "metadata": {},
   "outputs": [
    {
     "data": {
      "text/html": [
       "2"
      ],
      "text/latex": [
       "2"
      ],
      "text/markdown": [
       "2"
      ],
      "text/plain": [
       "[1] 2"
      ]
     },
     "metadata": {},
     "output_type": "display_data"
    }
   ],
   "source": [
    "firstClassFemaleSurvivors = data[data$sex == \"female\" & data$pclass == 1,]\n",
    "min(na.omit(firstClassFemaleSurvivors$age))"
   ]
  },
  {
   "cell_type": "markdown",
   "metadata": {},
   "source": [
    "#### (g) Do the data suggest that the final hours aboard the Titanic were characterized by class warfare, male chivalry, some combination of both, or neither? Justify your answer based on computations above, or based on other explorations of the data."
   ]
  },
  {
   "cell_type": "code",
   "execution_count": 62,
   "metadata": {},
   "outputs": [
    {
     "data": {
      "text/html": [
       "'The data suggests that the final hours aboard the Titanic were characterized by a combination of class warfare and male chivalry.'"
      ],
      "text/latex": [
       "'The data suggests that the final hours aboard the Titanic were characterized by a combination of class warfare and male chivalry.'"
      ],
      "text/markdown": [
       "'The data suggests that the final hours aboard the Titanic were characterized by a combination of class warfare and male chivalry.'"
      ],
      "text/plain": [
       "[1] \"The data suggests that the final hours aboard the Titanic were characterized by a combination of class warfare and male chivalry.\""
      ]
     },
     "metadata": {},
     "output_type": "display_data"
    },
    {
     "data": {
      "text/html": [
       "'Many men gave up their initial spots on the lifeboats to women and children which is consistent with their much higher survival rate.'"
      ],
      "text/latex": [
       "'Many men gave up their initial spots on the lifeboats to women and children which is consistent with their much higher survival rate.'"
      ],
      "text/markdown": [
       "'Many men gave up their initial spots on the lifeboats to women and children which is consistent with their much higher survival rate.'"
      ],
      "text/plain": [
       "[1] \"Many men gave up their initial spots on the lifeboats to women and children which is consistent with their much higher survival rate.\""
      ]
     },
     "metadata": {},
     "output_type": "display_data"
    },
    {
     "data": {
      "text/html": [
       "'Class warfare was definitely in effect as the higher classes have much higher survival rates versus the lower classes.'"
      ],
      "text/latex": [
       "'Class warfare was definitely in effect as the higher classes have much higher survival rates versus the lower classes.'"
      ],
      "text/markdown": [
       "'Class warfare was definitely in effect as the higher classes have much higher survival rates versus the lower classes.'"
      ],
      "text/plain": [
       "[1] \"Class warfare was definitely in effect as the higher classes have much higher survival rates versus the lower classes.\""
      ]
     },
     "metadata": {},
     "output_type": "display_data"
    }
   ],
   "source": [
    "\"The data suggests that the final hours aboard the Titanic were characterized by a combination of class warfare and male chivalry.\"\n",
    "\"Many men gave up their initial spots on the lifeboats to women and children which is consistent with their much higher survival rate.\"\n",
    "\"Class warfare was definitely in effect as the higher classes have much higher survival rates versus the lower classes.\""
   ]
  },
  {
   "cell_type": "markdown",
   "metadata": {},
   "source": [
    "## Problem 2\n",
    "\n",
    "#### (a) Conduct a simulation in ${\\tt R}$ to numerically illustrate the results from theoretical question 3 (a) and (b)."
   ]
  },
  {
   "cell_type": "code",
   "execution_count": 63,
   "metadata": {},
   "outputs": [
    {
     "data": {
      "text/html": [
       "13"
      ],
      "text/latex": [
       "13"
      ],
      "text/markdown": [
       "13"
      ],
      "text/plain": [
       "[1] 13"
      ]
     },
     "metadata": {},
     "output_type": "display_data"
    },
    {
     "data": {
      "text/html": [
       "13.5"
      ],
      "text/latex": [
       "13.5"
      ],
      "text/markdown": [
       "13.5"
      ],
      "text/plain": [
       "[1] 13.5"
      ]
     },
     "metadata": {},
     "output_type": "display_data"
    },
    {
     "data": {
      "text/html": [
       "0.5"
      ],
      "text/latex": [
       "0.5"
      ],
      "text/markdown": [
       "0.5"
      ],
      "text/plain": [
       "[1] 0.5"
      ]
     },
     "metadata": {},
     "output_type": "display_data"
    },
    {
     "data": {
      "text/html": [
       "58.5"
      ],
      "text/latex": [
       "58.5"
      ],
      "text/markdown": [
       "58.5"
      ],
      "text/plain": [
       "[1] 58.5"
      ]
     },
     "metadata": {},
     "output_type": "display_data"
    },
    {
     "data": {
      "text/html": [
       "58.5"
      ],
      "text/latex": [
       "58.5"
      ],
      "text/markdown": [
       "58.5"
      ],
      "text/plain": [
       "[1] 58.5"
      ]
     },
     "metadata": {},
     "output_type": "display_data"
    }
   ],
   "source": [
    "# A\n",
    "x = c(1:25)\n",
    "xp = c(1:26)\n",
    "\n",
    "diff = (26-mean(x))/26\n",
    "\n",
    "mean(x)\n",
    "mean(xp)\n",
    "diff\n",
    "\n",
    "#B\n",
    "sdp = var(xp)\n",
    "sdx = var(x)\n",
    "\n",
    "left = (25-1)*sdx / 25\n",
    "right = (1/(26) * (26 - mean(x))^2)\n",
    "\n",
    "sdp\n",
    "left + right"
   ]
  },
  {
   "cell_type": "markdown",
   "metadata": {},
   "source": [
    "#### (b) Verify theoretical question 1 (a) ii. with an example in R."
   ]
  },
  {
   "cell_type": "code",
   "execution_count": null,
   "metadata": {
    "collapsed": true
   },
   "outputs": [],
   "source": [
    "sample = c(1:10, 14:20)\n",
    "\n",
    "mean(sample)\n",
    "median(sample)\n",
    "mean(sample, trim=0.5)"
   ]
  },
  {
   "cell_type": "markdown",
   "metadata": {},
   "source": [
    "## Problem 3\n",
    "\n",
    "#### (a) Load the chocolate.csv data into R (perhaps using the ${\\tt read.csv()}$ function). Print a summary of the data. Which variables are stored as factors, and which are stored as numeric? The function ${\\tt is.factor()}$ may help.\n"
   ]
  },
  {
   "cell_type": "code",
   "execution_count": null,
   "metadata": {},
   "outputs": [],
   "source": []
  },
  {
   "cell_type": "markdown",
   "metadata": {},
   "source": [
    "#### (b) Change the variable names to: company, sorigin, ref, date, cocoa, location, rating, type, borigin."
   ]
  },
  {
   "cell_type": "code",
   "execution_count": null,
   "metadata": {
    "collapsed": true
   },
   "outputs": [],
   "source": []
  },
  {
   "cell_type": "markdown",
   "metadata": {},
   "source": [
    "#### (c) Create a new data frame with just company, cocoa, location, and rating. Use this data frame for all remaining questions."
   ]
  },
  {
   "cell_type": "code",
   "execution_count": null,
   "metadata": {
    "collapsed": true
   },
   "outputs": [],
   "source": []
  },
  {
   "cell_type": "markdown",
   "metadata": {},
   "source": [
    "#### (d) Should we clean this new data frame in any way?"
   ]
  },
  {
   "cell_type": "code",
   "execution_count": null,
   "metadata": {
    "collapsed": true
   },
   "outputs": [],
   "source": []
  },
  {
   "cell_type": "markdown",
   "metadata": {},
   "source": [
    "#### (e) Which company makes the highest rated chocolate bar? The lowest?"
   ]
  },
  {
   "cell_type": "code",
   "execution_count": null,
   "metadata": {
    "collapsed": true
   },
   "outputs": [],
   "source": []
  },
  {
   "cell_type": "markdown",
   "metadata": {},
   "source": [
    "#### (f) Are there any relationships between cocoa, location, and rating? Explore these variables graphicall and numerically, and write a short report (around a paragraph) describing some possible relationships."
   ]
  },
  {
   "cell_type": "code",
   "execution_count": null,
   "metadata": {},
   "outputs": [],
   "source": []
  }
 ],
 "metadata": {
  "kernelspec": {
   "display_name": "R",
   "language": "R",
   "name": "ir"
  },
  "language_info": {
   "codemirror_mode": "r",
   "file_extension": ".r",
   "mimetype": "text/x-r-source",
   "name": "R",
   "pygments_lexer": "r",
   "version": "3.4.2"
  }
 },
 "nbformat": 4,
 "nbformat_minor": 2
}
