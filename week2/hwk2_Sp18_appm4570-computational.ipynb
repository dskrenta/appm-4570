{
 "cells": [
  {
   "cell_type": "markdown",
   "metadata": {},
   "source": [
    "# Homework #2: Computational Section\n",
    "All computations should be done in this notebook using the R kernel. Working in small groups is allowed, but it is important that you make an effort to master the material and hand in your own work.\n",
    "\n",
    "#### You will be required to submit this notebook, fully compiled with your solutions, as an HTML file to Canvas by 2pm on Friday, Feburary 2."
   ]
  },
  {
   "cell_type": "markdown",
   "metadata": {},
   "source": [
    "\n",
    "## Problem 1\n",
    "\n",
    "Some claim that the final hours aboard the Titanic were marked by class warfare; other claim it was characterized by male chivalry.  Load the titanic data frame into R. This dataset contains information pertaining to class status ${\\tt pclass}$, survival of passengers ${\\tt survived}$, and gender ${\\tt sex}$, among others.  You can learn more about the data here: https://cran.r-project.org/web/packages/PASWR2/PASWR2.pdf\n",
    "\n",
    "\n",
    "#### (a) Determine the fraction of survivors from each passenger class."
   ]
  },
  {
   "cell_type": "code",
   "execution_count": 91,
   "metadata": {},
   "outputs": [
    {
     "data": {
      "text/html": [
       "0.62037037037037"
      ],
      "text/latex": [
       "0.62037037037037"
      ],
      "text/markdown": [
       "0.62037037037037"
      ],
      "text/plain": [
       "[1] 0.6203704"
      ]
     },
     "metadata": {},
     "output_type": "display_data"
    },
    {
     "data": {
      "text/html": [
       "0.431654676258993"
      ],
      "text/latex": [
       "0.431654676258993"
      ],
      "text/markdown": [
       "0.431654676258993"
      ],
      "text/plain": [
       "[1] 0.4316547"
      ]
     },
     "metadata": {},
     "output_type": "display_data"
    },
    {
     "data": {
      "text/html": [
       "0.256338028169014"
      ],
      "text/latex": [
       "0.256338028169014"
      ],
      "text/markdown": [
       "0.256338028169014"
      ],
      "text/plain": [
       "[1] 0.256338"
      ]
     },
     "metadata": {},
     "output_type": "display_data"
    }
   ],
   "source": [
    "data = data.frame(read.table(\"./titanic3.csv\", sep=\",\", header=TRUE))\n",
    "\n",
    "first = data[data$pclass == 1,]\n",
    "firstPercentageSurvived = nrow(first[first$survived == 1,]) / nrow(first)\n",
    "firstPercentageSurvived\n",
    "\n",
    "second = data[data$pclass == 2,]\n",
    "secondPercentageSurvived = nrow(second[second$survived == 1,]) / nrow(second)\n",
    "secondPercentageSurvived\n",
    "\n",
    "third = data[data$pclass == 3,]\n",
    "thirdPercentageSurvived = nrow(thrid[thrid$survived == 1,]) / nrow(third)\n",
    "thirdPercentageSurvived"
   ]
  },
  {
   "cell_type": "markdown",
   "metadata": {},
   "source": [
    "#### (b) Compute the fraction of survivors according to class and gender. Did men in the first class or women in the third class have a higher survival rate?"
   ]
  },
  {
   "cell_type": "code",
   "execution_count": 92,
   "metadata": {},
   "outputs": [
    {
     "data": {
      "text/html": [
       "'First Class Male Survival Percentage'"
      ],
      "text/latex": [
       "'First Class Male Survival Percentage'"
      ],
      "text/markdown": [
       "'First Class Male Survival Percentage'"
      ],
      "text/plain": [
       "[1] \"First Class Male Survival Percentage\""
      ]
     },
     "metadata": {},
     "output_type": "display_data"
    },
    {
     "data": {
      "text/html": [
       "0.344444444444444"
      ],
      "text/latex": [
       "0.344444444444444"
      ],
      "text/markdown": [
       "0.344444444444444"
      ],
      "text/plain": [
       "[1] 0.3444444"
      ]
     },
     "metadata": {},
     "output_type": "display_data"
    },
    {
     "data": {
      "text/html": [
       "'First Class Female Survival Percentage'"
      ],
      "text/latex": [
       "'First Class Female Survival Percentage'"
      ],
      "text/markdown": [
       "'First Class Female Survival Percentage'"
      ],
      "text/plain": [
       "[1] \"First Class Female Survival Percentage\""
      ]
     },
     "metadata": {},
     "output_type": "display_data"
    },
    {
     "data": {
      "text/html": [
       "0.96551724137931"
      ],
      "text/latex": [
       "0.96551724137931"
      ],
      "text/markdown": [
       "0.96551724137931"
      ],
      "text/plain": [
       "[1] 0.9655172"
      ]
     },
     "metadata": {},
     "output_type": "display_data"
    },
    {
     "data": {
      "text/html": [
       "'Second Class Male Survival Percentage'"
      ],
      "text/latex": [
       "'Second Class Male Survival Percentage'"
      ],
      "text/markdown": [
       "'Second Class Male Survival Percentage'"
      ],
      "text/plain": [
       "[1] \"Second Class Male Survival Percentage\""
      ]
     },
     "metadata": {},
     "output_type": "display_data"
    },
    {
     "data": {
      "text/html": [
       "0.151162790697674"
      ],
      "text/latex": [
       "0.151162790697674"
      ],
      "text/markdown": [
       "0.151162790697674"
      ],
      "text/plain": [
       "[1] 0.1511628"
      ]
     },
     "metadata": {},
     "output_type": "display_data"
    },
    {
     "data": {
      "text/html": [
       "'Second Class Female Survival Percentage'"
      ],
      "text/latex": [
       "'Second Class Female Survival Percentage'"
      ],
      "text/markdown": [
       "'Second Class Female Survival Percentage'"
      ],
      "text/plain": [
       "[1] \"Second Class Female Survival Percentage\""
      ]
     },
     "metadata": {},
     "output_type": "display_data"
    },
    {
     "data": {
      "text/html": [
       "0.88785046728972"
      ],
      "text/latex": [
       "0.88785046728972"
      ],
      "text/markdown": [
       "0.88785046728972"
      ],
      "text/plain": [
       "[1] 0.8878505"
      ]
     },
     "metadata": {},
     "output_type": "display_data"
    },
    {
     "data": {
      "text/html": [
       "'Third Class Male Survival Percentage'"
      ],
      "text/latex": [
       "'Third Class Male Survival Percentage'"
      ],
      "text/markdown": [
       "'Third Class Male Survival Percentage'"
      ],
      "text/plain": [
       "[1] \"Third Class Male Survival Percentage\""
      ]
     },
     "metadata": {},
     "output_type": "display_data"
    },
    {
     "data": {
      "text/html": [
       "0.153846153846154"
      ],
      "text/latex": [
       "0.153846153846154"
      ],
      "text/markdown": [
       "0.153846153846154"
      ],
      "text/plain": [
       "[1] 0.1538462"
      ]
     },
     "metadata": {},
     "output_type": "display_data"
    },
    {
     "data": {
      "text/html": [
       "'Third Class Female Survival Percentage'"
      ],
      "text/latex": [
       "'Third Class Female Survival Percentage'"
      ],
      "text/markdown": [
       "'Third Class Female Survival Percentage'"
      ],
      "text/plain": [
       "[1] \"Third Class Female Survival Percentage\""
      ]
     },
     "metadata": {},
     "output_type": "display_data"
    },
    {
     "data": {
      "text/html": [
       "0.493087557603687"
      ],
      "text/latex": [
       "0.493087557603687"
      ],
      "text/markdown": [
       "0.493087557603687"
      ],
      "text/plain": [
       "[1] 0.4930876"
      ]
     },
     "metadata": {},
     "output_type": "display_data"
    }
   ],
   "source": [
    "# male = data[data$sex == \"male\",]\n",
    "# female = data[data$sex == \"female\",]\n",
    "\n",
    "firstMaleSurvived = nrow(first[first$survived == 1 & first$sex == \"male\",]) / nrow(first[first$sex == \"male\",])\n",
    "\"First Class Male Survival Percentage\"\n",
    "firstMaleSurvived\n",
    "\n",
    "firstFemaleSurvived = nrow(first[first$survived == 1 & first$sex == \"female\",]) / nrow(first[first$sex == \"female\",])\n",
    "\"First Class Female Survival Percentage\"\n",
    "firstFemaleSurvived\n",
    "\n",
    "secondMaleSurvived = nrow(second[second$survived == 1 & second$sex == \"male\",]) / nrow(second[second$sex == \"male\",])\n",
    "\"Second Class Male Survival Percentage\"\n",
    "secondMaleSurvived\n",
    "\n",
    "secondFemaleSurvived = nrow(second[second$survived == 1 & second$sex == \"female\",]) / nrow(second[second$sex == \"female\",])\n",
    "\"Second Class Female Survival Percentage\"\n",
    "secondFemaleSurvived\n",
    "\n",
    "thirdMaleSurvived = nrow(thrid[third$survived == 1 & third$sex == \"male\",]) / nrow(third[thrid$sex == \"male\",])\n",
    "\"Third Class Male Survival Percentage\"\n",
    "thirdMaleSurvived\n",
    "\n",
    "thirdFemaleSurvived = nrow(third[third$survived == 1 & third$sex == \"female\",]) / nrow(third[third$sex == \"female\",])\n",
    "\"Third Class Female Survival Percentage\"\n",
    "thirdFemaleSurvived"
   ]
  },
  {
   "cell_type": "markdown",
   "metadata": {},
   "source": [
    "#### (c) How would you characterize the distribution of ${\\tt age}$ (e.g., is it symmetric, positively/negatively skewed, unimodal, multimodal)?\n",
    "\n"
   ]
  },
  {
   "cell_type": "code",
   "execution_count": 93,
   "metadata": {},
   "outputs": [
    {
     "data": {
      "image/png": "[encoded data removed]",
      "text/plain": [
       "Plot with title “Histogram of data$age”"
      ]
     },
     "metadata": {},
     "output_type": "display_data"
    },
    {
     "data": {
      "image/png": "[encoded data removed]",
      "text/plain": [
       "Plot with title “Histogram of first$age”"
      ]
     },
     "metadata": {},
     "output_type": "display_data"
    },
    {
     "data": {
      "image/png": "[encoded data removed]",
      "text/plain": [
       "Plot with title “Histogram of second$age”"
      ]
     },
     "metadata": {},
     "output_type": "display_data"
    },
    {
     "data": {
      "text/html": [
       "'The distribution of age is skewed negatively towards yonger ages between 15 and 30'"
      ],
      "text/latex": [
       "'The distribution of age is skewed negatively towards yonger ages between 15 and 30'"
      ],
      "text/markdown": [
       "'The distribution of age is skewed negatively towards yonger ages between 15 and 30'"
      ],
      "text/plain": [
       "[1] \"The distribution of age is skewed negatively towards yonger ages between 15 and 30\""
      ]
     },
     "metadata": {},
     "output_type": "display_data"
    },
    {
     "data": {
      "text/html": [
       "'In higher classes the distribution of age is skewed towards higher ages'"
      ],
      "text/latex": [
       "'In higher classes the distribution of age is skewed towards higher ages'"
      ],
      "text/markdown": [
       "'In higher classes the distribution of age is skewed towards higher ages'"
      ],
      "text/plain": [
       "[1] \"In higher classes the distribution of age is skewed towards higher ages\""
      ]
     },
     "metadata": {},
     "output_type": "display_data"
    },
    {
     "data": {
      "text/html": [
       "'The distribution is unimodal except for first class'"
      ],
      "text/latex": [
       "'The distribution is unimodal except for first class'"
      ],
      "text/markdown": [
       "'The distribution is unimodal except for first class'"
      ],
      "text/plain": [
       "[1] \"The distribution is unimodal except for first class\""
      ]
     },
     "metadata": {},
     "output_type": "display_data"
    },
    {
     "data": {
      "image/png": "[encoded data removed]",
      "text/plain": [
       "Plot with title “Histogram of thrid$age”"
      ]
     },
     "metadata": {},
     "output_type": "display_data"
    }
   ],
   "source": [
    "hist(data$age)\n",
    "hist(first$age)\n",
    "hist(second$age)\n",
    "hist(thrid$age)\n",
    "\"The distribution of age is skewed negatively towards yonger ages between 15 and 30\"\n",
    "\"In higher classes the distribution of age is skewed towards higher ages\"\n",
    "\"The distribution is unimodal except for first class\""
   ]
  },
  {
   "cell_type": "markdown",
   "metadata": {},
   "source": [
    "#### (d) Were the median and mean ages for females who survived higher or lower than for females who did not survive? Report the median and mean ages as well as an appropriate measure of spread for each statistic."
   ]
  },
  {
   "cell_type": "code",
   "execution_count": 94,
   "metadata": {},
   "outputs": [
    {
     "data": {
      "text/html": [
       "'Female Survived Age Statistics'"
      ],
      "text/latex": [
       "'Female Survived Age Statistics'"
      ],
      "text/markdown": [
       "'Female Survived Age Statistics'"
      ],
      "text/plain": [
       "[1] \"Female Survived Age Statistics\""
      ]
     },
     "metadata": {},
     "output_type": "display_data"
    },
    {
     "data": {
      "text/html": [
       "29.815354109589"
      ],
      "text/latex": [
       "29.815354109589"
      ],
      "text/markdown": [
       "29.815354109589"
      ],
      "text/plain": [
       "[1] 29.81535"
      ]
     },
     "metadata": {},
     "output_type": "display_data"
    },
    {
     "data": {
      "text/html": [
       "28.5"
      ],
      "text/latex": [
       "28.5"
      ],
      "text/markdown": [
       "28.5"
      ],
      "text/plain": [
       "[1] 28.5"
      ]
     },
     "metadata": {},
     "output_type": "display_data"
    },
    {
     "data": {
      "text/html": [
       "14.7692775358796"
      ],
      "text/latex": [
       "14.7692775358796"
      ],
      "text/markdown": [
       "14.7692775358796"
      ],
      "text/plain": [
       "[1] 14.76928"
      ]
     },
     "metadata": {},
     "output_type": "display_data"
    },
    {
     "data": {
      "text/html": [
       "218.131558931839"
      ],
      "text/latex": [
       "218.131558931839"
      ],
      "text/markdown": [
       "218.131558931839"
      ],
      "text/plain": [
       "[1] 218.1316"
      ]
     },
     "metadata": {},
     "output_type": "display_data"
    },
    {
     "data": {
      "text/html": [
       "'Female Died Age Statistics'"
      ],
      "text/latex": [
       "'Female Died Age Statistics'"
      ],
      "text/markdown": [
       "'Female Died Age Statistics'"
      ],
      "text/plain": [
       "[1] \"Female Died Age Statistics\""
      ]
     },
     "metadata": {},
     "output_type": "display_data"
    },
    {
     "data": {
      "text/html": [
       "25.2552083333333"
      ],
      "text/latex": [
       "25.2552083333333"
      ],
      "text/markdown": [
       "25.2552083333333"
      ],
      "text/plain": [
       "[1] 25.25521"
      ]
     },
     "metadata": {},
     "output_type": "display_data"
    },
    {
     "data": {
      "text/html": [
       "24.5"
      ],
      "text/latex": [
       "24.5"
      ],
      "text/markdown": [
       "24.5"
      ],
      "text/plain": [
       "[1] 24.5"
      ]
     },
     "metadata": {},
     "output_type": "display_data"
    },
    {
     "data": {
      "text/html": [
       "13.4768797715641"
      ],
      "text/latex": [
       "13.4768797715641"
      ],
      "text/markdown": [
       "13.4768797715641"
      ],
      "text/plain": [
       "[1] 13.47688"
      ]
     },
     "metadata": {},
     "output_type": "display_data"
    },
    {
     "data": {
      "text/html": [
       "181.626288377193"
      ],
      "text/latex": [
       "181.626288377193"
      ],
      "text/markdown": [
       "181.626288377193"
      ],
      "text/plain": [
       "[1] 181.6263"
      ]
     },
     "metadata": {},
     "output_type": "display_data"
    },
    {
     "data": {
      "text/html": [
       "'Mean and median ages were higher for women who survived.'"
      ],
      "text/latex": [
       "'Mean and median ages were higher for women who survived.'"
      ],
      "text/markdown": [
       "'Mean and median ages were higher for women who survived.'"
      ],
      "text/plain": [
       "[1] \"Mean and median ages were higher for women who survived.\""
      ]
     },
     "metadata": {},
     "output_type": "display_data"
    }
   ],
   "source": [
    "femaleSurvived = data[data$sex == \"female\" & data$survived == 1,]\n",
    "femaleDied = data[data$sex == \"female\" & data$survived == 0,]\n",
    "\n",
    "femaleSurvivedAges = na.omit(femaleSurvived$age)\n",
    "femaleDiedAges = na.omit(femaleDied$age)\n",
    "\n",
    "\"Female Survived Age Statistics\"\n",
    "mean(femaleSurvivedAges)\n",
    "median(femaleSurvivedAges)\n",
    "sd(femaleSurvivedAges)\n",
    "var(femaleSurvivedAges)\n",
    "\n",
    "\"Female Died Age Statistics\"\n",
    "mean(femaleDiedAges)\n",
    "median(femaleDiedAges)\n",
    "sd(femaleDiedAges)\n",
    "var(femaleDiedAges)\n",
    "\n",
    "\"Mean and median ages were higher for women who survived.\""
   ]
  },
  {
   "cell_type": "markdown",
   "metadata": {},
   "source": [
    "#### (e) Were the median and mean ages for males who survived higher or lower than for males who did not survive? Report the median and mean ages as well as an appropriate measure of spread for each statistic."
   ]
  },
  {
   "cell_type": "code",
   "execution_count": 95,
   "metadata": {},
   "outputs": [
    {
     "data": {
      "text/html": [
       "'Male Survived Age Statistics'"
      ],
      "text/latex": [
       "'Male Survived Age Statistics'"
      ],
      "text/markdown": [
       "'Male Survived Age Statistics'"
      ],
      "text/plain": [
       "[1] \"Male Survived Age Statistics\""
      ]
     },
     "metadata": {},
     "output_type": "display_data"
    },
    {
     "data": {
      "text/html": [
       "26.9777777777778"
      ],
      "text/latex": [
       "26.9777777777778"
      ],
      "text/markdown": [
       "26.9777777777778"
      ],
      "text/plain": [
       "[1] 26.97778"
      ]
     },
     "metadata": {},
     "output_type": "display_data"
    },
    {
     "data": {
      "text/html": [
       "27"
      ],
      "text/latex": [
       "27"
      ],
      "text/markdown": [
       "27"
      ],
      "text/plain": [
       "[1] 27"
      ]
     },
     "metadata": {},
     "output_type": "display_data"
    },
    {
     "data": {
      "text/html": [
       "15.5538844230892"
      ],
      "text/latex": [
       "15.5538844230892"
      ],
      "text/markdown": [
       "15.5538844230892"
      ],
      "text/plain": [
       "[1] 15.55388"
      ]
     },
     "metadata": {},
     "output_type": "display_data"
    },
    {
     "data": {
      "text/html": [
       "241.923320646816"
      ],
      "text/latex": [
       "241.923320646816"
      ],
      "text/markdown": [
       "241.923320646816"
      ],
      "text/plain": [
       "[1] 241.9233"
      ]
     },
     "metadata": {},
     "output_type": "display_data"
    },
    {
     "data": {
      "text/html": [
       "'Male Died Age Statistics'"
      ],
      "text/latex": [
       "'Male Died Age Statistics'"
      ],
      "text/markdown": [
       "'Male Died Age Statistics'"
      ],
      "text/plain": [
       "[1] \"Male Died Age Statistics\""
      ]
     },
     "metadata": {},
     "output_type": "display_data"
    },
    {
     "data": {
      "text/html": [
       "31.5164116634799"
      ],
      "text/latex": [
       "31.5164116634799"
      ],
      "text/markdown": [
       "31.5164116634799"
      ],
      "text/plain": [
       "[1] 31.51641"
      ]
     },
     "metadata": {},
     "output_type": "display_data"
    },
    {
     "data": {
      "text/html": [
       "29"
      ],
      "text/latex": [
       "29"
      ],
      "text/markdown": [
       "29"
      ],
      "text/plain": [
       "[1] 29"
      ]
     },
     "metadata": {},
     "output_type": "display_data"
    },
    {
     "data": {
      "text/html": [
       "13.7963454280416"
      ],
      "text/latex": [
       "13.7963454280416"
      ],
      "text/markdown": [
       "13.7963454280416"
      ],
      "text/plain": [
       "[1] 13.79635"
      ]
     },
     "metadata": {},
     "output_type": "display_data"
    },
    {
     "data": {
      "text/html": [
       "190.339147169845"
      ],
      "text/latex": [
       "190.339147169845"
      ],
      "text/markdown": [
       "190.339147169845"
      ],
      "text/plain": [
       "[1] 190.3391"
      ]
     },
     "metadata": {},
     "output_type": "display_data"
    },
    {
     "data": {
      "text/html": [
       "'Mean and median ages were lower for men who survived.'"
      ],
      "text/latex": [
       "'Mean and median ages were lower for men who survived.'"
      ],
      "text/markdown": [
       "'Mean and median ages were lower for men who survived.'"
      ],
      "text/plain": [
       "[1] \"Mean and median ages were lower for men who survived.\""
      ]
     },
     "metadata": {},
     "output_type": "display_data"
    }
   ],
   "source": [
    "maleSurvived = data[data$sex == \"male\" & data$survived == 1,]\n",
    "maleDied = data[data$sex == \"male\" & data$survived == 0,]\n",
    "\n",
    "maleSurvivedAges = na.omit(maleSurvived$age)\n",
    "maleDiedAges = na.omit(maleDied$age)\n",
    "\n",
    "\"Male Survived Age Statistics\"\n",
    "mean(maleSurvivedAges)\n",
    "median(maleSurvivedAges)\n",
    "sd(maleSurvivedAges)\n",
    "var(maleSurvivedAges)\n",
    "\n",
    "\"Male Died Age Statistics\"\n",
    "mean(maleDiedAges)\n",
    "median(maleDiedAges)\n",
    "sd(maleDiedAges)\n",
    "var(maleDiedAges)\n",
    "\n",
    "\"Mean and median ages were lower for men who survived.\""
   ]
  },
  {
   "cell_type": "markdown",
   "metadata": {},
   "source": [
    "#### (f) What was the age of the youngest female in the first class who survived?"
   ]
  },
  {
   "cell_type": "code",
   "execution_count": 96,
   "metadata": {},
   "outputs": [
    {
     "data": {
      "text/html": [
       "2"
      ],
      "text/latex": [
       "2"
      ],
      "text/markdown": [
       "2"
      ],
      "text/plain": [
       "[1] 2"
      ]
     },
     "metadata": {},
     "output_type": "display_data"
    }
   ],
   "source": [
    "firstClassFemaleSurvivors = data[data$sex == \"female\" & data$pclass == 1,]\n",
    "min(na.omit(firstClassFemaleSurvivors$age))"
   ]
  },
  {
   "cell_type": "markdown",
   "metadata": {},
   "source": [
    "#### (g) Do the data suggest that the final hours aboard the Titanic were characterized by class warfare, male chivalry, some combination of both, or neither? Justify your answer based on computations above, or based on other explorations of the data."
   ]
  },
  {
   "cell_type": "code",
   "execution_count": 97,
   "metadata": {},
   "outputs": [
    {
     "data": {
      "text/html": [
       "'The data suggests that the final hours aboard the Titanic were characterized by a combination of class warfare and male chivalry.'"
      ],
      "text/latex": [
       "'The data suggests that the final hours aboard the Titanic were characterized by a combination of class warfare and male chivalry.'"
      ],
      "text/markdown": [
       "'The data suggests that the final hours aboard the Titanic were characterized by a combination of class warfare and male chivalry.'"
      ],
      "text/plain": [
       "[1] \"The data suggests that the final hours aboard the Titanic were characterized by a combination of class warfare and male chivalry.\""
      ]
     },
     "metadata": {},
     "output_type": "display_data"
    },
    {
     "data": {
      "text/html": [
       "'Many men gave up their initial spots on the lifeboats to women and children which is consistent with their much higher survival rate.'"
      ],
      "text/latex": [
       "'Many men gave up their initial spots on the lifeboats to women and children which is consistent with their much higher survival rate.'"
      ],
      "text/markdown": [
       "'Many men gave up their initial spots on the lifeboats to women and children which is consistent with their much higher survival rate.'"
      ],
      "text/plain": [
       "[1] \"Many men gave up their initial spots on the lifeboats to women and children which is consistent with their much higher survival rate.\""
      ]
     },
     "metadata": {},
     "output_type": "display_data"
    },
    {
     "data": {
      "text/html": [
       "'Class warfare was definitely in effect as the higher classes have much higher survival rates versus the lower classes.'"
      ],
      "text/latex": [
       "'Class warfare was definitely in effect as the higher classes have much higher survival rates versus the lower classes.'"
      ],
      "text/markdown": [
       "'Class warfare was definitely in effect as the higher classes have much higher survival rates versus the lower classes.'"
      ],
      "text/plain": [
       "[1] \"Class warfare was definitely in effect as the higher classes have much higher survival rates versus the lower classes.\""
      ]
     },
     "metadata": {},
     "output_type": "display_data"
    }
   ],
   "source": [
    "\"The data suggests that the final hours aboard the Titanic were characterized by a combination of class warfare and male chivalry.\"\n",
    "\"Many men gave up their initial spots on the lifeboats to women and children which is consistent with their much higher survival rate.\"\n",
    "\"Class warfare was definitely in effect as the higher classes have much higher survival rates versus the lower classes.\""
   ]
  },
  {
   "cell_type": "markdown",
   "metadata": {},
   "source": [
    "## Problem 2\n",
    "\n",
    "#### (a) Conduct a simulation in ${\\tt R}$ to numerically illustrate the results from theoretical question 3 (a) and (b)."
   ]
  },
  {
   "cell_type": "code",
   "execution_count": 98,
   "metadata": {},
   "outputs": [
    {
     "data": {
      "text/html": [
       "5.5"
      ],
      "text/latex": [
       "5.5"
      ],
      "text/markdown": [
       "5.5"
      ],
      "text/plain": [
       "[1] 5.5"
      ]
     },
     "metadata": {},
     "output_type": "display_data"
    },
    {
     "data": {
      "text/html": [
       "6"
      ],
      "text/latex": [
       "6"
      ],
      "text/markdown": [
       "6"
      ],
      "text/plain": [
       "[1] 6"
      ]
     },
     "metadata": {},
     "output_type": "display_data"
    },
    {
     "data": {
      "text/html": [
       "0.5"
      ],
      "text/latex": [
       "0.5"
      ],
      "text/markdown": [
       "0.5"
      ],
      "text/plain": [
       "[1] 0.5"
      ]
     },
     "metadata": {},
     "output_type": "display_data"
    },
    {
     "data": {
      "text/html": [
       "11"
      ],
      "text/latex": [
       "11"
      ],
      "text/markdown": [
       "11"
      ],
      "text/plain": [
       "[1] 11"
      ]
     },
     "metadata": {},
     "output_type": "display_data"
    },
    {
     "data": {
      "text/html": [
       "11"
      ],
      "text/latex": [
       "11"
      ],
      "text/markdown": [
       "11"
      ],
      "text/plain": [
       "[1] 11"
      ]
     },
     "metadata": {},
     "output_type": "display_data"
    }
   ],
   "source": [
    "# A\n",
    "x = c(1:10)\n",
    "xp = c(1:11)\n",
    "\n",
    "difference = (11 - mean(x)) / 11\n",
    "\n",
    "mean(x)\n",
    "mean(xp)\n",
    "difference\n",
    "\n",
    "# B\n",
    "sdp = var(xp)\n",
    "sdx = var(x)\n",
    "\n",
    "first = (10 - 1) * sdx / 10\n",
    "second = (1 / (11) * (11 - mean(x))^2)\n",
    "\n",
    "sdp\n",
    "first + second"
   ]
  },
  {
   "cell_type": "markdown",
   "metadata": {},
   "source": [
    "#### (b) Verify theoretical question 1 (a) ii. with an example in R."
   ]
  },
  {
   "cell_type": "code",
   "execution_count": 99,
   "metadata": {},
   "outputs": [
    {
     "data": {
      "text/html": [
       "<ol class=list-inline>\n",
       "\t<li>1</li>\n",
       "\t<li>2</li>\n",
       "\t<li>3</li>\n",
       "\t<li>4</li>\n",
       "\t<li>5</li>\n",
       "\t<li>6</li>\n",
       "\t<li>7</li>\n",
       "\t<li>8</li>\n",
       "\t<li>9</li>\n",
       "\t<li>10</li>\n",
       "\t<li>11</li>\n",
       "</ol>\n"
      ],
      "text/latex": [
       "\\begin{enumerate*}\n",
       "\\item 1\n",
       "\\item 2\n",
       "\\item 3\n",
       "\\item 4\n",
       "\\item 5\n",
       "\\item 6\n",
       "\\item 7\n",
       "\\item 8\n",
       "\\item 9\n",
       "\\item 10\n",
       "\\item 11\n",
       "\\end{enumerate*}\n"
      ],
      "text/markdown": [
       "1. 1\n",
       "2. 2\n",
       "3. 3\n",
       "4. 4\n",
       "5. 5\n",
       "6. 6\n",
       "7. 7\n",
       "8. 8\n",
       "9. 9\n",
       "10. 10\n",
       "11. 11\n",
       "\n",
       "\n"
      ],
      "text/plain": [
       " [1]  1  2  3  4  5  6  7  8  9 10 11"
      ]
     },
     "metadata": {},
     "output_type": "display_data"
    },
    {
     "data": {
      "text/html": [
       "6"
      ],
      "text/latex": [
       "6"
      ],
      "text/markdown": [
       "6"
      ],
      "text/plain": [
       "[1] 6"
      ]
     },
     "metadata": {},
     "output_type": "display_data"
    },
    {
     "data": {
      "text/html": [
       "6"
      ],
      "text/latex": [
       "6"
      ],
      "text/markdown": [
       "6"
      ],
      "text/plain": [
       "[1] 6"
      ]
     },
     "metadata": {},
     "output_type": "display_data"
    },
    {
     "data": {
      "text/html": [
       "6"
      ],
      "text/latex": [
       "6"
      ],
      "text/markdown": [
       "6"
      ],
      "text/plain": [
       "[1] 6"
      ]
     },
     "metadata": {},
     "output_type": "display_data"
    }
   ],
   "source": [
    "sample = c(1:11)\n",
    "sample\n",
    "\n",
    "mean(sample)\n",
    "median(sample)\n",
    "mean(sample, trim = 0.5)"
   ]
  },
  {
   "cell_type": "markdown",
   "metadata": {},
   "source": [
    "## Problem 3\n",
    "\n",
    "#### (a) Load the chocolate.csv data into R (perhaps using the ${\\tt read.csv()}$ function). Print a summary of the data. Which variables are stored as factors, and which are stored as numeric? The function ${\\tt is.factor()}$ may help.\n"
   ]
  },
  {
   "cell_type": "code",
   "execution_count": 100,
   "metadata": {},
   "outputs": [
    {
     "data": {
      "text/plain": [
       " Company...Maker.if.known.   Specific.Bean.Origin.or.Bar.Name      REF      \n",
       " Soma    :  47             Madagascar        :  57            Min.   :   5  \n",
       " Bonnat  :  27             Peru              :  45            1st Qu.: 576  \n",
       " Fresco  :  26             Ecuador           :  42            Median :1069  \n",
       " Pralus  :  25             Dominican Republic:  37            Mean   :1036  \n",
       " A. Morin:  23             Venezuela         :  21            3rd Qu.:1502  \n",
       " Arete   :  22             Chuao             :  19            Max.   :1952  \n",
       " (Other) :1625             (Other)           :1574                          \n",
       "  Review.Date   Cocoa.Percent Company.Location     Rating     \n",
       " Min.   :2006   70%    :672   U.S.A. :764      Min.   :1.000  \n",
       " 1st Qu.:2010   75%    :222   France :156      1st Qu.:2.875  \n",
       " Median :2013   72%    :189   Canada :125      Median :3.250  \n",
       " Mean   :2012   65%    : 78   U.K.   : 96      Mean   :3.186  \n",
       " 3rd Qu.:2015   80%    : 72   Italy  : 63      3rd Qu.:3.500  \n",
       " Max.   :2017   74%    : 50   Ecuador: 54      Max.   :5.000  \n",
       "                (Other):512   (Other):537                     \n",
       "                Bean.Type            Broad.Bean.Origin\n",
       "                     :887   Venezuela         :214    \n",
       " Trinitario          :419   Ecuador           :193    \n",
       " Criollo             :153   Peru              :165    \n",
       " Forastero           : 87   Madagascar        :145    \n",
       " Forastero (Nacional): 52   Dominican Republic:141    \n",
       " Blend               : 41                     : 73    \n",
       " (Other)             :156   (Other)           :864    "
      ]
     },
     "metadata": {},
     "output_type": "display_data"
    },
    {
     "data": {
      "text/html": [
       "<dl class=dl-horizontal>\n",
       "\t<dt>Company...Maker.if.known.</dt>\n",
       "\t\t<dd>FALSE</dd>\n",
       "\t<dt>Specific.Bean.Origin.or.Bar.Name</dt>\n",
       "\t\t<dd>FALSE</dd>\n",
       "\t<dt>REF</dt>\n",
       "\t\t<dd>TRUE</dd>\n",
       "\t<dt>Review.Date</dt>\n",
       "\t\t<dd>TRUE</dd>\n",
       "\t<dt>Cocoa.Percent</dt>\n",
       "\t\t<dd>FALSE</dd>\n",
       "\t<dt>Company.Location</dt>\n",
       "\t\t<dd>FALSE</dd>\n",
       "\t<dt>Rating</dt>\n",
       "\t\t<dd>TRUE</dd>\n",
       "\t<dt>Bean.Type</dt>\n",
       "\t\t<dd>FALSE</dd>\n",
       "\t<dt>Broad.Bean.Origin</dt>\n",
       "\t\t<dd>FALSE</dd>\n",
       "</dl>\n"
      ],
      "text/latex": [
       "\\begin{description*}\n",
       "\\item[Company...Maker.if.known.] FALSE\n",
       "\\item[Specific.Bean.Origin.or.Bar.Name] FALSE\n",
       "\\item[REF] TRUE\n",
       "\\item[Review.Date] TRUE\n",
       "\\item[Cocoa.Percent] FALSE\n",
       "\\item[Company.Location] FALSE\n",
       "\\item[Rating] TRUE\n",
       "\\item[Bean.Type] FALSE\n",
       "\\item[Broad.Bean.Origin] FALSE\n",
       "\\end{description*}\n"
      ],
      "text/markdown": [
       "Company...Maker.if.known.\n",
       ":   FALSESpecific.Bean.Origin.or.Bar.Name\n",
       ":   FALSEREF\n",
       ":   TRUEReview.Date\n",
       ":   TRUECocoa.Percent\n",
       ":   FALSECompany.Location\n",
       ":   FALSERating\n",
       ":   TRUEBean.Type\n",
       ":   FALSEBroad.Bean.Origin\n",
       ":   FALSE\n",
       "\n"
      ],
      "text/plain": [
       "       Company...Maker.if.known. Specific.Bean.Origin.or.Bar.Name \n",
       "                           FALSE                            FALSE \n",
       "                             REF                      Review.Date \n",
       "                            TRUE                             TRUE \n",
       "                   Cocoa.Percent                 Company.Location \n",
       "                           FALSE                            FALSE \n",
       "                          Rating                        Bean.Type \n",
       "                            TRUE                            FALSE \n",
       "               Broad.Bean.Origin \n",
       "                           FALSE "
      ]
     },
     "metadata": {},
     "output_type": "display_data"
    },
    {
     "data": {
      "text/html": [
       "<dl class=dl-horizontal>\n",
       "\t<dt>Company...Maker.if.known.</dt>\n",
       "\t\t<dd>TRUE</dd>\n",
       "\t<dt>Specific.Bean.Origin.or.Bar.Name</dt>\n",
       "\t\t<dd>TRUE</dd>\n",
       "\t<dt>REF</dt>\n",
       "\t\t<dd>FALSE</dd>\n",
       "\t<dt>Review.Date</dt>\n",
       "\t\t<dd>FALSE</dd>\n",
       "\t<dt>Cocoa.Percent</dt>\n",
       "\t\t<dd>TRUE</dd>\n",
       "\t<dt>Company.Location</dt>\n",
       "\t\t<dd>TRUE</dd>\n",
       "\t<dt>Rating</dt>\n",
       "\t\t<dd>FALSE</dd>\n",
       "\t<dt>Bean.Type</dt>\n",
       "\t\t<dd>TRUE</dd>\n",
       "\t<dt>Broad.Bean.Origin</dt>\n",
       "\t\t<dd>TRUE</dd>\n",
       "</dl>\n"
      ],
      "text/latex": [
       "\\begin{description*}\n",
       "\\item[Company...Maker.if.known.] TRUE\n",
       "\\item[Specific.Bean.Origin.or.Bar.Name] TRUE\n",
       "\\item[REF] FALSE\n",
       "\\item[Review.Date] FALSE\n",
       "\\item[Cocoa.Percent] TRUE\n",
       "\\item[Company.Location] TRUE\n",
       "\\item[Rating] FALSE\n",
       "\\item[Bean.Type] TRUE\n",
       "\\item[Broad.Bean.Origin] TRUE\n",
       "\\end{description*}\n"
      ],
      "text/markdown": [
       "Company...Maker.if.known.\n",
       ":   TRUESpecific.Bean.Origin.or.Bar.Name\n",
       ":   TRUEREF\n",
       ":   FALSEReview.Date\n",
       ":   FALSECocoa.Percent\n",
       ":   TRUECompany.Location\n",
       ":   TRUERating\n",
       ":   FALSEBean.Type\n",
       ":   TRUEBroad.Bean.Origin\n",
       ":   TRUE\n",
       "\n"
      ],
      "text/plain": [
       "       Company...Maker.if.known. Specific.Bean.Origin.or.Bar.Name \n",
       "                            TRUE                             TRUE \n",
       "                             REF                      Review.Date \n",
       "                           FALSE                            FALSE \n",
       "                   Cocoa.Percent                 Company.Location \n",
       "                            TRUE                             TRUE \n",
       "                          Rating                        Bean.Type \n",
       "                           FALSE                             TRUE \n",
       "               Broad.Bean.Origin \n",
       "                            TRUE "
      ]
     },
     "metadata": {},
     "output_type": "display_data"
    }
   ],
   "source": [
    "c = data.frame(read.csv(\"./chocolate.csv\"))\n",
    "summary(c)\n",
    "sapply(c, is.numeric)\n",
    "sapply(c, is.factor)"
   ]
  },
  {
   "cell_type": "markdown",
   "metadata": {},
   "source": [
    "#### (b) Change the variable names to: company, sorigin, ref, date, cocoa, location, rating, type, borigin."
   ]
  },
  {
   "cell_type": "code",
   "execution_count": 101,
   "metadata": {},
   "outputs": [
    {
     "data": {
      "text/html": [
       "<ol class=list-inline>\n",
       "\t<li>'company'</li>\n",
       "\t<li>'sorigin'</li>\n",
       "\t<li>'ref'</li>\n",
       "\t<li>'date'</li>\n",
       "\t<li>'cocoa'</li>\n",
       "\t<li>'location'</li>\n",
       "\t<li>'rating'</li>\n",
       "\t<li>'type'</li>\n",
       "\t<li>'borigin'</li>\n",
       "</ol>\n"
      ],
      "text/latex": [
       "\\begin{enumerate*}\n",
       "\\item 'company'\n",
       "\\item 'sorigin'\n",
       "\\item 'ref'\n",
       "\\item 'date'\n",
       "\\item 'cocoa'\n",
       "\\item 'location'\n",
       "\\item 'rating'\n",
       "\\item 'type'\n",
       "\\item 'borigin'\n",
       "\\end{enumerate*}\n"
      ],
      "text/markdown": [
       "1. 'company'\n",
       "2. 'sorigin'\n",
       "3. 'ref'\n",
       "4. 'date'\n",
       "5. 'cocoa'\n",
       "6. 'location'\n",
       "7. 'rating'\n",
       "8. 'type'\n",
       "9. 'borigin'\n",
       "\n",
       "\n"
      ],
      "text/plain": [
       "[1] \"company\"  \"sorigin\"  \"ref\"      \"date\"     \"cocoa\"    \"location\" \"rating\"  \n",
       "[8] \"type\"     \"borigin\" "
      ]
     },
     "metadata": {},
     "output_type": "display_data"
    }
   ],
   "source": [
    "names(c) = c(\"company\", \"sorigin\", \"ref\", \"date\", \"cocoa\", \"location\", \"rating\", \"type\", \"borigin\")\n",
    "names(c)"
   ]
  },
  {
   "cell_type": "markdown",
   "metadata": {},
   "source": [
    "#### (c) Create a new data frame with just company, cocoa, location, and rating. Use this data frame for all remaining questions."
   ]
  },
  {
   "cell_type": "code",
   "execution_count": 102,
   "metadata": {},
   "outputs": [
    {
     "data": {
      "text/html": [
       "<table>\n",
       "<thead><tr><th scope=col>company</th><th scope=col>cocoa</th><th scope=col>location</th><th scope=col>rating</th></tr></thead>\n",
       "<tbody>\n",
       "\t<tr><td>A. Morin          </td><td>63%               </td><td>France            </td><td>3.75              </td></tr>\n",
       "\t<tr><td>A. Morin          </td><td>70%               </td><td>France            </td><td>2.75              </td></tr>\n",
       "\t<tr><td>A. Morin          </td><td>70%               </td><td>France            </td><td>3.00              </td></tr>\n",
       "\t<tr><td>A. Morin          </td><td>70%               </td><td>France            </td><td>3.50              </td></tr>\n",
       "\t<tr><td>A. Morin          </td><td>70%               </td><td>France            </td><td>3.50              </td></tr>\n",
       "\t<tr><td>A. Morin          </td><td>70%               </td><td>France            </td><td>2.75              </td></tr>\n",
       "\t<tr><td>A. Morin          </td><td>70%               </td><td>France            </td><td>3.50              </td></tr>\n",
       "\t<tr><td>A. Morin          </td><td>70%               </td><td>France            </td><td>3.50              </td></tr>\n",
       "\t<tr><td>A. Morin          </td><td>70%               </td><td>France            </td><td>3.75              </td></tr>\n",
       "\t<tr><td>A. Morin          </td><td>70%               </td><td>France            </td><td>4.00              </td></tr>\n",
       "\t<tr><td>A. Morin          </td><td>70%               </td><td>France            </td><td>2.75              </td></tr>\n",
       "\t<tr><td>A. Morin          </td><td>70%               </td><td>France            </td><td>3.00              </td></tr>\n",
       "\t<tr><td>A. Morin          </td><td>70%               </td><td>France            </td><td>3.25              </td></tr>\n",
       "\t<tr><td>A. Morin          </td><td>70%               </td><td>France            </td><td>3.75              </td></tr>\n",
       "\t<tr><td>A. Morin          </td><td>70%               </td><td>France            </td><td>2.75              </td></tr>\n",
       "\t<tr><td>A. Morin          </td><td>70%               </td><td>France            </td><td>3.00              </td></tr>\n",
       "\t<tr><td>A. Morin          </td><td>70%               </td><td>France            </td><td>3.25              </td></tr>\n",
       "\t<tr><td>A. Morin          </td><td>70%               </td><td>France            </td><td>4.00              </td></tr>\n",
       "\t<tr><td>A. Morin          </td><td>70%               </td><td>France            </td><td>3.25              </td></tr>\n",
       "\t<tr><td>A. Morin          </td><td>70%               </td><td>France            </td><td>3.50              </td></tr>\n",
       "\t<tr><td>A. Morin          </td><td>63%               </td><td>France            </td><td>4.00              </td></tr>\n",
       "\t<tr><td>A. Morin          </td><td>70%               </td><td>France            </td><td>3.50              </td></tr>\n",
       "\t<tr><td>A. Morin          </td><td>63%               </td><td>France            </td><td>3.75              </td></tr>\n",
       "\t<tr><td>Acalli            </td><td>70%               </td><td>U.S.A.            </td><td>3.75              </td></tr>\n",
       "\t<tr><td>Acalli            </td><td>70%               </td><td>U.S.A.            </td><td>3.75              </td></tr>\n",
       "\t<tr><td>Adi               </td><td>60%               </td><td>Fiji              </td><td>2.75              </td></tr>\n",
       "\t<tr><td>Adi               </td><td>80%               </td><td>Fiji              </td><td>3.25              </td></tr>\n",
       "\t<tr><td>Adi               </td><td>88%               </td><td>Fiji              </td><td>3.50              </td></tr>\n",
       "\t<tr><td>Adi               </td><td>72%               </td><td>Fiji              </td><td>3.50              </td></tr>\n",
       "\t<tr><td>Aequare (Gianduja)</td><td>55%               </td><td>Ecuador           </td><td>2.75              </td></tr>\n",
       "\t<tr><td>⋮</td><td>⋮</td><td>⋮</td><td>⋮</td></tr>\n",
       "\t<tr><td>Zak's        </td><td>70%          </td><td>U.S.A.       </td><td>3.50         </td></tr>\n",
       "\t<tr><td>Zak's        </td><td>60%          </td><td>U.S.A.       </td><td>3.00         </td></tr>\n",
       "\t<tr><td>Zart Pralinen</td><td>70%          </td><td>Austria      </td><td>3.50         </td></tr>\n",
       "\t<tr><td>Zart Pralinen</td><td>70%          </td><td>Austria      </td><td>2.75         </td></tr>\n",
       "\t<tr><td>Zart Pralinen</td><td>85%          </td><td>Austria      </td><td>2.75         </td></tr>\n",
       "\t<tr><td>Zart Pralinen</td><td>85%          </td><td>Austria      </td><td>3.00         </td></tr>\n",
       "\t<tr><td>Zart Pralinen</td><td>70%          </td><td>Austria      </td><td>3.50         </td></tr>\n",
       "\t<tr><td>Zart Pralinen</td><td>78%          </td><td>Austria      </td><td>3.50         </td></tr>\n",
       "\t<tr><td>Zokoko       </td><td>78%          </td><td>Australia    </td><td>3.75         </td></tr>\n",
       "\t<tr><td>Zokoko       </td><td>65%          </td><td>Australia    </td><td>3.25         </td></tr>\n",
       "\t<tr><td>Zokoko       </td><td>68%          </td><td>Australia    </td><td>3.50         </td></tr>\n",
       "\t<tr><td>Zokoko       </td><td>66%          </td><td>Australia    </td><td>3.50         </td></tr>\n",
       "\t<tr><td>Zokoko       </td><td>72%          </td><td>Australia    </td><td>3.75         </td></tr>\n",
       "\t<tr><td>Zotter       </td><td>80%          </td><td>Austria      </td><td>2.75         </td></tr>\n",
       "\t<tr><td>Zotter       </td><td>72%          </td><td>Austria      </td><td>3.50         </td></tr>\n",
       "\t<tr><td>Zotter       </td><td>65%          </td><td>Austria      </td><td>3.50         </td></tr>\n",
       "\t<tr><td>Zotter       </td><td>70%          </td><td>Austria      </td><td>3.00         </td></tr>\n",
       "\t<tr><td>Zotter       </td><td>70%          </td><td>Austria      </td><td>3.50         </td></tr>\n",
       "\t<tr><td>Zotter       </td><td>62%          </td><td>Austria      </td><td>3.75         </td></tr>\n",
       "\t<tr><td>Zotter       </td><td>75%          </td><td>Austria      </td><td>3.00         </td></tr>\n",
       "\t<tr><td>Zotter       </td><td>75%          </td><td>Austria      </td><td>3.00         </td></tr>\n",
       "\t<tr><td>Zotter       </td><td>90%          </td><td>Austria      </td><td>3.25         </td></tr>\n",
       "\t<tr><td>Zotter       </td><td>70%          </td><td>Austria      </td><td>3.75         </td></tr>\n",
       "\t<tr><td>Zotter       </td><td>68%          </td><td>Austria      </td><td>3.25         </td></tr>\n",
       "\t<tr><td>Zotter       </td><td>58%          </td><td>Austria      </td><td>3.50         </td></tr>\n",
       "\t<tr><td>Zotter       </td><td>70%          </td><td>Austria      </td><td>3.75         </td></tr>\n",
       "\t<tr><td>Zotter       </td><td>65%          </td><td>Austria      </td><td>3.00         </td></tr>\n",
       "\t<tr><td>Zotter       </td><td>65%          </td><td>Austria      </td><td>3.50         </td></tr>\n",
       "\t<tr><td>Zotter       </td><td>62%          </td><td>Austria      </td><td>3.25         </td></tr>\n",
       "\t<tr><td>Zotter       </td><td>65%          </td><td>Austria      </td><td>3.00         </td></tr>\n",
       "</tbody>\n",
       "</table>\n"
      ],
      "text/latex": [
       "\\begin{tabular}{r|llll}\n",
       " company & cocoa & location & rating\\\\\n",
       "\\hline\n",
       "\t A. Morin           & 63\\%              & France             & 3.75              \\\\\n",
       "\t A. Morin           & 70\\%              & France             & 2.75              \\\\\n",
       "\t A. Morin           & 70\\%              & France             & 3.00              \\\\\n",
       "\t A. Morin           & 70\\%              & France             & 3.50              \\\\\n",
       "\t A. Morin           & 70\\%              & France             & 3.50              \\\\\n",
       "\t A. Morin           & 70\\%              & France             & 2.75              \\\\\n",
       "\t A. Morin           & 70\\%              & France             & 3.50              \\\\\n",
       "\t A. Morin           & 70\\%              & France             & 3.50              \\\\\n",
       "\t A. Morin           & 70\\%              & France             & 3.75              \\\\\n",
       "\t A. Morin           & 70\\%              & France             & 4.00              \\\\\n",
       "\t A. Morin           & 70\\%              & France             & 2.75              \\\\\n",
       "\t A. Morin           & 70\\%              & France             & 3.00              \\\\\n",
       "\t A. Morin           & 70\\%              & France             & 3.25              \\\\\n",
       "\t A. Morin           & 70\\%              & France             & 3.75              \\\\\n",
       "\t A. Morin           & 70\\%              & France             & 2.75              \\\\\n",
       "\t A. Morin           & 70\\%              & France             & 3.00              \\\\\n",
       "\t A. Morin           & 70\\%              & France             & 3.25              \\\\\n",
       "\t A. Morin           & 70\\%              & France             & 4.00              \\\\\n",
       "\t A. Morin           & 70\\%              & France             & 3.25              \\\\\n",
       "\t A. Morin           & 70\\%              & France             & 3.50              \\\\\n",
       "\t A. Morin           & 63\\%              & France             & 4.00              \\\\\n",
       "\t A. Morin           & 70\\%              & France             & 3.50              \\\\\n",
       "\t A. Morin           & 63\\%              & France             & 3.75              \\\\\n",
       "\t Acalli             & 70\\%              & U.S.A.             & 3.75              \\\\\n",
       "\t Acalli             & 70\\%              & U.S.A.             & 3.75              \\\\\n",
       "\t Adi                & 60\\%              & Fiji               & 2.75              \\\\\n",
       "\t Adi                & 80\\%              & Fiji               & 3.25              \\\\\n",
       "\t Adi                & 88\\%              & Fiji               & 3.50              \\\\\n",
       "\t Adi                & 72\\%              & Fiji               & 3.50              \\\\\n",
       "\t Aequare (Gianduja) & 55\\%              & Ecuador            & 2.75              \\\\\n",
       "\t ⋮ & ⋮ & ⋮ & ⋮\\\\\n",
       "\t Zak's         & 70\\%         & U.S.A.        & 3.50         \\\\\n",
       "\t Zak's         & 60\\%         & U.S.A.        & 3.00         \\\\\n",
       "\t Zart Pralinen & 70\\%         & Austria       & 3.50         \\\\\n",
       "\t Zart Pralinen & 70\\%         & Austria       & 2.75         \\\\\n",
       "\t Zart Pralinen & 85\\%         & Austria       & 2.75         \\\\\n",
       "\t Zart Pralinen & 85\\%         & Austria       & 3.00         \\\\\n",
       "\t Zart Pralinen & 70\\%         & Austria       & 3.50         \\\\\n",
       "\t Zart Pralinen & 78\\%         & Austria       & 3.50         \\\\\n",
       "\t Zokoko        & 78\\%         & Australia     & 3.75         \\\\\n",
       "\t Zokoko        & 65\\%         & Australia     & 3.25         \\\\\n",
       "\t Zokoko        & 68\\%         & Australia     & 3.50         \\\\\n",
       "\t Zokoko        & 66\\%         & Australia     & 3.50         \\\\\n",
       "\t Zokoko        & 72\\%         & Australia     & 3.75         \\\\\n",
       "\t Zotter        & 80\\%         & Austria       & 2.75         \\\\\n",
       "\t Zotter        & 72\\%         & Austria       & 3.50         \\\\\n",
       "\t Zotter        & 65\\%         & Austria       & 3.50         \\\\\n",
       "\t Zotter        & 70\\%         & Austria       & 3.00         \\\\\n",
       "\t Zotter        & 70\\%         & Austria       & 3.50         \\\\\n",
       "\t Zotter        & 62\\%         & Austria       & 3.75         \\\\\n",
       "\t Zotter        & 75\\%         & Austria       & 3.00         \\\\\n",
       "\t Zotter        & 75\\%         & Austria       & 3.00         \\\\\n",
       "\t Zotter        & 90\\%         & Austria       & 3.25         \\\\\n",
       "\t Zotter        & 70\\%         & Austria       & 3.75         \\\\\n",
       "\t Zotter        & 68\\%         & Austria       & 3.25         \\\\\n",
       "\t Zotter        & 58\\%         & Austria       & 3.50         \\\\\n",
       "\t Zotter        & 70\\%         & Austria       & 3.75         \\\\\n",
       "\t Zotter        & 65\\%         & Austria       & 3.00         \\\\\n",
       "\t Zotter        & 65\\%         & Austria       & 3.50         \\\\\n",
       "\t Zotter        & 62\\%         & Austria       & 3.25         \\\\\n",
       "\t Zotter        & 65\\%         & Austria       & 3.00         \\\\\n",
       "\\end{tabular}\n"
      ],
      "text/markdown": [
       "\n",
       "company | cocoa | location | rating | \n",
       "|---|---|---|---|---|---|---|---|---|---|---|---|---|---|---|---|---|---|---|---|---|---|---|---|---|---|---|---|---|---|---|---|---|---|---|---|---|---|---|---|---|---|---|---|---|---|---|---|---|---|---|---|---|---|---|---|---|---|---|---|---|\n",
       "| A. Morin           | 63%                | France             | 3.75               | \n",
       "| A. Morin           | 70%                | France             | 2.75               | \n",
       "| A. Morin           | 70%                | France             | 3.00               | \n",
       "| A. Morin           | 70%                | France             | 3.50               | \n",
       "| A. Morin           | 70%                | France             | 3.50               | \n",
       "| A. Morin           | 70%                | France             | 2.75               | \n",
       "| A. Morin           | 70%                | France             | 3.50               | \n",
       "| A. Morin           | 70%                | France             | 3.50               | \n",
       "| A. Morin           | 70%                | France             | 3.75               | \n",
       "| A. Morin           | 70%                | France             | 4.00               | \n",
       "| A. Morin           | 70%                | France             | 2.75               | \n",
       "| A. Morin           | 70%                | France             | 3.00               | \n",
       "| A. Morin           | 70%                | France             | 3.25               | \n",
       "| A. Morin           | 70%                | France             | 3.75               | \n",
       "| A. Morin           | 70%                | France             | 2.75               | \n",
       "| A. Morin           | 70%                | France             | 3.00               | \n",
       "| A. Morin           | 70%                | France             | 3.25               | \n",
       "| A. Morin           | 70%                | France             | 4.00               | \n",
       "| A. Morin           | 70%                | France             | 3.25               | \n",
       "| A. Morin           | 70%                | France             | 3.50               | \n",
       "| A. Morin           | 63%                | France             | 4.00               | \n",
       "| A. Morin           | 70%                | France             | 3.50               | \n",
       "| A. Morin           | 63%                | France             | 3.75               | \n",
       "| Acalli             | 70%                | U.S.A.             | 3.75               | \n",
       "| Acalli             | 70%                | U.S.A.             | 3.75               | \n",
       "| Adi                | 60%                | Fiji               | 2.75               | \n",
       "| Adi                | 80%                | Fiji               | 3.25               | \n",
       "| Adi                | 88%                | Fiji               | 3.50               | \n",
       "| Adi                | 72%                | Fiji               | 3.50               | \n",
       "| Aequare (Gianduja) | 55%                | Ecuador            | 2.75               | \n",
       "| ⋮ | ⋮ | ⋮ | ⋮ | \n",
       "| Zak's         | 70%           | U.S.A.        | 3.50          | \n",
       "| Zak's         | 60%           | U.S.A.        | 3.00          | \n",
       "| Zart Pralinen | 70%           | Austria       | 3.50          | \n",
       "| Zart Pralinen | 70%           | Austria       | 2.75          | \n",
       "| Zart Pralinen | 85%           | Austria       | 2.75          | \n",
       "| Zart Pralinen | 85%           | Austria       | 3.00          | \n",
       "| Zart Pralinen | 70%           | Austria       | 3.50          | \n",
       "| Zart Pralinen | 78%           | Austria       | 3.50          | \n",
       "| Zokoko        | 78%           | Australia     | 3.75          | \n",
       "| Zokoko        | 65%           | Australia     | 3.25          | \n",
       "| Zokoko        | 68%           | Australia     | 3.50          | \n",
       "| Zokoko        | 66%           | Australia     | 3.50          | \n",
       "| Zokoko        | 72%           | Australia     | 3.75          | \n",
       "| Zotter        | 80%           | Austria       | 2.75          | \n",
       "| Zotter        | 72%           | Austria       | 3.50          | \n",
       "| Zotter        | 65%           | Austria       | 3.50          | \n",
       "| Zotter        | 70%           | Austria       | 3.00          | \n",
       "| Zotter        | 70%           | Austria       | 3.50          | \n",
       "| Zotter        | 62%           | Austria       | 3.75          | \n",
       "| Zotter        | 75%           | Austria       | 3.00          | \n",
       "| Zotter        | 75%           | Austria       | 3.00          | \n",
       "| Zotter        | 90%           | Austria       | 3.25          | \n",
       "| Zotter        | 70%           | Austria       | 3.75          | \n",
       "| Zotter        | 68%           | Austria       | 3.25          | \n",
       "| Zotter        | 58%           | Austria       | 3.50          | \n",
       "| Zotter        | 70%           | Austria       | 3.75          | \n",
       "| Zotter        | 65%           | Austria       | 3.00          | \n",
       "| Zotter        | 65%           | Austria       | 3.50          | \n",
       "| Zotter        | 62%           | Austria       | 3.25          | \n",
       "| Zotter        | 65%           | Austria       | 3.00          | \n",
       "\n",
       "\n"
      ],
      "text/plain": [
       "     company            cocoa location  rating\n",
       "1    A. Morin           63%   France    3.75  \n",
       "2    A. Morin           70%   France    2.75  \n",
       "3    A. Morin           70%   France    3.00  \n",
       "4    A. Morin           70%   France    3.50  \n",
       "5    A. Morin           70%   France    3.50  \n",
       "6    A. Morin           70%   France    2.75  \n",
       "7    A. Morin           70%   France    3.50  \n",
       "8    A. Morin           70%   France    3.50  \n",
       "9    A. Morin           70%   France    3.75  \n",
       "10   A. Morin           70%   France    4.00  \n",
       "11   A. Morin           70%   France    2.75  \n",
       "12   A. Morin           70%   France    3.00  \n",
       "13   A. Morin           70%   France    3.25  \n",
       "14   A. Morin           70%   France    3.75  \n",
       "15   A. Morin           70%   France    2.75  \n",
       "16   A. Morin           70%   France    3.00  \n",
       "17   A. Morin           70%   France    3.25  \n",
       "18   A. Morin           70%   France    4.00  \n",
       "19   A. Morin           70%   France    3.25  \n",
       "20   A. Morin           70%   France    3.50  \n",
       "21   A. Morin           63%   France    4.00  \n",
       "22   A. Morin           70%   France    3.50  \n",
       "23   A. Morin           63%   France    3.75  \n",
       "24   Acalli             70%   U.S.A.    3.75  \n",
       "25   Acalli             70%   U.S.A.    3.75  \n",
       "26   Adi                60%   Fiji      2.75  \n",
       "27   Adi                80%   Fiji      3.25  \n",
       "28   Adi                88%   Fiji      3.50  \n",
       "29   Adi                72%   Fiji      3.50  \n",
       "30   Aequare (Gianduja) 55%   Ecuador   2.75  \n",
       "⋮    ⋮                  ⋮     ⋮         ⋮     \n",
       "1766 Zak's              70%   U.S.A.    3.50  \n",
       "1767 Zak's              60%   U.S.A.    3.00  \n",
       "1768 Zart Pralinen      70%   Austria   3.50  \n",
       "1769 Zart Pralinen      70%   Austria   2.75  \n",
       "1770 Zart Pralinen      85%   Austria   2.75  \n",
       "1771 Zart Pralinen      85%   Austria   3.00  \n",
       "1772 Zart Pralinen      70%   Austria   3.50  \n",
       "1773 Zart Pralinen      78%   Austria   3.50  \n",
       "1774 Zokoko             78%   Australia 3.75  \n",
       "1775 Zokoko             65%   Australia 3.25  \n",
       "1776 Zokoko             68%   Australia 3.50  \n",
       "1777 Zokoko             66%   Australia 3.50  \n",
       "1778 Zokoko             72%   Australia 3.75  \n",
       "1779 Zotter             80%   Austria   2.75  \n",
       "1780 Zotter             72%   Austria   3.50  \n",
       "1781 Zotter             65%   Austria   3.50  \n",
       "1782 Zotter             70%   Austria   3.00  \n",
       "1783 Zotter             70%   Austria   3.50  \n",
       "1784 Zotter             62%   Austria   3.75  \n",
       "1785 Zotter             75%   Austria   3.00  \n",
       "1786 Zotter             75%   Austria   3.00  \n",
       "1787 Zotter             90%   Austria   3.25  \n",
       "1788 Zotter             70%   Austria   3.75  \n",
       "1789 Zotter             68%   Austria   3.25  \n",
       "1790 Zotter             58%   Austria   3.50  \n",
       "1791 Zotter             70%   Austria   3.75  \n",
       "1792 Zotter             65%   Austria   3.00  \n",
       "1793 Zotter             65%   Austria   3.50  \n",
       "1794 Zotter             62%   Austria   3.25  \n",
       "1795 Zotter             65%   Austria   3.00  "
      ]
     },
     "metadata": {},
     "output_type": "display_data"
    }
   ],
   "source": [
    "new = data.frame(\"company\"=c$company, \"cocoa\"=c$cocoa, \"location\"=c$location, \"rating\"=c$rating)\n",
    "new"
   ]
  },
  {
   "cell_type": "markdown",
   "metadata": {},
   "source": [
    "#### (d) Should we clean this new data frame in any way?"
   ]
  },
  {
   "cell_type": "code",
   "execution_count": 103,
   "metadata": {},
   "outputs": [
    {
     "data": {
      "text/html": [
       "'Milk chocolate and dark chocolate are mixed in this dataset however the ratings are most likely not comparable since they are different products.'"
      ],
      "text/latex": [
       "'Milk chocolate and dark chocolate are mixed in this dataset however the ratings are most likely not comparable since they are different products.'"
      ],
      "text/markdown": [
       "'Milk chocolate and dark chocolate are mixed in this dataset however the ratings are most likely not comparable since they are different products.'"
      ],
      "text/plain": [
       "[1] \"Milk chocolate and dark chocolate are mixed in this dataset however the ratings are most likely not comparable since they are different products.\""
      ]
     },
     "metadata": {},
     "output_type": "display_data"
    }
   ],
   "source": [
    "\"Milk chocolate and dark chocolate are mixed in this dataset however the ratings are most likely not comparable since they are different products.\""
   ]
  },
  {
   "cell_type": "markdown",
   "metadata": {},
   "source": [
    "#### (e) Which company makes the highest rated chocolate bar? The lowest?"
   ]
  },
  {
   "cell_type": "code",
   "execution_count": 104,
   "metadata": {},
   "outputs": [
    {
     "data": {
      "text/html": [
       "<table>\n",
       "<thead><tr><th></th><th scope=col>company</th><th scope=col>cocoa</th><th scope=col>location</th><th scope=col>rating</th></tr></thead>\n",
       "<tbody>\n",
       "\t<tr><th scope=row>79</th><td>Amedei</td><td>70%   </td><td>Italy </td><td>5     </td></tr>\n",
       "\t<tr><th scope=row>87</th><td>Amedei</td><td>70%   </td><td>Italy </td><td>5     </td></tr>\n",
       "</tbody>\n",
       "</table>\n"
      ],
      "text/latex": [
       "\\begin{tabular}{r|llll}\n",
       "  & company & cocoa & location & rating\\\\\n",
       "\\hline\n",
       "\t79 & Amedei & 70\\%  & Italy  & 5     \\\\\n",
       "\t87 & Amedei & 70\\%  & Italy  & 5     \\\\\n",
       "\\end{tabular}\n"
      ],
      "text/markdown": [
       "\n",
       "| <!--/--> | company | cocoa | location | rating | \n",
       "|---|---|\n",
       "| 79 | Amedei | 70%    | Italy  | 5      | \n",
       "| 87 | Amedei | 70%    | Italy  | 5      | \n",
       "\n",
       "\n"
      ],
      "text/plain": [
       "   company cocoa location rating\n",
       "79 Amedei  70%   Italy    5     \n",
       "87 Amedei  70%   Italy    5     "
      ]
     },
     "metadata": {},
     "output_type": "display_data"
    },
    {
     "data": {
      "text/html": [
       "<table>\n",
       "<thead><tr><th></th><th scope=col>company</th><th scope=col>cocoa</th><th scope=col>location</th><th scope=col>rating</th></tr></thead>\n",
       "<tbody>\n",
       "\t<tr><th scope=row>327</th><td>Callebaut          </td><td>70%                </td><td>Belgium            </td><td>1                  </td></tr>\n",
       "\t<tr><th scope=row>438</th><td>Claudio Corallo    </td><td>100%               </td><td>Sao Tome           </td><td>1                  </td></tr>\n",
       "\t<tr><th scope=row>466</th><td>Cote d' Or (Kraft) </td><td>70%                </td><td>Belgium            </td><td>1                  </td></tr>\n",
       "\t<tr><th scope=row>1176</th><td>Neuhaus (Callebaut)</td><td>73%                </td><td>Belgium            </td><td>1                  </td></tr>\n",
       "</tbody>\n",
       "</table>\n"
      ],
      "text/latex": [
       "\\begin{tabular}{r|llll}\n",
       "  & company & cocoa & location & rating\\\\\n",
       "\\hline\n",
       "\t327 & Callebaut           & 70\\%               & Belgium             & 1                  \\\\\n",
       "\t438 & Claudio Corallo     & 100\\%              & Sao Tome            & 1                  \\\\\n",
       "\t466 & Cote d' Or (Kraft)  & 70\\%               & Belgium             & 1                  \\\\\n",
       "\t1176 & Neuhaus (Callebaut) & 73\\%               & Belgium             & 1                  \\\\\n",
       "\\end{tabular}\n"
      ],
      "text/markdown": [
       "\n",
       "| <!--/--> | company | cocoa | location | rating | \n",
       "|---|---|---|---|\n",
       "| 327 | Callebaut           | 70%                 | Belgium             | 1                   | \n",
       "| 438 | Claudio Corallo     | 100%                | Sao Tome            | 1                   | \n",
       "| 466 | Cote d' Or (Kraft)  | 70%                 | Belgium             | 1                   | \n",
       "| 1176 | Neuhaus (Callebaut) | 73%                 | Belgium             | 1                   | \n",
       "\n",
       "\n"
      ],
      "text/plain": [
       "     company             cocoa location rating\n",
       "327  Callebaut           70%   Belgium  1     \n",
       "438  Claudio Corallo     100%  Sao Tome 1     \n",
       "466  Cote d' Or (Kraft)  70%   Belgium  1     \n",
       "1176 Neuhaus (Callebaut) 73%   Belgium  1     "
      ]
     },
     "metadata": {},
     "output_type": "display_data"
    }
   ],
   "source": [
    "new[new$rating == max(new$rating),]\n",
    "new[new$rating == min(new$rating),]"
   ]
  },
  {
   "cell_type": "markdown",
   "metadata": {},
   "source": [
    "#### (f) Are there any relationships between cocoa, location, and rating? Explore these variables graphicall and numerically, and write a short report (around a paragraph) describing some possible relationships."
   ]
  },
  {
   "cell_type": "code",
   "execution_count": 105,
   "metadata": {},
   "outputs": [
    {
     "data": {
      "text/html": [
       "'For chocolates between 65%-75% cocoa, the relationship between rating and cocoa percentage was the highest.\\nPreferences in this data set are skewed towards milk chocolate. The highest rated chocolates originated from Italy.\\nMajorities of the highest rated chocolates were produced in the US, France, and Canada.'"
      ],
      "text/latex": [
       "'For chocolates between 65\\%-75\\% cocoa, the relationship between rating and cocoa percentage was the highest.\\textbackslash{}nPreferences in this data set are skewed towards milk chocolate. The highest rated chocolates originated from Italy.\\textbackslash{}nMajorities of the highest rated chocolates were produced in the US, France, and Canada.'"
      ],
      "text/markdown": [
       "'For chocolates between 65%-75% cocoa, the relationship between rating and cocoa percentage was the highest.\\nPreferences in this data set are skewed towards milk chocolate. The highest rated chocolates originated from Italy.\\nMajorities of the highest rated chocolates were produced in the US, France, and Canada.'"
      ],
      "text/plain": [
       "[1] \"For chocolates between 65%-75% cocoa, the relationship between rating and cocoa percentage was the highest.\\nPreferences in this data set are skewed towards milk chocolate. The highest rated chocolates originated from Italy.\\nMajorities of the highest rated chocolates were produced in the US, France, and Canada.\""
      ]
     },
     "metadata": {},
     "output_type": "display_data"
    },
    {
     "data": {
      "image/png": "[encoded data removed]",
      "text/plain": [
       "Plot with title “Histogram of fourRated$cocoa”"
      ]
     },
     "metadata": {},
     "output_type": "display_data"
    },
    {
     "data": {
      "image/png": "[encoded data removed]",
      "text/plain": [
       "Plot with title “Histogram of threeRated$cocoa”"
      ]
     },
     "metadata": {},
     "output_type": "display_data"
    },
    {
     "data": {
      "text/html": [
       "<ol class=list-inline>\n",
       "\t<li>Italy</li>\n",
       "\t<li>Italy</li>\n",
       "</ol>\n"
      ],
      "text/latex": [
       "\\begin{enumerate*}\n",
       "\\item Italy\n",
       "\\item Italy\n",
       "\\end{enumerate*}\n"
      ],
      "text/markdown": [
       "1. Italy\n",
       "2. Italy\n",
       "\n",
       "\n"
      ],
      "text/plain": [
       "[1] Italy Italy\n",
       "60 Levels: Amsterdam Argentina Australia Austria Belgium Bolivia ... Wales"
      ]
     },
     "metadata": {},
     "output_type": "display_data"
    },
    {
     "data": {
      "text/html": [
       "<dl class=dl-horizontal>\n",
       "\t<dt>Amsterdam</dt>\n",
       "\t\t<dd>4</dd>\n",
       "\t<dt>Argentina</dt>\n",
       "\t\t<dd>7</dd>\n",
       "\t<dt>Australia</dt>\n",
       "\t\t<dd>36</dd>\n",
       "\t<dt>Austria</dt>\n",
       "\t\t<dd>15</dd>\n",
       "\t<dt>Belgium</dt>\n",
       "\t\t<dd>21</dd>\n",
       "\t<dt>Bolivia</dt>\n",
       "\t\t<dd>1</dd>\n",
       "\t<dt>Brazil</dt>\n",
       "\t\t<dd>14</dd>\n",
       "\t<dt>Canada</dt>\n",
       "\t\t<dd>87</dd>\n",
       "\t<dt>Chile</dt>\n",
       "\t\t<dd>2</dd>\n",
       "\t<dt>Colombia</dt>\n",
       "\t\t<dd>12</dd>\n",
       "\t<dt>Costa Rica</dt>\n",
       "\t\t<dd>5</dd>\n",
       "\t<dt>Czech Republic</dt>\n",
       "\t\t<dd>0</dd>\n",
       "\t<dt>Denmark</dt>\n",
       "\t\t<dd>12</dd>\n",
       "\t<dt>Domincan Republic</dt>\n",
       "\t\t<dd>3</dd>\n",
       "\t<dt>Ecuador</dt>\n",
       "\t\t<dd>24</dd>\n",
       "\t<dt>Eucador</dt>\n",
       "\t\t<dd>0</dd>\n",
       "\t<dt>Fiji</dt>\n",
       "\t\t<dd>3</dd>\n",
       "\t<dt>Finland</dt>\n",
       "\t\t<dd>1</dd>\n",
       "\t<dt>France</dt>\n",
       "\t\t<dd>93</dd>\n",
       "\t<dt>Germany</dt>\n",
       "\t\t<dd>20</dd>\n",
       "\t<dt>Ghana</dt>\n",
       "\t\t<dd>0</dd>\n",
       "\t<dt>Grenada</dt>\n",
       "\t\t<dd>1</dd>\n",
       "\t<dt>Guatemala</dt>\n",
       "\t\t<dd>7</dd>\n",
       "\t<dt>Honduras</dt>\n",
       "\t\t<dd>4</dd>\n",
       "\t<dt>Hungary</dt>\n",
       "\t\t<dd>16</dd>\n",
       "\t<dt>Iceland</dt>\n",
       "\t\t<dd>2</dd>\n",
       "\t<dt>India</dt>\n",
       "\t\t<dd>0</dd>\n",
       "\t<dt>Ireland</dt>\n",
       "\t\t<dd>1</dd>\n",
       "\t<dt>Israel</dt>\n",
       "\t\t<dd>6</dd>\n",
       "\t<dt>Italy</dt>\n",
       "\t\t<dd>39</dd>\n",
       "\t<dt>Japan</dt>\n",
       "\t\t<dd>8</dd>\n",
       "\t<dt>Lithuania</dt>\n",
       "\t\t<dd>3</dd>\n",
       "\t<dt>Madagascar</dt>\n",
       "\t\t<dd>9</dd>\n",
       "\t<dt>Martinique</dt>\n",
       "\t\t<dd>0</dd>\n",
       "\t<dt>Mexico</dt>\n",
       "\t\t<dd>0</dd>\n",
       "\t<dt>Netherlands</dt>\n",
       "\t\t<dd>4</dd>\n",
       "\t<dt>New Zealand</dt>\n",
       "\t\t<dd>11</dd>\n",
       "\t<dt>Niacragua</dt>\n",
       "\t\t<dd>0</dd>\n",
       "\t<dt>Nicaragua</dt>\n",
       "\t\t<dd>2</dd>\n",
       "\t<dt>Peru</dt>\n",
       "\t\t<dd>6</dd>\n",
       "\t<dt>Philippines</dt>\n",
       "\t\t<dd>1</dd>\n",
       "\t<dt>Poland</dt>\n",
       "\t\t<dd>7</dd>\n",
       "\t<dt>Portugal</dt>\n",
       "\t\t<dd>0</dd>\n",
       "\t<dt>Puerto Rico</dt>\n",
       "\t\t<dd>0</dd>\n",
       "\t<dt>Russia</dt>\n",
       "\t\t<dd>1</dd>\n",
       "\t<dt>Sao Tome</dt>\n",
       "\t\t<dd>2</dd>\n",
       "\t<dt>Scotland</dt>\n",
       "\t\t<dd>6</dd>\n",
       "\t<dt>Singapore</dt>\n",
       "\t\t<dd>2</dd>\n",
       "\t<dt>South Africa</dt>\n",
       "\t\t<dd>0</dd>\n",
       "\t<dt>South Korea</dt>\n",
       "\t\t<dd>4</dd>\n",
       "\t<dt>Spain</dt>\n",
       "\t\t<dd>16</dd>\n",
       "\t<dt>St. Lucia</dt>\n",
       "\t\t<dd>1</dd>\n",
       "\t<dt>Suriname</dt>\n",
       "\t\t<dd>1</dd>\n",
       "\t<dt>Sweden</dt>\n",
       "\t\t<dd>1</dd>\n",
       "\t<dt>Switzerland</dt>\n",
       "\t\t<dd>24</dd>\n",
       "\t<dt>U.K.</dt>\n",
       "\t\t<dd>40</dd>\n",
       "\t<dt>U.S.A.</dt>\n",
       "\t\t<dd>400</dd>\n",
       "\t<dt>Venezuela</dt>\n",
       "\t\t<dd>11</dd>\n",
       "\t<dt>Vietnam</dt>\n",
       "\t\t<dd>9</dd>\n",
       "\t<dt>Wales</dt>\n",
       "\t\t<dd>0</dd>\n",
       "</dl>\n"
      ],
      "text/latex": [
       "\\begin{description*}\n",
       "\\item[Amsterdam] 4\n",
       "\\item[Argentina] 7\n",
       "\\item[Australia] 36\n",
       "\\item[Austria] 15\n",
       "\\item[Belgium] 21\n",
       "\\item[Bolivia] 1\n",
       "\\item[Brazil] 14\n",
       "\\item[Canada] 87\n",
       "\\item[Chile] 2\n",
       "\\item[Colombia] 12\n",
       "\\item[Costa Rica] 5\n",
       "\\item[Czech Republic] 0\n",
       "\\item[Denmark] 12\n",
       "\\item[Domincan Republic] 3\n",
       "\\item[Ecuador] 24\n",
       "\\item[Eucador] 0\n",
       "\\item[Fiji] 3\n",
       "\\item[Finland] 1\n",
       "\\item[France] 93\n",
       "\\item[Germany] 20\n",
       "\\item[Ghana] 0\n",
       "\\item[Grenada] 1\n",
       "\\item[Guatemala] 7\n",
       "\\item[Honduras] 4\n",
       "\\item[Hungary] 16\n",
       "\\item[Iceland] 2\n",
       "\\item[India] 0\n",
       "\\item[Ireland] 1\n",
       "\\item[Israel] 6\n",
       "\\item[Italy] 39\n",
       "\\item[Japan] 8\n",
       "\\item[Lithuania] 3\n",
       "\\item[Madagascar] 9\n",
       "\\item[Martinique] 0\n",
       "\\item[Mexico] 0\n",
       "\\item[Netherlands] 4\n",
       "\\item[New Zealand] 11\n",
       "\\item[Niacragua] 0\n",
       "\\item[Nicaragua] 2\n",
       "\\item[Peru] 6\n",
       "\\item[Philippines] 1\n",
       "\\item[Poland] 7\n",
       "\\item[Portugal] 0\n",
       "\\item[Puerto Rico] 0\n",
       "\\item[Russia] 1\n",
       "\\item[Sao Tome] 2\n",
       "\\item[Scotland] 6\n",
       "\\item[Singapore] 2\n",
       "\\item[South Africa] 0\n",
       "\\item[South Korea] 4\n",
       "\\item[Spain] 16\n",
       "\\item[St. Lucia] 1\n",
       "\\item[Suriname] 1\n",
       "\\item[Sweden] 1\n",
       "\\item[Switzerland] 24\n",
       "\\item[U.K.] 40\n",
       "\\item[U.S.A.] 400\n",
       "\\item[Venezuela] 11\n",
       "\\item[Vietnam] 9\n",
       "\\item[Wales] 0\n",
       "\\end{description*}\n"
      ],
      "text/markdown": [
       "Amsterdam\n",
       ":   4Argentina\n",
       ":   7Australia\n",
       ":   36Austria\n",
       ":   15Belgium\n",
       ":   21Bolivia\n",
       ":   1Brazil\n",
       ":   14Canada\n",
       ":   87Chile\n",
       ":   2Colombia\n",
       ":   12Costa Rica\n",
       ":   5Czech Republic\n",
       ":   0Denmark\n",
       ":   12Domincan Republic\n",
       ":   3Ecuador\n",
       ":   24Eucador\n",
       ":   0Fiji\n",
       ":   3Finland\n",
       ":   1France\n",
       ":   93Germany\n",
       ":   20Ghana\n",
       ":   0Grenada\n",
       ":   1Guatemala\n",
       ":   7Honduras\n",
       ":   4Hungary\n",
       ":   16Iceland\n",
       ":   2India\n",
       ":   0Ireland\n",
       ":   1Israel\n",
       ":   6Italy\n",
       ":   39Japan\n",
       ":   8Lithuania\n",
       ":   3Madagascar\n",
       ":   9Martinique\n",
       ":   0Mexico\n",
       ":   0Netherlands\n",
       ":   4New Zealand\n",
       ":   11Niacragua\n",
       ":   0Nicaragua\n",
       ":   2Peru\n",
       ":   6Philippines\n",
       ":   1Poland\n",
       ":   7Portugal\n",
       ":   0Puerto Rico\n",
       ":   0Russia\n",
       ":   1Sao Tome\n",
       ":   2Scotland\n",
       ":   6Singapore\n",
       ":   2South Africa\n",
       ":   0South Korea\n",
       ":   4Spain\n",
       ":   16St. Lucia\n",
       ":   1Suriname\n",
       ":   1Sweden\n",
       ":   1Switzerland\n",
       ":   24U.K.\n",
       ":   40U.S.A.\n",
       ":   400Venezuela\n",
       ":   11Vietnam\n",
       ":   9Wales\n",
       ":   0\n",
       "\n"
      ],
      "text/plain": [
       "        Amsterdam         Argentina         Australia           Austria \n",
       "                4                 7                36                15 \n",
       "          Belgium           Bolivia            Brazil            Canada \n",
       "               21                 1                14                87 \n",
       "            Chile          Colombia        Costa Rica    Czech Republic \n",
       "                2                12                 5                 0 \n",
       "          Denmark Domincan Republic           Ecuador           Eucador \n",
       "               12                 3                24                 0 \n",
       "             Fiji           Finland            France           Germany \n",
       "                3                 1                93                20 \n",
       "            Ghana           Grenada         Guatemala          Honduras \n",
       "                0                 1                 7                 4 \n",
       "          Hungary           Iceland             India           Ireland \n",
       "               16                 2                 0                 1 \n",
       "           Israel             Italy             Japan         Lithuania \n",
       "                6                39                 8                 3 \n",
       "       Madagascar        Martinique            Mexico       Netherlands \n",
       "                9                 0                 0                 4 \n",
       "      New Zealand         Niacragua         Nicaragua              Peru \n",
       "               11                 0                 2                 6 \n",
       "      Philippines            Poland          Portugal       Puerto Rico \n",
       "                1                 7                 0                 0 \n",
       "           Russia          Sao Tome          Scotland         Singapore \n",
       "                1                 2                 6                 2 \n",
       "     South Africa       South Korea             Spain         St. Lucia \n",
       "                0                 4                16                 1 \n",
       "         Suriname            Sweden       Switzerland              U.K. \n",
       "                1                 1                24                40 \n",
       "           U.S.A.         Venezuela           Vietnam             Wales \n",
       "              400                11                 9                 0 "
      ]
     },
     "metadata": {},
     "output_type": "display_data"
    },
    {
     "data": {
      "image/png": "[encoded data removed]",
      "text/plain": [
       "Plot with title “Histogram of twoRated$cocoa”"
      ]
     },
     "metadata": {},
     "output_type": "display_data"
    }
   ],
   "source": [
    "fourRated = new[new$rating > 4,]\n",
    "threeRated = new[new$rating > 3,]\n",
    "twoRated = new[new$rating > 2,]\n",
    "\n",
    "fourRated$cocoa = as.numeric(sub(\"%\",\"\",fourRated$cocoa))\n",
    "threeRated$cocoa = as.numeric(sub(\"%\",\"\",threeRated$cocoa))\n",
    "twoRated$cocoa = as.numeric(sub(\"%\",\"\",twoRated$cocoa))\n",
    "\n",
    "\"For chocolates between 65%-75% cocoa, the relationship between rating and cocoa percentage was the highest.\n",
    "Preferences in this data set are skewed towards milk chocolate. The highest rated chocolates originated from Italy.\n",
    "Majorities of the highest rated chocolates were produced in the US, France, and Canada.\"\n",
    "\n",
    "hist(fourRated$cocoa, xlim=c(50,100))\n",
    "hist(threeRated$cocoa, xlim=c(50,100))\n",
    "hist(twoRated$cocoa, xlim=c(50,100))\n",
    "\n",
    "fourRated$location\n",
    "summary(threeRated$location)"
   ]
  }
 ],
 "metadata": {
  "kernelspec": {
   "display_name": "R",
   "language": "R",
   "name": "ir"
  },
  "language_info": {
   "codemirror_mode": "r",
   "file_extension": ".r",
   "mimetype": "text/x-r-source",
   "name": "R",
   "pygments_lexer": "r",
   "version": "3.4.2"
  }
 },
 "nbformat": 4,
 "nbformat_minor": 2
}
