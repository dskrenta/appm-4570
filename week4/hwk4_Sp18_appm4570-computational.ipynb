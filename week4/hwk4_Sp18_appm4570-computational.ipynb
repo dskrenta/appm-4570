{
 "cells": [
  {
   "cell_type": "markdown",
   "metadata": {},
   "source": [
    "# Homework #4: Computational Questions\n",
    "*All computations should be done in this notebook using the R kernel. Working in small groups is allowed, but it is important that you make an effort to master the material and hand in your own work.*\n",
    "\n",
    "#### You will be required to submit this notebook, fully compiled with your solutions, as an HTML or ipynb file to Canvas by 2pm on Friday, Feburary 16."
   ]
  },
  {
   "cell_type": "markdown",
   "metadata": {},
   "source": [
    "## Problem 1\n",
    "\n",
    "Let $X =$ the leading digit of a randomly selected number from a large accounting ledger. So, for example, if we randomly draw the number $\\$20,695$, then $X = 2$. People who make up numbers to commit accounting fraud tend to give $X$ a (discrete) uniform distribution, i.e., $P(X = x) = 1/9$, for $x \\in \\{1,...,9\\}$. However, there is empirical evidence that suggests that ``naturally occurring\" numbers (e.g., numbers in a non-fraudulent accounting ledger) have leading digits that do not follow a uniform distribution. Instead, they follow a distribution defined by:\n",
    "\n",
    "\\begin{align*}\n",
    "f(x) = \\log_{10}\\bigg(\\frac{x+1}{x}\\bigg), \\,\\,\\,\\, x = 1,2,...,9.\n",
    "\\end{align*} \n",
    "\n",
    "#### Using ${\\tt tax.txt}$, a dataset containing the taxable incomes for individuals in 1978, and the information given in theoretical problem 5, decide whether this dataset is fraudulent. "
   ]
  },
  {
   "cell_type": "code",
   "execution_count": 34,
   "metadata": {},
   "outputs": [
    {
     "data": {
      "text/html": [
       "'This dataset does not follow a discrete uniform distribution given the graph below. I conclude that this dataset\\nfollows the logarithmic distribution. The datapoints are not equally probable or distributed in an equal manner.'"
      ],
      "text/latex": [
       "'This dataset does not follow a discrete uniform distribution given the graph below. I conclude that this dataset\\textbackslash{}nfollows the logarithmic distribution. The datapoints are not equally probable or distributed in an equal manner.'"
      ],
      "text/markdown": [
       "'This dataset does not follow a discrete uniform distribution given the graph below. I conclude that this dataset\\nfollows the logarithmic distribution. The datapoints are not equally probable or distributed in an equal manner.'"
      ],
      "text/plain": [
       "[1] \"This dataset does not follow a discrete uniform distribution given the graph below. I conclude that this dataset\\nfollows the logarithmic distribution. The datapoints are not equally probable or distributed in an equal manner.\""
      ]
     },
     "metadata": {},
     "output_type": "display_data"
    },
    {
     "data": {
      "image/png": "[encoded data removed]",
      "text/plain": [
       "plot without title"
      ]
     },
     "metadata": {},
     "output_type": "display_data"
    }
   ],
   "source": [
    "data = read.table(\"tax.txt\")\n",
    "plot(data)\n",
    "\"This dataset does not follow a discrete uniform distribution given the graph below. I conclude that this dataset\n",
    "follows the logarithmic distribution. The datapoints are not equally probable or distributed in an equal manner.\""
   ]
  },
  {
   "cell_type": "markdown",
   "metadata": {},
   "source": [
    "## Problem 2\n",
    "\n",
    "Consider the scenario from Unit #2 in-class code:\n",
    "\n",
    "Imagine two unmarked bags filled with poker chips. Each bag contains both red poker chips and white poker chips. In bag one, there are 75% red and 25% white; in bag two, there are 75% white and 25% red. Imagine that you pick one bag at random, and, without looking inside, begin to draw chips out, one at a time, replacing and mixing after each draw, so that each draw is independent.\n",
    "\n",
    "\n",
    "#### (a) Write a function called ${\\tt draws}$, with one argument $n$, that randomly selects one of the two bags, and then generates a sample of size $n = 20$ from it (i.e., draws $n = 20$ chips, with replacement). Let 0 = \"White\" and 1 = \"Red\". Then, execute the line ${\\tt e = draws(n)}$. The variable ${\\tt e}$ will consist of a string of 1s and 0s, representing what happened as you drew chips. (HINT: The functions ${\\tt rbinom()}$ and [${\\tt switch()}$](https://www.datamentor.io/r-programming/switch-function) might be useful in randomly choosing the bag.)"
   ]
  },
  {
   "cell_type": "code",
   "execution_count": 20,
   "metadata": {},
   "outputs": [
    {
     "data": {
      "text/html": [
       "<ol class=list-inline>\n",
       "\t<li>0</li>\n",
       "\t<li>0</li>\n",
       "\t<li>0</li>\n",
       "\t<li>0</li>\n",
       "\t<li>0</li>\n",
       "\t<li>1</li>\n",
       "\t<li>0</li>\n",
       "\t<li>0</li>\n",
       "\t<li>0</li>\n",
       "\t<li>0</li>\n",
       "\t<li>0</li>\n",
       "\t<li>0</li>\n",
       "\t<li>0</li>\n",
       "\t<li>0</li>\n",
       "\t<li>1</li>\n",
       "\t<li>0</li>\n",
       "\t<li>0</li>\n",
       "\t<li>0</li>\n",
       "\t<li>0</li>\n",
       "\t<li>0</li>\n",
       "</ol>\n"
      ],
      "text/latex": [
       "\\begin{enumerate*}\n",
       "\\item 0\n",
       "\\item 0\n",
       "\\item 0\n",
       "\\item 0\n",
       "\\item 0\n",
       "\\item 1\n",
       "\\item 0\n",
       "\\item 0\n",
       "\\item 0\n",
       "\\item 0\n",
       "\\item 0\n",
       "\\item 0\n",
       "\\item 0\n",
       "\\item 0\n",
       "\\item 1\n",
       "\\item 0\n",
       "\\item 0\n",
       "\\item 0\n",
       "\\item 0\n",
       "\\item 0\n",
       "\\end{enumerate*}\n"
      ],
      "text/markdown": [
       "1. 0\n",
       "2. 0\n",
       "3. 0\n",
       "4. 0\n",
       "5. 0\n",
       "6. 1\n",
       "7. 0\n",
       "8. 0\n",
       "9. 0\n",
       "10. 0\n",
       "11. 0\n",
       "12. 0\n",
       "13. 0\n",
       "14. 0\n",
       "15. 1\n",
       "16. 0\n",
       "17. 0\n",
       "18. 0\n",
       "19. 0\n",
       "20. 0\n",
       "\n",
       "\n"
      ],
      "text/plain": [
       " [1] 0 0 0 0 0 1 0 0 0 0 0 0 0 0 1 0 0 0 0 0"
      ]
     },
     "metadata": {},
     "output_type": "display_data"
    }
   ],
   "source": [
    "draws = function(n) {\n",
    "    bag = sample(c(1, 2), size = 1)\n",
    "    if (bag == 1) {\n",
    "        return (sample(c(0, 1), size = n, replace = TRUE, prob = c(0.25, 0.75)))\n",
    "    }\n",
    "    else {\n",
    "        return (sample(c(0, 1), size = n, replace = TRUE, prob = c(0.75, 0.25)))\n",
    "    }\n",
    "}\n",
    "\n",
    "n = 20\n",
    "\n",
    "e = draws(n)\n",
    "e"
   ]
  },
  {
   "cell_type": "markdown",
   "metadata": {},
   "source": [
    "Our goal for the rest of the question is to use Bayes' theorem to calculuate our degree of belief in the hypothesis $H$ = \"We've selected bag one\" given the evidence $e_i$ = \"we've drawn $x$ red chips in $i$ draws\", $i = 1,...,n$. Remember, Bayes' theorem is\n",
    "\n",
    "$$P(H \\, | \\, e_i) = \\frac{P(e_i \\, | \\, H)P_i(H)}{P(e_i \\, | \\, H)P_i(H) + P(e_i \\, | \\, H^c)P_i(H^c)}.$$\n",
    "\n",
    "Achieving our goal will involve setting $P_i(H)$--the prior probability for $H$ at step $i$--equal to $P(H \\, | \\, e_{i-1})$--the posterior probability for $H$ from step $i-1$.\n",
    "\n",
    "#### (b) Constuct an $n \\times 2$ matrix $p$ where the $i^{th}$ entry of the first column contains $P(e_i \\, | \\, H)$ and the $i^{th}$ entry of the second column contains $P(e_i \\, | \\, H^c)$.  Note: These are binomial probabilities, and can be calculated--without a loop!--using ${\\tt dbinom()}$ and  ${\\tt cumsum()}$.  ${\\tt cbind()}$ can help form that matrix."
   ]
  },
  {
   "cell_type": "code",
   "execution_count": 71,
   "metadata": {},
   "outputs": [
    {
     "data": {
      "text/html": [
       "'P(ei | H) = probability of drawn x red chips in i draws given we have selected bag 1'"
      ],
      "text/latex": [
       "'P(ei \\textbar{} H) = probability of drawn x red chips in i draws given we have selected bag 1'"
      ],
      "text/markdown": [
       "'P(ei | H) = probability of drawn x red chips in i draws given we have selected bag 1'"
      ],
      "text/plain": [
       "[1] \"P(ei | H) = probability of drawn x red chips in i draws given we have selected bag 1\""
      ]
     },
     "metadata": {},
     "output_type": "display_data"
    },
    {
     "data": {
      "text/html": [
       "'P(ei | Hc) = probaility of drawn x red chips in i draws given we have selected bag 2'"
      ],
      "text/latex": [
       "'P(ei \\textbar{} Hc) = probaility of drawn x red chips in i draws given we have selected bag 2'"
      ],
      "text/markdown": [
       "'P(ei | Hc) = probaility of drawn x red chips in i draws given we have selected bag 2'"
      ],
      "text/plain": [
       "[1] \"P(ei | Hc) = probaility of drawn x red chips in i draws given we have selected bag 2\""
      ]
     },
     "metadata": {},
     "output_type": "display_data"
    },
    {
     "data": {
      "text/html": [
       "<ol class=list-inline>\n",
       "\t<li>9.09494701772928e-13</li>\n",
       "\t<li>5.45696821063759e-11</li>\n",
       "\t<li>1.55523594003171e-09</li>\n",
       "\t<li>2.79942469205708e-08</li>\n",
       "\t<li>3.56926648237277e-07</li>\n",
       "\t<li>3.42649582307786e-06</li>\n",
       "\t<li>2.56987186730839e-05</li>\n",
       "\t<li>0.000154192312038503</li>\n",
       "\t<li>0.000751687521187706</li>\n",
       "\t<li>0.00300675008475082</li>\n",
       "\t<li>0.0099222752796777</li>\n",
       "\t<li>0.0270607507627574</li>\n",
       "\t<li>0.060886689216204</li>\n",
       "\t<li>0.112406195476069</li>\n",
       "\t<li>0.168609293214104</li>\n",
       "\t<li>0.202331151856924</li>\n",
       "\t<li>0.189685454865867</li>\n",
       "\t<li>0.133895615199435</li>\n",
       "\t<li>0.0669478075997177</li>\n",
       "\t<li>0.0211414129262266</li>\n",
       "\t<li>0.003171211938934</li>\n",
       "</ol>\n"
      ],
      "text/latex": [
       "\\begin{enumerate*}\n",
       "\\item 9.09494701772928e-13\n",
       "\\item 5.45696821063759e-11\n",
       "\\item 1.55523594003171e-09\n",
       "\\item 2.79942469205708e-08\n",
       "\\item 3.56926648237277e-07\n",
       "\\item 3.42649582307786e-06\n",
       "\\item 2.56987186730839e-05\n",
       "\\item 0.000154192312038503\n",
       "\\item 0.000751687521187706\n",
       "\\item 0.00300675008475082\n",
       "\\item 0.0099222752796777\n",
       "\\item 0.0270607507627574\n",
       "\\item 0.060886689216204\n",
       "\\item 0.112406195476069\n",
       "\\item 0.168609293214104\n",
       "\\item 0.202331151856924\n",
       "\\item 0.189685454865867\n",
       "\\item 0.133895615199435\n",
       "\\item 0.0669478075997177\n",
       "\\item 0.0211414129262266\n",
       "\\item 0.003171211938934\n",
       "\\end{enumerate*}\n"
      ],
      "text/markdown": [
       "1. 9.09494701772928e-13\n",
       "2. 5.45696821063759e-11\n",
       "3. 1.55523594003171e-09\n",
       "4. 2.79942469205708e-08\n",
       "5. 3.56926648237277e-07\n",
       "6. 3.42649582307786e-06\n",
       "7. 2.56987186730839e-05\n",
       "8. 0.000154192312038503\n",
       "9. 0.000751687521187706\n",
       "10. 0.00300675008475082\n",
       "11. 0.0099222752796777\n",
       "12. 0.0270607507627574\n",
       "13. 0.060886689216204\n",
       "14. 0.112406195476069\n",
       "15. 0.168609293214104\n",
       "16. 0.202331151856924\n",
       "17. 0.189685454865867\n",
       "18. 0.133895615199435\n",
       "19. 0.0669478075997177\n",
       "20. 0.0211414129262266\n",
       "21. 0.003171211938934\n",
       "\n",
       "\n"
      ],
      "text/plain": [
       " [1] 9.094947e-13 5.456968e-11 1.555236e-09 2.799425e-08 3.569266e-07\n",
       " [6] 3.426496e-06 2.569872e-05 1.541923e-04 7.516875e-04 3.006750e-03\n",
       "[11] 9.922275e-03 2.706075e-02 6.088669e-02 1.124062e-01 1.686093e-01\n",
       "[16] 2.023312e-01 1.896855e-01 1.338956e-01 6.694781e-02 2.114141e-02\n",
       "[21] 3.171212e-03"
      ]
     },
     "metadata": {},
     "output_type": "display_data"
    }
   ],
   "source": [
    "\"P(ei | H) = probability of drawn x red chips in i draws given we have selected bag 1\"\n",
    "\"P(ei | Hc) = probaility of drawn x red chips in i draws given we have selected bag 2\"\n",
    "\n",
    "p = matrix(NA, nrow = n, ncol = 2)\n",
    "\n",
    "\n",
    "for (i in 1:n) {\n",
    "    p = dbinom(c(0:i), size = i, prob = 0.75)\n",
    "}\n",
    "\n",
    "\n",
    "\n",
    "#dbinom(c(0:20), size = n, prob = 0.75)\n",
    "cumsum(dbinom(0:20, size = n, prob = 0.25))\n",
    "\n"
   ]
  },
  {
   "cell_type": "markdown",
   "metadata": {},
   "source": [
    "#### (c) Create an $n \\times 2$ matrix ${\\tt prior}$ that has 0.5 in the (1,1) and (1,2) entry, and NA everywhere else (for now). This is where we'll store $P_i(H)$ and $P_i(H^c)$ for every step. "
   ]
  },
  {
   "cell_type": "code",
   "execution_count": 31,
   "metadata": {},
   "outputs": [
    {
     "data": {
      "text/html": [
       "<table>\n",
       "<tbody>\n",
       "\t<tr><td>0.5</td><td>0.5</td></tr>\n",
       "\t<tr><td> NA</td><td> NA</td></tr>\n",
       "\t<tr><td> NA</td><td> NA</td></tr>\n",
       "\t<tr><td> NA</td><td> NA</td></tr>\n",
       "\t<tr><td> NA</td><td> NA</td></tr>\n",
       "\t<tr><td> NA</td><td> NA</td></tr>\n",
       "\t<tr><td> NA</td><td> NA</td></tr>\n",
       "\t<tr><td> NA</td><td> NA</td></tr>\n",
       "\t<tr><td> NA</td><td> NA</td></tr>\n",
       "\t<tr><td> NA</td><td> NA</td></tr>\n",
       "\t<tr><td> NA</td><td> NA</td></tr>\n",
       "\t<tr><td> NA</td><td> NA</td></tr>\n",
       "\t<tr><td> NA</td><td> NA</td></tr>\n",
       "\t<tr><td> NA</td><td> NA</td></tr>\n",
       "\t<tr><td> NA</td><td> NA</td></tr>\n",
       "\t<tr><td> NA</td><td> NA</td></tr>\n",
       "\t<tr><td> NA</td><td> NA</td></tr>\n",
       "\t<tr><td> NA</td><td> NA</td></tr>\n",
       "\t<tr><td> NA</td><td> NA</td></tr>\n",
       "\t<tr><td> NA</td><td> NA</td></tr>\n",
       "</tbody>\n",
       "</table>\n"
      ],
      "text/latex": [
       "\\begin{tabular}{ll}\n",
       "\t 0.5 & 0.5\\\\\n",
       "\t  NA &  NA\\\\\n",
       "\t  NA &  NA\\\\\n",
       "\t  NA &  NA\\\\\n",
       "\t  NA &  NA\\\\\n",
       "\t  NA &  NA\\\\\n",
       "\t  NA &  NA\\\\\n",
       "\t  NA &  NA\\\\\n",
       "\t  NA &  NA\\\\\n",
       "\t  NA &  NA\\\\\n",
       "\t  NA &  NA\\\\\n",
       "\t  NA &  NA\\\\\n",
       "\t  NA &  NA\\\\\n",
       "\t  NA &  NA\\\\\n",
       "\t  NA &  NA\\\\\n",
       "\t  NA &  NA\\\\\n",
       "\t  NA &  NA\\\\\n",
       "\t  NA &  NA\\\\\n",
       "\t  NA &  NA\\\\\n",
       "\t  NA &  NA\\\\\n",
       "\\end{tabular}\n"
      ],
      "text/markdown": [
       "\n",
       "| 0.5 | 0.5 | \n",
       "|  NA |  NA | \n",
       "|  NA |  NA | \n",
       "|  NA |  NA | \n",
       "|  NA |  NA | \n",
       "|  NA |  NA | \n",
       "|  NA |  NA | \n",
       "|  NA |  NA | \n",
       "|  NA |  NA | \n",
       "|  NA |  NA | \n",
       "|  NA |  NA | \n",
       "|  NA |  NA | \n",
       "|  NA |  NA | \n",
       "|  NA |  NA | \n",
       "|  NA |  NA | \n",
       "|  NA |  NA | \n",
       "|  NA |  NA | \n",
       "|  NA |  NA | \n",
       "|  NA |  NA | \n",
       "|  NA |  NA | \n",
       "\n",
       "\n"
      ],
      "text/plain": [
       "      [,1] [,2]\n",
       " [1,] 0.5  0.5 \n",
       " [2,]  NA   NA \n",
       " [3,]  NA   NA \n",
       " [4,]  NA   NA \n",
       " [5,]  NA   NA \n",
       " [6,]  NA   NA \n",
       " [7,]  NA   NA \n",
       " [8,]  NA   NA \n",
       " [9,]  NA   NA \n",
       "[10,]  NA   NA \n",
       "[11,]  NA   NA \n",
       "[12,]  NA   NA \n",
       "[13,]  NA   NA \n",
       "[14,]  NA   NA \n",
       "[15,]  NA   NA \n",
       "[16,]  NA   NA \n",
       "[17,]  NA   NA \n",
       "[18,]  NA   NA \n",
       "[19,]  NA   NA \n",
       "[20,]  NA   NA "
      ]
     },
     "metadata": {},
     "output_type": "display_data"
    }
   ],
   "source": [
    "prior = matrix(NA, nrow = n, ncol = 2)\n",
    "prior[1, 1] = 0.5\n",
    "prior[1, 2] = 0.5\n",
    "prior"
   ]
  },
  {
   "cell_type": "markdown",
   "metadata": {},
   "source": [
    "#### (d) Create an $n \\times 1$ vector ${\\tt post}$  with NAs everywhere. This is where we'll store $P(H \\, | \\, e_i)$, the posterior probability for $H$ at every step."
   ]
  },
  {
   "cell_type": "code",
   "execution_count": 22,
   "metadata": {},
   "outputs": [
    {
     "data": {
      "text/html": [
       "<table>\n",
       "<tbody>\n",
       "\t<tr><td>NA</td></tr>\n",
       "\t<tr><td>NA</td></tr>\n",
       "\t<tr><td>NA</td></tr>\n",
       "\t<tr><td>NA</td></tr>\n",
       "\t<tr><td>NA</td></tr>\n",
       "\t<tr><td>NA</td></tr>\n",
       "\t<tr><td>NA</td></tr>\n",
       "\t<tr><td>NA</td></tr>\n",
       "\t<tr><td>NA</td></tr>\n",
       "\t<tr><td>NA</td></tr>\n",
       "\t<tr><td>NA</td></tr>\n",
       "\t<tr><td>NA</td></tr>\n",
       "\t<tr><td>NA</td></tr>\n",
       "\t<tr><td>NA</td></tr>\n",
       "\t<tr><td>NA</td></tr>\n",
       "\t<tr><td>NA</td></tr>\n",
       "\t<tr><td>NA</td></tr>\n",
       "\t<tr><td>NA</td></tr>\n",
       "\t<tr><td>NA</td></tr>\n",
       "\t<tr><td>NA</td></tr>\n",
       "</tbody>\n",
       "</table>\n"
      ],
      "text/latex": [
       "\\begin{tabular}{l}\n",
       "\t NA\\\\\n",
       "\t NA\\\\\n",
       "\t NA\\\\\n",
       "\t NA\\\\\n",
       "\t NA\\\\\n",
       "\t NA\\\\\n",
       "\t NA\\\\\n",
       "\t NA\\\\\n",
       "\t NA\\\\\n",
       "\t NA\\\\\n",
       "\t NA\\\\\n",
       "\t NA\\\\\n",
       "\t NA\\\\\n",
       "\t NA\\\\\n",
       "\t NA\\\\\n",
       "\t NA\\\\\n",
       "\t NA\\\\\n",
       "\t NA\\\\\n",
       "\t NA\\\\\n",
       "\t NA\\\\\n",
       "\\end{tabular}\n"
      ],
      "text/markdown": [
       "\n",
       "| NA | \n",
       "| NA | \n",
       "| NA | \n",
       "| NA | \n",
       "| NA | \n",
       "| NA | \n",
       "| NA | \n",
       "| NA | \n",
       "| NA | \n",
       "| NA | \n",
       "| NA | \n",
       "| NA | \n",
       "| NA | \n",
       "| NA | \n",
       "| NA | \n",
       "| NA | \n",
       "| NA | \n",
       "| NA | \n",
       "| NA | \n",
       "| NA | \n",
       "\n",
       "\n"
      ],
      "text/plain": [
       "      [,1]\n",
       " [1,] NA  \n",
       " [2,] NA  \n",
       " [3,] NA  \n",
       " [4,] NA  \n",
       " [5,] NA  \n",
       " [6,] NA  \n",
       " [7,] NA  \n",
       " [8,] NA  \n",
       " [9,] NA  \n",
       "[10,] NA  \n",
       "[11,] NA  \n",
       "[12,] NA  \n",
       "[13,] NA  \n",
       "[14,] NA  \n",
       "[15,] NA  \n",
       "[16,] NA  \n",
       "[17,] NA  \n",
       "[18,] NA  \n",
       "[19,] NA  \n",
       "[20,] NA  "
      ]
     },
     "metadata": {},
     "output_type": "display_data"
    }
   ],
   "source": [
    "post = matrix(NA, nrow = n, ncol = 1)\n",
    "post"
   ]
  },
  {
   "cell_type": "markdown",
   "metadata": {},
   "source": [
    "#### (e) Use the function below to calculate the posterior probability for the first step, i.e., after pulling one chip. Store this in ${\\tt post[1]}$. "
   ]
  },
  {
   "cell_type": "code",
   "execution_count": 1,
   "metadata": {
    "collapsed": true
   },
   "outputs": [],
   "source": [
    "posterior = function(p, prior){\n",
    "    #p is a vector of size 2, with likelihoods for each bag\n",
    "    #prior is a vector of size 2, with priors for each bag\n",
    "    post = p[1]*prior[1]/(p[1]*prior[1] + p[2]*prior[2])\n",
    "    return(post)\n",
    "}"
   ]
  },
  {
   "cell_type": "markdown",
   "metadata": {},
   "source": [
    "#### (f) In the loop below, add two lines of code. The first line should use the posterior probability from the $(i-1)$ step to store $P_i(H)$ and $P_i(H^c)$ in ${\\tt prior}$ for the $i^{th}$ step. The second line should calculate the posterior probability for the $i^{th}$ step (using the ${\\tt posterior}$ function above)."
   ]
  },
  {
   "cell_type": "code",
   "execution_count": 2,
   "metadata": {},
   "outputs": [
    {
     "ename": "ERROR",
     "evalue": "Error in eval(expr, envir, enclos): object 'n' not found\n",
     "output_type": "error",
     "traceback": [
      "Error in eval(expr, envir, enclos): object 'n' not found\nTraceback:\n"
     ]
    }
   ],
   "source": [
    "for (i in 2:n){\n",
    "   \n",
    "}"
   ]
  },
  {
   "cell_type": "markdown",
   "metadata": {},
   "source": [
    "#### (g) Use ${\\tt data.frame()}$ to construct a table containing, at each step $i = 1,...,n$,  the posterior distribution, $P(H \\, | \\, e_i)$, the likelihood $P(e_i \\, | \\, H)$, and the prior $P_i(H)$. Then, construct a plot of the posterior probability against $i$, for $i = 1,...,n$. "
   ]
  },
  {
   "cell_type": "code",
   "execution_count": null,
   "metadata": {
    "collapsed": true
   },
   "outputs": [],
   "source": []
  },
  {
   "cell_type": "markdown",
   "metadata": {},
   "source": [
    "#### (h) After $n = 25$ draws, what do you believe about $H$? Based on your table and plot, how many chips did you need to draw before you became basically certain about the truth or falsity of $H$?"
   ]
  },
  {
   "cell_type": "code",
   "execution_count": null,
   "metadata": {
    "collapsed": true
   },
   "outputs": [],
   "source": []
  }
 ],
 "metadata": {
  "kernelspec": {
   "display_name": "R",
   "language": "R",
   "name": "ir"
  },
  "language_info": {
   "codemirror_mode": "r",
   "file_extension": ".r",
   "mimetype": "text/x-r-source",
   "name": "R",
   "pygments_lexer": "r",
   "version": "3.4.2"
  }
 },
 "nbformat": 4,
 "nbformat_minor": 2
}
