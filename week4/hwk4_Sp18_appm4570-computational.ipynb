{
 "cells": [
  {
   "cell_type": "markdown",
   "metadata": {},
   "source": [
    "# Homework #4: Computational Questions\n",
    "*All computations should be done in this notebook using the R kernel. Working in small groups is allowed, but it is important that you make an effort to master the material and hand in your own work.*\n",
    "\n",
    "#### You will be required to submit this notebook, fully compiled with your solutions, as an HTML or ipynb file to Canvas by 2pm on Friday, Feburary 16."
   ]
  },
  {
   "cell_type": "markdown",
   "metadata": {},
   "source": [
    "## Problem 1\n",
    "\n",
    "Let $X =$ the leading digit of a randomly selected number from a large accounting ledger. So, for example, if we randomly draw the number $\\$20,695$, then $X = 2$. People who make up numbers to commit accounting fraud tend to give $X$ a (discrete) uniform distribution, i.e., $P(X = x) = 1/9$, for $x \\in \\{1,...,9\\}$. However, there is empirical evidence that suggests that ``naturally occurring\" numbers (e.g., numbers in a non-fraudulent accounting ledger) have leading digits that do not follow a uniform distribution. Instead, they follow a distribution defined by:\n",
    "\n",
    "\\begin{align*}\n",
    "f(x) = \\log_{10}\\bigg(\\frac{x+1}{x}\\bigg), \\,\\,\\,\\, x = 1,2,...,9.\n",
    "\\end{align*} \n",
    "\n",
    "#### Using ${\\tt tax.txt}$, a dataset containing the taxable incomes for individuals in 1978, and the information given in theoretical problem 5, decide whether this dataset is fraudulent. "
   ]
  },
  {
   "cell_type": "code",
   "execution_count": 3,
   "metadata": {},
   "outputs": [
    {
     "data": {
      "text/html": [
       "<table>\n",
       "<thead><tr><th scope=col>taxIncomes</th></tr></thead>\n",
       "<tbody>\n",
       "\t<tr><td> 5601</td></tr>\n",
       "\t<tr><td> 4977</td></tr>\n",
       "\t<tr><td> 5959</td></tr>\n",
       "\t<tr><td> 6267</td></tr>\n",
       "\t<tr><td> 5221</td></tr>\n",
       "\t<tr><td> 3094</td></tr>\n",
       "\t<tr><td>  308</td></tr>\n",
       "\t<tr><td>  458</td></tr>\n",
       "\t<tr><td>  390</td></tr>\n",
       "\t<tr><td>   74</td></tr>\n",
       "\t<tr><td>  589</td></tr>\n",
       "\t<tr><td>  290</td></tr>\n",
       "\t<tr><td> 3543</td></tr>\n",
       "\t<tr><td> 1078</td></tr>\n",
       "\t<tr><td>  325</td></tr>\n",
       "\t<tr><td> 6755</td></tr>\n",
       "\t<tr><td> 8582</td></tr>\n",
       "\t<tr><td> 6982</td></tr>\n",
       "\t<tr><td> 5282</td></tr>\n",
       "\t<tr><td> 7772</td></tr>\n",
       "\t<tr><td> 9906</td></tr>\n",
       "\t<tr><td> 8044</td></tr>\n",
       "\t<tr><td> 9585</td></tr>\n",
       "\t<tr><td>11918</td></tr>\n",
       "\t<tr><td>12099</td></tr>\n",
       "\t<tr><td>14338</td></tr>\n",
       "\t<tr><td>13654</td></tr>\n",
       "\t<tr><td>15827</td></tr>\n",
       "\t<tr><td>14671</td></tr>\n",
       "\t<tr><td>16937</td></tr>\n",
       "\t<tr><td>⋮</td></tr>\n",
       "\t<tr><td>  1946</td></tr>\n",
       "\t<tr><td> 53076</td></tr>\n",
       "\t<tr><td>     0</td></tr>\n",
       "\t<tr><td>     0</td></tr>\n",
       "\t<tr><td> 14760</td></tr>\n",
       "\t<tr><td> 18345</td></tr>\n",
       "\t<tr><td>  3141</td></tr>\n",
       "\t<tr><td>  3117</td></tr>\n",
       "\t<tr><td>266698</td></tr>\n",
       "\t<tr><td>227698</td></tr>\n",
       "\t<tr><td>     0</td></tr>\n",
       "\t<tr><td>     0</td></tr>\n",
       "\t<tr><td>   677</td></tr>\n",
       "\t<tr><td>     0</td></tr>\n",
       "\t<tr><td>     0</td></tr>\n",
       "\t<tr><td>     0</td></tr>\n",
       "\t<tr><td>     0</td></tr>\n",
       "\t<tr><td>     0</td></tr>\n",
       "\t<tr><td>     0</td></tr>\n",
       "\t<tr><td>  4557</td></tr>\n",
       "\t<tr><td>   400</td></tr>\n",
       "\t<tr><td>     0</td></tr>\n",
       "\t<tr><td>     0</td></tr>\n",
       "\t<tr><td>     0</td></tr>\n",
       "\t<tr><td>     0</td></tr>\n",
       "\t<tr><td>   521</td></tr>\n",
       "\t<tr><td>     0</td></tr>\n",
       "\t<tr><td>   494</td></tr>\n",
       "\t<tr><td>  7859</td></tr>\n",
       "\t<tr><td>    66</td></tr>\n",
       "</tbody>\n",
       "</table>\n"
      ],
      "text/latex": [
       "\\begin{tabular}{r|l}\n",
       " taxIncomes\\\\\n",
       "\\hline\n",
       "\t  5601\\\\\n",
       "\t  4977\\\\\n",
       "\t  5959\\\\\n",
       "\t  6267\\\\\n",
       "\t  5221\\\\\n",
       "\t  3094\\\\\n",
       "\t   308\\\\\n",
       "\t   458\\\\\n",
       "\t   390\\\\\n",
       "\t    74\\\\\n",
       "\t   589\\\\\n",
       "\t   290\\\\\n",
       "\t  3543\\\\\n",
       "\t  1078\\\\\n",
       "\t   325\\\\\n",
       "\t  6755\\\\\n",
       "\t  8582\\\\\n",
       "\t  6982\\\\\n",
       "\t  5282\\\\\n",
       "\t  7772\\\\\n",
       "\t  9906\\\\\n",
       "\t  8044\\\\\n",
       "\t  9585\\\\\n",
       "\t 11918\\\\\n",
       "\t 12099\\\\\n",
       "\t 14338\\\\\n",
       "\t 13654\\\\\n",
       "\t 15827\\\\\n",
       "\t 14671\\\\\n",
       "\t 16937\\\\\n",
       "\t ⋮\\\\\n",
       "\t   1946\\\\\n",
       "\t  53076\\\\\n",
       "\t      0\\\\\n",
       "\t      0\\\\\n",
       "\t  14760\\\\\n",
       "\t  18345\\\\\n",
       "\t   3141\\\\\n",
       "\t   3117\\\\\n",
       "\t 266698\\\\\n",
       "\t 227698\\\\\n",
       "\t      0\\\\\n",
       "\t      0\\\\\n",
       "\t    677\\\\\n",
       "\t      0\\\\\n",
       "\t      0\\\\\n",
       "\t      0\\\\\n",
       "\t      0\\\\\n",
       "\t      0\\\\\n",
       "\t      0\\\\\n",
       "\t   4557\\\\\n",
       "\t    400\\\\\n",
       "\t      0\\\\\n",
       "\t      0\\\\\n",
       "\t      0\\\\\n",
       "\t      0\\\\\n",
       "\t    521\\\\\n",
       "\t      0\\\\\n",
       "\t    494\\\\\n",
       "\t   7859\\\\\n",
       "\t     66\\\\\n",
       "\\end{tabular}\n"
      ],
      "text/markdown": [
       "\n",
       "taxIncomes | \n",
       "|---|---|---|---|---|---|---|---|---|---|---|---|---|---|---|---|---|---|---|---|---|---|---|---|---|---|---|---|---|---|---|---|---|---|---|---|---|---|---|---|---|---|---|---|---|---|---|---|---|---|---|---|---|---|---|---|---|---|---|---|---|\n",
       "|  5601 | \n",
       "|  4977 | \n",
       "|  5959 | \n",
       "|  6267 | \n",
       "|  5221 | \n",
       "|  3094 | \n",
       "|   308 | \n",
       "|   458 | \n",
       "|   390 | \n",
       "|    74 | \n",
       "|   589 | \n",
       "|   290 | \n",
       "|  3543 | \n",
       "|  1078 | \n",
       "|   325 | \n",
       "|  6755 | \n",
       "|  8582 | \n",
       "|  6982 | \n",
       "|  5282 | \n",
       "|  7772 | \n",
       "|  9906 | \n",
       "|  8044 | \n",
       "|  9585 | \n",
       "| 11918 | \n",
       "| 12099 | \n",
       "| 14338 | \n",
       "| 13654 | \n",
       "| 15827 | \n",
       "| 14671 | \n",
       "| 16937 | \n",
       "| ⋮ | \n",
       "|   1946 | \n",
       "|  53076 | \n",
       "|      0 | \n",
       "|      0 | \n",
       "|  14760 | \n",
       "|  18345 | \n",
       "|   3141 | \n",
       "|   3117 | \n",
       "| 266698 | \n",
       "| 227698 | \n",
       "|      0 | \n",
       "|      0 | \n",
       "|    677 | \n",
       "|      0 | \n",
       "|      0 | \n",
       "|      0 | \n",
       "|      0 | \n",
       "|      0 | \n",
       "|      0 | \n",
       "|   4557 | \n",
       "|    400 | \n",
       "|      0 | \n",
       "|      0 | \n",
       "|      0 | \n",
       "|      0 | \n",
       "|    521 | \n",
       "|      0 | \n",
       "|    494 | \n",
       "|   7859 | \n",
       "|     66 | \n",
       "\n",
       "\n"
      ],
      "text/plain": [
       "       taxIncomes\n",
       "1       5601     \n",
       "2       4977     \n",
       "3       5959     \n",
       "4       6267     \n",
       "5       5221     \n",
       "6       3094     \n",
       "7        308     \n",
       "8        458     \n",
       "9        390     \n",
       "10        74     \n",
       "11       589     \n",
       "12       290     \n",
       "13      3543     \n",
       "14      1078     \n",
       "15       325     \n",
       "16      6755     \n",
       "17      8582     \n",
       "18      6982     \n",
       "19      5282     \n",
       "20      7772     \n",
       "21      9906     \n",
       "22      8044     \n",
       "23      9585     \n",
       "24     11918     \n",
       "25     12099     \n",
       "26     14338     \n",
       "27     13654     \n",
       "28     15827     \n",
       "29     14671     \n",
       "30     16937     \n",
       "⋮      ⋮         \n",
       "157489   1946    \n",
       "157490  53076    \n",
       "157491      0    \n",
       "157492      0    \n",
       "157493  14760    \n",
       "157494  18345    \n",
       "157495   3141    \n",
       "157496   3117    \n",
       "157497 266698    \n",
       "157498 227698    \n",
       "157499      0    \n",
       "157500      0    \n",
       "157501    677    \n",
       "157502      0    \n",
       "157503      0    \n",
       "157504      0    \n",
       "157505      0    \n",
       "157506      0    \n",
       "157507      0    \n",
       "157508   4557    \n",
       "157509    400    \n",
       "157510      0    \n",
       "157511      0    \n",
       "157512      0    \n",
       "157513      0    \n",
       "157514    521    \n",
       "157515      0    \n",
       "157516    494    \n",
       "157517   7859    \n",
       "157518     66    "
      ]
     },
     "metadata": {},
     "output_type": "display_data"
    }
   ],
   "source": [
    "data = read.table(\"tax.txt\")\n",
    "data"
   ]
  },
  {
   "cell_type": "markdown",
   "metadata": {},
   "source": [
    "## Problem 2\n",
    "\n",
    "Consider the scenario from Unit #2 in-class code:\n",
    "\n",
    "Imagine two unmarked bags filled with poker chips. Each bag contains both red poker chips and white poker chips. In bag one, there are 75% red and 25% white; in bag two, there are 75% white and 25% red. Imagine that you pick one bag at random, and, without looking inside, begin to draw chips out, one at a time, replacing and mixing after each draw, so that each draw is independent.\n",
    "\n",
    "\n",
    "#### (a) Write a function called ${\\tt draws}$, with one argument $n$, that randomly selects one of the two bags, and then generates a sample of size $n = 20$ from it (i.e., draws $n = 20$ chips, with replacement). Let 0 = \"White\" and 1 = \"Red\". Then, execute the line ${\\tt e = draws(n)}$. The variable ${\\tt e}$ will consist of a string of 1s and 0s, representing what happened as you drew chips. (HINT: The functions ${\\tt rbinom()}$ and [${\\tt switch()}$](https://www.datamentor.io/r-programming/switch-function) might be useful in randomly choosing the bag.)"
   ]
  },
  {
   "cell_type": "code",
   "execution_count": null,
   "metadata": {},
   "outputs": [],
   "source": []
  },
  {
   "cell_type": "markdown",
   "metadata": {},
   "source": [
    "Our goal for the rest of the question is to use Bayes' theorem to calculuate our degree of belief in the hypothesis $H$ = \"We've selected bag one\" given the evidence $e_i$ = \"we've drawn $x$ red chips in $i$ draws\", $i = 1,...,n$. Remember, Bayes' theorem is\n",
    "\n",
    "$$P(H \\, | \\, e_i) = \\frac{P(e_i \\, | \\, H)P_i(H)}{P(e_i \\, | \\, H)P_i(H) + P(e_i \\, | \\, H^c)P_i(H^c)}.$$\n",
    "\n",
    "Achieving our goal will involve setting $P_i(H)$--the prior probability for $H$ at step $i$--equal to $P(H \\, | \\, e_{i-1})$--the posterior probability for $H$ from step $i-1$.\n",
    "\n",
    "#### (b) Constuct an $n \\times 2$ matrix $p$ where the $i^{th}$ entry of the first column contains $P(e_i \\, | \\, H)$ and the $i^{th}$ entry of the second column contains $P(e_i \\, | \\, H^c)$.  Note: These are binomial probabilities, and can be calculated--without a loop!--using ${\\tt dbinom()}$ and  ${\\tt cumsum()}$.  ${\\tt cbind()}$ can help form that matrix."
   ]
  },
  {
   "cell_type": "code",
   "execution_count": null,
   "metadata": {},
   "outputs": [],
   "source": []
  },
  {
   "cell_type": "markdown",
   "metadata": {},
   "source": [
    "#### (c) Create an $n \\times 2$ matrix ${\\tt prior}$ that has 0.5 in the (1,1) and (1,2) entry, and NA everywhere else (for now). This is where we'll store $P_i(H)$ and $P_i(H^c)$ for every step. "
   ]
  },
  {
   "cell_type": "code",
   "execution_count": null,
   "metadata": {},
   "outputs": [],
   "source": []
  },
  {
   "cell_type": "markdown",
   "metadata": {},
   "source": [
    "#### (d) Create an $n \\times 1$ vector ${\\tt post}$  with NAs everywhere. This is where we'll store $P(H \\, | \\, e_i)$, the posterior probability for $H$ at every step."
   ]
  },
  {
   "cell_type": "code",
   "execution_count": null,
   "metadata": {
    "collapsed": true
   },
   "outputs": [],
   "source": []
  },
  {
   "cell_type": "markdown",
   "metadata": {},
   "source": [
    "#### (e) Use the function below to calculate the posterior probability for the first step, i.e., after pulling one chip. Store this in ${\\tt post[1]}$. "
   ]
  },
  {
   "cell_type": "code",
   "execution_count": 1,
   "metadata": {
    "collapsed": true
   },
   "outputs": [],
   "source": [
    "posterior = function(p, prior){\n",
    "    #p is a vector of size 2, with likelihoods for each bag\n",
    "    #prior is a vector of size 2, with priors for each bag\n",
    "    post = p[1]*prior[1]/(p[1]*prior[1] + p[2]*prior[2])\n",
    "    return(post)\n",
    "}"
   ]
  },
  {
   "cell_type": "markdown",
   "metadata": {},
   "source": [
    "#### (f) In the loop below, add two lines of code. The first line should use the posterior probability from the $(i-1)$ step to store $P_i(H)$ and $P_i(H^c)$ in ${\\tt prior}$ for the $i^{th}$ step. The second line should calculate the posterior probability for the $i^{th}$ step (using the ${\\tt posterior}$ function above)."
   ]
  },
  {
   "cell_type": "code",
   "execution_count": 2,
   "metadata": {},
   "outputs": [
    {
     "ename": "ERROR",
     "evalue": "Error in eval(expr, envir, enclos): object 'n' not found\n",
     "output_type": "error",
     "traceback": [
      "Error in eval(expr, envir, enclos): object 'n' not found\nTraceback:\n"
     ]
    }
   ],
   "source": [
    "for (i in 2:n){\n",
    "   \n",
    "}"
   ]
  },
  {
   "cell_type": "markdown",
   "metadata": {},
   "source": [
    "#### (g) Use ${\\tt data.frame()}$ to construct a table containing, at each step $i = 1,...,n$,  the posterior distribution, $P(H \\, | \\, e_i)$, the likelihood $P(e_i \\, | \\, H)$, and the prior $P_i(H)$. Then, construct a plot of the posterior probability against $i$, for $i = 1,...,n$. "
   ]
  },
  {
   "cell_type": "code",
   "execution_count": null,
   "metadata": {},
   "outputs": [],
   "source": []
  },
  {
   "cell_type": "markdown",
   "metadata": {},
   "source": [
    "#### (h) After $n = 25$ draws, what do you believe about $H$? Based on your table and plot, how many chips did you need to draw before you became basically certain about the truth or falsity of $H$?"
   ]
  },
  {
   "cell_type": "code",
   "execution_count": null,
   "metadata": {
    "collapsed": true
   },
   "outputs": [],
   "source": []
  }
 ],
 "metadata": {
  "kernelspec": {
   "display_name": "R",
   "language": "R",
   "name": "ir"
  },
  "language_info": {
   "codemirror_mode": "r",
   "file_extension": ".r",
   "mimetype": "text/x-r-source",
   "name": "R",
   "pygments_lexer": "r",
   "version": "3.4.2"
  }
 },
 "nbformat": 4,
 "nbformat_minor": 2
}
