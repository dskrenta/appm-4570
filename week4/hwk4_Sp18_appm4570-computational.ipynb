{
 "cells": [
  {
   "cell_type": "markdown",
   "metadata": {},
   "source": [
    "# Homework #4: Computational Questions\n",
    "*All computations should be done in this notebook using the R kernel. Working in small groups is allowed, but it is important that you make an effort to master the material and hand in your own work.*\n",
    "\n",
    "#### You will be required to submit this notebook, fully compiled with your solutions, as an HTML or ipynb file to Canvas by 2pm on Friday, Feburary 16."
   ]
  },
  {
   "cell_type": "markdown",
   "metadata": {},
   "source": [
    "## Problem 1\n",
    "\n",
    "Let $X =$ the leading digit of a randomly selected number from a large accounting ledger. So, for example, if we randomly draw the number $\\$20,695$, then $X = 2$. People who make up numbers to commit accounting fraud tend to give $X$ a (discrete) uniform distribution, i.e., $P(X = x) = 1/9$, for $x \\in \\{1,...,9\\}$. However, there is empirical evidence that suggests that ``naturally occurring\" numbers (e.g., numbers in a non-fraudulent accounting ledger) have leading digits that do not follow a uniform distribution. Instead, they follow a distribution defined by:\n",
    "\n",
    "\\begin{align*}\n",
    "f(x) = \\log_{10}\\bigg(\\frac{x+1}{x}\\bigg), \\,\\,\\,\\, x = 1,2,...,9.\n",
    "\\end{align*} \n",
    "\n",
    "#### Using ${\\tt tax.txt}$, a dataset containing the taxable incomes for individuals in 1978, and the information given in theoretical problem 5, decide whether this dataset is fraudulent. "
   ]
  },
  {
   "cell_type": "code",
   "execution_count": 86,
   "metadata": {},
   "outputs": [
    {
     "data": {
      "text/html": [
       "'This dataset does not follow a discrete uniform distribution given the graph below. I conclude that this dataset\\nfollows the logarithmic distribution. The datapoints are not equally probable or distributed in an equal manner.'"
      ],
      "text/latex": [
       "'This dataset does not follow a discrete uniform distribution given the graph below. I conclude that this dataset\\textbackslash{}nfollows the logarithmic distribution. The datapoints are not equally probable or distributed in an equal manner.'"
      ],
      "text/markdown": [
       "'This dataset does not follow a discrete uniform distribution given the graph below. I conclude that this dataset\\nfollows the logarithmic distribution. The datapoints are not equally probable or distributed in an equal manner.'"
      ],
      "text/plain": [
       "[1] \"This dataset does not follow a discrete uniform distribution given the graph below. I conclude that this dataset\\nfollows the logarithmic distribution. The datapoints are not equally probable or distributed in an equal manner.\""
      ]
     },
     "metadata": {},
     "output_type": "display_data"
    },
    {
     "data": {
      "image/png": "[encoded data removed]",
      "text/plain": [
       "plot without title"
      ]
     },
     "metadata": {},
     "output_type": "display_data"
    }
   ],
   "source": [
    "data = read.table(\"tax.txt\")\n",
    "plot(data)\n",
    "\"This dataset does not follow a discrete uniform distribution given the graph below. I conclude that this dataset\n",
    "follows the logarithmic distribution. The datapoints are not equally probable or distributed in an equal manner.\""
   ]
  },
  {
   "cell_type": "markdown",
   "metadata": {},
   "source": [
    "## Problem 2\n",
    "\n",
    "Consider the scenario from Unit #2 in-class code:\n",
    "\n",
    "Imagine two unmarked bags filled with poker chips. Each bag contains both red poker chips and white poker chips. In bag one, there are 75% red and 25% white; in bag two, there are 75% white and 25% red. Imagine that you pick one bag at random, and, without looking inside, begin to draw chips out, one at a time, replacing and mixing after each draw, so that each draw is independent.\n",
    "\n",
    "\n",
    "#### (a) Write a function called ${\\tt draws}$, with one argument $n$, that randomly selects one of the two bags, and then generates a sample of size $n = 20$ from it (i.e., draws $n = 20$ chips, with replacement). Let 0 = \"White\" and 1 = \"Red\". Then, execute the line ${\\tt e = draws(n)}$. The variable ${\\tt e}$ will consist of a string of 1s and 0s, representing what happened as you drew chips. (HINT: The functions ${\\tt rbinom()}$ and [${\\tt switch()}$](https://www.datamentor.io/r-programming/switch-function) might be useful in randomly choosing the bag.)"
   ]
  },
  {
   "cell_type": "code",
   "execution_count": 87,
   "metadata": {},
   "outputs": [
    {
     "data": {
      "text/html": [
       "<ol class=list-inline>\n",
       "\t<li>0</li>\n",
       "\t<li>1</li>\n",
       "\t<li>0</li>\n",
       "\t<li>1</li>\n",
       "\t<li>0</li>\n",
       "\t<li>1</li>\n",
       "\t<li>1</li>\n",
       "\t<li>1</li>\n",
       "\t<li>0</li>\n",
       "\t<li>0</li>\n",
       "\t<li>1</li>\n",
       "\t<li>0</li>\n",
       "\t<li>0</li>\n",
       "\t<li>1</li>\n",
       "\t<li>1</li>\n",
       "\t<li>1</li>\n",
       "\t<li>1</li>\n",
       "\t<li>0</li>\n",
       "\t<li>1</li>\n",
       "\t<li>1</li>\n",
       "</ol>\n"
      ],
      "text/latex": [
       "\\begin{enumerate*}\n",
       "\\item 0\n",
       "\\item 1\n",
       "\\item 0\n",
       "\\item 1\n",
       "\\item 0\n",
       "\\item 1\n",
       "\\item 1\n",
       "\\item 1\n",
       "\\item 0\n",
       "\\item 0\n",
       "\\item 1\n",
       "\\item 0\n",
       "\\item 0\n",
       "\\item 1\n",
       "\\item 1\n",
       "\\item 1\n",
       "\\item 1\n",
       "\\item 0\n",
       "\\item 1\n",
       "\\item 1\n",
       "\\end{enumerate*}\n"
      ],
      "text/markdown": [
       "1. 0\n",
       "2. 1\n",
       "3. 0\n",
       "4. 1\n",
       "5. 0\n",
       "6. 1\n",
       "7. 1\n",
       "8. 1\n",
       "9. 0\n",
       "10. 0\n",
       "11. 1\n",
       "12. 0\n",
       "13. 0\n",
       "14. 1\n",
       "15. 1\n",
       "16. 1\n",
       "17. 1\n",
       "18. 0\n",
       "19. 1\n",
       "20. 1\n",
       "\n",
       "\n"
      ],
      "text/plain": [
       " [1] 0 1 0 1 0 1 1 1 0 0 1 0 0 1 1 1 1 0 1 1"
      ]
     },
     "metadata": {},
     "output_type": "display_data"
    }
   ],
   "source": [
    "draws = function(n) {\n",
    "    bag = sample(c(1, 2), size = 1)\n",
    "    if (bag == 1) {\n",
    "        return (sample(c(0, 1), size = n, replace = TRUE, prob = c(0.25, 0.75)))\n",
    "    }\n",
    "    else {\n",
    "        return (sample(c(0, 1), size = n, replace = TRUE, prob = c(0.75, 0.25)))\n",
    "    }\n",
    "}\n",
    "\n",
    "n = 20\n",
    "\n",
    "e = draws(n)\n",
    "e"
   ]
  },
  {
   "cell_type": "markdown",
   "metadata": {},
   "source": [
    "Our goal for the rest of the question is to use Bayes' theorem to calculuate our degree of belief in the hypothesis $H$ = \"We've selected bag one\" given the evidence $e_i$ = \"we've drawn $x$ red chips in $i$ draws\", $i = 1,...,n$. Remember, Bayes' theorem is\n",
    "\n",
    "$$P(H \\, | \\, e_i) = \\frac{P(e_i \\, | \\, H)P_i(H)}{P(e_i \\, | \\, H)P_i(H) + P(e_i \\, | \\, H^c)P_i(H^c)}.$$\n",
    "\n",
    "Achieving our goal will involve setting $P_i(H)$--the prior probability for $H$ at step $i$--equal to $P(H \\, | \\, e_{i-1})$--the posterior probability for $H$ from step $i-1$.\n",
    "\n",
    "#### (b) Constuct an $n \\times 2$ matrix $p$ where the $i^{th}$ entry of the first column contains $P(e_i \\, | \\, H)$ and the $i^{th}$ entry of the second column contains $P(e_i \\, | \\, H^c)$.  Note: These are binomial probabilities, and can be calculated--without a loop!--using ${\\tt dbinom()}$ and  ${\\tt cumsum()}$.  ${\\tt cbind()}$ can help form that matrix."
   ]
  },
  {
   "cell_type": "code",
   "execution_count": 88,
   "metadata": {},
   "outputs": [
    {
     "data": {
      "text/html": [
       "'P(ei | H) = probability of drawn x red chips in i draws given we have selected bag 1'"
      ],
      "text/latex": [
       "'P(ei \\textbar{} H) = probability of drawn x red chips in i draws given we have selected bag 1'"
      ],
      "text/markdown": [
       "'P(ei | H) = probability of drawn x red chips in i draws given we have selected bag 1'"
      ],
      "text/plain": [
       "[1] \"P(ei | H) = probability of drawn x red chips in i draws given we have selected bag 1\""
      ]
     },
     "metadata": {},
     "output_type": "display_data"
    },
    {
     "data": {
      "text/html": [
       "'P(ei | Hc) = probaility of drawn x red chips in i draws given we have selected bag 2'"
      ],
      "text/latex": [
       "'P(ei \\textbar{} Hc) = probaility of drawn x red chips in i draws given we have selected bag 2'"
      ],
      "text/markdown": [
       "'P(ei | Hc) = probaility of drawn x red chips in i draws given we have selected bag 2'"
      ],
      "text/plain": [
       "[1] \"P(ei | Hc) = probaility of drawn x red chips in i draws given we have selected bag 2\""
      ]
     },
     "metadata": {},
     "output_type": "display_data"
    },
    {
     "data": {
      "text/html": [
       "<table>\n",
       "<tbody>\n",
       "\t<tr><td>0.75000000</td><td>0.25000000</td></tr>\n",
       "\t<tr><td>0.46875000</td><td>0.21875000</td></tr>\n",
       "\t<tr><td>0.32812500</td><td>0.19270833</td></tr>\n",
       "\t<tr><td>0.24902344</td><td>0.17089844</td></tr>\n",
       "\t<tr><td>0.19980469</td><td>0.15253906</td></tr>\n",
       "\t<tr><td>0.16662598</td><td>0.13700358</td></tr>\n",
       "\t<tr><td>0.14284842</td><td>0.12378802</td></tr>\n",
       "\t<tr><td>0.12499809</td><td>0.11248589</td></tr>\n",
       "\t<tr><td>0.11111069</td><td>0.10276837</td></tr>\n",
       "\t<tr><td>0.09999990</td><td>0.09436865</td></tr>\n",
       "\t<tr><td>0.09090907</td><td>0.08706953</td></tr>\n",
       "\t<tr><td>0.08333333</td><td>0.08069364</td></tr>\n",
       "\t<tr><td>0.07692308</td><td>0.07509560</td></tr>\n",
       "\t<tr><td>0.07142857</td><td>0.07015586</td></tr>\n",
       "\t<tr><td>0.06666667</td><td>0.06577577</td></tr>\n",
       "\t<tr><td>0.06250000</td><td>0.06187359</td></tr>\n",
       "\t<tr><td>0.05882353</td><td>0.05838136</td></tr>\n",
       "\t<tr><td>0.05555556</td><td>0.05524235</td></tr>\n",
       "\t<tr><td>0.05263158</td><td>0.05240904</td></tr>\n",
       "\t<tr><td>0.05000000</td><td>0.04984144</td></tr>\n",
       "</tbody>\n",
       "</table>\n"
      ],
      "text/latex": [
       "\\begin{tabular}{ll}\n",
       "\t 0.75000000 & 0.25000000\\\\\n",
       "\t 0.46875000 & 0.21875000\\\\\n",
       "\t 0.32812500 & 0.19270833\\\\\n",
       "\t 0.24902344 & 0.17089844\\\\\n",
       "\t 0.19980469 & 0.15253906\\\\\n",
       "\t 0.16662598 & 0.13700358\\\\\n",
       "\t 0.14284842 & 0.12378802\\\\\n",
       "\t 0.12499809 & 0.11248589\\\\\n",
       "\t 0.11111069 & 0.10276837\\\\\n",
       "\t 0.09999990 & 0.09436865\\\\\n",
       "\t 0.09090907 & 0.08706953\\\\\n",
       "\t 0.08333333 & 0.08069364\\\\\n",
       "\t 0.07692308 & 0.07509560\\\\\n",
       "\t 0.07142857 & 0.07015586\\\\\n",
       "\t 0.06666667 & 0.06577577\\\\\n",
       "\t 0.06250000 & 0.06187359\\\\\n",
       "\t 0.05882353 & 0.05838136\\\\\n",
       "\t 0.05555556 & 0.05524235\\\\\n",
       "\t 0.05263158 & 0.05240904\\\\\n",
       "\t 0.05000000 & 0.04984144\\\\\n",
       "\\end{tabular}\n"
      ],
      "text/markdown": [
       "\n",
       "| 0.75000000 | 0.25000000 | \n",
       "| 0.46875000 | 0.21875000 | \n",
       "| 0.32812500 | 0.19270833 | \n",
       "| 0.24902344 | 0.17089844 | \n",
       "| 0.19980469 | 0.15253906 | \n",
       "| 0.16662598 | 0.13700358 | \n",
       "| 0.14284842 | 0.12378802 | \n",
       "| 0.12499809 | 0.11248589 | \n",
       "| 0.11111069 | 0.10276837 | \n",
       "| 0.09999990 | 0.09436865 | \n",
       "| 0.09090907 | 0.08706953 | \n",
       "| 0.08333333 | 0.08069364 | \n",
       "| 0.07692308 | 0.07509560 | \n",
       "| 0.07142857 | 0.07015586 | \n",
       "| 0.06666667 | 0.06577577 | \n",
       "| 0.06250000 | 0.06187359 | \n",
       "| 0.05882353 | 0.05838136 | \n",
       "| 0.05555556 | 0.05524235 | \n",
       "| 0.05263158 | 0.05240904 | \n",
       "| 0.05000000 | 0.04984144 | \n",
       "\n",
       "\n"
      ],
      "text/plain": [
       "      [,1]       [,2]      \n",
       " [1,] 0.75000000 0.25000000\n",
       " [2,] 0.46875000 0.21875000\n",
       " [3,] 0.32812500 0.19270833\n",
       " [4,] 0.24902344 0.17089844\n",
       " [5,] 0.19980469 0.15253906\n",
       " [6,] 0.16662598 0.13700358\n",
       " [7,] 0.14284842 0.12378802\n",
       " [8,] 0.12499809 0.11248589\n",
       " [9,] 0.11111069 0.10276837\n",
       "[10,] 0.09999990 0.09436865\n",
       "[11,] 0.09090907 0.08706953\n",
       "[12,] 0.08333333 0.08069364\n",
       "[13,] 0.07692308 0.07509560\n",
       "[14,] 0.07142857 0.07015586\n",
       "[15,] 0.06666667 0.06577577\n",
       "[16,] 0.06250000 0.06187359\n",
       "[17,] 0.05882353 0.05838136\n",
       "[18,] 0.05555556 0.05524235\n",
       "[19,] 0.05263158 0.05240904\n",
       "[20,] 0.05000000 0.04984144"
      ]
     },
     "metadata": {},
     "output_type": "display_data"
    }
   ],
   "source": [
    "\"P(ei | H) = probability of drawn x red chips in i draws given we have selected bag 1\"\n",
    "\"P(ei | Hc) = probaility of drawn x red chips in i draws given we have selected bag 2\"\n",
    "\n",
    "p = matrix(nrow = n, ncol = 2)\n",
    "\n",
    "for (i in 1:n) {\n",
    "    v1 = dbinom(c(1:i), size = i, prob = 0.75)\n",
    "    v2 = dbinom(c(1:i), size = i, prob = 0.25)\n",
    "    p[i,1] = mean(v1)\n",
    "    p[i,2] = mean(v2)\n",
    "}\n",
    "\n",
    "p"
   ]
  },
  {
   "cell_type": "markdown",
   "metadata": {},
   "source": [
    "#### (c) Create an $n \\times 2$ matrix ${\\tt prior}$ that has 0.5 in the (1,1) and (1,2) entry, and NA everywhere else (for now). This is where we'll store $P_i(H)$ and $P_i(H^c)$ for every step. "
   ]
  },
  {
   "cell_type": "code",
   "execution_count": 89,
   "metadata": {},
   "outputs": [
    {
     "data": {
      "text/html": [
       "<table>\n",
       "<tbody>\n",
       "\t<tr><td>0.5</td><td>0.5</td></tr>\n",
       "\t<tr><td> NA</td><td> NA</td></tr>\n",
       "\t<tr><td> NA</td><td> NA</td></tr>\n",
       "\t<tr><td> NA</td><td> NA</td></tr>\n",
       "\t<tr><td> NA</td><td> NA</td></tr>\n",
       "\t<tr><td> NA</td><td> NA</td></tr>\n",
       "\t<tr><td> NA</td><td> NA</td></tr>\n",
       "\t<tr><td> NA</td><td> NA</td></tr>\n",
       "\t<tr><td> NA</td><td> NA</td></tr>\n",
       "\t<tr><td> NA</td><td> NA</td></tr>\n",
       "\t<tr><td> NA</td><td> NA</td></tr>\n",
       "\t<tr><td> NA</td><td> NA</td></tr>\n",
       "\t<tr><td> NA</td><td> NA</td></tr>\n",
       "\t<tr><td> NA</td><td> NA</td></tr>\n",
       "\t<tr><td> NA</td><td> NA</td></tr>\n",
       "\t<tr><td> NA</td><td> NA</td></tr>\n",
       "\t<tr><td> NA</td><td> NA</td></tr>\n",
       "\t<tr><td> NA</td><td> NA</td></tr>\n",
       "\t<tr><td> NA</td><td> NA</td></tr>\n",
       "\t<tr><td> NA</td><td> NA</td></tr>\n",
       "</tbody>\n",
       "</table>\n"
      ],
      "text/latex": [
       "\\begin{tabular}{ll}\n",
       "\t 0.5 & 0.5\\\\\n",
       "\t  NA &  NA\\\\\n",
       "\t  NA &  NA\\\\\n",
       "\t  NA &  NA\\\\\n",
       "\t  NA &  NA\\\\\n",
       "\t  NA &  NA\\\\\n",
       "\t  NA &  NA\\\\\n",
       "\t  NA &  NA\\\\\n",
       "\t  NA &  NA\\\\\n",
       "\t  NA &  NA\\\\\n",
       "\t  NA &  NA\\\\\n",
       "\t  NA &  NA\\\\\n",
       "\t  NA &  NA\\\\\n",
       "\t  NA &  NA\\\\\n",
       "\t  NA &  NA\\\\\n",
       "\t  NA &  NA\\\\\n",
       "\t  NA &  NA\\\\\n",
       "\t  NA &  NA\\\\\n",
       "\t  NA &  NA\\\\\n",
       "\t  NA &  NA\\\\\n",
       "\\end{tabular}\n"
      ],
      "text/markdown": [
       "\n",
       "| 0.5 | 0.5 | \n",
       "|  NA |  NA | \n",
       "|  NA |  NA | \n",
       "|  NA |  NA | \n",
       "|  NA |  NA | \n",
       "|  NA |  NA | \n",
       "|  NA |  NA | \n",
       "|  NA |  NA | \n",
       "|  NA |  NA | \n",
       "|  NA |  NA | \n",
       "|  NA |  NA | \n",
       "|  NA |  NA | \n",
       "|  NA |  NA | \n",
       "|  NA |  NA | \n",
       "|  NA |  NA | \n",
       "|  NA |  NA | \n",
       "|  NA |  NA | \n",
       "|  NA |  NA | \n",
       "|  NA |  NA | \n",
       "|  NA |  NA | \n",
       "\n",
       "\n"
      ],
      "text/plain": [
       "      [,1] [,2]\n",
       " [1,] 0.5  0.5 \n",
       " [2,]  NA   NA \n",
       " [3,]  NA   NA \n",
       " [4,]  NA   NA \n",
       " [5,]  NA   NA \n",
       " [6,]  NA   NA \n",
       " [7,]  NA   NA \n",
       " [8,]  NA   NA \n",
       " [9,]  NA   NA \n",
       "[10,]  NA   NA \n",
       "[11,]  NA   NA \n",
       "[12,]  NA   NA \n",
       "[13,]  NA   NA \n",
       "[14,]  NA   NA \n",
       "[15,]  NA   NA \n",
       "[16,]  NA   NA \n",
       "[17,]  NA   NA \n",
       "[18,]  NA   NA \n",
       "[19,]  NA   NA \n",
       "[20,]  NA   NA "
      ]
     },
     "metadata": {},
     "output_type": "display_data"
    }
   ],
   "source": [
    "prior = matrix(NA, nrow = n, ncol = 2)\n",
    "prior[1, 1] = 0.5\n",
    "prior[1, 2] = 0.5\n",
    "prior"
   ]
  },
  {
   "cell_type": "markdown",
   "metadata": {},
   "source": [
    "#### (d) Create an $n \\times 1$ vector ${\\tt post}$  with NAs everywhere. This is where we'll store $P(H \\, | \\, e_i)$, the posterior probability for $H$ at every step."
   ]
  },
  {
   "cell_type": "code",
   "execution_count": 90,
   "metadata": {},
   "outputs": [
    {
     "data": {
      "text/html": [
       "<table>\n",
       "<tbody>\n",
       "\t<tr><td>NA</td></tr>\n",
       "\t<tr><td>NA</td></tr>\n",
       "\t<tr><td>NA</td></tr>\n",
       "\t<tr><td>NA</td></tr>\n",
       "\t<tr><td>NA</td></tr>\n",
       "\t<tr><td>NA</td></tr>\n",
       "\t<tr><td>NA</td></tr>\n",
       "\t<tr><td>NA</td></tr>\n",
       "\t<tr><td>NA</td></tr>\n",
       "\t<tr><td>NA</td></tr>\n",
       "\t<tr><td>NA</td></tr>\n",
       "\t<tr><td>NA</td></tr>\n",
       "\t<tr><td>NA</td></tr>\n",
       "\t<tr><td>NA</td></tr>\n",
       "\t<tr><td>NA</td></tr>\n",
       "\t<tr><td>NA</td></tr>\n",
       "\t<tr><td>NA</td></tr>\n",
       "\t<tr><td>NA</td></tr>\n",
       "\t<tr><td>NA</td></tr>\n",
       "\t<tr><td>NA</td></tr>\n",
       "</tbody>\n",
       "</table>\n"
      ],
      "text/latex": [
       "\\begin{tabular}{l}\n",
       "\t NA\\\\\n",
       "\t NA\\\\\n",
       "\t NA\\\\\n",
       "\t NA\\\\\n",
       "\t NA\\\\\n",
       "\t NA\\\\\n",
       "\t NA\\\\\n",
       "\t NA\\\\\n",
       "\t NA\\\\\n",
       "\t NA\\\\\n",
       "\t NA\\\\\n",
       "\t NA\\\\\n",
       "\t NA\\\\\n",
       "\t NA\\\\\n",
       "\t NA\\\\\n",
       "\t NA\\\\\n",
       "\t NA\\\\\n",
       "\t NA\\\\\n",
       "\t NA\\\\\n",
       "\t NA\\\\\n",
       "\\end{tabular}\n"
      ],
      "text/markdown": [
       "\n",
       "| NA | \n",
       "| NA | \n",
       "| NA | \n",
       "| NA | \n",
       "| NA | \n",
       "| NA | \n",
       "| NA | \n",
       "| NA | \n",
       "| NA | \n",
       "| NA | \n",
       "| NA | \n",
       "| NA | \n",
       "| NA | \n",
       "| NA | \n",
       "| NA | \n",
       "| NA | \n",
       "| NA | \n",
       "| NA | \n",
       "| NA | \n",
       "| NA | \n",
       "\n",
       "\n"
      ],
      "text/plain": [
       "      [,1]\n",
       " [1,] NA  \n",
       " [2,] NA  \n",
       " [3,] NA  \n",
       " [4,] NA  \n",
       " [5,] NA  \n",
       " [6,] NA  \n",
       " [7,] NA  \n",
       " [8,] NA  \n",
       " [9,] NA  \n",
       "[10,] NA  \n",
       "[11,] NA  \n",
       "[12,] NA  \n",
       "[13,] NA  \n",
       "[14,] NA  \n",
       "[15,] NA  \n",
       "[16,] NA  \n",
       "[17,] NA  \n",
       "[18,] NA  \n",
       "[19,] NA  \n",
       "[20,] NA  "
      ]
     },
     "metadata": {},
     "output_type": "display_data"
    }
   ],
   "source": [
    "post = matrix(NA, nrow = n, ncol = 1)\n",
    "post"
   ]
  },
  {
   "cell_type": "markdown",
   "metadata": {},
   "source": [
    "#### (e) Use the function below to calculate the posterior probability for the first step, i.e., after pulling one chip. Store this in ${\\tt post[1]}$. "
   ]
  },
  {
   "cell_type": "code",
   "execution_count": 91,
   "metadata": {},
   "outputs": [
    {
     "data": {
      "text/html": [
       "0.75"
      ],
      "text/latex": [
       "0.75"
      ],
      "text/markdown": [
       "0.75"
      ],
      "text/plain": [
       "[1] 0.75"
      ]
     },
     "metadata": {},
     "output_type": "display_data"
    }
   ],
   "source": [
    "posterior = function(p, prior, i){\n",
    "    #p is a vector of size 2, with likelihoods for each bag\n",
    "    #prior is a vector of size 2, with priors for each bag\n",
    "    post = p[i] * prior[i] / (p[i] * prior[i] + p[i,2] * prior[i,2])\n",
    "    return(post)\n",
    "}\n",
    "\n",
    "post[1] = posterior(p, prior, 1)\n",
    "post[1]"
   ]
  },
  {
   "cell_type": "markdown",
   "metadata": {},
   "source": [
    "#### (f) In the loop below, add two lines of code. The first line should use the posterior probability from the $(i-1)$ step to store $P_i(H)$ and $P_i(H^c)$ in ${\\tt prior}$ for the $i^{th}$ step. The second line should calculate the posterior probability for the $i^{th}$ step (using the ${\\tt posterior}$ function above)."
   ]
  },
  {
   "cell_type": "code",
   "execution_count": 92,
   "metadata": {},
   "outputs": [
    {
     "data": {
      "text/html": [
       "<table>\n",
       "<tbody>\n",
       "\t<tr><td>0.5000000 </td><td>0.50000000</td></tr>\n",
       "\t<tr><td>0.7500000 </td><td>0.25000000</td></tr>\n",
       "\t<tr><td>0.8653846 </td><td>0.13461538</td></tr>\n",
       "\t<tr><td>0.9162896 </td><td>0.08371041</td></tr>\n",
       "\t<tr><td>0.9410023 </td><td>0.05899772</td></tr>\n",
       "\t<tr><td>0.9543212 </td><td>0.04567879</td></tr>\n",
       "\t<tr><td>0.9621344 </td><td>0.03786561</td></tr>\n",
       "\t<tr><td>0.9670202 </td><td>0.03297979</td></tr>\n",
       "\t<tr><td>0.9702232 </td><td>0.02977684</td></tr>\n",
       "\t<tr><td>0.9723971 </td><td>0.02760287</td></tr>\n",
       "\t<tr><td>0.9739110 </td><td>0.02608903</td></tr>\n",
       "\t<tr><td>0.9749853 </td><td>0.02501473</td></tr>\n",
       "\t<tr><td>0.9757584 </td><td>0.02424156</td></tr>\n",
       "\t<tr><td>0.9763207 </td><td>0.02367929</td></tr>\n",
       "\t<tr><td>0.9767328 </td><td>0.02326719</td></tr>\n",
       "\t<tr><td>0.9770366 </td><td>0.02296340</td></tr>\n",
       "\t<tr><td>0.9772615 </td><td>0.02273848</td></tr>\n",
       "\t<tr><td>0.9774286 </td><td>0.02257141</td></tr>\n",
       "\t<tr><td>0.9775530 </td><td>0.02244702</td></tr>\n",
       "\t<tr><td>0.9776458 </td><td>0.02235423</td></tr>\n",
       "</tbody>\n",
       "</table>\n"
      ],
      "text/latex": [
       "\\begin{tabular}{ll}\n",
       "\t 0.5000000  & 0.50000000\\\\\n",
       "\t 0.7500000  & 0.25000000\\\\\n",
       "\t 0.8653846  & 0.13461538\\\\\n",
       "\t 0.9162896  & 0.08371041\\\\\n",
       "\t 0.9410023  & 0.05899772\\\\\n",
       "\t 0.9543212  & 0.04567879\\\\\n",
       "\t 0.9621344  & 0.03786561\\\\\n",
       "\t 0.9670202  & 0.03297979\\\\\n",
       "\t 0.9702232  & 0.02977684\\\\\n",
       "\t 0.9723971  & 0.02760287\\\\\n",
       "\t 0.9739110  & 0.02608903\\\\\n",
       "\t 0.9749853  & 0.02501473\\\\\n",
       "\t 0.9757584  & 0.02424156\\\\\n",
       "\t 0.9763207  & 0.02367929\\\\\n",
       "\t 0.9767328  & 0.02326719\\\\\n",
       "\t 0.9770366  & 0.02296340\\\\\n",
       "\t 0.9772615  & 0.02273848\\\\\n",
       "\t 0.9774286  & 0.02257141\\\\\n",
       "\t 0.9775530  & 0.02244702\\\\\n",
       "\t 0.9776458  & 0.02235423\\\\\n",
       "\\end{tabular}\n"
      ],
      "text/markdown": [
       "\n",
       "| 0.5000000  | 0.50000000 | \n",
       "| 0.7500000  | 0.25000000 | \n",
       "| 0.8653846  | 0.13461538 | \n",
       "| 0.9162896  | 0.08371041 | \n",
       "| 0.9410023  | 0.05899772 | \n",
       "| 0.9543212  | 0.04567879 | \n",
       "| 0.9621344  | 0.03786561 | \n",
       "| 0.9670202  | 0.03297979 | \n",
       "| 0.9702232  | 0.02977684 | \n",
       "| 0.9723971  | 0.02760287 | \n",
       "| 0.9739110  | 0.02608903 | \n",
       "| 0.9749853  | 0.02501473 | \n",
       "| 0.9757584  | 0.02424156 | \n",
       "| 0.9763207  | 0.02367929 | \n",
       "| 0.9767328  | 0.02326719 | \n",
       "| 0.9770366  | 0.02296340 | \n",
       "| 0.9772615  | 0.02273848 | \n",
       "| 0.9774286  | 0.02257141 | \n",
       "| 0.9775530  | 0.02244702 | \n",
       "| 0.9776458  | 0.02235423 | \n",
       "\n",
       "\n"
      ],
      "text/plain": [
       "      [,1]      [,2]      \n",
       " [1,] 0.5000000 0.50000000\n",
       " [2,] 0.7500000 0.25000000\n",
       " [3,] 0.8653846 0.13461538\n",
       " [4,] 0.9162896 0.08371041\n",
       " [5,] 0.9410023 0.05899772\n",
       " [6,] 0.9543212 0.04567879\n",
       " [7,] 0.9621344 0.03786561\n",
       " [8,] 0.9670202 0.03297979\n",
       " [9,] 0.9702232 0.02977684\n",
       "[10,] 0.9723971 0.02760287\n",
       "[11,] 0.9739110 0.02608903\n",
       "[12,] 0.9749853 0.02501473\n",
       "[13,] 0.9757584 0.02424156\n",
       "[14,] 0.9763207 0.02367929\n",
       "[15,] 0.9767328 0.02326719\n",
       "[16,] 0.9770366 0.02296340\n",
       "[17,] 0.9772615 0.02273848\n",
       "[18,] 0.9774286 0.02257141\n",
       "[19,] 0.9775530 0.02244702\n",
       "[20,] 0.9776458 0.02235423"
      ]
     },
     "metadata": {},
     "output_type": "display_data"
    }
   ],
   "source": [
    "for (i in 2:n){\n",
    "    prior[i,1] = posterior(p, prior, i - 1)\n",
    "    prior[i,2] = (1 - posterior(p, prior, i - 1))\n",
    "    post[i] = posterior(p, prior, i)\n",
    "}\n",
    "\n",
    "prior"
   ]
  },
  {
   "cell_type": "markdown",
   "metadata": {},
   "source": [
    "#### (g) Use ${\\tt data.frame()}$ to construct a table containing, at each step $i = 1,...,n$,  the posterior distribution, $P(H \\, | \\, e_i)$, the likelihood $P(e_i \\, | \\, H)$, and the prior $P_i(H)$. Then, construct a plot of the posterior probability against $i$, for $i = 1,...,n$. "
   ]
  },
  {
   "cell_type": "code",
   "execution_count": 93,
   "metadata": {},
   "outputs": [
    {
     "data": {
      "text/html": [
       "<table>\n",
       "<thead><tr><th scope=col>p...1.</th><th scope=col>p...2.</th><th scope=col>prior...1.</th></tr></thead>\n",
       "<tbody>\n",
       "\t<tr><td>0.75000000</td><td>0.25000000</td><td>0.5000000 </td></tr>\n",
       "\t<tr><td>0.46875000</td><td>0.21875000</td><td>0.7500000 </td></tr>\n",
       "\t<tr><td>0.32812500</td><td>0.19270833</td><td>0.8653846 </td></tr>\n",
       "\t<tr><td>0.24902344</td><td>0.17089844</td><td>0.9162896 </td></tr>\n",
       "\t<tr><td>0.19980469</td><td>0.15253906</td><td>0.9410023 </td></tr>\n",
       "\t<tr><td>0.16662598</td><td>0.13700358</td><td>0.9543212 </td></tr>\n",
       "\t<tr><td>0.14284842</td><td>0.12378802</td><td>0.9621344 </td></tr>\n",
       "\t<tr><td>0.12499809</td><td>0.11248589</td><td>0.9670202 </td></tr>\n",
       "\t<tr><td>0.11111069</td><td>0.10276837</td><td>0.9702232 </td></tr>\n",
       "\t<tr><td>0.09999990</td><td>0.09436865</td><td>0.9723971 </td></tr>\n",
       "\t<tr><td>0.09090907</td><td>0.08706953</td><td>0.9739110 </td></tr>\n",
       "\t<tr><td>0.08333333</td><td>0.08069364</td><td>0.9749853 </td></tr>\n",
       "\t<tr><td>0.07692308</td><td>0.07509560</td><td>0.9757584 </td></tr>\n",
       "\t<tr><td>0.07142857</td><td>0.07015586</td><td>0.9763207 </td></tr>\n",
       "\t<tr><td>0.06666667</td><td>0.06577577</td><td>0.9767328 </td></tr>\n",
       "\t<tr><td>0.06250000</td><td>0.06187359</td><td>0.9770366 </td></tr>\n",
       "\t<tr><td>0.05882353</td><td>0.05838136</td><td>0.9772615 </td></tr>\n",
       "\t<tr><td>0.05555556</td><td>0.05524235</td><td>0.9774286 </td></tr>\n",
       "\t<tr><td>0.05263158</td><td>0.05240904</td><td>0.9775530 </td></tr>\n",
       "\t<tr><td>0.05000000</td><td>0.04984144</td><td>0.9776458 </td></tr>\n",
       "</tbody>\n",
       "</table>\n"
      ],
      "text/latex": [
       "\\begin{tabular}{r|lll}\n",
       " p...1. & p...2. & prior...1.\\\\\n",
       "\\hline\n",
       "\t 0.75000000 & 0.25000000 & 0.5000000 \\\\\n",
       "\t 0.46875000 & 0.21875000 & 0.7500000 \\\\\n",
       "\t 0.32812500 & 0.19270833 & 0.8653846 \\\\\n",
       "\t 0.24902344 & 0.17089844 & 0.9162896 \\\\\n",
       "\t 0.19980469 & 0.15253906 & 0.9410023 \\\\\n",
       "\t 0.16662598 & 0.13700358 & 0.9543212 \\\\\n",
       "\t 0.14284842 & 0.12378802 & 0.9621344 \\\\\n",
       "\t 0.12499809 & 0.11248589 & 0.9670202 \\\\\n",
       "\t 0.11111069 & 0.10276837 & 0.9702232 \\\\\n",
       "\t 0.09999990 & 0.09436865 & 0.9723971 \\\\\n",
       "\t 0.09090907 & 0.08706953 & 0.9739110 \\\\\n",
       "\t 0.08333333 & 0.08069364 & 0.9749853 \\\\\n",
       "\t 0.07692308 & 0.07509560 & 0.9757584 \\\\\n",
       "\t 0.07142857 & 0.07015586 & 0.9763207 \\\\\n",
       "\t 0.06666667 & 0.06577577 & 0.9767328 \\\\\n",
       "\t 0.06250000 & 0.06187359 & 0.9770366 \\\\\n",
       "\t 0.05882353 & 0.05838136 & 0.9772615 \\\\\n",
       "\t 0.05555556 & 0.05524235 & 0.9774286 \\\\\n",
       "\t 0.05263158 & 0.05240904 & 0.9775530 \\\\\n",
       "\t 0.05000000 & 0.04984144 & 0.9776458 \\\\\n",
       "\\end{tabular}\n"
      ],
      "text/markdown": [
       "\n",
       "p...1. | p...2. | prior...1. | \n",
       "|---|---|---|---|---|---|---|---|---|---|---|---|---|---|---|---|---|---|---|---|\n",
       "| 0.75000000 | 0.25000000 | 0.5000000  | \n",
       "| 0.46875000 | 0.21875000 | 0.7500000  | \n",
       "| 0.32812500 | 0.19270833 | 0.8653846  | \n",
       "| 0.24902344 | 0.17089844 | 0.9162896  | \n",
       "| 0.19980469 | 0.15253906 | 0.9410023  | \n",
       "| 0.16662598 | 0.13700358 | 0.9543212  | \n",
       "| 0.14284842 | 0.12378802 | 0.9621344  | \n",
       "| 0.12499809 | 0.11248589 | 0.9670202  | \n",
       "| 0.11111069 | 0.10276837 | 0.9702232  | \n",
       "| 0.09999990 | 0.09436865 | 0.9723971  | \n",
       "| 0.09090907 | 0.08706953 | 0.9739110  | \n",
       "| 0.08333333 | 0.08069364 | 0.9749853  | \n",
       "| 0.07692308 | 0.07509560 | 0.9757584  | \n",
       "| 0.07142857 | 0.07015586 | 0.9763207  | \n",
       "| 0.06666667 | 0.06577577 | 0.9767328  | \n",
       "| 0.06250000 | 0.06187359 | 0.9770366  | \n",
       "| 0.05882353 | 0.05838136 | 0.9772615  | \n",
       "| 0.05555556 | 0.05524235 | 0.9774286  | \n",
       "| 0.05263158 | 0.05240904 | 0.9775530  | \n",
       "| 0.05000000 | 0.04984144 | 0.9776458  | \n",
       "\n",
       "\n"
      ],
      "text/plain": [
       "   p...1.     p...2.     prior...1.\n",
       "1  0.75000000 0.25000000 0.5000000 \n",
       "2  0.46875000 0.21875000 0.7500000 \n",
       "3  0.32812500 0.19270833 0.8653846 \n",
       "4  0.24902344 0.17089844 0.9162896 \n",
       "5  0.19980469 0.15253906 0.9410023 \n",
       "6  0.16662598 0.13700358 0.9543212 \n",
       "7  0.14284842 0.12378802 0.9621344 \n",
       "8  0.12499809 0.11248589 0.9670202 \n",
       "9  0.11111069 0.10276837 0.9702232 \n",
       "10 0.09999990 0.09436865 0.9723971 \n",
       "11 0.09090907 0.08706953 0.9739110 \n",
       "12 0.08333333 0.08069364 0.9749853 \n",
       "13 0.07692308 0.07509560 0.9757584 \n",
       "14 0.07142857 0.07015586 0.9763207 \n",
       "15 0.06666667 0.06577577 0.9767328 \n",
       "16 0.06250000 0.06187359 0.9770366 \n",
       "17 0.05882353 0.05838136 0.9772615 \n",
       "18 0.05555556 0.05524235 0.9774286 \n",
       "19 0.05263158 0.05240904 0.9775530 \n",
       "20 0.05000000 0.04984144 0.9776458 "
      ]
     },
     "metadata": {},
     "output_type": "display_data"
    },
    {
     "data": {
      "image/png": "[encoded data removed]",
      "text/plain": [
       "plot without title"
      ]
     },
     "metadata": {},
     "output_type": "display_data"
    }
   ],
   "source": [
    "table = data.frame(p[,1], p[,2], prior[,1])\n",
    "table\n",
    "plot(post)"
   ]
  },
  {
   "cell_type": "markdown",
   "metadata": {},
   "source": [
    "#### (h) After $n = 25$ draws, what do you believe about $H$? Based on your table and plot, how many chips did you need to draw before you became basically certain about the truth or falsity of $H$?"
   ]
  },
  {
   "cell_type": "code",
   "execution_count": 94,
   "metadata": {},
   "outputs": [
    {
     "data": {
      "text/html": [
       "'After 25 draws it is basically certain that we have chosen from bag one. The plot suggests that after 15 draws we can be completely certain about the truth or falsity of H.'"
      ],
      "text/latex": [
       "'After 25 draws it is basically certain that we have chosen from bag one. The plot suggests that after 15 draws we can be completely certain about the truth or falsity of H.'"
      ],
      "text/markdown": [
       "'After 25 draws it is basically certain that we have chosen from bag one. The plot suggests that after 15 draws we can be completely certain about the truth or falsity of H.'"
      ],
      "text/plain": [
       "[1] \"After 25 draws it is basically certain that we have chosen from bag one. The plot suggests that after 15 draws we can be completely certain about the truth or falsity of H.\""
      ]
     },
     "metadata": {},
     "output_type": "display_data"
    }
   ],
   "source": [
    "\"After 25 draws it is basically certain that we have chosen from bag one. The plot suggests that after 15 draws we can be completely certain about the truth or falsity of H.\""
   ]
  }
 ],
 "metadata": {
  "kernelspec": {
   "display_name": "R",
   "language": "R",
   "name": "ir"
  },
  "language_info": {
   "codemirror_mode": "r",
   "file_extension": ".r",
   "mimetype": "text/x-r-source",
   "name": "R",
   "pygments_lexer": "r",
   "version": "3.4.2"
  }
 },
 "nbformat": 4,
 "nbformat_minor": 2
}
