{
 "cells": [
  {
   "cell_type": "markdown",
   "metadata": {},
   "source": [
    "# Unit #3 (a) Code\n",
    "\n",
    "\n"
   ]
  },
  {
   "cell_type": "markdown",
   "metadata": {},
   "source": [
    "# Problem 1\n",
    "\n",
    "#### (a) Use ${\\tt rbinom}$ to generate $m = 500$ random numbers from a binomial distribution with $n = 50$ and $p = 0.3$. Store these values in $x$. Describe what $n$ and $p$ are, and state any assumptions needed for the binomial distribution to be an appropriate model."
   ]
  },
  {
   "cell_type": "code",
   "execution_count": null,
   "metadata": {
    "collapsed": false
   },
   "outputs": [],
   "source": []
  },
  {
   "cell_type": "markdown",
   "metadata": {},
   "source": [
    "#### (b) Print a density histogram of $x$. Describe why the distribution looks the way that it does. Print the mean of $x$. Is it what you might expect? Print the standard deviation of $x$."
   ]
  },
  {
   "cell_type": "code",
   "execution_count": null,
   "metadata": {
    "collapsed": false
   },
   "outputs": [],
   "source": []
  },
  {
   "cell_type": "markdown",
   "metadata": {},
   "source": [
    "#### (c) Rerun the code above (parts (a) and (b)). What do you notice about the histogram and the values for the mean and standard deviation?"
   ]
  },
  {
   "cell_type": "code",
   "execution_count": null,
   "metadata": {
    "collapsed": false
   },
   "outputs": [],
   "source": []
  },
  {
   "cell_type": "markdown",
   "metadata": {},
   "source": [
    "#### (d) Rewrite the code from (a) and (b) below, but uncomment line 2 above (${\\tt set.seed(92)}$) Run this code several times. What do you notice now? Change the numbers 92 to something else and run the code twice. What do you notice? What is ${\\tt set.seed()}$ doing?"
   ]
  },
  {
   "cell_type": "code",
   "execution_count": null,
   "metadata": {
    "collapsed": false
   },
   "outputs": [],
   "source": []
  },
  {
   "cell_type": "markdown",
   "metadata": {},
   "source": [
    "#### (e) By changing $n$ and $p$ (and perhaps $m$), try to come up with a formula for the mean value of the randomly generated binomial numbers. How about for the standard deviation?"
   ]
  },
  {
   "cell_type": "markdown",
   "metadata": {
    "collapsed": false
   },
   "source": []
  },
  {
   "cell_type": "markdown",
   "metadata": {},
   "source": [
    "# Problem 2\n",
    "\n",
    "#### (a) Let $X \\sim Bin(50, 0.3)$. Use  ${\\tt dbinom()}$ to find $y = P(X = x)$ for all possible values of $x$ (you don't need a loop here!). Plot $y$. What do you notice?"
   ]
  },
  {
   "cell_type": "code",
   "execution_count": null,
   "metadata": {
    "collapsed": false
   },
   "outputs": [],
   "source": []
  },
  {
   "cell_type": "markdown",
   "metadata": {},
   "source": [
    "#### (b) Let $X \\sim Bin(50, 0.3)$. Calculate the cdf of 10, i.e., F(10), in two ways: (1) using pbinom and (2) from the information in part (a).\n"
   ]
  },
  {
   "cell_type": "code",
   "execution_count": null,
   "metadata": {
    "collapsed": false
   },
   "outputs": [],
   "source": []
  },
  {
   "cell_type": "markdown",
   "metadata": {},
   "source": [
    "# Problem 3\n",
    "\n",
    "#### (a) Generate $m = 500$ random numbers from the geometric distribution where $p = 0.5$. Store these values in $x$. Describe what $p$ is, and state any assumptions needed for the geometric distribution to be used as a model. Print a density histogram of $x$. Describe why the distribution looks the way that it does."
   ]
  },
  {
   "cell_type": "code",
   "execution_count": null,
   "metadata": {
    "collapsed": false
   },
   "outputs": [],
   "source": []
  },
  {
   "cell_type": "markdown",
   "metadata": {},
   "source": [
    "#### (b) Note that we can work with the Poisson distribution using ${\\tt rpois()}$. Generate a matrix with $m = 100$ rows and $n = 5$ columns. In the first column, generate $m$ random numbers from the Poisson with $\\lambda = 5$. In the second column, generate $m$ random numbers from the Poisson with $\\lambda = 10$, and so on, until the last column where $\\lambda = 25$. Plot each column. How does the distribution change as $\\lambda$ changes?"
   ]
  },
  {
   "cell_type": "code",
   "execution_count": null,
   "metadata": {
    "collapsed": false
   },
   "outputs": [],
   "source": []
  },
  {
   "cell_type": "markdown",
   "metadata": {},
   "source": [
    "#### (c) Finally, note that we can calculate quantiles (or, the inverse of the cdf) using ${\\tt qpois()}$ (this holds for other distributions too)."
   ]
  },
  {
   "cell_type": "code",
   "execution_count": 4,
   "metadata": {
    "collapsed": false
   },
   "outputs": [
    {
     "data": {
      "text/html": [
       "<ol class=list-inline>\n",
       "\t<li>10</li>\n",
       "\t<li>5</li>\n",
       "\t<li>0</li>\n",
       "</ol>\n"
      ],
      "text/latex": [
       "\\begin{enumerate*}\n",
       "\\item 10\n",
       "\\item 5\n",
       "\\item 0\n",
       "\\end{enumerate*}\n"
      ],
      "text/markdown": [
       "1. 10\n",
       "2. 5\n",
       "3. 0\n",
       "\n",
       "\n"
      ],
      "text/plain": [
       "[1] 10  5  0"
      ]
     },
     "metadata": {},
     "output_type": "display_data"
    }
   ],
   "source": [
    "q = c(qpois(0.5,10), qbinom(0.5, 10, 0.5), qgeom(0.25, 0.5))\n",
    "q"
   ]
  }
 ],
 "metadata": {
  "kernelspec": {
   "display_name": "R",
   "language": "R",
   "name": "ir"
  },
  "language_info": {
   "codemirror_mode": "r",
   "file_extension": ".r",
   "mimetype": "text/x-r-source",
   "name": "R",
   "pygments_lexer": "r",
   "version": "3.3.2"
  }
 },
 "nbformat": 4,
 "nbformat_minor": 2
}
