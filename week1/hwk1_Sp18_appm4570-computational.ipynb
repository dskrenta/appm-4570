{
 "cells": [
  {
   "cell_type": "markdown",
   "metadata": {},
   "source": [
    "# Homework #1: Computational Portion\n",
    "All computations should be done in this notebook using the R kernel. This is your first opportunity to get familiar with R outside of class, so please take your time on the problems that require it. Working in small groups is allowed, but it is important that you make an effort to master the material and hand in your own work.\n",
    "\n",
    "#### You will be required to submit this file (with your solutions) to Canvas by 2pm on Friday, January 26."
   ]
  },
  {
   "cell_type": "markdown",
   "metadata": {},
   "source": [
    "## Problem 1\n",
    "\n",
    "#### (a) Load the adm.txt file into R (this file can be found on the course webpage: https://www.colorado.edu/amath/sites/default/files/attached-files/adm.txt.\n",
    "\n",
    "\n",
    "The dataset contains information from six departments at a University. The variables are:\n",
    "\n",
    "1. dpt = department name (A through F)\n",
    "2. app = the number of applications received by a department's graduate program.\n",
    "3. adm = the number of applications accepted to a department's graduate program.\n",
    "4. sex: m = male; f = female"
   ]
  },
  {
   "cell_type": "code",
   "execution_count": 42,
   "metadata": {},
   "outputs": [
    {
     "data": {
      "text/html": [
       "<table>\n",
       "<thead><tr><th scope=col>dpt</th><th scope=col>app</th><th scope=col>adm</th><th scope=col>sex</th></tr></thead>\n",
       "<tbody>\n",
       "\t<tr><td>A  </td><td>825</td><td>512</td><td>m  </td></tr>\n",
       "\t<tr><td>B  </td><td>560</td><td>353</td><td>m  </td></tr>\n",
       "\t<tr><td>C  </td><td>325</td><td>120</td><td>m  </td></tr>\n",
       "\t<tr><td>D  </td><td>417</td><td>138</td><td>m  </td></tr>\n",
       "\t<tr><td>E  </td><td>191</td><td> 53</td><td>m  </td></tr>\n",
       "\t<tr><td>F  </td><td>272</td><td> 16</td><td>m  </td></tr>\n",
       "\t<tr><td>A  </td><td>108</td><td> 89</td><td>f  </td></tr>\n",
       "\t<tr><td>B  </td><td> 25</td><td> 17</td><td>f  </td></tr>\n",
       "\t<tr><td>C  </td><td>593</td><td>202</td><td>f  </td></tr>\n",
       "\t<tr><td>D  </td><td>375</td><td>131</td><td>f  </td></tr>\n",
       "\t<tr><td>E  </td><td>393</td><td> 94</td><td>f  </td></tr>\n",
       "\t<tr><td>F  </td><td>341</td><td> 24</td><td>f  </td></tr>\n",
       "</tbody>\n",
       "</table>\n"
      ],
      "text/latex": [
       "\\begin{tabular}{r|llll}\n",
       " dpt & app & adm & sex\\\\\n",
       "\\hline\n",
       "\t A   & 825 & 512 & m  \\\\\n",
       "\t B   & 560 & 353 & m  \\\\\n",
       "\t C   & 325 & 120 & m  \\\\\n",
       "\t D   & 417 & 138 & m  \\\\\n",
       "\t E   & 191 &  53 & m  \\\\\n",
       "\t F   & 272 &  16 & m  \\\\\n",
       "\t A   & 108 &  89 & f  \\\\\n",
       "\t B   &  25 &  17 & f  \\\\\n",
       "\t C   & 593 & 202 & f  \\\\\n",
       "\t D   & 375 & 131 & f  \\\\\n",
       "\t E   & 393 &  94 & f  \\\\\n",
       "\t F   & 341 &  24 & f  \\\\\n",
       "\\end{tabular}\n"
      ],
      "text/markdown": [
       "\n",
       "dpt | app | adm | sex | \n",
       "|---|---|---|---|---|---|---|---|---|---|---|---|\n",
       "| A   | 825 | 512 | m   | \n",
       "| B   | 560 | 353 | m   | \n",
       "| C   | 325 | 120 | m   | \n",
       "| D   | 417 | 138 | m   | \n",
       "| E   | 191 |  53 | m   | \n",
       "| F   | 272 |  16 | m   | \n",
       "| A   | 108 |  89 | f   | \n",
       "| B   |  25 |  17 | f   | \n",
       "| C   | 593 | 202 | f   | \n",
       "| D   | 375 | 131 | f   | \n",
       "| E   | 393 |  94 | f   | \n",
       "| F   | 341 |  24 | f   | \n",
       "\n",
       "\n"
      ],
      "text/plain": [
       "   dpt app adm sex\n",
       "1  A   825 512 m  \n",
       "2  B   560 353 m  \n",
       "3  C   325 120 m  \n",
       "4  D   417 138 m  \n",
       "5  E   191  53 m  \n",
       "6  F   272  16 m  \n",
       "7  A   108  89 f  \n",
       "8  B    25  17 f  \n",
       "9  C   593 202 f  \n",
       "10 D   375 131 f  \n",
       "11 E   393  94 f  \n",
       "12 F   341  24 f  "
      ]
     },
     "metadata": {},
     "output_type": "display_data"
    }
   ],
   "source": [
    "adm = read.table(\"https://www.colorado.edu/amath/sites/default/files/attached-files/adm.txt\", header=TRUE)\n",
    "adm"
   ]
  },
  {
   "cell_type": "markdown",
   "metadata": {},
   "source": [
    "#### (b) Write code that extracts and prints the data from department B only."
   ]
  },
  {
   "cell_type": "code",
   "execution_count": 43,
   "metadata": {},
   "outputs": [
    {
     "data": {
      "text/html": [
       "<table>\n",
       "<thead><tr><th></th><th scope=col>dpt</th><th scope=col>app</th><th scope=col>adm</th><th scope=col>sex</th></tr></thead>\n",
       "<tbody>\n",
       "\t<tr><th scope=row>1</th><td>A  </td><td>825</td><td>512</td><td>m  </td></tr>\n",
       "\t<tr><th scope=row>7</th><td>A  </td><td>108</td><td> 89</td><td>f  </td></tr>\n",
       "</tbody>\n",
       "</table>\n"
      ],
      "text/latex": [
       "\\begin{tabular}{r|llll}\n",
       "  & dpt & app & adm & sex\\\\\n",
       "\\hline\n",
       "\t1 & A   & 825 & 512 & m  \\\\\n",
       "\t7 & A   & 108 &  89 & f  \\\\\n",
       "\\end{tabular}\n"
      ],
      "text/markdown": [
       "\n",
       "| <!--/--> | dpt | app | adm | sex | \n",
       "|---|---|\n",
       "| 1 | A   | 825 | 512 | m   | \n",
       "| 7 | A   | 108 |  89 | f   | \n",
       "\n",
       "\n"
      ],
      "text/plain": [
       "  dpt app adm sex\n",
       "1 A   825 512 m  \n",
       "7 A   108  89 f  "
      ]
     },
     "metadata": {},
     "output_type": "display_data"
    }
   ],
   "source": [
    "adm[adm$dpt==\"A\",]"
   ]
  },
  {
   "cell_type": "markdown",
   "metadata": {},
   "source": [
    "#### (c) Write code that prints departments with a rate of acceptance of lower than 40%."
   ]
  },
  {
   "cell_type": "code",
   "execution_count": 44,
   "metadata": {},
   "outputs": [
    {
     "data": {
      "text/html": [
       "<ol class=list-inline>\n",
       "\t<li>C</li>\n",
       "\t<li>D</li>\n",
       "\t<li>E</li>\n",
       "\t<li>F</li>\n",
       "</ol>\n"
      ],
      "text/latex": [
       "\\begin{enumerate*}\n",
       "\\item C\n",
       "\\item D\n",
       "\\item E\n",
       "\\item F\n",
       "\\end{enumerate*}\n"
      ],
      "text/markdown": [
       "1. C\n",
       "2. D\n",
       "3. E\n",
       "4. F\n",
       "\n",
       "\n"
      ],
      "text/plain": [
       "[1] C D E F\n",
       "Levels: A B C D E F"
      ]
     },
     "metadata": {},
     "output_type": "display_data"
    }
   ],
   "source": [
    "pct = (table$adm[adm$sex == \"m\"] + table$adm[adm$sex == \"f\"])/(table$app[adm$sex == \"m\"] + table$app[adm$sex == \"f\"])\n",
    "print = table$dpt[pct < 0.4]\n",
    "print[1:4]"
   ]
  },
  {
   "cell_type": "markdown",
   "metadata": {},
   "source": [
    "#### (d) What is the addmission rate for males at this university (across all departments)?"
   ]
  },
  {
   "cell_type": "code",
   "execution_count": 45,
   "metadata": {},
   "outputs": [
    {
     "data": {
      "text/html": [
       "0.381239944149844"
      ],
      "text/latex": [
       "0.381239944149844"
      ],
      "text/markdown": [
       "0.381239944149844"
      ],
      "text/plain": [
       "[1] 0.3812399"
      ]
     },
     "metadata": {},
     "output_type": "display_data"
    }
   ],
   "source": [
    "mrate = (table$adm[adm$sex == 'm'])/(table$app[adm$sex == 'm'])\n",
    "mean(mrate)"
   ]
  },
  {
   "cell_type": "markdown",
   "metadata": {},
   "source": [
    "#### (d) What is the addmission rate for females at this university (across all departments)?"
   ]
  },
  {
   "cell_type": "code",
   "execution_count": 46,
   "metadata": {},
   "outputs": [
    {
     "data": {
      "text/html": [
       "0.417269199859767"
      ],
      "text/latex": [
       "0.417269199859767"
      ],
      "text/markdown": [
       "0.417269199859767"
      ],
      "text/plain": [
       "[1] 0.4172692"
      ]
     },
     "metadata": {},
     "output_type": "display_data"
    }
   ],
   "source": [
    "frate = (adm$adm[adm$sex == 'f'])/(adm$app[adm$sex == 'f'])\n",
    "mean(frate)"
   ]
  },
  {
   "cell_type": "markdown",
   "metadata": {},
   "source": [
    "#### (e) Is there a large discrepancy? Could this be evidence of discrimination against female applicants?"
   ]
  },
  {
   "cell_type": "markdown",
   "metadata": {},
   "source": []
  },
  {
   "cell_type": "markdown",
   "metadata": {},
   "source": [
    "#### (f) What is the admission rate for males, and separately, females, at this university, conditioned on department?"
   ]
  },
  {
   "cell_type": "code",
   "execution_count": 47,
   "metadata": {},
   "outputs": [
    {
     "data": {
      "text/html": [
       "<table>\n",
       "<thead><tr><th scope=col>dpt</th><th scope=col>m</th><th scope=col>f</th></tr></thead>\n",
       "<tbody>\n",
       "\t<tr><td>A         </td><td>0.62060606</td><td>0.82407407</td></tr>\n",
       "\t<tr><td>B         </td><td>0.63035714</td><td>0.68000000</td></tr>\n",
       "\t<tr><td>C         </td><td>0.36923077</td><td>0.34064081</td></tr>\n",
       "\t<tr><td>D         </td><td>0.33093525</td><td>0.34933333</td></tr>\n",
       "\t<tr><td>E         </td><td>0.27748691</td><td>0.23918575</td></tr>\n",
       "\t<tr><td>F         </td><td>0.05882353</td><td>0.07038123</td></tr>\n",
       "</tbody>\n",
       "</table>\n"
      ],
      "text/latex": [
       "\\begin{tabular}{r|lll}\n",
       " dpt & m & f\\\\\n",
       "\\hline\n",
       "\t A          & 0.62060606 & 0.82407407\\\\\n",
       "\t B          & 0.63035714 & 0.68000000\\\\\n",
       "\t C          & 0.36923077 & 0.34064081\\\\\n",
       "\t D          & 0.33093525 & 0.34933333\\\\\n",
       "\t E          & 0.27748691 & 0.23918575\\\\\n",
       "\t F          & 0.05882353 & 0.07038123\\\\\n",
       "\\end{tabular}\n"
      ],
      "text/markdown": [
       "\n",
       "dpt | m | f | \n",
       "|---|---|---|---|---|---|\n",
       "| A          | 0.62060606 | 0.82407407 | \n",
       "| B          | 0.63035714 | 0.68000000 | \n",
       "| C          | 0.36923077 | 0.34064081 | \n",
       "| D          | 0.33093525 | 0.34933333 | \n",
       "| E          | 0.27748691 | 0.23918575 | \n",
       "| F          | 0.05882353 | 0.07038123 | \n",
       "\n",
       "\n"
      ],
      "text/plain": [
       "  dpt m          f         \n",
       "1 A   0.62060606 0.82407407\n",
       "2 B   0.63035714 0.68000000\n",
       "3 C   0.36923077 0.34064081\n",
       "4 D   0.33093525 0.34933333\n",
       "5 E   0.27748691 0.23918575\n",
       "6 F   0.05882353 0.07038123"
      ]
     },
     "metadata": {},
     "output_type": "display_data"
    }
   ],
   "source": [
    "mtx = matrix(adm$adm/adm$app, ncol=2)\n",
    "mtx2 = data.frame(c(\"A\",\"B\",\"C\",\"D\",\"E\",\"F\"), mtx)\n",
    "names(mtx2) = c(\"dpt\", \"m\", \"f\")\n",
    "mtx2"
   ]
  },
  {
   "cell_type": "markdown",
   "metadata": {},
   "source": [
    "#### (g) What do you notice about these results? Are they in tension with the result from (d)?"
   ]
  },
  {
   "cell_type": "markdown",
   "metadata": {},
   "source": []
  },
  {
   "cell_type": "markdown",
   "metadata": {},
   "source": [
    "## Problem 2\n",
    "\n",
    "Verify the results of theoretical question 3, parts (c) and (d), by simulating $x_1,...,x_{50}$ and performing the relevant computations. "
   ]
  },
  {
   "cell_type": "code",
   "execution_count": 69,
   "metadata": {},
   "outputs": [
    {
     "data": {
      "text/html": [
       "1.10604107608746"
      ],
      "text/latex": [
       "1.10604107608746"
      ],
      "text/markdown": [
       "1.10604107608746"
      ],
      "text/plain": [
       "[1] 1.106041"
      ]
     },
     "metadata": {},
     "output_type": "display_data"
    },
    {
     "data": {
      "text/html": [
       "1.10604107608746"
      ],
      "text/latex": [
       "1.10604107608746"
      ],
      "text/markdown": [
       "1.10604107608746"
      ],
      "text/plain": [
       "[1] 1.106041"
      ]
     },
     "metadata": {},
     "output_type": "display_data"
    },
    {
     "data": {
      "text/html": [
       "0"
      ],
      "text/latex": [
       "0"
      ],
      "text/markdown": [
       "0"
      ],
      "text/plain": [
       "[1] 0"
      ]
     },
     "metadata": {},
     "output_type": "display_data"
    },
    {
     "data": {
      "text/html": [
       "0"
      ],
      "text/latex": [
       "0"
      ],
      "text/markdown": [
       "0"
      ],
      "text/plain": [
       "[1] 0"
      ]
     },
     "metadata": {},
     "output_type": "display_data"
    },
    {
     "data": {
      "text/html": [
       "1"
      ],
      "text/latex": [
       "1"
      ],
      "text/markdown": [
       "1"
      ],
      "text/plain": [
       "[1] 1"
      ]
     },
     "metadata": {},
     "output_type": "display_data"
    },
    {
     "data": {
      "text/html": [
       "1"
      ],
      "text/latex": [
       "1"
      ],
      "text/markdown": [
       "1"
      ],
      "text/plain": [
       "[1] 1"
      ]
     },
     "metadata": {},
     "output_type": "display_data"
    }
   ],
   "source": [
    "# c\n",
    "x = rnorm(50, 10, 1)\n",
    "xmean = mean(x)\n",
    "xsd = sd(x)\n",
    "xvar = var(x)\n",
    "\n",
    "y = x - xmean\n",
    "ysd = sd(y)\n",
    "yvar = var(y)\n",
    "\n",
    "# x standard deviation\n",
    "xsd\n",
    "\n",
    "# y standard deviation\n",
    "ysd\n",
    "\n",
    "# x and y differences\n",
    "xsd - ysd\n",
    "xvar - yvar\n",
    "\n",
    "# d\n",
    "z = (x - xmean) / xsd\n",
    "zsd = sd(z)\n",
    "zvar = var(z)\n",
    "\n",
    "# Standard deviation and variance checks\n",
    "zsd\n",
    "zvar"
   ]
  },
  {
   "cell_type": "markdown",
   "metadata": {},
   "source": [
    "## Problem 3\n",
    "\n",
    "#### (a) The data frame VIT2005 in the PASWR2 package contains descriptive information and the appraised total price (in euros) for apartments in Vitoria, Spain. Load the data vit2005.txt into R. It can be found at this link: https://www.colorado.edu/amath/sites/default/files/attached-files/vit2005.txt. \n",
    "\n",
    "Here are descriptions of the variables:\n",
    "\n",
    "1. totalprice (the market total price (in Euros) of the apartment including garage(s) and storage room(s))\n",
    "\n",
    "2. area (the total living area of the apartment in square meters)\n",
    "\n",
    "3. zone (a factor indicating the neighborhood where the apartment is located with levels Z11, Z21, Z31, Z32, Z34, Z35, Z36, Z37, Z38, Z41, Z42, Z43, Z44, Z45, Z46, Z47, Z48, Z49, Z52, Z53, Z56, Z61, and Z62)\n",
    "\n",
    "4. category (a factor indicating the condition of the apartment with levels 2A, 2B, 3A, 3B, 4A, 4B, and 5A ordered so that 2A is the best and 5A is the worst)\n",
    "\n",
    "5. age (age of the apartment in years)\n",
    "\n",
    "6. floor (floor on which the apartment is located)\n",
    "\n",
    "7. rooms (total number of rooms including bedrooms, dining room, and kitchen)\n",
    "\n",
    "8. out (a factor indicating the percent of the apartment exposed to the elements: The levels E100, E75, E50, and E25, correspond to complete exposure, 75% exposure, 50% exposure, and 25% exposure, respectively.)\n",
    "\n",
    "9. conservation (is an ordered factor indicating the state of conservation of the apartment. The levels 1A, 2A, 2B, and 3A are ordered from best to worst conservation.)\n",
    "\n",
    "10. toilets (the number of bathrooms)\n",
    "\n",
    "11. garage (the number of garages)\n",
    "\n",
    "12. elevator (indicates the absence (0) or presence (1) of elevators.)\n",
    "\n",
    "13. streetcategory (an ordered factor from best to worst indicating the category of the street with levels S2, S3, S4, and S5)\n",
    "\n",
    "14. heating (a factor indicating the type of heating with levels 1A, 3A, 3B, and 4A which correspond to: no heating, low-standard private heating, high-standard private heating, and central heating, respectively.)\n",
    "\n",
    "15. storage (the number of storage rooms outside of the apartment)"
   ]
  },
  {
   "cell_type": "code",
   "execution_count": 56,
   "metadata": {},
   "outputs": [
    {
     "data": {
      "text/html": [
       "<table>\n",
       "<thead><tr><th scope=col>totalprice</th><th scope=col>area</th><th scope=col>zone</th><th scope=col>category</th><th scope=col>age</th><th scope=col>floor</th><th scope=col>rooms</th><th scope=col>out</th><th scope=col>conservation</th><th scope=col>toilets</th><th scope=col>garage</th><th scope=col>elevator</th><th scope=col>streetcategory</th><th scope=col>heating</th><th scope=col>storage</th></tr></thead>\n",
       "<tbody>\n",
       "\t<tr><td>228000.0</td><td> 75.31  </td><td>Z45     </td><td>4B      </td><td>33      </td><td>3       </td><td>5       </td><td>E100    </td><td>2B      </td><td>1       </td><td>0       </td><td>1       </td><td>S3      </td><td>3A      </td><td>0       </td></tr>\n",
       "\t<tr><td>409000.0</td><td>100.65  </td><td>Z31     </td><td>3B      </td><td> 5      </td><td>7       </td><td>5       </td><td>E50     </td><td>1A      </td><td>2       </td><td>1       </td><td>1       </td><td>S5      </td><td>4A      </td><td>1       </td></tr>\n",
       "\t<tr><td>200000.0</td><td> 88.87  </td><td>Z52     </td><td>3A      </td><td>14      </td><td>8       </td><td>5       </td><td>E50     </td><td>1A      </td><td>2       </td><td>0       </td><td>1       </td><td>S2      </td><td>3A      </td><td>0       </td></tr>\n",
       "\t<tr><td>180000.0</td><td> 62.61  </td><td>Z62     </td><td>4A      </td><td>41      </td><td>3       </td><td>4       </td><td>E50     </td><td>2A      </td><td>1       </td><td>0       </td><td>0       </td><td>S3      </td><td>1A      </td><td>0       </td></tr>\n",
       "\t<tr><td>443600.0</td><td>146.15  </td><td>Z31     </td><td>3A      </td><td>22      </td><td>6       </td><td>7       </td><td>E100    </td><td>1A      </td><td>2       </td><td>0       </td><td>1       </td><td>S4      </td><td>4A      </td><td>1       </td></tr>\n",
       "\t<tr><td>173000.0</td><td> 77.21  </td><td>Z11     </td><td>4B      </td><td>35      </td><td>4       </td><td>5       </td><td>E50     </td><td>1A      </td><td>1       </td><td>0       </td><td>0       </td><td>S4      </td><td>3A      </td><td>1       </td></tr>\n",
       "\t<tr><td>245000.0</td><td> 77.04  </td><td>Z47     </td><td>3A      </td><td>14      </td><td>6       </td><td>4       </td><td>E50     </td><td>1A      </td><td>1       </td><td>0       </td><td>1       </td><td>S3      </td><td>4A      </td><td>1       </td></tr>\n",
       "\t<tr><td>210000.0</td><td> 62.90  </td><td>Z48     </td><td>3B      </td><td>36      </td><td>3       </td><td>4       </td><td>E100    </td><td>3A      </td><td>1       </td><td>0       </td><td>0       </td><td>S3      </td><td>3A      </td><td>1       </td></tr>\n",
       "\t<tr><td>188982.2</td><td> 58.48  </td><td>Z11     </td><td>4B      </td><td>37      </td><td>4       </td><td>4       </td><td>E25     </td><td>2A      </td><td>1       </td><td>0       </td><td>0       </td><td>S4      </td><td>3A      </td><td>1       </td></tr>\n",
       "\t<tr><td>193000.0</td><td> 59.16  </td><td>Z11     </td><td>3B      </td><td>11      </td><td>5       </td><td>4       </td><td>E50     </td><td>1A      </td><td>1       </td><td>0       </td><td>0       </td><td>S4      </td><td>3A      </td><td>1       </td></tr>\n",
       "\t<tr><td>333000.0</td><td>111.40  </td><td>Z37     </td><td>4B      </td><td>36      </td><td>6       </td><td>6       </td><td>E50     </td><td>2B      </td><td>2       </td><td>0       </td><td>1       </td><td>S2      </td><td>4A      </td><td>1       </td></tr>\n",
       "\t<tr><td>224000.0</td><td> 66.12  </td><td>Z48     </td><td>4B      </td><td>10      </td><td>3       </td><td>5       </td><td>E100    </td><td>1A      </td><td>1       </td><td>0       </td><td>0       </td><td>S3      </td><td>3A      </td><td>1       </td></tr>\n",
       "\t<tr><td>560000.0</td><td>155.90  </td><td>Z21     </td><td>2B      </td><td> 7      </td><td>4       </td><td>6       </td><td>E100    </td><td>1A      </td><td>2       </td><td>1       </td><td>1       </td><td>S4      </td><td>3B      </td><td>1       </td></tr>\n",
       "\t<tr><td>214400.0</td><td> 69.03  </td><td>Z36     </td><td>4B      </td><td> 9      </td><td>2       </td><td>5       </td><td>E100    </td><td>1A      </td><td>1       </td><td>0       </td><td>1       </td><td>S4      </td><td>3A      </td><td>1       </td></tr>\n",
       "\t<tr><td>268000.0</td><td> 86.27  </td><td>Z61     </td><td>3B      </td><td>14      </td><td>6       </td><td>5       </td><td>E100    </td><td>1A      </td><td>1       </td><td>0       </td><td>1       </td><td>S4      </td><td>3A      </td><td>1       </td></tr>\n",
       "\t<tr><td>230000.0</td><td> 64.58  </td><td>Z37     </td><td>3B      </td><td>10      </td><td>4       </td><td>4       </td><td>E50     </td><td>1A      </td><td>1       </td><td>0       </td><td>0       </td><td>S2      </td><td>3A      </td><td>0       </td></tr>\n",
       "\t<tr><td>207500.0</td><td> 67.68  </td><td>Z48     </td><td>3B      </td><td>31      </td><td>4       </td><td>4       </td><td>E100    </td><td>1A      </td><td>1       </td><td>0       </td><td>0       </td><td>S3      </td><td>3A      </td><td>1       </td></tr>\n",
       "\t<tr><td>254000.0</td><td> 82.11  </td><td>Z61     </td><td>3B      </td><td>25      </td><td>4       </td><td>5       </td><td>E100    </td><td>2B      </td><td>1       </td><td>0       </td><td>1       </td><td>S4      </td><td>3A      </td><td>1       </td></tr>\n",
       "\t<tr><td>221000.0</td><td> 86.45  </td><td>Z46     </td><td>4A      </td><td>16      </td><td>2       </td><td>5       </td><td>E100    </td><td>2A      </td><td>1       </td><td>0       </td><td>1       </td><td>S3      </td><td>3A      </td><td>1       </td></tr>\n",
       "\t<tr><td>360500.0</td><td>108.74  </td><td>Z43     </td><td>3A      </td><td>14      </td><td>3       </td><td>5       </td><td>E75     </td><td>1A      </td><td>2       </td><td>1       </td><td>1       </td><td>S3      </td><td>4A      </td><td>1       </td></tr>\n",
       "\t<tr><td>250000.0</td><td> 74.79  </td><td>Z45     </td><td>3B      </td><td>16      </td><td>4       </td><td>5       </td><td>E50     </td><td>1A      </td><td>1       </td><td>0       </td><td>1       </td><td>S3      </td><td>3A      </td><td>1       </td></tr>\n",
       "\t<tr><td>380000.0</td><td>103.00  </td><td>Z37     </td><td>3B      </td><td>15      </td><td>3       </td><td>6       </td><td>E50     </td><td>1A      </td><td>1       </td><td>1       </td><td>1       </td><td>S3      </td><td>3A      </td><td>1       </td></tr>\n",
       "\t<tr><td>338000.0</td><td>106.15  </td><td>Z56     </td><td>3A      </td><td> 4      </td><td>2       </td><td>5       </td><td>E100    </td><td>1A      </td><td>2       </td><td>0       </td><td>1       </td><td>S3      </td><td>3A      </td><td>1       </td></tr>\n",
       "\t<tr><td>372000.0</td><td>115.59  </td><td>Z44     </td><td>3B      </td><td>17      </td><td>4       </td><td>6       </td><td>E100    </td><td>1A      </td><td>2       </td><td>1       </td><td>1       </td><td>S4      </td><td>3A      </td><td>1       </td></tr>\n",
       "\t<tr><td>290000.0</td><td> 93.06  </td><td>Z53     </td><td>3A      </td><td>10      </td><td>8       </td><td>5       </td><td>E100    </td><td>1A      </td><td>2       </td><td>0       </td><td>1       </td><td>S3      </td><td>3A      </td><td>1       </td></tr>\n",
       "\t<tr><td>270000.0</td><td> 78.72  </td><td>Z36     </td><td>3B      </td><td>18      </td><td>9       </td><td>5       </td><td>E50     </td><td>1A      </td><td>1       </td><td>0       </td><td>1       </td><td>S4      </td><td>3A      </td><td>1       </td></tr>\n",
       "\t<tr><td>330000.0</td><td> 94.53  </td><td>Z56     </td><td>2B      </td><td> 7      </td><td>3       </td><td>4       </td><td>E100    </td><td>1A      </td><td>2       </td><td>1       </td><td>1       </td><td>S3      </td><td>3A      </td><td>1       </td></tr>\n",
       "\t<tr><td>340000.0</td><td>121.51  </td><td>Z46     </td><td>3B      </td><td>31      </td><td>6       </td><td>6       </td><td>E100    </td><td>2B      </td><td>2       </td><td>0       </td><td>1       </td><td>S3      </td><td>4A      </td><td>1       </td></tr>\n",
       "\t<tr><td>270000.0</td><td> 86.82  </td><td>Z53     </td><td>3A      </td><td>14      </td><td>7       </td><td>5       </td><td>E100    </td><td>1A      </td><td>2       </td><td>0       </td><td>1       </td><td>S3      </td><td>3A      </td><td>1       </td></tr>\n",
       "\t<tr><td>258000.0</td><td> 71.80  </td><td>Z32     </td><td>3B      </td><td>12      </td><td>2       </td><td>4       </td><td>E50     </td><td>1A      </td><td>1       </td><td>0       </td><td>1       </td><td>S3      </td><td>3A      </td><td>1       </td></tr>\n",
       "\t<tr><td>⋮</td><td>⋮</td><td>⋮</td><td>⋮</td><td>⋮</td><td>⋮</td><td>⋮</td><td>⋮</td><td>⋮</td><td>⋮</td><td>⋮</td><td>⋮</td><td>⋮</td><td>⋮</td><td>⋮</td></tr>\n",
       "\t<tr><td>262500</td><td> 94.20</td><td>Z61   </td><td>3B    </td><td>19    </td><td> 2    </td><td>5     </td><td>E100  </td><td>1A    </td><td>1     </td><td>0     </td><td>1     </td><td>S2    </td><td>4A    </td><td>1     </td></tr>\n",
       "\t<tr><td>366000</td><td>106.60</td><td>Z36   </td><td>3B    </td><td>19    </td><td> 2    </td><td>6     </td><td>E100  </td><td>1A    </td><td>2     </td><td>1     </td><td>1     </td><td>S2    </td><td>3A    </td><td>1     </td></tr>\n",
       "\t<tr><td>277000</td><td> 81.00</td><td>Z52   </td><td>3B    </td><td> 8    </td><td> 5    </td><td>5     </td><td>E100  </td><td>1A    </td><td>2     </td><td>0     </td><td>1     </td><td>S3    </td><td>3A    </td><td>1     </td></tr>\n",
       "\t<tr><td>320000</td><td> 98.28</td><td>Z61   </td><td>3B    </td><td>22    </td><td> 5    </td><td>5     </td><td>E100  </td><td>1A    </td><td>2     </td><td>1     </td><td>1     </td><td>S3    </td><td>3A    </td><td>1     </td></tr>\n",
       "\t<tr><td>223200</td><td> 78.87</td><td>Z32   </td><td>4A    </td><td>13    </td><td> 2    </td><td>5     </td><td>E50   </td><td>1A    </td><td>1     </td><td>0     </td><td>0     </td><td>S3    </td><td>3A    </td><td>1     </td></tr>\n",
       "\t<tr><td>260000</td><td> 77.38</td><td>Z35   </td><td>4A    </td><td>19    </td><td> 4    </td><td>5     </td><td>E50   </td><td>1A    </td><td>1     </td><td>0     </td><td>1     </td><td>S4    </td><td>3A    </td><td>0     </td></tr>\n",
       "\t<tr><td>320000</td><td>111.11</td><td>Z46   </td><td>3A    </td><td>20    </td><td> 7    </td><td>6     </td><td>E50   </td><td>1A    </td><td>2     </td><td>0     </td><td>1     </td><td>S3    </td><td>4A    </td><td>1     </td></tr>\n",
       "\t<tr><td>271200</td><td> 96.96</td><td>Z37   </td><td>4B    </td><td>20    </td><td> 4    </td><td>5     </td><td>E75   </td><td>1A    </td><td>1     </td><td>0     </td><td>0     </td><td>S2    </td><td>3A    </td><td>1     </td></tr>\n",
       "\t<tr><td>271000</td><td> 50.38</td><td>Z21   </td><td>3A    </td><td>16    </td><td> 3    </td><td>3     </td><td>E100  </td><td>1A    </td><td>1     </td><td>0     </td><td>1     </td><td>S3    </td><td>3A    </td><td>1     </td></tr>\n",
       "\t<tr><td>170500</td><td> 58.28</td><td>Z62   </td><td>4B    </td><td>25    </td><td> 1    </td><td>4     </td><td>E100  </td><td>2B    </td><td>1     </td><td>0     </td><td>0     </td><td>S3    </td><td>3A    </td><td>1     </td></tr>\n",
       "\t<tr><td>261500</td><td> 96.33</td><td>Z47   </td><td>4A    </td><td>17    </td><td> 5    </td><td>4     </td><td>E100  </td><td>1A    </td><td>2     </td><td>1     </td><td>1     </td><td>S3    </td><td>4A    </td><td>1     </td></tr>\n",
       "\t<tr><td>231000</td><td> 70.20</td><td>Z52   </td><td>3B    </td><td>16    </td><td>11    </td><td>5     </td><td>E50   </td><td>1A    </td><td>1     </td><td>0     </td><td>1     </td><td>S2    </td><td>4A    </td><td>1     </td></tr>\n",
       "\t<tr><td>262500</td><td> 86.53</td><td>Z49   </td><td>3A    </td><td>16    </td><td> 4    </td><td>5     </td><td>E100  </td><td>1A    </td><td>2     </td><td>0     </td><td>1     </td><td>S2    </td><td>3A    </td><td>1     </td></tr>\n",
       "\t<tr><td>236000</td><td> 99.52</td><td>Z45   </td><td>4A    </td><td>26    </td><td> 8    </td><td>5     </td><td>E100  </td><td>2B    </td><td>1     </td><td>0     </td><td>1     </td><td>S3    </td><td>3A    </td><td>1     </td></tr>\n",
       "\t<tr><td>155000</td><td> 71.11</td><td>Z11   </td><td>5A    </td><td>77    </td><td> 2    </td><td>5     </td><td>E50   </td><td>2B    </td><td>1     </td><td>0     </td><td>0     </td><td>S4    </td><td>1A    </td><td>0     </td></tr>\n",
       "\t<tr><td>220000</td><td> 66.39</td><td>Z47   </td><td>4A    </td><td>21    </td><td> 6    </td><td>4     </td><td>E100  </td><td>2B    </td><td>1     </td><td>0     </td><td>1     </td><td>S3    </td><td>3A    </td><td>1     </td></tr>\n",
       "\t<tr><td>249000</td><td> 73.51</td><td>Z32   </td><td>4B    </td><td>20    </td><td> 4    </td><td>4     </td><td>E50   </td><td>1A    </td><td>1     </td><td>0     </td><td>0     </td><td>S4    </td><td>3A    </td><td>1     </td></tr>\n",
       "\t<tr><td>183000</td><td>100.71</td><td>Z11   </td><td>5A    </td><td>93    </td><td> 4    </td><td>4     </td><td>E100  </td><td>3A    </td><td>1     </td><td>0     </td><td>0     </td><td>S4    </td><td>1A    </td><td>0     </td></tr>\n",
       "\t<tr><td>285000</td><td> 97.16</td><td>Z41   </td><td>3A    </td><td>13    </td><td> 2    </td><td>5     </td><td>E100  </td><td>1A    </td><td>2     </td><td>1     </td><td>1     </td><td>S2    </td><td>3A    </td><td>1     </td></tr>\n",
       "\t<tr><td>228000</td><td> 82.40</td><td>Z34   </td><td>4A    </td><td>21    </td><td> 3    </td><td>5     </td><td>E100  </td><td>1A    </td><td>1     </td><td>0     </td><td>1     </td><td>S3    </td><td>3A    </td><td>1     </td></tr>\n",
       "\t<tr><td>220000</td><td> 83.11</td><td>Z34   </td><td>4A    </td><td>17    </td><td> 8    </td><td>5     </td><td>E100  </td><td>2A    </td><td>1     </td><td>0     </td><td>1     </td><td>S2    </td><td>3A    </td><td>0     </td></tr>\n",
       "\t<tr><td>215000</td><td> 79.68</td><td>Z49   </td><td>3B    </td><td>13    </td><td> 5    </td><td>4     </td><td>E50   </td><td>1A    </td><td>1     </td><td>0     </td><td>0     </td><td>S3    </td><td>3A    </td><td>0     </td></tr>\n",
       "\t<tr><td>210000</td><td> 56.51</td><td>Z53   </td><td>3A    </td><td>18    </td><td> 3    </td><td>4     </td><td>E100  </td><td>1A    </td><td>1     </td><td>0     </td><td>1     </td><td>S4    </td><td>4A    </td><td>1     </td></tr>\n",
       "\t<tr><td>187000</td><td> 62.04</td><td>Z62   </td><td>3B    </td><td>13    </td><td> 4    </td><td>4     </td><td>E100  </td><td>1A    </td><td>1     </td><td>0     </td><td>0     </td><td>S3    </td><td>3A    </td><td>1     </td></tr>\n",
       "\t<tr><td>225000</td><td> 69.75</td><td>Z46   </td><td>3B    </td><td> 1    </td><td> 6    </td><td>5     </td><td>E50   </td><td>2A    </td><td>1     </td><td>0     </td><td>1     </td><td>S3    </td><td>3A    </td><td>1     </td></tr>\n",
       "\t<tr><td>215000</td><td> 72.90</td><td>Z45   </td><td>3B    </td><td>18    </td><td> 3    </td><td>4     </td><td>E100  </td><td>2A    </td><td>1     </td><td>0     </td><td>0     </td><td>S3    </td><td>3A    </td><td>1     </td></tr>\n",
       "\t<tr><td>340000</td><td> 95.61</td><td>Z56   </td><td>2B    </td><td> 8    </td><td> 6    </td><td>5     </td><td>E50   </td><td>1A    </td><td>2     </td><td>1     </td><td>1     </td><td>S3    </td><td>3A    </td><td>1     </td></tr>\n",
       "\t<tr><td>280000</td><td> 83.22</td><td>Z34   </td><td>3B    </td><td>29    </td><td> 7    </td><td>5     </td><td>E50   </td><td>2B    </td><td>1     </td><td>1     </td><td>1     </td><td>S3    </td><td>4A    </td><td>1     </td></tr>\n",
       "\t<tr><td>224000</td><td> 79.21</td><td>Z38   </td><td>4A    </td><td> 6    </td><td> 3    </td><td>4     </td><td>E100  </td><td>1A    </td><td>1     </td><td>0     </td><td>1     </td><td>S3    </td><td>3A    </td><td>1     </td></tr>\n",
       "\t<tr><td>237000</td><td> 81.39</td><td>Z61   </td><td>4B    </td><td>20    </td><td> 2    </td><td>4     </td><td>E100  </td><td>2B    </td><td>1     </td><td>0     </td><td>1     </td><td>S4    </td><td>4A    </td><td>1     </td></tr>\n",
       "</tbody>\n",
       "</table>\n"
      ],
      "text/latex": [
       "\\begin{tabular}{r|lllllllllllllll}\n",
       " totalprice & area & zone & category & age & floor & rooms & out & conservation & toilets & garage & elevator & streetcategory & heating & storage\\\\\n",
       "\\hline\n",
       "\t 228000.0 &  75.31   & Z45      & 4B       & 33       & 3        & 5        & E100     & 2B       & 1        & 0        & 1        & S3       & 3A       & 0       \\\\\n",
       "\t 409000.0 & 100.65   & Z31      & 3B       &  5       & 7        & 5        & E50      & 1A       & 2        & 1        & 1        & S5       & 4A       & 1       \\\\\n",
       "\t 200000.0 &  88.87   & Z52      & 3A       & 14       & 8        & 5        & E50      & 1A       & 2        & 0        & 1        & S2       & 3A       & 0       \\\\\n",
       "\t 180000.0 &  62.61   & Z62      & 4A       & 41       & 3        & 4        & E50      & 2A       & 1        & 0        & 0        & S3       & 1A       & 0       \\\\\n",
       "\t 443600.0 & 146.15   & Z31      & 3A       & 22       & 6        & 7        & E100     & 1A       & 2        & 0        & 1        & S4       & 4A       & 1       \\\\\n",
       "\t 173000.0 &  77.21   & Z11      & 4B       & 35       & 4        & 5        & E50      & 1A       & 1        & 0        & 0        & S4       & 3A       & 1       \\\\\n",
       "\t 245000.0 &  77.04   & Z47      & 3A       & 14       & 6        & 4        & E50      & 1A       & 1        & 0        & 1        & S3       & 4A       & 1       \\\\\n",
       "\t 210000.0 &  62.90   & Z48      & 3B       & 36       & 3        & 4        & E100     & 3A       & 1        & 0        & 0        & S3       & 3A       & 1       \\\\\n",
       "\t 188982.2 &  58.48   & Z11      & 4B       & 37       & 4        & 4        & E25      & 2A       & 1        & 0        & 0        & S4       & 3A       & 1       \\\\\n",
       "\t 193000.0 &  59.16   & Z11      & 3B       & 11       & 5        & 4        & E50      & 1A       & 1        & 0        & 0        & S4       & 3A       & 1       \\\\\n",
       "\t 333000.0 & 111.40   & Z37      & 4B       & 36       & 6        & 6        & E50      & 2B       & 2        & 0        & 1        & S2       & 4A       & 1       \\\\\n",
       "\t 224000.0 &  66.12   & Z48      & 4B       & 10       & 3        & 5        & E100     & 1A       & 1        & 0        & 0        & S3       & 3A       & 1       \\\\\n",
       "\t 560000.0 & 155.90   & Z21      & 2B       &  7       & 4        & 6        & E100     & 1A       & 2        & 1        & 1        & S4       & 3B       & 1       \\\\\n",
       "\t 214400.0 &  69.03   & Z36      & 4B       &  9       & 2        & 5        & E100     & 1A       & 1        & 0        & 1        & S4       & 3A       & 1       \\\\\n",
       "\t 268000.0 &  86.27   & Z61      & 3B       & 14       & 6        & 5        & E100     & 1A       & 1        & 0        & 1        & S4       & 3A       & 1       \\\\\n",
       "\t 230000.0 &  64.58   & Z37      & 3B       & 10       & 4        & 4        & E50      & 1A       & 1        & 0        & 0        & S2       & 3A       & 0       \\\\\n",
       "\t 207500.0 &  67.68   & Z48      & 3B       & 31       & 4        & 4        & E100     & 1A       & 1        & 0        & 0        & S3       & 3A       & 1       \\\\\n",
       "\t 254000.0 &  82.11   & Z61      & 3B       & 25       & 4        & 5        & E100     & 2B       & 1        & 0        & 1        & S4       & 3A       & 1       \\\\\n",
       "\t 221000.0 &  86.45   & Z46      & 4A       & 16       & 2        & 5        & E100     & 2A       & 1        & 0        & 1        & S3       & 3A       & 1       \\\\\n",
       "\t 360500.0 & 108.74   & Z43      & 3A       & 14       & 3        & 5        & E75      & 1A       & 2        & 1        & 1        & S3       & 4A       & 1       \\\\\n",
       "\t 250000.0 &  74.79   & Z45      & 3B       & 16       & 4        & 5        & E50      & 1A       & 1        & 0        & 1        & S3       & 3A       & 1       \\\\\n",
       "\t 380000.0 & 103.00   & Z37      & 3B       & 15       & 3        & 6        & E50      & 1A       & 1        & 1        & 1        & S3       & 3A       & 1       \\\\\n",
       "\t 338000.0 & 106.15   & Z56      & 3A       &  4       & 2        & 5        & E100     & 1A       & 2        & 0        & 1        & S3       & 3A       & 1       \\\\\n",
       "\t 372000.0 & 115.59   & Z44      & 3B       & 17       & 4        & 6        & E100     & 1A       & 2        & 1        & 1        & S4       & 3A       & 1       \\\\\n",
       "\t 290000.0 &  93.06   & Z53      & 3A       & 10       & 8        & 5        & E100     & 1A       & 2        & 0        & 1        & S3       & 3A       & 1       \\\\\n",
       "\t 270000.0 &  78.72   & Z36      & 3B       & 18       & 9        & 5        & E50      & 1A       & 1        & 0        & 1        & S4       & 3A       & 1       \\\\\n",
       "\t 330000.0 &  94.53   & Z56      & 2B       &  7       & 3        & 4        & E100     & 1A       & 2        & 1        & 1        & S3       & 3A       & 1       \\\\\n",
       "\t 340000.0 & 121.51   & Z46      & 3B       & 31       & 6        & 6        & E100     & 2B       & 2        & 0        & 1        & S3       & 4A       & 1       \\\\\n",
       "\t 270000.0 &  86.82   & Z53      & 3A       & 14       & 7        & 5        & E100     & 1A       & 2        & 0        & 1        & S3       & 3A       & 1       \\\\\n",
       "\t 258000.0 &  71.80   & Z32      & 3B       & 12       & 2        & 4        & E50      & 1A       & 1        & 0        & 1        & S3       & 3A       & 1       \\\\\n",
       "\t ⋮ & ⋮ & ⋮ & ⋮ & ⋮ & ⋮ & ⋮ & ⋮ & ⋮ & ⋮ & ⋮ & ⋮ & ⋮ & ⋮ & ⋮\\\\\n",
       "\t 262500 &  94.20 & Z61    & 3B     & 19     &  2     & 5      & E100   & 1A     & 1      & 0      & 1      & S2     & 4A     & 1     \\\\\n",
       "\t 366000 & 106.60 & Z36    & 3B     & 19     &  2     & 6      & E100   & 1A     & 2      & 1      & 1      & S2     & 3A     & 1     \\\\\n",
       "\t 277000 &  81.00 & Z52    & 3B     &  8     &  5     & 5      & E100   & 1A     & 2      & 0      & 1      & S3     & 3A     & 1     \\\\\n",
       "\t 320000 &  98.28 & Z61    & 3B     & 22     &  5     & 5      & E100   & 1A     & 2      & 1      & 1      & S3     & 3A     & 1     \\\\\n",
       "\t 223200 &  78.87 & Z32    & 4A     & 13     &  2     & 5      & E50    & 1A     & 1      & 0      & 0      & S3     & 3A     & 1     \\\\\n",
       "\t 260000 &  77.38 & Z35    & 4A     & 19     &  4     & 5      & E50    & 1A     & 1      & 0      & 1      & S4     & 3A     & 0     \\\\\n",
       "\t 320000 & 111.11 & Z46    & 3A     & 20     &  7     & 6      & E50    & 1A     & 2      & 0      & 1      & S3     & 4A     & 1     \\\\\n",
       "\t 271200 &  96.96 & Z37    & 4B     & 20     &  4     & 5      & E75    & 1A     & 1      & 0      & 0      & S2     & 3A     & 1     \\\\\n",
       "\t 271000 &  50.38 & Z21    & 3A     & 16     &  3     & 3      & E100   & 1A     & 1      & 0      & 1      & S3     & 3A     & 1     \\\\\n",
       "\t 170500 &  58.28 & Z62    & 4B     & 25     &  1     & 4      & E100   & 2B     & 1      & 0      & 0      & S3     & 3A     & 1     \\\\\n",
       "\t 261500 &  96.33 & Z47    & 4A     & 17     &  5     & 4      & E100   & 1A     & 2      & 1      & 1      & S3     & 4A     & 1     \\\\\n",
       "\t 231000 &  70.20 & Z52    & 3B     & 16     & 11     & 5      & E50    & 1A     & 1      & 0      & 1      & S2     & 4A     & 1     \\\\\n",
       "\t 262500 &  86.53 & Z49    & 3A     & 16     &  4     & 5      & E100   & 1A     & 2      & 0      & 1      & S2     & 3A     & 1     \\\\\n",
       "\t 236000 &  99.52 & Z45    & 4A     & 26     &  8     & 5      & E100   & 2B     & 1      & 0      & 1      & S3     & 3A     & 1     \\\\\n",
       "\t 155000 &  71.11 & Z11    & 5A     & 77     &  2     & 5      & E50    & 2B     & 1      & 0      & 0      & S4     & 1A     & 0     \\\\\n",
       "\t 220000 &  66.39 & Z47    & 4A     & 21     &  6     & 4      & E100   & 2B     & 1      & 0      & 1      & S3     & 3A     & 1     \\\\\n",
       "\t 249000 &  73.51 & Z32    & 4B     & 20     &  4     & 4      & E50    & 1A     & 1      & 0      & 0      & S4     & 3A     & 1     \\\\\n",
       "\t 183000 & 100.71 & Z11    & 5A     & 93     &  4     & 4      & E100   & 3A     & 1      & 0      & 0      & S4     & 1A     & 0     \\\\\n",
       "\t 285000 &  97.16 & Z41    & 3A     & 13     &  2     & 5      & E100   & 1A     & 2      & 1      & 1      & S2     & 3A     & 1     \\\\\n",
       "\t 228000 &  82.40 & Z34    & 4A     & 21     &  3     & 5      & E100   & 1A     & 1      & 0      & 1      & S3     & 3A     & 1     \\\\\n",
       "\t 220000 &  83.11 & Z34    & 4A     & 17     &  8     & 5      & E100   & 2A     & 1      & 0      & 1      & S2     & 3A     & 0     \\\\\n",
       "\t 215000 &  79.68 & Z49    & 3B     & 13     &  5     & 4      & E50    & 1A     & 1      & 0      & 0      & S3     & 3A     & 0     \\\\\n",
       "\t 210000 &  56.51 & Z53    & 3A     & 18     &  3     & 4      & E100   & 1A     & 1      & 0      & 1      & S4     & 4A     & 1     \\\\\n",
       "\t 187000 &  62.04 & Z62    & 3B     & 13     &  4     & 4      & E100   & 1A     & 1      & 0      & 0      & S3     & 3A     & 1     \\\\\n",
       "\t 225000 &  69.75 & Z46    & 3B     &  1     &  6     & 5      & E50    & 2A     & 1      & 0      & 1      & S3     & 3A     & 1     \\\\\n",
       "\t 215000 &  72.90 & Z45    & 3B     & 18     &  3     & 4      & E100   & 2A     & 1      & 0      & 0      & S3     & 3A     & 1     \\\\\n",
       "\t 340000 &  95.61 & Z56    & 2B     &  8     &  6     & 5      & E50    & 1A     & 2      & 1      & 1      & S3     & 3A     & 1     \\\\\n",
       "\t 280000 &  83.22 & Z34    & 3B     & 29     &  7     & 5      & E50    & 2B     & 1      & 1      & 1      & S3     & 4A     & 1     \\\\\n",
       "\t 224000 &  79.21 & Z38    & 4A     &  6     &  3     & 4      & E100   & 1A     & 1      & 0      & 1      & S3     & 3A     & 1     \\\\\n",
       "\t 237000 &  81.39 & Z61    & 4B     & 20     &  2     & 4      & E100   & 2B     & 1      & 0      & 1      & S4     & 4A     & 1     \\\\\n",
       "\\end{tabular}\n"
      ],
      "text/markdown": [
       "\n",
       "totalprice | area | zone | category | age | floor | rooms | out | conservation | toilets | garage | elevator | streetcategory | heating | storage | \n",
       "|---|---|---|---|---|---|---|---|---|---|---|---|---|---|---|---|---|---|---|---|---|---|---|---|---|---|---|---|---|---|---|---|---|---|---|---|---|---|---|---|---|---|---|---|---|---|---|---|---|---|---|---|---|---|---|---|---|---|---|---|---|\n",
       "| 228000.0 |  75.31   | Z45      | 4B       | 33       | 3        | 5        | E100     | 2B       | 1        | 0        | 1        | S3       | 3A       | 0        | \n",
       "| 409000.0 | 100.65   | Z31      | 3B       |  5       | 7        | 5        | E50      | 1A       | 2        | 1        | 1        | S5       | 4A       | 1        | \n",
       "| 200000.0 |  88.87   | Z52      | 3A       | 14       | 8        | 5        | E50      | 1A       | 2        | 0        | 1        | S2       | 3A       | 0        | \n",
       "| 180000.0 |  62.61   | Z62      | 4A       | 41       | 3        | 4        | E50      | 2A       | 1        | 0        | 0        | S3       | 1A       | 0        | \n",
       "| 443600.0 | 146.15   | Z31      | 3A       | 22       | 6        | 7        | E100     | 1A       | 2        | 0        | 1        | S4       | 4A       | 1        | \n",
       "| 173000.0 |  77.21   | Z11      | 4B       | 35       | 4        | 5        | E50      | 1A       | 1        | 0        | 0        | S4       | 3A       | 1        | \n",
       "| 245000.0 |  77.04   | Z47      | 3A       | 14       | 6        | 4        | E50      | 1A       | 1        | 0        | 1        | S3       | 4A       | 1        | \n",
       "| 210000.0 |  62.90   | Z48      | 3B       | 36       | 3        | 4        | E100     | 3A       | 1        | 0        | 0        | S3       | 3A       | 1        | \n",
       "| 188982.2 |  58.48   | Z11      | 4B       | 37       | 4        | 4        | E25      | 2A       | 1        | 0        | 0        | S4       | 3A       | 1        | \n",
       "| 193000.0 |  59.16   | Z11      | 3B       | 11       | 5        | 4        | E50      | 1A       | 1        | 0        | 0        | S4       | 3A       | 1        | \n",
       "| 333000.0 | 111.40   | Z37      | 4B       | 36       | 6        | 6        | E50      | 2B       | 2        | 0        | 1        | S2       | 4A       | 1        | \n",
       "| 224000.0 |  66.12   | Z48      | 4B       | 10       | 3        | 5        | E100     | 1A       | 1        | 0        | 0        | S3       | 3A       | 1        | \n",
       "| 560000.0 | 155.90   | Z21      | 2B       |  7       | 4        | 6        | E100     | 1A       | 2        | 1        | 1        | S4       | 3B       | 1        | \n",
       "| 214400.0 |  69.03   | Z36      | 4B       |  9       | 2        | 5        | E100     | 1A       | 1        | 0        | 1        | S4       | 3A       | 1        | \n",
       "| 268000.0 |  86.27   | Z61      | 3B       | 14       | 6        | 5        | E100     | 1A       | 1        | 0        | 1        | S4       | 3A       | 1        | \n",
       "| 230000.0 |  64.58   | Z37      | 3B       | 10       | 4        | 4        | E50      | 1A       | 1        | 0        | 0        | S2       | 3A       | 0        | \n",
       "| 207500.0 |  67.68   | Z48      | 3B       | 31       | 4        | 4        | E100     | 1A       | 1        | 0        | 0        | S3       | 3A       | 1        | \n",
       "| 254000.0 |  82.11   | Z61      | 3B       | 25       | 4        | 5        | E100     | 2B       | 1        | 0        | 1        | S4       | 3A       | 1        | \n",
       "| 221000.0 |  86.45   | Z46      | 4A       | 16       | 2        | 5        | E100     | 2A       | 1        | 0        | 1        | S3       | 3A       | 1        | \n",
       "| 360500.0 | 108.74   | Z43      | 3A       | 14       | 3        | 5        | E75      | 1A       | 2        | 1        | 1        | S3       | 4A       | 1        | \n",
       "| 250000.0 |  74.79   | Z45      | 3B       | 16       | 4        | 5        | E50      | 1A       | 1        | 0        | 1        | S3       | 3A       | 1        | \n",
       "| 380000.0 | 103.00   | Z37      | 3B       | 15       | 3        | 6        | E50      | 1A       | 1        | 1        | 1        | S3       | 3A       | 1        | \n",
       "| 338000.0 | 106.15   | Z56      | 3A       |  4       | 2        | 5        | E100     | 1A       | 2        | 0        | 1        | S3       | 3A       | 1        | \n",
       "| 372000.0 | 115.59   | Z44      | 3B       | 17       | 4        | 6        | E100     | 1A       | 2        | 1        | 1        | S4       | 3A       | 1        | \n",
       "| 290000.0 |  93.06   | Z53      | 3A       | 10       | 8        | 5        | E100     | 1A       | 2        | 0        | 1        | S3       | 3A       | 1        | \n",
       "| 270000.0 |  78.72   | Z36      | 3B       | 18       | 9        | 5        | E50      | 1A       | 1        | 0        | 1        | S4       | 3A       | 1        | \n",
       "| 330000.0 |  94.53   | Z56      | 2B       |  7       | 3        | 4        | E100     | 1A       | 2        | 1        | 1        | S3       | 3A       | 1        | \n",
       "| 340000.0 | 121.51   | Z46      | 3B       | 31       | 6        | 6        | E100     | 2B       | 2        | 0        | 1        | S3       | 4A       | 1        | \n",
       "| 270000.0 |  86.82   | Z53      | 3A       | 14       | 7        | 5        | E100     | 1A       | 2        | 0        | 1        | S3       | 3A       | 1        | \n",
       "| 258000.0 |  71.80   | Z32      | 3B       | 12       | 2        | 4        | E50      | 1A       | 1        | 0        | 1        | S3       | 3A       | 1        | \n",
       "| ⋮ | ⋮ | ⋮ | ⋮ | ⋮ | ⋮ | ⋮ | ⋮ | ⋮ | ⋮ | ⋮ | ⋮ | ⋮ | ⋮ | ⋮ | \n",
       "| 262500 |  94.20 | Z61    | 3B     | 19     |  2     | 5      | E100   | 1A     | 1      | 0      | 1      | S2     | 4A     | 1      | \n",
       "| 366000 | 106.60 | Z36    | 3B     | 19     |  2     | 6      | E100   | 1A     | 2      | 1      | 1      | S2     | 3A     | 1      | \n",
       "| 277000 |  81.00 | Z52    | 3B     |  8     |  5     | 5      | E100   | 1A     | 2      | 0      | 1      | S3     | 3A     | 1      | \n",
       "| 320000 |  98.28 | Z61    | 3B     | 22     |  5     | 5      | E100   | 1A     | 2      | 1      | 1      | S3     | 3A     | 1      | \n",
       "| 223200 |  78.87 | Z32    | 4A     | 13     |  2     | 5      | E50    | 1A     | 1      | 0      | 0      | S3     | 3A     | 1      | \n",
       "| 260000 |  77.38 | Z35    | 4A     | 19     |  4     | 5      | E50    | 1A     | 1      | 0      | 1      | S4     | 3A     | 0      | \n",
       "| 320000 | 111.11 | Z46    | 3A     | 20     |  7     | 6      | E50    | 1A     | 2      | 0      | 1      | S3     | 4A     | 1      | \n",
       "| 271200 |  96.96 | Z37    | 4B     | 20     |  4     | 5      | E75    | 1A     | 1      | 0      | 0      | S2     | 3A     | 1      | \n",
       "| 271000 |  50.38 | Z21    | 3A     | 16     |  3     | 3      | E100   | 1A     | 1      | 0      | 1      | S3     | 3A     | 1      | \n",
       "| 170500 |  58.28 | Z62    | 4B     | 25     |  1     | 4      | E100   | 2B     | 1      | 0      | 0      | S3     | 3A     | 1      | \n",
       "| 261500 |  96.33 | Z47    | 4A     | 17     |  5     | 4      | E100   | 1A     | 2      | 1      | 1      | S3     | 4A     | 1      | \n",
       "| 231000 |  70.20 | Z52    | 3B     | 16     | 11     | 5      | E50    | 1A     | 1      | 0      | 1      | S2     | 4A     | 1      | \n",
       "| 262500 |  86.53 | Z49    | 3A     | 16     |  4     | 5      | E100   | 1A     | 2      | 0      | 1      | S2     | 3A     | 1      | \n",
       "| 236000 |  99.52 | Z45    | 4A     | 26     |  8     | 5      | E100   | 2B     | 1      | 0      | 1      | S3     | 3A     | 1      | \n",
       "| 155000 |  71.11 | Z11    | 5A     | 77     |  2     | 5      | E50    | 2B     | 1      | 0      | 0      | S4     | 1A     | 0      | \n",
       "| 220000 |  66.39 | Z47    | 4A     | 21     |  6     | 4      | E100   | 2B     | 1      | 0      | 1      | S3     | 3A     | 1      | \n",
       "| 249000 |  73.51 | Z32    | 4B     | 20     |  4     | 4      | E50    | 1A     | 1      | 0      | 0      | S4     | 3A     | 1      | \n",
       "| 183000 | 100.71 | Z11    | 5A     | 93     |  4     | 4      | E100   | 3A     | 1      | 0      | 0      | S4     | 1A     | 0      | \n",
       "| 285000 |  97.16 | Z41    | 3A     | 13     |  2     | 5      | E100   | 1A     | 2      | 1      | 1      | S2     | 3A     | 1      | \n",
       "| 228000 |  82.40 | Z34    | 4A     | 21     |  3     | 5      | E100   | 1A     | 1      | 0      | 1      | S3     | 3A     | 1      | \n",
       "| 220000 |  83.11 | Z34    | 4A     | 17     |  8     | 5      | E100   | 2A     | 1      | 0      | 1      | S2     | 3A     | 0      | \n",
       "| 215000 |  79.68 | Z49    | 3B     | 13     |  5     | 4      | E50    | 1A     | 1      | 0      | 0      | S3     | 3A     | 0      | \n",
       "| 210000 |  56.51 | Z53    | 3A     | 18     |  3     | 4      | E100   | 1A     | 1      | 0      | 1      | S4     | 4A     | 1      | \n",
       "| 187000 |  62.04 | Z62    | 3B     | 13     |  4     | 4      | E100   | 1A     | 1      | 0      | 0      | S3     | 3A     | 1      | \n",
       "| 225000 |  69.75 | Z46    | 3B     |  1     |  6     | 5      | E50    | 2A     | 1      | 0      | 1      | S3     | 3A     | 1      | \n",
       "| 215000 |  72.90 | Z45    | 3B     | 18     |  3     | 4      | E100   | 2A     | 1      | 0      | 0      | S3     | 3A     | 1      | \n",
       "| 340000 |  95.61 | Z56    | 2B     |  8     |  6     | 5      | E50    | 1A     | 2      | 1      | 1      | S3     | 3A     | 1      | \n",
       "| 280000 |  83.22 | Z34    | 3B     | 29     |  7     | 5      | E50    | 2B     | 1      | 1      | 1      | S3     | 4A     | 1      | \n",
       "| 224000 |  79.21 | Z38    | 4A     |  6     |  3     | 4      | E100   | 1A     | 1      | 0      | 1      | S3     | 3A     | 1      | \n",
       "| 237000 |  81.39 | Z61    | 4B     | 20     |  2     | 4      | E100   | 2B     | 1      | 0      | 1      | S4     | 4A     | 1      | \n",
       "\n",
       "\n"
      ],
      "text/plain": [
       "    totalprice area   zone category age floor rooms out  conservation toilets\n",
       "1   228000.0    75.31 Z45  4B       33  3     5     E100 2B           1      \n",
       "2   409000.0   100.65 Z31  3B        5  7     5     E50  1A           2      \n",
       "3   200000.0    88.87 Z52  3A       14  8     5     E50  1A           2      \n",
       "4   180000.0    62.61 Z62  4A       41  3     4     E50  2A           1      \n",
       "5   443600.0   146.15 Z31  3A       22  6     7     E100 1A           2      \n",
       "6   173000.0    77.21 Z11  4B       35  4     5     E50  1A           1      \n",
       "7   245000.0    77.04 Z47  3A       14  6     4     E50  1A           1      \n",
       "8   210000.0    62.90 Z48  3B       36  3     4     E100 3A           1      \n",
       "9   188982.2    58.48 Z11  4B       37  4     4     E25  2A           1      \n",
       "10  193000.0    59.16 Z11  3B       11  5     4     E50  1A           1      \n",
       "11  333000.0   111.40 Z37  4B       36  6     6     E50  2B           2      \n",
       "12  224000.0    66.12 Z48  4B       10  3     5     E100 1A           1      \n",
       "13  560000.0   155.90 Z21  2B        7  4     6     E100 1A           2      \n",
       "14  214400.0    69.03 Z36  4B        9  2     5     E100 1A           1      \n",
       "15  268000.0    86.27 Z61  3B       14  6     5     E100 1A           1      \n",
       "16  230000.0    64.58 Z37  3B       10  4     4     E50  1A           1      \n",
       "17  207500.0    67.68 Z48  3B       31  4     4     E100 1A           1      \n",
       "18  254000.0    82.11 Z61  3B       25  4     5     E100 2B           1      \n",
       "19  221000.0    86.45 Z46  4A       16  2     5     E100 2A           1      \n",
       "20  360500.0   108.74 Z43  3A       14  3     5     E75  1A           2      \n",
       "21  250000.0    74.79 Z45  3B       16  4     5     E50  1A           1      \n",
       "22  380000.0   103.00 Z37  3B       15  3     6     E50  1A           1      \n",
       "23  338000.0   106.15 Z56  3A        4  2     5     E100 1A           2      \n",
       "24  372000.0   115.59 Z44  3B       17  4     6     E100 1A           2      \n",
       "25  290000.0    93.06 Z53  3A       10  8     5     E100 1A           2      \n",
       "26  270000.0    78.72 Z36  3B       18  9     5     E50  1A           1      \n",
       "27  330000.0    94.53 Z56  2B        7  3     4     E100 1A           2      \n",
       "28  340000.0   121.51 Z46  3B       31  6     6     E100 2B           2      \n",
       "29  270000.0    86.82 Z53  3A       14  7     5     E100 1A           2      \n",
       "30  258000.0    71.80 Z32  3B       12  2     4     E50  1A           1      \n",
       "⋮   ⋮          ⋮      ⋮    ⋮        ⋮   ⋮     ⋮     ⋮    ⋮            ⋮      \n",
       "189 262500      94.20 Z61  3B       19   2    5     E100 1A           1      \n",
       "190 366000     106.60 Z36  3B       19   2    6     E100 1A           2      \n",
       "191 277000      81.00 Z52  3B        8   5    5     E100 1A           2      \n",
       "192 320000      98.28 Z61  3B       22   5    5     E100 1A           2      \n",
       "193 223200      78.87 Z32  4A       13   2    5     E50  1A           1      \n",
       "194 260000      77.38 Z35  4A       19   4    5     E50  1A           1      \n",
       "195 320000     111.11 Z46  3A       20   7    6     E50  1A           2      \n",
       "196 271200      96.96 Z37  4B       20   4    5     E75  1A           1      \n",
       "197 271000      50.38 Z21  3A       16   3    3     E100 1A           1      \n",
       "198 170500      58.28 Z62  4B       25   1    4     E100 2B           1      \n",
       "199 261500      96.33 Z47  4A       17   5    4     E100 1A           2      \n",
       "200 231000      70.20 Z52  3B       16  11    5     E50  1A           1      \n",
       "201 262500      86.53 Z49  3A       16   4    5     E100 1A           2      \n",
       "202 236000      99.52 Z45  4A       26   8    5     E100 2B           1      \n",
       "203 155000      71.11 Z11  5A       77   2    5     E50  2B           1      \n",
       "204 220000      66.39 Z47  4A       21   6    4     E100 2B           1      \n",
       "205 249000      73.51 Z32  4B       20   4    4     E50  1A           1      \n",
       "206 183000     100.71 Z11  5A       93   4    4     E100 3A           1      \n",
       "207 285000      97.16 Z41  3A       13   2    5     E100 1A           2      \n",
       "208 228000      82.40 Z34  4A       21   3    5     E100 1A           1      \n",
       "209 220000      83.11 Z34  4A       17   8    5     E100 2A           1      \n",
       "210 215000      79.68 Z49  3B       13   5    4     E50  1A           1      \n",
       "211 210000      56.51 Z53  3A       18   3    4     E100 1A           1      \n",
       "212 187000      62.04 Z62  3B       13   4    4     E100 1A           1      \n",
       "213 225000      69.75 Z46  3B        1   6    5     E50  2A           1      \n",
       "214 215000      72.90 Z45  3B       18   3    4     E100 2A           1      \n",
       "215 340000      95.61 Z56  2B        8   6    5     E50  1A           2      \n",
       "216 280000      83.22 Z34  3B       29   7    5     E50  2B           1      \n",
       "217 224000      79.21 Z38  4A        6   3    4     E100 1A           1      \n",
       "218 237000      81.39 Z61  4B       20   2    4     E100 2B           1      \n",
       "    garage elevator streetcategory heating storage\n",
       "1   0      1        S3             3A      0      \n",
       "2   1      1        S5             4A      1      \n",
       "3   0      1        S2             3A      0      \n",
       "4   0      0        S3             1A      0      \n",
       "5   0      1        S4             4A      1      \n",
       "6   0      0        S4             3A      1      \n",
       "7   0      1        S3             4A      1      \n",
       "8   0      0        S3             3A      1      \n",
       "9   0      0        S4             3A      1      \n",
       "10  0      0        S4             3A      1      \n",
       "11  0      1        S2             4A      1      \n",
       "12  0      0        S3             3A      1      \n",
       "13  1      1        S4             3B      1      \n",
       "14  0      1        S4             3A      1      \n",
       "15  0      1        S4             3A      1      \n",
       "16  0      0        S2             3A      0      \n",
       "17  0      0        S3             3A      1      \n",
       "18  0      1        S4             3A      1      \n",
       "19  0      1        S3             3A      1      \n",
       "20  1      1        S3             4A      1      \n",
       "21  0      1        S3             3A      1      \n",
       "22  1      1        S3             3A      1      \n",
       "23  0      1        S3             3A      1      \n",
       "24  1      1        S4             3A      1      \n",
       "25  0      1        S3             3A      1      \n",
       "26  0      1        S4             3A      1      \n",
       "27  1      1        S3             3A      1      \n",
       "28  0      1        S3             4A      1      \n",
       "29  0      1        S3             3A      1      \n",
       "30  0      1        S3             3A      1      \n",
       "⋮   ⋮      ⋮        ⋮              ⋮       ⋮      \n",
       "189 0      1        S2             4A      1      \n",
       "190 1      1        S2             3A      1      \n",
       "191 0      1        S3             3A      1      \n",
       "192 1      1        S3             3A      1      \n",
       "193 0      0        S3             3A      1      \n",
       "194 0      1        S4             3A      0      \n",
       "195 0      1        S3             4A      1      \n",
       "196 0      0        S2             3A      1      \n",
       "197 0      1        S3             3A      1      \n",
       "198 0      0        S3             3A      1      \n",
       "199 1      1        S3             4A      1      \n",
       "200 0      1        S2             4A      1      \n",
       "201 0      1        S2             3A      1      \n",
       "202 0      1        S3             3A      1      \n",
       "203 0      0        S4             1A      0      \n",
       "204 0      1        S3             3A      1      \n",
       "205 0      0        S4             3A      1      \n",
       "206 0      0        S4             1A      0      \n",
       "207 1      1        S2             3A      1      \n",
       "208 0      1        S3             3A      1      \n",
       "209 0      1        S2             3A      0      \n",
       "210 0      0        S3             3A      0      \n",
       "211 0      1        S4             4A      1      \n",
       "212 0      0        S3             3A      1      \n",
       "213 0      1        S3             3A      1      \n",
       "214 0      0        S3             3A      1      \n",
       "215 1      1        S3             3A      1      \n",
       "216 1      1        S3             4A      1      \n",
       "217 0      1        S3             3A      1      \n",
       "218 0      1        S4             4A      1      "
      ]
     },
     "metadata": {},
     "output_type": "display_data"
    }
   ],
   "source": [
    "table = read.table(\"https://www.colorado.edu/amath/sites/default/files/attached-files/vit2005.txt\", header = TRUE)\n",
    "table"
   ]
  },
  {
   "cell_type": "markdown",
   "metadata": {},
   "source": [
    "#### (b) Explore the data by providing a numerical summary of all variables."
   ]
  },
  {
   "cell_type": "code",
   "execution_count": 57,
   "metadata": {},
   "outputs": [
    {
     "data": {
      "text/plain": [
       "   totalprice          area             zone     category      age       \n",
       " Min.   :155000   Min.   : 50.38   Z41    : 18   2A: 4    Min.   :  1.0  \n",
       " 1st Qu.:228500   1st Qu.: 75.18   Z53    : 16   2B:14    1st Qu.: 11.0  \n",
       " Median :269750   Median : 86.39   Z52    : 15   3A:61    Median : 16.0  \n",
       " Mean   :280742   Mean   : 88.70   Z61    : 14   3B:77    Mean   : 19.9  \n",
       " 3rd Qu.:328625   3rd Qu.: 99.90   Z62    : 14   4A:36    3rd Qu.: 24.0  \n",
       " Max.   :560000   Max.   :187.91   Z45    : 13   4B:23    Max.   :118.0  \n",
       "                                   (Other):128   5A: 3                   \n",
       "     floor           rooms         out      conservation    toilets     \n",
       " Min.   : 1.00   Min.   :3.000   E100:122   1A:161       Min.   :1.000  \n",
       " 1st Qu.: 3.00   1st Qu.:5.000   E25 :  3   2A: 18       1st Qu.:1.000  \n",
       " Median : 4.00   Median :5.000   E50 : 87   2B: 36       Median :1.000  \n",
       " Mean   : 4.44   Mean   :4.853   E75 :  6   3A:  3       Mean   :1.468  \n",
       " 3rd Qu.: 5.00   3rd Qu.:5.000                           3rd Qu.:2.000  \n",
       " Max.   :12.00   Max.   :7.000                           Max.   :2.000  \n",
       "                                                                        \n",
       "     garage          elevator      streetcategory heating     storage      \n",
       " Min.   :0.0000   Min.   :0.0000   S2: 42         1A:  8   Min.   :0.0000  \n",
       " 1st Qu.:0.0000   1st Qu.:1.0000   S3:107         3A:149   1st Qu.:1.0000  \n",
       " Median :0.0000   Median :1.0000   S4: 59         3B: 10   Median :1.0000  \n",
       " Mean   :0.2431   Mean   :0.7982   S5: 10         4A: 51   Mean   :0.8073  \n",
       " 3rd Qu.:0.0000   3rd Qu.:1.0000                           3rd Qu.:1.0000  \n",
       " Max.   :2.0000   Max.   :1.0000                           Max.   :2.0000  \n",
       "                                                                           "
      ]
     },
     "metadata": {},
     "output_type": "display_data"
    }
   ],
   "source": [
    "summary(table)"
   ]
  },
  {
   "cell_type": "markdown",
   "metadata": {},
   "source": [
    "#### (c) Create a frequency table, a piechart, and a barplot showing the numbers of apartments grouped by the variable ${\\tt out}$. For you, which method converys the information best?"
   ]
  },
  {
   "cell_type": "code",
   "execution_count": 58,
   "metadata": {},
   "outputs": [
    {
     "data": {
      "text/html": [
       "<dl class=dl-horizontal>\n",
       "\t<dt>E100</dt>\n",
       "\t\t<dd>122</dd>\n",
       "\t<dt>E25</dt>\n",
       "\t\t<dd>3</dd>\n",
       "\t<dt>E50</dt>\n",
       "\t\t<dd>87</dd>\n",
       "\t<dt>E75</dt>\n",
       "\t\t<dd>6</dd>\n",
       "</dl>\n"
      ],
      "text/latex": [
       "\\begin{description*}\n",
       "\\item[E100] 122\n",
       "\\item[E25] 3\n",
       "\\item[E50] 87\n",
       "\\item[E75] 6\n",
       "\\end{description*}\n"
      ],
      "text/markdown": [
       "E100\n",
       ":   122E25\n",
       ":   3E50\n",
       ":   87E75\n",
       ":   6\n",
       "\n"
      ],
      "text/plain": [
       "E100  E25  E50  E75 \n",
       " 122    3   87    6 "
      ]
     },
     "metadata": {},
     "output_type": "display_data"
    },
    {
     "data": {
      "image/png": "[encoded data removed]",
      "text/plain": [
       "plot without title"
      ]
     },
     "metadata": {},
     "output_type": "display_data"
    },
    {
     "data": {
      "image/png": "[encoded data removed]",
      "text/plain": [
       "plot without title"
      ]
     },
     "metadata": {},
     "output_type": "display_data"
    }
   ],
   "source": [
    "freqTable = summary(table$out)\n",
    "freqTable\n",
    "pie(freqTable)\n",
    "barplot(freqTable)"
   ]
  },
  {
   "cell_type": "markdown",
   "metadata": {},
   "source": [
    "#### (d) Characterize the distribution of the variable ${\\tt total price}$. That is, is the distribution (i) symmetric/skewed, or (ii) unimodal/multimodal? (iii) Does it have any outliers? "
   ]
  },
  {
   "cell_type": "code",
   "execution_count": 59,
   "metadata": {},
   "outputs": [
    {
     "data": {
      "image/png": "[encoded data removed]",
      "text/plain": [
       "Plot with title “Histogram of table$totalprice”"
      ]
     },
     "metadata": {},
     "output_type": "display_data"
    }
   ],
   "source": [
    "hist(table$totalprice)"
   ]
  },
  {
   "cell_type": "markdown",
   "metadata": {},
   "source": [
    "#### (e) Characterize the relationship between ${\\tt totalprice}$ and ${\\tt area}$."
   ]
  },
  {
   "cell_type": "code",
   "execution_count": 60,
   "metadata": {},
   "outputs": [
    {
     "data": {
      "image/png": "[encoded data removed]",
      "text/plain": [
       "plot without title"
      ]
     },
     "metadata": {},
     "output_type": "display_data"
    }
   ],
   "source": [
    "boxplot(totalprice~toilets, data=table, xlab=\"Toilets\", ylab=\"Total Price\")"
   ]
  },
  {
   "cell_type": "markdown",
   "metadata": {},
   "source": [
    "#### (f) Create a boxplot of ${\\tt totalprice}$ conditioned on ${\\tt toilets}$. Are there any outliers. Does there appear to be a large difference in total price between apartments with one bathroom and apartments with two bathrooms?"
   ]
  },
  {
   "cell_type": "code",
   "execution_count": 61,
   "metadata": {},
   "outputs": [
    {
     "data": {
      "image/png": "[encoded data removed]",
      "text/plain": [
       "plot without title"
      ]
     },
     "metadata": {},
     "output_type": "display_data"
    }
   ],
   "source": [
    "boxplot(totalprice~toilets, data=table, xlab=\"Toilets\", ylab=\"Total Price\")    "
   ]
  },
  {
   "cell_type": "markdown",
   "metadata": {},
   "source": [
    "#### (g) Explore the relationships between at least three variable pairs (not explored above) using the appropriate graphical summaries. Provide the plots and written interpretations!"
   ]
  },
  {
   "cell_type": "code",
   "execution_count": 65,
   "metadata": {},
   "outputs": [
    {
     "data": {
      "text/html": [
       "'Describes the relationship between area and rooms. Area and rooms have a linear relationship.'"
      ],
      "text/latex": [
       "'Describes the relationship between area and rooms. Area and rooms have a linear relationship.'"
      ],
      "text/markdown": [
       "'Describes the relationship between area and rooms. Area and rooms have a linear relationship.'"
      ],
      "text/plain": [
       "[1] \"Describes the relationship between area and rooms. Area and rooms have a linear relationship.\""
      ]
     },
     "metadata": {},
     "output_type": "display_data"
    },
    {
     "data": {
      "image/png": "[encoded data removed]",
      "text/plain": [
       "plot without title"
      ]
     },
     "metadata": {},
     "output_type": "display_data"
    },
    {
     "data": {
      "text/html": [
       "'Describes the relationship between price and storage. Higher prices correlate with increased storage capacity.'"
      ],
      "text/latex": [
       "'Describes the relationship between price and storage. Higher prices correlate with increased storage capacity.'"
      ],
      "text/markdown": [
       "'Describes the relationship between price and storage. Higher prices correlate with increased storage capacity.'"
      ],
      "text/plain": [
       "[1] \"Describes the relationship between price and storage. Higher prices correlate with increased storage capacity.\""
      ]
     },
     "metadata": {},
     "output_type": "display_data"
    },
    {
     "data": {
      "image/png": "[encoded data removed]",
      "text/plain": [
       "plot without title"
      ]
     },
     "metadata": {},
     "output_type": "display_data"
    },
    {
     "data": {
      "text/html": [
       "'Describes the relationship between price and number of garages. Higher prices correlate with an increased number of garages.'"
      ],
      "text/latex": [
       "'Describes the relationship between price and number of garages. Higher prices correlate with an increased number of garages.'"
      ],
      "text/markdown": [
       "'Describes the relationship between price and number of garages. Higher prices correlate with an increased number of garages.'"
      ],
      "text/plain": [
       "[1] \"Describes the relationship between price and number of garages. Higher prices correlate with an increased number of garages.\""
      ]
     },
     "metadata": {},
     "output_type": "display_data"
    },
    {
     "data": {
      "image/png": "[encoded data removed]",
      "text/plain": [
       "plot without title"
      ]
     },
     "metadata": {},
     "output_type": "display_data"
    }
   ],
   "source": [
    "boxplot(area~rooms, data=table, xlab=\"Rooms\", ylab=\"Area\")\n",
    "\"Describes the relationship between area and rooms. Area and rooms have a linear relationship.\"\n",
    "boxplot(totalprice~storage, data=table, xlab=\"Storage\", ylab=\"Price\")\n",
    "\"Describes the relationship between price and storage. Higher prices correlate with increased storage capacity.\"\n",
    "boxplot(totalprice~garage, data=table, xlab=\"Garages\", ylab=\"Price\")\n",
    "\"Describes the relationship between price and number of garages. Higher prices correlate with an increased number of garages.\"\n"
   ]
  }
 ],
 "metadata": {
  "kernelspec": {
   "display_name": "R",
   "language": "R",
   "name": "ir"
  },
  "language_info": {
   "codemirror_mode": "r",
   "file_extension": ".r",
   "mimetype": "text/x-r-source",
   "name": "R",
   "pygments_lexer": "r",
   "version": "3.4.2"
  }
 },
 "nbformat": 4,
 "nbformat_minor": 2
}
