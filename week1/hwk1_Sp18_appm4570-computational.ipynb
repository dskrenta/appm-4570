{
 "cells": [
  {
   "cell_type": "markdown",
   "metadata": {},
   "source": [
    "# Homework #1: Computational Portion\n",
    "All computations should be done in this notebook using the R kernel. This is your first opportunity to get familiar with R outside of class, so please take your time on the problems that require it. Working in small groups is allowed, but it is important that you make an effort to master the material and hand in your own work.\n",
    "\n",
    "#### You will be required to submit this file (with your solutions) to Canvas by 2pm on Friday, January 26."
   ]
  },
  {
   "cell_type": "markdown",
   "metadata": {},
   "source": [
    "## Problem 1\n",
    "\n",
    "#### (a) Load the adm.txt file into R (this file can be found on the course webpage: https://www.colorado.edu/amath/sites/default/files/attached-files/adm.txt.\n",
    "\n",
    "\n",
    "The dataset contains information from six departments at a University. The variables are:\n",
    "\n",
    "1. dpt = department name (A through F)\n",
    "2. app = the number of applications received by a department's graduate program.\n",
    "3. adm = the number of applications accepted to a department's graduate program.\n",
    "4. sex: m = male; f = female"
   ]
  },
  {
   "cell_type": "code",
   "execution_count": null,
   "metadata": {
    "collapsed": false
   },
   "outputs": [],
   "source": []
  },
  {
   "cell_type": "markdown",
   "metadata": {},
   "source": [
    "#### (b) Write code that extracts and prints the data from department B only."
   ]
  },
  {
   "cell_type": "code",
   "execution_count": null,
   "metadata": {
    "collapsed": false
   },
   "outputs": [],
   "source": []
  },
  {
   "cell_type": "markdown",
   "metadata": {},
   "source": [
    "#### (c) Write code that prints departments with a rate of acceptance of lower than 40%."
   ]
  },
  {
   "cell_type": "code",
   "execution_count": null,
   "metadata": {
    "collapsed": false
   },
   "outputs": [],
   "source": []
  },
  {
   "cell_type": "markdown",
   "metadata": {},
   "source": [
    "#### (d) What is the addmission rate for males at this university (across all departments)?"
   ]
  },
  {
   "cell_type": "code",
   "execution_count": null,
   "metadata": {
    "collapsed": false
   },
   "outputs": [],
   "source": []
  },
  {
   "cell_type": "markdown",
   "metadata": {},
   "source": [
    "#### (d) What is the addmission rate for females at this university (across all departments)?"
   ]
  },
  {
   "cell_type": "code",
   "execution_count": null,
   "metadata": {
    "collapsed": false
   },
   "outputs": [],
   "source": []
  },
  {
   "cell_type": "markdown",
   "metadata": {},
   "source": [
    "#### (e) Is there a large discrepancy? Could this be evidence of discrimination against female applicants?"
   ]
  },
  {
   "cell_type": "markdown",
   "metadata": {},
   "source": []
  },
  {
   "cell_type": "markdown",
   "metadata": {},
   "source": [
    "#### (f) What is the admission rate for males, and separately, females, at this university, conditioned on department?"
   ]
  },
  {
   "cell_type": "code",
   "execution_count": null,
   "metadata": {
    "collapsed": false
   },
   "outputs": [],
   "source": []
  },
  {
   "cell_type": "markdown",
   "metadata": {},
   "source": [
    "#### (g) What do you notice about these results? Are they in tension with the result from (d)?"
   ]
  },
  {
   "cell_type": "markdown",
   "metadata": {},
   "source": []
  },
  {
   "cell_type": "markdown",
   "metadata": {},
   "source": [
    "## Problem 2\n",
    "\n",
    "Verify the results of theoretical question 3, parts (c) and (d), by simulating $x_1,...,x_{50}$ and performing the relevant computations. "
   ]
  },
  {
   "cell_type": "code",
   "execution_count": null,
   "metadata": {
    "collapsed": false
   },
   "outputs": [],
   "source": []
  },
  {
   "cell_type": "markdown",
   "metadata": {},
   "source": [
    "## Problem 3\n",
    "\n",
    "#### (a) The data frame VIT2005 in the PASWR2 package contains descriptive information and the appraised total price (in euros) for apartments in Vitoria, Spain. Load the data vit2005.txt into R. It can be found at this link: https://www.colorado.edu/amath/sites/default/files/attached-files/vit2005.txt. \n",
    "\n",
    "Here are descriptions of the variables:\n",
    "\n",
    "1. totalprice (the market total price (in Euros) of the apartment including garage(s) and storage room(s))\n",
    "\n",
    "2. area (the total living area of the apartment in square meters)\n",
    "\n",
    "3. zone (a factor indicating the neighborhood where the apartment is located with levels Z11, Z21, Z31, Z32, Z34, Z35, Z36, Z37, Z38, Z41, Z42, Z43, Z44, Z45, Z46, Z47, Z48, Z49, Z52, Z53, Z56, Z61, and Z62)\n",
    "\n",
    "4. category (a factor indicating the condition of the apartment with levels 2A, 2B, 3A, 3B, 4A, 4B, and 5A ordered so that 2A is the best and 5A is the worst)\n",
    "\n",
    "5. age (age of the apartment in years)\n",
    "\n",
    "6. floor (floor on which the apartment is located)\n",
    "\n",
    "7. rooms (total number of rooms including bedrooms, dining room, and kitchen)\n",
    "\n",
    "8. out (a factor indicating the percent of the apartment exposed to the elements: The levels E100, E75, E50, and E25, correspond to complete exposure, 75% exposure, 50% exposure, and 25% exposure, respectively.)\n",
    "\n",
    "9. conservation (is an ordered factor indicating the state of conservation of the apartment. The levels 1A, 2A, 2B, and 3A are ordered from best to worst conservation.)\n",
    "\n",
    "10. toilets (the number of bathrooms)\n",
    "\n",
    "11. garage (the number of garages)\n",
    "\n",
    "12. elevator (indicates the absence (0) or presence (1) of elevators.)\n",
    "\n",
    "13. streetcategory (an ordered factor from best to worst indicating the category of the street with levels S2, S3, S4, and S5)\n",
    "\n",
    "14. heating (a factor indicating the type of heating with levels 1A, 3A, 3B, and 4A which correspond to: no heating, low-standard private heating, high-standard private heating, and central heating, respectively.)\n",
    "\n",
    "15. storage (the number of storage rooms outside of the apartment)"
   ]
  },
  {
   "cell_type": "code",
   "execution_count": null,
   "metadata": {
    "collapsed": false
   },
   "outputs": [],
   "source": []
  },
  {
   "cell_type": "markdown",
   "metadata": {},
   "source": [
    "#### (b) Explore the data by providing a numerical summary of all variables."
   ]
  },
  {
   "cell_type": "code",
   "execution_count": null,
   "metadata": {
    "collapsed": true
   },
   "outputs": [],
   "source": []
  },
  {
   "cell_type": "markdown",
   "metadata": {},
   "source": [
    "#### (c) Create a frequency table, a piechart, and a barplot showing the numbers of apartments grouped by the variable ${\\tt out}$. For you, which method converys the information best?"
   ]
  },
  {
   "cell_type": "code",
   "execution_count": null,
   "metadata": {
    "collapsed": true
   },
   "outputs": [],
   "source": []
  },
  {
   "cell_type": "markdown",
   "metadata": {},
   "source": [
    "#### (d) Characterize the distribution of the variable ${\\tt total price}$. That is, is the distribution (i) symmetric/skewed, or (ii) unimodal/multimodal? (iii) Does it have any outliers? "
   ]
  },
  {
   "cell_type": "code",
   "execution_count": null,
   "metadata": {
    "collapsed": true
   },
   "outputs": [],
   "source": []
  },
  {
   "cell_type": "markdown",
   "metadata": {},
   "source": [
    "#### (e) Characterize the relationship between ${\\tt totalprice}$ and ${\\tt area}$."
   ]
  },
  {
   "cell_type": "code",
   "execution_count": null,
   "metadata": {
    "collapsed": true
   },
   "outputs": [],
   "source": []
  },
  {
   "cell_type": "markdown",
   "metadata": {},
   "source": [
    "#### (f) Create a boxplot of ${\\tt totalprice}$ conditioned on ${\\tt toilets}$. Are there any outliers. Does there appear to be a large difference in total price between apartments with one bathroom and apartments with two bathrooms?"
   ]
  },
  {
   "cell_type": "code",
   "execution_count": null,
   "metadata": {
    "collapsed": true
   },
   "outputs": [],
   "source": []
  },
  {
   "cell_type": "markdown",
   "metadata": {},
   "source": [
    "#### (g) Explore the relationships between at least three variable pairs (not explored above) using the appropriate graphical summaries. Provide the plots and written interpretations!"
   ]
  },
  {
   "cell_type": "code",
   "execution_count": null,
   "metadata": {
    "collapsed": true
   },
   "outputs": [],
   "source": []
  }
 ],
 "metadata": {
  "kernelspec": {
   "display_name": "R",
   "language": "R",
   "name": "ir"
  },
  "language_info": {
   "codemirror_mode": "r",
   "file_extension": ".r",
   "mimetype": "text/x-r-source",
   "name": "R",
   "pygments_lexer": "r",
   "version": "3.3.2"
  }
 },
 "nbformat": 4,
 "nbformat_minor": 2
}
