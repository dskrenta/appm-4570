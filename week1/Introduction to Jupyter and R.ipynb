{
 "cells": [
  {
   "cell_type": "markdown",
   "metadata": {},
   "source": [
    "# Introduction to R/Jupyter\n",
    "\n",
    " This is a Jupyter Notebook. A Jupyter Notebook is an [\"open-source web application that allows you to create and share documents that contain live code, equations, visualizations and narrative text.\"](http://jupyter.org) We will use the R programming languge and LaTex typsetting in Jupyter to prepare assignments and projects (you can also use other languages in Jupyter). The purpose of this note book is to familiarize yourself with programming in R.\n",
    "\n",
    "R is a powerful open source programming language that is used for statistical computation and graphics. In many ways, it is similar to Matlab and Python (so, if you know these languages, learning R will be fairly easy!). \n",
    "\n",
    "The best way to learn R and Jupyter is to jump right in! Below we walk through how to use Jupyter and R. **Text in boldface indicates exercises that I am asking you to complete.**\n"
   ]
  },
  {
   "cell_type": "markdown",
   "metadata": {},
   "source": [
    "## Part I: Basics\n",
    "\n",
    "Jupyter has different types of cells. This cell is a \"markdown\" cell, and is used to write equations (LaTeX) and text. The other type of cell that we will use is a \"code\" cell. This is where we will program using R. You can create a new cell from the plus sign above (delete using the scissor) and select the type of cell using the drop down menu above and to the right. \n",
    "\n",
    "#### Double click on the \"Type Markdown and LaTex: $a^2$\" and type your favorite equation (come on, you know you have one...)."
   ]
  },
  {
   "cell_type": "markdown",
   "metadata": {},
   "source": [
    "$P(\\boldsymbol\\theta \\, | \\, \\boldsymbol y) \\propto P(\\boldsymbol y \\, | \\, \\boldsymbol\\theta)P(\\boldsymbol\\theta)$"
   ]
  },
  {
   "cell_type": "markdown",
   "metadata": {},
   "source": [
    "In R/code cells, you can do (almost) anything that you can do in R, from basic computations to complex statistical modeling. \n",
    "\n",
    "#### Create an R code cell below this cell. Compute the natural log of e. You may have guessed that the right functions for this are ${\\tt log()}$ and ${\\tt exp()}$. But with R, you don't have to guess. You can type \"${\\tt ?? log}$\" to get some general information about functions related to logarithms (the same applies to other concepts); if you type \"? X\" you will get information about the specific function X (e.g., try \"${\\tt ? exp}$\"). Often, a Google search is a really effective way to learn about R functions."
   ]
  },
  {
   "cell_type": "markdown",
   "metadata": {},
   "source": [
    "The function ${\\tt c()}$ will allow you to create vectors (\"c\" for combine). \n",
    "\n",
    "#### In the cell below, create three vectors:\n",
    "\n",
    "1. a vector containing the numbers 1, 2, 5.3, 6, -2, 4;\n",
    "2. a vector containing the strings \"one\", \"two, and \"three\" (strings are formed in R by putting quotes around the words);\n",
    "3. a vector of logicals: TRUE, TRUE, FALSE, TRUE."
   ]
  },
  {
   "cell_type": "code",
   "execution_count": 1,
   "metadata": {},
   "outputs": [
    {
     "data": {
      "text/html": [
       "<ol class=list-inline>\n",
       "\t<li>1</li>\n",
       "\t<li>2</li>\n",
       "\t<li>3</li>\n",
       "</ol>\n"
      ],
      "text/latex": [
       "\\begin{enumerate*}\n",
       "\\item 1\n",
       "\\item 2\n",
       "\\item 3\n",
       "\\end{enumerate*}\n"
      ],
      "text/markdown": [
       "1. 1\n",
       "2. 2\n",
       "3. 3\n",
       "\n",
       "\n"
      ],
      "text/plain": [
       "[1] 1 2 3"
      ]
     },
     "metadata": {},
     "output_type": "display_data"
    },
    {
     "data": {
      "text/html": [
       "<ol class=list-inline>\n",
       "\t<li>1</li>\n",
       "\t<li>2</li>\n",
       "\t<li>5.3</li>\n",
       "\t<li>6</li>\n",
       "\t<li>-2</li>\n",
       "\t<li>4</li>\n",
       "</ol>\n"
      ],
      "text/latex": [
       "\\begin{enumerate*}\n",
       "\\item 1\n",
       "\\item 2\n",
       "\\item 5.3\n",
       "\\item 6\n",
       "\\item -2\n",
       "\\item 4\n",
       "\\end{enumerate*}\n"
      ],
      "text/markdown": [
       "1. 1\n",
       "2. 2\n",
       "3. 5.3\n",
       "4. 6\n",
       "5. -2\n",
       "6. 4\n",
       "\n",
       "\n"
      ],
      "text/plain": [
       "[1]  1.0  2.0  5.3  6.0 -2.0  4.0"
      ]
     },
     "metadata": {},
     "output_type": "display_data"
    },
    {
     "data": {
      "text/html": [
       "<ol class=list-inline>\n",
       "\t<li>'one'</li>\n",
       "\t<li>'two'</li>\n",
       "\t<li>'three'</li>\n",
       "</ol>\n"
      ],
      "text/latex": [
       "\\begin{enumerate*}\n",
       "\\item 'one'\n",
       "\\item 'two'\n",
       "\\item 'three'\n",
       "\\end{enumerate*}\n"
      ],
      "text/markdown": [
       "1. 'one'\n",
       "2. 'two'\n",
       "3. 'three'\n",
       "\n",
       "\n"
      ],
      "text/plain": [
       "[1] \"one\"   \"two\"   \"three\""
      ]
     },
     "metadata": {},
     "output_type": "display_data"
    },
    {
     "data": {
      "text/html": [
       "<ol class=list-inline>\n",
       "\t<li>TRUE</li>\n",
       "\t<li>TRUE</li>\n",
       "\t<li>FALSE</li>\n",
       "\t<li>TRUE</li>\n",
       "</ol>\n"
      ],
      "text/latex": [
       "\\begin{enumerate*}\n",
       "\\item TRUE\n",
       "\\item TRUE\n",
       "\\item FALSE\n",
       "\\item TRUE\n",
       "\\end{enumerate*}\n"
      ],
      "text/markdown": [
       "1. TRUE\n",
       "2. TRUE\n",
       "3. FALSE\n",
       "4. TRUE\n",
       "\n",
       "\n"
      ],
      "text/plain": [
       "[1]  TRUE  TRUE FALSE  TRUE"
      ]
     },
     "metadata": {},
     "output_type": "display_data"
    }
   ],
   "source": [
    "c(1,2,3)\n",
    "c(1, 2, 5.3, 6, -2, 4)\n",
    "c(\"one\", \"two\", \"three\")\n",
    "c(TRUE, TRUE, FALSE, TRUE)"
   ]
  },
  {
   "cell_type": "markdown",
   "metadata": {},
   "source": [
    "#### Next, type ${\\tt seq(1,10)}$ in the R cell below. What does it do? What about ${\\tt seq(1, 20, by = 2)}$? ${\\tt seq(10, 20, len = 100)}$? Why are these convenient?"
   ]
  },
  {
   "cell_type": "code",
   "execution_count": 2,
   "metadata": {},
   "outputs": [
    {
     "data": {
      "text/html": [
       "<ol class=list-inline>\n",
       "\t<li>1</li>\n",
       "\t<li>2</li>\n",
       "\t<li>3</li>\n",
       "\t<li>4</li>\n",
       "\t<li>5</li>\n",
       "\t<li>6</li>\n",
       "\t<li>7</li>\n",
       "\t<li>8</li>\n",
       "\t<li>9</li>\n",
       "\t<li>10</li>\n",
       "</ol>\n"
      ],
      "text/latex": [
       "\\begin{enumerate*}\n",
       "\\item 1\n",
       "\\item 2\n",
       "\\item 3\n",
       "\\item 4\n",
       "\\item 5\n",
       "\\item 6\n",
       "\\item 7\n",
       "\\item 8\n",
       "\\item 9\n",
       "\\item 10\n",
       "\\end{enumerate*}\n"
      ],
      "text/markdown": [
       "1. 1\n",
       "2. 2\n",
       "3. 3\n",
       "4. 4\n",
       "5. 5\n",
       "6. 6\n",
       "7. 7\n",
       "8. 8\n",
       "9. 9\n",
       "10. 10\n",
       "\n",
       "\n"
      ],
      "text/plain": [
       " [1]  1  2  3  4  5  6  7  8  9 10"
      ]
     },
     "metadata": {},
     "output_type": "display_data"
    },
    {
     "data": {
      "text/html": [
       "<ol class=list-inline>\n",
       "\t<li>1</li>\n",
       "\t<li>3</li>\n",
       "\t<li>5</li>\n",
       "\t<li>7</li>\n",
       "\t<li>9</li>\n",
       "\t<li>11</li>\n",
       "\t<li>13</li>\n",
       "\t<li>15</li>\n",
       "\t<li>17</li>\n",
       "\t<li>19</li>\n",
       "</ol>\n"
      ],
      "text/latex": [
       "\\begin{enumerate*}\n",
       "\\item 1\n",
       "\\item 3\n",
       "\\item 5\n",
       "\\item 7\n",
       "\\item 9\n",
       "\\item 11\n",
       "\\item 13\n",
       "\\item 15\n",
       "\\item 17\n",
       "\\item 19\n",
       "\\end{enumerate*}\n"
      ],
      "text/markdown": [
       "1. 1\n",
       "2. 3\n",
       "3. 5\n",
       "4. 7\n",
       "5. 9\n",
       "6. 11\n",
       "7. 13\n",
       "8. 15\n",
       "9. 17\n",
       "10. 19\n",
       "\n",
       "\n"
      ],
      "text/plain": [
       " [1]  1  3  5  7  9 11 13 15 17 19"
      ]
     },
     "metadata": {},
     "output_type": "display_data"
    },
    {
     "data": {
      "text/html": [
       "<ol class=list-inline>\n",
       "\t<li>10</li>\n",
       "\t<li>10.1010101010101</li>\n",
       "\t<li>10.2020202020202</li>\n",
       "\t<li>10.3030303030303</li>\n",
       "\t<li>10.4040404040404</li>\n",
       "\t<li>10.5050505050505</li>\n",
       "\t<li>10.6060606060606</li>\n",
       "\t<li>10.7070707070707</li>\n",
       "\t<li>10.8080808080808</li>\n",
       "\t<li>10.9090909090909</li>\n",
       "\t<li>11.010101010101</li>\n",
       "\t<li>11.1111111111111</li>\n",
       "\t<li>11.2121212121212</li>\n",
       "\t<li>11.3131313131313</li>\n",
       "\t<li>11.4141414141414</li>\n",
       "\t<li>11.5151515151515</li>\n",
       "\t<li>11.6161616161616</li>\n",
       "\t<li>11.7171717171717</li>\n",
       "\t<li>11.8181818181818</li>\n",
       "\t<li>11.9191919191919</li>\n",
       "\t<li>12.020202020202</li>\n",
       "\t<li>12.1212121212121</li>\n",
       "\t<li>12.2222222222222</li>\n",
       "\t<li>12.3232323232323</li>\n",
       "\t<li>12.4242424242424</li>\n",
       "\t<li>12.5252525252525</li>\n",
       "\t<li>12.6262626262626</li>\n",
       "\t<li>12.7272727272727</li>\n",
       "\t<li>12.8282828282828</li>\n",
       "\t<li>12.9292929292929</li>\n",
       "\t<li>13.030303030303</li>\n",
       "\t<li>13.1313131313131</li>\n",
       "\t<li>13.2323232323232</li>\n",
       "\t<li>13.3333333333333</li>\n",
       "\t<li>13.4343434343434</li>\n",
       "\t<li>13.5353535353535</li>\n",
       "\t<li>13.6363636363636</li>\n",
       "\t<li>13.7373737373737</li>\n",
       "\t<li>13.8383838383838</li>\n",
       "\t<li>13.9393939393939</li>\n",
       "\t<li>14.040404040404</li>\n",
       "\t<li>14.1414141414141</li>\n",
       "\t<li>14.2424242424242</li>\n",
       "\t<li>14.3434343434343</li>\n",
       "\t<li>14.4444444444444</li>\n",
       "\t<li>14.5454545454545</li>\n",
       "\t<li>14.6464646464646</li>\n",
       "\t<li>14.7474747474747</li>\n",
       "\t<li>14.8484848484848</li>\n",
       "\t<li>14.9494949494949</li>\n",
       "\t<li>15.0505050505051</li>\n",
       "\t<li>15.1515151515152</li>\n",
       "\t<li>15.2525252525253</li>\n",
       "\t<li>15.3535353535354</li>\n",
       "\t<li>15.4545454545455</li>\n",
       "\t<li>15.5555555555556</li>\n",
       "\t<li>15.6565656565657</li>\n",
       "\t<li>15.7575757575758</li>\n",
       "\t<li>15.8585858585859</li>\n",
       "\t<li>15.959595959596</li>\n",
       "\t<li>16.0606060606061</li>\n",
       "\t<li>16.1616161616162</li>\n",
       "\t<li>16.2626262626263</li>\n",
       "\t<li>16.3636363636364</li>\n",
       "\t<li>16.4646464646465</li>\n",
       "\t<li>16.5656565656566</li>\n",
       "\t<li>16.6666666666667</li>\n",
       "\t<li>16.7676767676768</li>\n",
       "\t<li>16.8686868686869</li>\n",
       "\t<li>16.969696969697</li>\n",
       "\t<li>17.0707070707071</li>\n",
       "\t<li>17.1717171717172</li>\n",
       "\t<li>17.2727272727273</li>\n",
       "\t<li>17.3737373737374</li>\n",
       "\t<li>17.4747474747475</li>\n",
       "\t<li>17.5757575757576</li>\n",
       "\t<li>17.6767676767677</li>\n",
       "\t<li>17.7777777777778</li>\n",
       "\t<li>17.8787878787879</li>\n",
       "\t<li>17.979797979798</li>\n",
       "\t<li>18.0808080808081</li>\n",
       "\t<li>18.1818181818182</li>\n",
       "\t<li>18.2828282828283</li>\n",
       "\t<li>18.3838383838384</li>\n",
       "\t<li>18.4848484848485</li>\n",
       "\t<li>18.5858585858586</li>\n",
       "\t<li>18.6868686868687</li>\n",
       "\t<li>18.7878787878788</li>\n",
       "\t<li>18.8888888888889</li>\n",
       "\t<li>18.989898989899</li>\n",
       "\t<li>19.0909090909091</li>\n",
       "\t<li>19.1919191919192</li>\n",
       "\t<li>19.2929292929293</li>\n",
       "\t<li>19.3939393939394</li>\n",
       "\t<li>19.4949494949495</li>\n",
       "\t<li>19.5959595959596</li>\n",
       "\t<li>19.6969696969697</li>\n",
       "\t<li>19.7979797979798</li>\n",
       "\t<li>19.8989898989899</li>\n",
       "\t<li>20</li>\n",
       "</ol>\n"
      ],
      "text/latex": [
       "\\begin{enumerate*}\n",
       "\\item 10\n",
       "\\item 10.1010101010101\n",
       "\\item 10.2020202020202\n",
       "\\item 10.3030303030303\n",
       "\\item 10.4040404040404\n",
       "\\item 10.5050505050505\n",
       "\\item 10.6060606060606\n",
       "\\item 10.7070707070707\n",
       "\\item 10.8080808080808\n",
       "\\item 10.9090909090909\n",
       "\\item 11.010101010101\n",
       "\\item 11.1111111111111\n",
       "\\item 11.2121212121212\n",
       "\\item 11.3131313131313\n",
       "\\item 11.4141414141414\n",
       "\\item 11.5151515151515\n",
       "\\item 11.6161616161616\n",
       "\\item 11.7171717171717\n",
       "\\item 11.8181818181818\n",
       "\\item 11.9191919191919\n",
       "\\item 12.020202020202\n",
       "\\item 12.1212121212121\n",
       "\\item 12.2222222222222\n",
       "\\item 12.3232323232323\n",
       "\\item 12.4242424242424\n",
       "\\item 12.5252525252525\n",
       "\\item 12.6262626262626\n",
       "\\item 12.7272727272727\n",
       "\\item 12.8282828282828\n",
       "\\item 12.9292929292929\n",
       "\\item 13.030303030303\n",
       "\\item 13.1313131313131\n",
       "\\item 13.2323232323232\n",
       "\\item 13.3333333333333\n",
       "\\item 13.4343434343434\n",
       "\\item 13.5353535353535\n",
       "\\item 13.6363636363636\n",
       "\\item 13.7373737373737\n",
       "\\item 13.8383838383838\n",
       "\\item 13.9393939393939\n",
       "\\item 14.040404040404\n",
       "\\item 14.1414141414141\n",
       "\\item 14.2424242424242\n",
       "\\item 14.3434343434343\n",
       "\\item 14.4444444444444\n",
       "\\item 14.5454545454545\n",
       "\\item 14.6464646464646\n",
       "\\item 14.7474747474747\n",
       "\\item 14.8484848484848\n",
       "\\item 14.9494949494949\n",
       "\\item 15.0505050505051\n",
       "\\item 15.1515151515152\n",
       "\\item 15.2525252525253\n",
       "\\item 15.3535353535354\n",
       "\\item 15.4545454545455\n",
       "\\item 15.5555555555556\n",
       "\\item 15.6565656565657\n",
       "\\item 15.7575757575758\n",
       "\\item 15.8585858585859\n",
       "\\item 15.959595959596\n",
       "\\item 16.0606060606061\n",
       "\\item 16.1616161616162\n",
       "\\item 16.2626262626263\n",
       "\\item 16.3636363636364\n",
       "\\item 16.4646464646465\n",
       "\\item 16.5656565656566\n",
       "\\item 16.6666666666667\n",
       "\\item 16.7676767676768\n",
       "\\item 16.8686868686869\n",
       "\\item 16.969696969697\n",
       "\\item 17.0707070707071\n",
       "\\item 17.1717171717172\n",
       "\\item 17.2727272727273\n",
       "\\item 17.3737373737374\n",
       "\\item 17.4747474747475\n",
       "\\item 17.5757575757576\n",
       "\\item 17.6767676767677\n",
       "\\item 17.7777777777778\n",
       "\\item 17.8787878787879\n",
       "\\item 17.979797979798\n",
       "\\item 18.0808080808081\n",
       "\\item 18.1818181818182\n",
       "\\item 18.2828282828283\n",
       "\\item 18.3838383838384\n",
       "\\item 18.4848484848485\n",
       "\\item 18.5858585858586\n",
       "\\item 18.6868686868687\n",
       "\\item 18.7878787878788\n",
       "\\item 18.8888888888889\n",
       "\\item 18.989898989899\n",
       "\\item 19.0909090909091\n",
       "\\item 19.1919191919192\n",
       "\\item 19.2929292929293\n",
       "\\item 19.3939393939394\n",
       "\\item 19.4949494949495\n",
       "\\item 19.5959595959596\n",
       "\\item 19.6969696969697\n",
       "\\item 19.7979797979798\n",
       "\\item 19.8989898989899\n",
       "\\item 20\n",
       "\\end{enumerate*}\n"
      ],
      "text/markdown": [
       "1. 10\n",
       "2. 10.1010101010101\n",
       "3. 10.2020202020202\n",
       "4. 10.3030303030303\n",
       "5. 10.4040404040404\n",
       "6. 10.5050505050505\n",
       "7. 10.6060606060606\n",
       "8. 10.7070707070707\n",
       "9. 10.8080808080808\n",
       "10. 10.9090909090909\n",
       "11. 11.010101010101\n",
       "12. 11.1111111111111\n",
       "13. 11.2121212121212\n",
       "14. 11.3131313131313\n",
       "15. 11.4141414141414\n",
       "16. 11.5151515151515\n",
       "17. 11.6161616161616\n",
       "18. 11.7171717171717\n",
       "19. 11.8181818181818\n",
       "20. 11.9191919191919\n",
       "21. 12.020202020202\n",
       "22. 12.1212121212121\n",
       "23. 12.2222222222222\n",
       "24. 12.3232323232323\n",
       "25. 12.4242424242424\n",
       "26. 12.5252525252525\n",
       "27. 12.6262626262626\n",
       "28. 12.7272727272727\n",
       "29. 12.8282828282828\n",
       "30. 12.9292929292929\n",
       "31. 13.030303030303\n",
       "32. 13.1313131313131\n",
       "33. 13.2323232323232\n",
       "34. 13.3333333333333\n",
       "35. 13.4343434343434\n",
       "36. 13.5353535353535\n",
       "37. 13.6363636363636\n",
       "38. 13.7373737373737\n",
       "39. 13.8383838383838\n",
       "40. 13.9393939393939\n",
       "41. 14.040404040404\n",
       "42. 14.1414141414141\n",
       "43. 14.2424242424242\n",
       "44. 14.3434343434343\n",
       "45. 14.4444444444444\n",
       "46. 14.5454545454545\n",
       "47. 14.6464646464646\n",
       "48. 14.7474747474747\n",
       "49. 14.8484848484848\n",
       "50. 14.9494949494949\n",
       "51. 15.0505050505051\n",
       "52. 15.1515151515152\n",
       "53. 15.2525252525253\n",
       "54. 15.3535353535354\n",
       "55. 15.4545454545455\n",
       "56. 15.5555555555556\n",
       "57. 15.6565656565657\n",
       "58. 15.7575757575758\n",
       "59. 15.8585858585859\n",
       "60. 15.959595959596\n",
       "61. 16.0606060606061\n",
       "62. 16.1616161616162\n",
       "63. 16.2626262626263\n",
       "64. 16.3636363636364\n",
       "65. 16.4646464646465\n",
       "66. 16.5656565656566\n",
       "67. 16.6666666666667\n",
       "68. 16.7676767676768\n",
       "69. 16.8686868686869\n",
       "70. 16.969696969697\n",
       "71. 17.0707070707071\n",
       "72. 17.1717171717172\n",
       "73. 17.2727272727273\n",
       "74. 17.3737373737374\n",
       "75. 17.4747474747475\n",
       "76. 17.5757575757576\n",
       "77. 17.6767676767677\n",
       "78. 17.7777777777778\n",
       "79. 17.8787878787879\n",
       "80. 17.979797979798\n",
       "81. 18.0808080808081\n",
       "82. 18.1818181818182\n",
       "83. 18.2828282828283\n",
       "84. 18.3838383838384\n",
       "85. 18.4848484848485\n",
       "86. 18.5858585858586\n",
       "87. 18.6868686868687\n",
       "88. 18.7878787878788\n",
       "89. 18.8888888888889\n",
       "90. 18.989898989899\n",
       "91. 19.0909090909091\n",
       "92. 19.1919191919192\n",
       "93. 19.2929292929293\n",
       "94. 19.3939393939394\n",
       "95. 19.4949494949495\n",
       "96. 19.5959595959596\n",
       "97. 19.6969696969697\n",
       "98. 19.7979797979798\n",
       "99. 19.8989898989899\n",
       "100. 20\n",
       "\n",
       "\n"
      ],
      "text/plain": [
       "  [1] 10.00000 10.10101 10.20202 10.30303 10.40404 10.50505 10.60606 10.70707\n",
       "  [9] 10.80808 10.90909 11.01010 11.11111 11.21212 11.31313 11.41414 11.51515\n",
       " [17] 11.61616 11.71717 11.81818 11.91919 12.02020 12.12121 12.22222 12.32323\n",
       " [25] 12.42424 12.52525 12.62626 12.72727 12.82828 12.92929 13.03030 13.13131\n",
       " [33] 13.23232 13.33333 13.43434 13.53535 13.63636 13.73737 13.83838 13.93939\n",
       " [41] 14.04040 14.14141 14.24242 14.34343 14.44444 14.54545 14.64646 14.74747\n",
       " [49] 14.84848 14.94949 15.05051 15.15152 15.25253 15.35354 15.45455 15.55556\n",
       " [57] 15.65657 15.75758 15.85859 15.95960 16.06061 16.16162 16.26263 16.36364\n",
       " [65] 16.46465 16.56566 16.66667 16.76768 16.86869 16.96970 17.07071 17.17172\n",
       " [73] 17.27273 17.37374 17.47475 17.57576 17.67677 17.77778 17.87879 17.97980\n",
       " [81] 18.08081 18.18182 18.28283 18.38384 18.48485 18.58586 18.68687 18.78788\n",
       " [89] 18.88889 18.98990 19.09091 19.19192 19.29293 19.39394 19.49495 19.59596\n",
       " [97] 19.69697 19.79798 19.89899 20.00000"
      ]
     },
     "metadata": {},
     "output_type": "display_data"
    }
   ],
   "source": [
    "seq(1, 10)\n",
    "seq(1, 20, by = 2)\n",
    "seq(10, 20, len = 100)"
   ]
  },
  {
   "cell_type": "markdown",
   "metadata": {},
   "source": [
    "#### What does the ${\\tt rep}$ function do? This function can take in several arguments. To see what they are, use the help file! Explore the arguments \"times\" and \"each\". What do they do?"
   ]
  },
  {
   "cell_type": "code",
   "execution_count": 21,
   "metadata": {},
   "outputs": [
    {
     "data": {
      "text/html": [
       "<ol class=list-inline>\n",
       "\t<li>2</li>\n",
       "\t<li>2</li>\n",
       "\t<li>2</li>\n",
       "\t<li>2</li>\n",
       "</ol>\n"
      ],
      "text/latex": [
       "\\begin{enumerate*}\n",
       "\\item 2\n",
       "\\item 2\n",
       "\\item 2\n",
       "\\item 2\n",
       "\\end{enumerate*}\n"
      ],
      "text/markdown": [
       "1. 2\n",
       "2. 2\n",
       "3. 2\n",
       "4. 2\n",
       "\n",
       "\n"
      ],
      "text/plain": [
       "[1] 2 2 2 2"
      ]
     },
     "metadata": {},
     "output_type": "display_data"
    }
   ],
   "source": [
    "rep(2, times = 2, each = 2)"
   ]
  },
  {
   "cell_type": "markdown",
   "metadata": {},
   "source": [
    "You can store vectors in R using ${\\tt =}$ or ${\\tt <-}$. \n",
    "\n",
    "#### Store the numbers 1 through 5 in a vector ${\\tt v1}$. Create another vector, ${\\tt v2}$, and join it together in a new vector, ${\\tt new}$."
   ]
  },
  {
   "cell_type": "code",
   "execution_count": 15,
   "metadata": {},
   "outputs": [
    {
     "data": {
      "text/html": [
       "<ol class=list-inline>\n",
       "\t<li>1</li>\n",
       "\t<li>2</li>\n",
       "\t<li>3</li>\n",
       "\t<li>4</li>\n",
       "\t<li>5</li>\n",
       "\t<li>6</li>\n",
       "\t<li>7</li>\n",
       "</ol>\n"
      ],
      "text/latex": [
       "\\begin{enumerate*}\n",
       "\\item 1\n",
       "\\item 2\n",
       "\\item 3\n",
       "\\item 4\n",
       "\\item 5\n",
       "\\item 6\n",
       "\\item 7\n",
       "\\end{enumerate*}\n"
      ],
      "text/markdown": [
       "1. 1\n",
       "2. 2\n",
       "3. 3\n",
       "4. 4\n",
       "5. 5\n",
       "6. 6\n",
       "7. 7\n",
       "\n",
       "\n"
      ],
      "text/plain": [
       "[1] 1 2 3 4 5 6 7"
      ]
     },
     "metadata": {},
     "output_type": "display_data"
    }
   ],
   "source": [
    "v1 = c(1, 2, 3, 4, 5)\n",
    "v2 = c(6, 7)\n",
    "new = c(v1, v2)\n",
    "new"
   ]
  },
  {
   "cell_type": "markdown",
   "metadata": {},
   "source": [
    "Factors, also known as categorical/qualitative variables, are important in statistics. \"Shoe color\" (Black, Brown, etc.), \"drink size\" (S, M, L) and \"sex\" (M, F) are examples of factors. Below, in f1, I create a factor with six groups; note that R treats these values as factors; so, for example, you can't multiply f1 by a number. Try multiplying f1 by 3..."
   ]
  },
  {
   "cell_type": "code",
   "execution_count": 24,
   "metadata": {},
   "outputs": [],
   "source": [
    "f1 = factor(rep(1:6,3))\n",
    "# f1 = f1 * 3\n",
    "f2 = factor(c(\"a\",7,\"blue\", \"blue\"))\n"
   ]
  },
  {
   "cell_type": "markdown",
   "metadata": {},
   "source": [
    "#### In the code cell below, I've written several commonly used functions. Explore. Change/add some arguments. See the power of R! \n",
    "\n",
    "Note that the first function creates (pseudo) random numbers from a normal distribution. Don't worry if you don't know what that is yet; we'll learn about it. But R can generate random numbers...that's cool!"
   ]
  },
  {
   "cell_type": "code",
   "execution_count": 5,
   "metadata": {
    "scrolled": false
   },
   "outputs": [
    {
     "data": {
      "text/html": [
       "50"
      ],
      "text/latex": [
       "50"
      ],
      "text/markdown": [
       "50"
      ],
      "text/plain": [
       "[1] 50"
      ]
     },
     "metadata": {},
     "output_type": "display_data"
    },
    {
     "data": {
      "text/html": [
       "261.551561996103"
      ],
      "text/latex": [
       "261.551561996103"
      ],
      "text/markdown": [
       "261.551561996103"
      ],
      "text/plain": [
       "[1] 261.5516"
      ]
     },
     "metadata": {},
     "output_type": "display_data"
    },
    {
     "data": {
      "text/html": [
       "5.23103123992206"
      ],
      "text/latex": [
       "5.23103123992206"
      ],
      "text/markdown": [
       "5.23103123992206"
      ],
      "text/plain": [
       "[1] 5.231031"
      ]
     },
     "metadata": {},
     "output_type": "display_data"
    },
    {
     "data": {
      "text/html": [
       "0.93561264210712"
      ],
      "text/latex": [
       "0.93561264210712"
      ],
      "text/markdown": [
       "0.93561264210712"
      ],
      "text/plain": [
       "[1] 0.9356126"
      ]
     },
     "metadata": {},
     "output_type": "display_data"
    },
    {
     "data": {
      "text/html": [
       "0.967270718106942"
      ],
      "text/latex": [
       "0.967270718106942"
      ],
      "text/markdown": [
       "0.967270718106942"
      ],
      "text/plain": [
       "[1] 0.9672707"
      ]
     },
     "metadata": {},
     "output_type": "display_data"
    },
    {
     "data": {
      "text/html": [
       "5.13741987185464"
      ],
      "text/latex": [
       "5.13741987185464"
      ],
      "text/markdown": [
       "5.13741987185464"
      ],
      "text/plain": [
       "[1] 5.13742"
      ]
     },
     "metadata": {},
     "output_type": "display_data"
    },
    {
     "data": {
      "text/html": [
       "<ol class=list-inline>\n",
       "\t<li>3.21156587599504</li>\n",
       "\t<li>7.0463371382137</li>\n",
       "</ol>\n"
      ],
      "text/latex": [
       "\\begin{enumerate*}\n",
       "\\item 3.21156587599504\n",
       "\\item 7.0463371382137\n",
       "\\end{enumerate*}\n"
      ],
      "text/markdown": [
       "1. 3.21156587599504\n",
       "2. 7.0463371382137\n",
       "\n",
       "\n"
      ],
      "text/plain": [
       "[1] 3.211566 7.046337"
      ]
     },
     "metadata": {},
     "output_type": "display_data"
    },
    {
     "data": {
      "text/html": [
       "<ol class=list-inline>\n",
       "\t<li>1.46801620840843</li>\n",
       "\t<li>1.89341830507511</li>\n",
       "\t<li>1.9158727129185</li>\n",
       "\t<li>1.85828866732102</li>\n",
       "\t<li>1.81761688780575</li>\n",
       "\t<li>1.563013621215</li>\n",
       "\t<li>1.61503477815222</li>\n",
       "\t<li>1.5789348301108</li>\n",
       "\t<li>1.57258790540677</li>\n",
       "\t<li>1.95250792694548</li>\n",
       "\t<li>1.50385735963756</li>\n",
       "\t<li>1.16675863003687</li>\n",
       "\t<li>1.62899219300478</li>\n",
       "\t<li>1.29670643123925</li>\n",
       "\t<li>1.79327577801334</li>\n",
       "\t<li>1.51141959735122</li>\n",
       "\t<li>1.74442343225417</li>\n",
       "\t<li>1.66484706588092</li>\n",
       "\t<li>1.81792611065349</li>\n",
       "\t<li>1.6351161400819</li>\n",
       "\t<li>1.76321971148231</li>\n",
       "\t<li>1.78166715982816</li>\n",
       "\t<li>1.51695660111039</li>\n",
       "\t<li>1.88447065354543</li>\n",
       "\t<li>1.5139044457239</li>\n",
       "\t<li>1.65163981966575</li>\n",
       "\t<li>1.8001038498844</li>\n",
       "\t<li>1.66157256763822</li>\n",
       "\t<li>1.47257595413934</li>\n",
       "\t<li>1.79695062709587</li>\n",
       "\t<li>1.3461820296022</li>\n",
       "\t<li>1.56800607504002</li>\n",
       "\t<li>1.37470052130211</li>\n",
       "\t<li>1.77939298556789</li>\n",
       "\t<li>1.75078769088234</li>\n",
       "\t<li>1.5981621002829</li>\n",
       "\t<li>1.59786607008882</li>\n",
       "\t<li>1.46163374236216</li>\n",
       "\t<li>1.29313259469907</li>\n",
       "\t<li>1.23972086970069</li>\n",
       "\t<li>1.87599631450096</li>\n",
       "\t<li>1.8597569490324</li>\n",
       "\t<li>1.36870808259006</li>\n",
       "\t<li>1.82566278659828</li>\n",
       "\t<li>1.73988026041138</li>\n",
       "\t<li>1.80381723685968</li>\n",
       "\t<li>1.63602276867237</li>\n",
       "\t<li>1.63707891842743</li>\n",
       "\t<li>1.4466906811153</li>\n",
       "\t<li>1.79927947749889</li>\n",
       "</ol>\n"
      ],
      "text/latex": [
       "\\begin{enumerate*}\n",
       "\\item 1.46801620840843\n",
       "\\item 1.89341830507511\n",
       "\\item 1.9158727129185\n",
       "\\item 1.85828866732102\n",
       "\\item 1.81761688780575\n",
       "\\item 1.563013621215\n",
       "\\item 1.61503477815222\n",
       "\\item 1.5789348301108\n",
       "\\item 1.57258790540677\n",
       "\\item 1.95250792694548\n",
       "\\item 1.50385735963756\n",
       "\\item 1.16675863003687\n",
       "\\item 1.62899219300478\n",
       "\\item 1.29670643123925\n",
       "\\item 1.79327577801334\n",
       "\\item 1.51141959735122\n",
       "\\item 1.74442343225417\n",
       "\\item 1.66484706588092\n",
       "\\item 1.81792611065349\n",
       "\\item 1.6351161400819\n",
       "\\item 1.76321971148231\n",
       "\\item 1.78166715982816\n",
       "\\item 1.51695660111039\n",
       "\\item 1.88447065354543\n",
       "\\item 1.5139044457239\n",
       "\\item 1.65163981966575\n",
       "\\item 1.8001038498844\n",
       "\\item 1.66157256763822\n",
       "\\item 1.47257595413934\n",
       "\\item 1.79695062709587\n",
       "\\item 1.3461820296022\n",
       "\\item 1.56800607504002\n",
       "\\item 1.37470052130211\n",
       "\\item 1.77939298556789\n",
       "\\item 1.75078769088234\n",
       "\\item 1.5981621002829\n",
       "\\item 1.59786607008882\n",
       "\\item 1.46163374236216\n",
       "\\item 1.29313259469907\n",
       "\\item 1.23972086970069\n",
       "\\item 1.87599631450096\n",
       "\\item 1.8597569490324\n",
       "\\item 1.36870808259006\n",
       "\\item 1.82566278659828\n",
       "\\item 1.73988026041138\n",
       "\\item 1.80381723685968\n",
       "\\item 1.63602276867237\n",
       "\\item 1.63707891842743\n",
       "\\item 1.4466906811153\n",
       "\\item 1.79927947749889\n",
       "\\end{enumerate*}\n"
      ],
      "text/markdown": [
       "1. 1.46801620840843\n",
       "2. 1.89341830507511\n",
       "3. 1.9158727129185\n",
       "4. 1.85828866732102\n",
       "5. 1.81761688780575\n",
       "6. 1.563013621215\n",
       "7. 1.61503477815222\n",
       "8. 1.5789348301108\n",
       "9. 1.57258790540677\n",
       "10. 1.95250792694548\n",
       "11. 1.50385735963756\n",
       "12. 1.16675863003687\n",
       "13. 1.62899219300478\n",
       "14. 1.29670643123925\n",
       "15. 1.79327577801334\n",
       "16. 1.51141959735122\n",
       "17. 1.74442343225417\n",
       "18. 1.66484706588092\n",
       "19. 1.81792611065349\n",
       "20. 1.6351161400819\n",
       "21. 1.76321971148231\n",
       "22. 1.78166715982816\n",
       "23. 1.51695660111039\n",
       "24. 1.88447065354543\n",
       "25. 1.5139044457239\n",
       "26. 1.65163981966575\n",
       "27. 1.8001038498844\n",
       "28. 1.66157256763822\n",
       "29. 1.47257595413934\n",
       "30. 1.79695062709587\n",
       "31. 1.3461820296022\n",
       "32. 1.56800607504002\n",
       "33. 1.37470052130211\n",
       "34. 1.77939298556789\n",
       "35. 1.75078769088234\n",
       "36. 1.5981621002829\n",
       "37. 1.59786607008882\n",
       "38. 1.46163374236216\n",
       "39. 1.29313259469907\n",
       "40. 1.23972086970069\n",
       "41. 1.87599631450096\n",
       "42. 1.8597569490324\n",
       "43. 1.36870808259006\n",
       "44. 1.82566278659828\n",
       "45. 1.73988026041138\n",
       "46. 1.80381723685968\n",
       "47. 1.63602276867237\n",
       "48. 1.63707891842743\n",
       "49. 1.4466906811153\n",
       "50. 1.79927947749889\n",
       "\n",
       "\n"
      ],
      "text/plain": [
       " [1] 1.468016 1.893418 1.915873 1.858289 1.817617 1.563014 1.615035 1.578935\n",
       " [9] 1.572588 1.952508 1.503857 1.166759 1.628992 1.296706 1.793276 1.511420\n",
       "[17] 1.744423 1.664847 1.817926 1.635116 1.763220 1.781667 1.516957 1.884471\n",
       "[25] 1.513904 1.651640 1.800104 1.661573 1.472576 1.796951 1.346182 1.568006\n",
       "[33] 1.374701 1.779393 1.750788 1.598162 1.597866 1.461634 1.293133 1.239721\n",
       "[41] 1.875996 1.859757 1.368708 1.825663 1.739880 1.803817 1.636023 1.637079\n",
       "[49] 1.446691 1.799279"
      ]
     },
     "metadata": {},
     "output_type": "display_data"
    },
    {
     "data": {
      "text/plain": [
       "   Min. 1st Qu.  Median    Mean 3rd Qu.    Max. \n",
       "  3.212   4.536   5.137   5.231   6.042   7.046 "
      ]
     },
     "metadata": {},
     "output_type": "display_data"
    },
    {
     "data": {
      "image/png": "[encoded data removed]",
      "text/plain": [
       "Plot with title “Histogram of x”"
      ]
     },
     "metadata": {},
     "output_type": "display_data"
    },
    {
     "data": {
      "image/png": "[encoded data removed]",
      "text/plain": [
       "Plot with title “Histogram of x”"
      ]
     },
     "metadata": {},
     "output_type": "display_data"
    }
   ],
   "source": [
    "x <- rnorm(50, mean=5, sd=1) #generates 50 random numbers from a gaussian with mean 5 and sd 1. Don't worry...you'll know what this means soon!\n",
    "hist(x, density = 20)\n",
    "length(x) #return the length of x\n",
    "sum(x) #sum the numbers in x\n",
    "mean(x) #calculate the mean of the numbers in x\n",
    "var(x) #calculate the variance of the numbers in x\n",
    "sd(x) #calculate the standard deviation of x\n",
    "median(x) #calculate the median of x\n",
    "range(x) #calculate the range of x\n",
    "log(x) #calculate the natural log of x\n",
    "summary(x) #return 5-number summary of x\n",
    "\n",
    "hist(x, density = 20, freq = FALSE) #histogram of those random numbers; freq = FALSE makes x a 'density' (integrates to 1); density shades the boxes\n",
    "curve(dnorm(x,mean = mean(x),sd = sd(x)),from = min(x), to = max(x), add = TRUE) #overlay of normal density"
   ]
  },
  {
   "cell_type": "markdown",
   "metadata": {},
   "source": [
    "# Part II: Vector Indexing\n",
    "\n",
    "R (like Matlab and Python) has a nice indexing system. Given a matrix $A$, we can access the $[i,j]$ element of $A$ by writing ${\\tt A[i,j]}$. We can access the ith row by typing ${\\tt A[i,]}$. And, we can access the jth column by typing ${\\tt A[,j]}$. And, we can do even fancier things too...\n",
    "\n",
    "#### Modify the third line of code below to access the second, fourth, and sixth elements of the vector $a$. Take note of whether R starts indexing at 0 or 1!  Also, note that the last line uses the minus sign to access elements $ \\textit{other than}$ those specified in the index."
   ]
  },
  {
   "cell_type": "code",
   "execution_count": 8,
   "metadata": {},
   "outputs": [
    {
     "data": {
      "text/html": [
       "<ol class=list-inline>\n",
       "\t<li>2</li>\n",
       "\t<li>4</li>\n",
       "\t<li>6</li>\n",
       "\t<li>8</li>\n",
       "\t<li>10</li>\n",
       "\t<li>12</li>\n",
       "\t<li>14</li>\n",
       "\t<li>16</li>\n",
       "</ol>\n"
      ],
      "text/latex": [
       "\\begin{enumerate*}\n",
       "\\item 2\n",
       "\\item 4\n",
       "\\item 6\n",
       "\\item 8\n",
       "\\item 10\n",
       "\\item 12\n",
       "\\item 14\n",
       "\\item 16\n",
       "\\end{enumerate*}\n"
      ],
      "text/markdown": [
       "1. 2\n",
       "2. 4\n",
       "3. 6\n",
       "4. 8\n",
       "5. 10\n",
       "6. 12\n",
       "7. 14\n",
       "8. 16\n",
       "\n",
       "\n"
      ],
      "text/plain": [
       "[1]  2  4  6  8 10 12 14 16"
      ]
     },
     "metadata": {},
     "output_type": "display_data"
    },
    {
     "data": {
      "text/html": [
       "<ol class=list-inline>\n",
       "\t<li>2</li>\n",
       "\t<li>8</li>\n",
       "</ol>\n"
      ],
      "text/latex": [
       "\\begin{enumerate*}\n",
       "\\item 2\n",
       "\\item 8\n",
       "\\end{enumerate*}\n"
      ],
      "text/markdown": [
       "1. 2\n",
       "2. 8\n",
       "\n",
       "\n"
      ],
      "text/plain": [
       "[1] 2 8"
      ]
     },
     "metadata": {},
     "output_type": "display_data"
    },
    {
     "data": {
      "text/html": [
       "<ol class=list-inline>\n",
       "\t<li>4</li>\n",
       "\t<li>8</li>\n",
       "\t<li>12</li>\n",
       "</ol>\n"
      ],
      "text/latex": [
       "\\begin{enumerate*}\n",
       "\\item 4\n",
       "\\item 8\n",
       "\\item 12\n",
       "\\end{enumerate*}\n"
      ],
      "text/markdown": [
       "1. 4\n",
       "2. 8\n",
       "3. 12\n",
       "\n",
       "\n"
      ],
      "text/plain": [
       "[1]  4  8 12"
      ]
     },
     "metadata": {},
     "output_type": "display_data"
    },
    {
     "data": {
      "text/html": [
       "<ol class=list-inline>\n",
       "\t<li>4</li>\n",
       "\t<li>6</li>\n",
       "\t<li>8</li>\n",
       "\t<li>12</li>\n",
       "\t<li>14</li>\n",
       "\t<li>16</li>\n",
       "</ol>\n"
      ],
      "text/latex": [
       "\\begin{enumerate*}\n",
       "\\item 4\n",
       "\\item 6\n",
       "\\item 8\n",
       "\\item 12\n",
       "\\item 14\n",
       "\\item 16\n",
       "\\end{enumerate*}\n"
      ],
      "text/markdown": [
       "1. 4\n",
       "2. 6\n",
       "3. 8\n",
       "4. 12\n",
       "5. 14\n",
       "6. 16\n",
       "\n",
       "\n"
      ],
      "text/plain": [
       "[1]  4  6  8 12 14 16"
      ]
     },
     "metadata": {},
     "output_type": "display_data"
    }
   ],
   "source": [
    "a <- seq(2, 16, by = 2)\n",
    "a\n",
    "a[c(1, 4)]\n",
    "a[c(2, 4, 6)]\n",
    "a[-c(1,5)]"
   ]
  },
  {
   "cell_type": "markdown",
   "metadata": {},
   "source": [
    "#### Write code that prints the third through sixth elements of $a$ (there's a short and long way)."
   ]
  },
  {
   "cell_type": "code",
   "execution_count": 7,
   "metadata": {
    "scrolled": true
   },
   "outputs": [
    {
     "data": {
      "text/html": [
       "<ol class=list-inline>\n",
       "\t<li>6</li>\n",
       "\t<li>8</li>\n",
       "\t<li>10</li>\n",
       "\t<li>12</li>\n",
       "</ol>\n"
      ],
      "text/latex": [
       "\\begin{enumerate*}\n",
       "\\item 6\n",
       "\\item 8\n",
       "\\item 10\n",
       "\\item 12\n",
       "\\end{enumerate*}\n"
      ],
      "text/markdown": [
       "1. 6\n",
       "2. 8\n",
       "3. 10\n",
       "4. 12\n",
       "\n",
       "\n"
      ],
      "text/plain": [
       "[1]  6  8 10 12"
      ]
     },
     "metadata": {},
     "output_type": "display_data"
    }
   ],
   "source": [
    "a[c(3:6)]"
   ]
  },
  {
   "cell_type": "markdown",
   "metadata": {},
   "source": [
    "Logical indexing is another powerful tool for working with data in R. \n",
    "\n",
    "#### Let's start with typing things like \"$a > 10$\", \"$a \\le 4$\", \"$a == 10$\", and \"$a != 10$\". What do these lines do?"
   ]
  },
  {
   "cell_type": "code",
   "execution_count": 10,
   "metadata": {},
   "outputs": [
    {
     "data": {
      "text/html": [
       "<ol class=list-inline>\n",
       "\t<li>FALSE</li>\n",
       "\t<li>FALSE</li>\n",
       "\t<li>FALSE</li>\n",
       "\t<li>FALSE</li>\n",
       "\t<li>FALSE</li>\n",
       "\t<li>TRUE</li>\n",
       "\t<li>TRUE</li>\n",
       "\t<li>TRUE</li>\n",
       "</ol>\n"
      ],
      "text/latex": [
       "\\begin{enumerate*}\n",
       "\\item FALSE\n",
       "\\item FALSE\n",
       "\\item FALSE\n",
       "\\item FALSE\n",
       "\\item FALSE\n",
       "\\item TRUE\n",
       "\\item TRUE\n",
       "\\item TRUE\n",
       "\\end{enumerate*}\n"
      ],
      "text/markdown": [
       "1. FALSE\n",
       "2. FALSE\n",
       "3. FALSE\n",
       "4. FALSE\n",
       "5. FALSE\n",
       "6. TRUE\n",
       "7. TRUE\n",
       "8. TRUE\n",
       "\n",
       "\n"
      ],
      "text/plain": [
       "[1] FALSE FALSE FALSE FALSE FALSE  TRUE  TRUE  TRUE"
      ]
     },
     "metadata": {},
     "output_type": "display_data"
    },
    {
     "data": {
      "text/html": [
       "<ol class=list-inline>\n",
       "\t<li>TRUE</li>\n",
       "\t<li>TRUE</li>\n",
       "\t<li>FALSE</li>\n",
       "\t<li>FALSE</li>\n",
       "\t<li>FALSE</li>\n",
       "\t<li>FALSE</li>\n",
       "\t<li>FALSE</li>\n",
       "\t<li>FALSE</li>\n",
       "</ol>\n"
      ],
      "text/latex": [
       "\\begin{enumerate*}\n",
       "\\item TRUE\n",
       "\\item TRUE\n",
       "\\item FALSE\n",
       "\\item FALSE\n",
       "\\item FALSE\n",
       "\\item FALSE\n",
       "\\item FALSE\n",
       "\\item FALSE\n",
       "\\end{enumerate*}\n"
      ],
      "text/markdown": [
       "1. TRUE\n",
       "2. TRUE\n",
       "3. FALSE\n",
       "4. FALSE\n",
       "5. FALSE\n",
       "6. FALSE\n",
       "7. FALSE\n",
       "8. FALSE\n",
       "\n",
       "\n"
      ],
      "text/plain": [
       "[1]  TRUE  TRUE FALSE FALSE FALSE FALSE FALSE FALSE"
      ]
     },
     "metadata": {},
     "output_type": "display_data"
    },
    {
     "data": {
      "text/html": [
       "<ol class=list-inline>\n",
       "\t<li>FALSE</li>\n",
       "\t<li>FALSE</li>\n",
       "\t<li>FALSE</li>\n",
       "\t<li>FALSE</li>\n",
       "\t<li>TRUE</li>\n",
       "\t<li>FALSE</li>\n",
       "\t<li>FALSE</li>\n",
       "\t<li>FALSE</li>\n",
       "</ol>\n"
      ],
      "text/latex": [
       "\\begin{enumerate*}\n",
       "\\item FALSE\n",
       "\\item FALSE\n",
       "\\item FALSE\n",
       "\\item FALSE\n",
       "\\item TRUE\n",
       "\\item FALSE\n",
       "\\item FALSE\n",
       "\\item FALSE\n",
       "\\end{enumerate*}\n"
      ],
      "text/markdown": [
       "1. FALSE\n",
       "2. FALSE\n",
       "3. FALSE\n",
       "4. FALSE\n",
       "5. TRUE\n",
       "6. FALSE\n",
       "7. FALSE\n",
       "8. FALSE\n",
       "\n",
       "\n"
      ],
      "text/plain": [
       "[1] FALSE FALSE FALSE FALSE  TRUE FALSE FALSE FALSE"
      ]
     },
     "metadata": {},
     "output_type": "display_data"
    },
    {
     "data": {
      "text/html": [
       "<ol class=list-inline>\n",
       "\t<li>TRUE</li>\n",
       "\t<li>TRUE</li>\n",
       "\t<li>TRUE</li>\n",
       "\t<li>TRUE</li>\n",
       "\t<li>FALSE</li>\n",
       "\t<li>TRUE</li>\n",
       "\t<li>TRUE</li>\n",
       "\t<li>TRUE</li>\n",
       "</ol>\n"
      ],
      "text/latex": [
       "\\begin{enumerate*}\n",
       "\\item TRUE\n",
       "\\item TRUE\n",
       "\\item TRUE\n",
       "\\item TRUE\n",
       "\\item FALSE\n",
       "\\item TRUE\n",
       "\\item TRUE\n",
       "\\item TRUE\n",
       "\\end{enumerate*}\n"
      ],
      "text/markdown": [
       "1. TRUE\n",
       "2. TRUE\n",
       "3. TRUE\n",
       "4. TRUE\n",
       "5. FALSE\n",
       "6. TRUE\n",
       "7. TRUE\n",
       "8. TRUE\n",
       "\n",
       "\n"
      ],
      "text/plain": [
       "[1]  TRUE  TRUE  TRUE  TRUE FALSE  TRUE  TRUE  TRUE"
      ]
     },
     "metadata": {},
     "output_type": "display_data"
    }
   ],
   "source": [
    "a > 10\n",
    "a <= 4\n",
    "a == 10\n",
    "a != 10"
   ]
  },
  {
   "cell_type": "markdown",
   "metadata": {},
   "source": [
    "Now let's look at more complicated logical statements. Note that ${\\tt \\&}$ represents \"and\", and ${\\tt |}$ represents \"or\" in R. \n",
    "\n",
    "#### Write code that prints ${\\tt TRUE}$ for values of $a$ greater than 6 and less than or equal to 10, and ${\\tt FALSE}$ otherwise. Then, write code that prints ${\\tt TRUE}$ for values of $a$  less than or equal to 4 or greater or equal to 12, and ${\\tt FALSE}$ otherwise."
   ]
  },
  {
   "cell_type": "code",
   "execution_count": 17,
   "metadata": {},
   "outputs": [
    {
     "data": {
      "text/html": [
       "<ol class=list-inline>\n",
       "\t<li>FALSE</li>\n",
       "\t<li>FALSE</li>\n",
       "\t<li>FALSE</li>\n",
       "\t<li>TRUE</li>\n",
       "\t<li>TRUE</li>\n",
       "\t<li>FALSE</li>\n",
       "\t<li>FALSE</li>\n",
       "\t<li>FALSE</li>\n",
       "</ol>\n"
      ],
      "text/latex": [
       "\\begin{enumerate*}\n",
       "\\item FALSE\n",
       "\\item FALSE\n",
       "\\item FALSE\n",
       "\\item TRUE\n",
       "\\item TRUE\n",
       "\\item FALSE\n",
       "\\item FALSE\n",
       "\\item FALSE\n",
       "\\end{enumerate*}\n"
      ],
      "text/markdown": [
       "1. FALSE\n",
       "2. FALSE\n",
       "3. FALSE\n",
       "4. TRUE\n",
       "5. TRUE\n",
       "6. FALSE\n",
       "7. FALSE\n",
       "8. FALSE\n",
       "\n",
       "\n"
      ],
      "text/plain": [
       "[1] FALSE FALSE FALSE  TRUE  TRUE FALSE FALSE FALSE"
      ]
     },
     "metadata": {},
     "output_type": "display_data"
    },
    {
     "data": {
      "text/html": [
       "<ol class=list-inline>\n",
       "\t<li>FALSE</li>\n",
       "\t<li>FALSE</li>\n",
       "\t<li>TRUE</li>\n",
       "\t<li>TRUE</li>\n",
       "\t<li>TRUE</li>\n",
       "\t<li>TRUE</li>\n",
       "\t<li>TRUE</li>\n",
       "\t<li>TRUE</li>\n",
       "</ol>\n"
      ],
      "text/latex": [
       "\\begin{enumerate*}\n",
       "\\item FALSE\n",
       "\\item FALSE\n",
       "\\item TRUE\n",
       "\\item TRUE\n",
       "\\item TRUE\n",
       "\\item TRUE\n",
       "\\item TRUE\n",
       "\\item TRUE\n",
       "\\end{enumerate*}\n"
      ],
      "text/markdown": [
       "1. FALSE\n",
       "2. FALSE\n",
       "3. TRUE\n",
       "4. TRUE\n",
       "5. TRUE\n",
       "6. TRUE\n",
       "7. TRUE\n",
       "8. TRUE\n",
       "\n",
       "\n"
      ],
      "text/plain": [
       "[1] FALSE FALSE  TRUE  TRUE  TRUE  TRUE  TRUE  TRUE"
      ]
     },
     "metadata": {},
     "output_type": "display_data"
    }
   ],
   "source": [
    "a > 6 & a <= 10\n",
    "a > 4 | a == 12"
   ]
  },
  {
   "cell_type": "markdown",
   "metadata": {},
   "source": [
    "The real power of logical indexing comes when we take these vectors of logicals and put them in the index of a vector. The first line below tells R to print all elements of $a$ such that $a < 6$.\n",
    "\n",
    "#### Write code to print elements of $a$ equal to 10. Then, print elements of $a$ less than six or equal to 10."
   ]
  },
  {
   "cell_type": "code",
   "execution_count": 12,
   "metadata": {
    "scrolled": true
   },
   "outputs": [
    {
     "data": {
      "text/html": [
       "<ol class=list-inline>\n",
       "\t<li>2</li>\n",
       "\t<li>4</li>\n",
       "</ol>\n"
      ],
      "text/latex": [
       "\\begin{enumerate*}\n",
       "\\item 2\n",
       "\\item 4\n",
       "\\end{enumerate*}\n"
      ],
      "text/markdown": [
       "1. 2\n",
       "2. 4\n",
       "\n",
       "\n"
      ],
      "text/plain": [
       "[1] 2 4"
      ]
     },
     "metadata": {},
     "output_type": "display_data"
    },
    {
     "data": {
      "text/html": [
       "10"
      ],
      "text/latex": [
       "10"
      ],
      "text/markdown": [
       "10"
      ],
      "text/plain": [
       "[1] 10"
      ]
     },
     "metadata": {},
     "output_type": "display_data"
    },
    {
     "data": {
      "text/html": [
       "<ol class=list-inline>\n",
       "\t<li>2</li>\n",
       "\t<li>4</li>\n",
       "\t<li>6</li>\n",
       "\t<li>8</li>\n",
       "\t<li>10</li>\n",
       "</ol>\n"
      ],
      "text/latex": [
       "\\begin{enumerate*}\n",
       "\\item 2\n",
       "\\item 4\n",
       "\\item 6\n",
       "\\item 8\n",
       "\\item 10\n",
       "\\end{enumerate*}\n"
      ],
      "text/markdown": [
       "1. 2\n",
       "2. 4\n",
       "3. 6\n",
       "4. 8\n",
       "5. 10\n",
       "\n",
       "\n"
      ],
      "text/plain": [
       "[1]  2  4  6  8 10"
      ]
     },
     "metadata": {},
     "output_type": "display_data"
    }
   ],
   "source": [
    "#elements of a less than 6\n",
    "a[a < 6]\n",
    "#elements of a equal to 10\n",
    "a[a == 10]\n",
    "#elements of a less than 6 or equal to 10\n",
    "a[a <= 6 | a <= 10]"
   ]
  },
  {
   "cell_type": "markdown",
   "metadata": {},
   "source": [
    "## Part III: Functions, Loops and Beyond!\n",
    "\n",
    "As we've seen, R has many built in functions; but, you can write your own, too! Below is the syntax.\n",
    "\n",
    "#### Write a function that concatenates two vectors."
   ]
  },
  {
   "cell_type": "code",
   "execution_count": 19,
   "metadata": {},
   "outputs": [
    {
     "data": {
      "text/html": [
       "<ol class=list-inline>\n",
       "\t<li>1</li>\n",
       "\t<li>2</li>\n",
       "\t<li>3</li>\n",
       "\t<li>4</li>\n",
       "</ol>\n"
      ],
      "text/latex": [
       "\\begin{enumerate*}\n",
       "\\item 1\n",
       "\\item 2\n",
       "\\item 3\n",
       "\\item 4\n",
       "\\end{enumerate*}\n"
      ],
      "text/markdown": [
       "1. 1\n",
       "2. 2\n",
       "3. 3\n",
       "4. 4\n",
       "\n",
       "\n"
      ],
      "text/plain": [
       "[1] 1 2 3 4"
      ]
     },
     "metadata": {},
     "output_type": "display_data"
    }
   ],
   "source": [
    "y = function(v1, v2){\n",
    "    return(c(v1, v2))\n",
    "}\n",
    "\n",
    "new = y(c(1, 2), c(3, 4))\n",
    "new"
   ]
  },
  {
   "cell_type": "markdown",
   "metadata": {},
   "source": [
    "The function f1 below produces results like 'T' 'H' 'T' 'T'. We can think of f1 a function that flips a coin four times. \n",
    "\n",
    "#### Write a function f2 that can be interpreted as rolling a fair die eight times. How could you modify the code to roll a biased die?\n",
    "\n",
    "#### Notice that every time you run these function, the results are different! Uncomment the line ${\\tt set.seed(99)}$ and notice what happens."
   ]
  },
  {
   "cell_type": "code",
   "execution_count": 20,
   "metadata": {
    "scrolled": true
   },
   "outputs": [
    {
     "data": {
      "text/html": [
       "<ol class=list-inline>\n",
       "\t<li>'H'</li>\n",
       "\t<li>'T'</li>\n",
       "\t<li>'H'</li>\n",
       "\t<li>'H'</li>\n",
       "</ol>\n"
      ],
      "text/latex": [
       "\\begin{enumerate*}\n",
       "\\item 'H'\n",
       "\\item 'T'\n",
       "\\item 'H'\n",
       "\\item 'H'\n",
       "\\end{enumerate*}\n"
      ],
      "text/markdown": [
       "1. 'H'\n",
       "2. 'T'\n",
       "3. 'H'\n",
       "4. 'H'\n",
       "\n",
       "\n"
      ],
      "text/plain": [
       "[1] \"H\" \"T\" \"H\" \"H\""
      ]
     },
     "metadata": {},
     "output_type": "display_data"
    }
   ],
   "source": [
    "#set.seed(99)\n",
    "f1 = function(){\n",
    "    s = sample(c(\"H\", \"T\"), size = 4, replace = TRUE)\n",
    "    return(s)\n",
    "}\n",
    "\n",
    "f1()\n"
   ]
  },
  {
   "cell_type": "markdown",
   "metadata": {},
   "source": [
    "In R, just like in C++, Matlab, Python, etc., you can write loops to repeat a sequence of instructions until a certain condition is met.  \n",
    "\n",
    "#### Below is the syntax for a loop. Inside the loop, write a line of code that populates the matrix M with the numbers 1 through 20."
   ]
  },
  {
   "cell_type": "code",
   "execution_count": null,
   "metadata": {
    "collapsed": true
   },
   "outputs": [],
   "source": [
    "M = matrix(NA, ncol = 2, nrow = 10); #check the help file so that you know what this does!\n",
    "\n",
    "for (i in 1:n){\n",
    "    #insert code here\n",
    "}\n"
   ]
  },
  {
   "cell_type": "markdown",
   "metadata": {},
   "source": [
    "#### Now, write a loop to calculate the mean of each column of M."
   ]
  },
  {
   "cell_type": "code",
   "execution_count": null,
   "metadata": {
    "collapsed": true
   },
   "outputs": [],
   "source": []
  },
  {
   "cell_type": "markdown",
   "metadata": {},
   "source": [
    "Here's an incredibly important lesson about R: many tasks that require loops in other languages (e.g., C++) **do not** require loops in R. \n",
    "\n",
    "#### As an example, use the function ${\\tt colMeans()}$ to calculate the means of the columns of M without a loop. Then, look at the help file for ${\\tt colMeans()}$ to see related functions."
   ]
  },
  {
   "cell_type": "code",
   "execution_count": null,
   "metadata": {
    "collapsed": true
   },
   "outputs": [],
   "source": []
  },
  {
   "cell_type": "markdown",
   "metadata": {},
   "source": [
    "Note that the family of functions that includes ${\\tt colMeans()}$ does not include a function to calculate the standard deviation or variance of a column (or row). But we can still do this without loops, using the ${\\tt apply()}$ function.\n",
    "\n",
    "#### Below, the ${\\tt apply()}$ function is set up to calculate the variance of each row of M. Modify the code to calculate the standard deviation of each column of M."
   ]
  },
  {
   "cell_type": "code",
   "execution_count": null,
   "metadata": {
    "collapsed": true
   },
   "outputs": [],
   "source": [
    "apply(M, 1, var)\n",
    "M"
   ]
  },
  {
   "cell_type": "markdown",
   "metadata": {},
   "source": [
    "Recall above that we wrote a function f1 that flips a coin four times. As odd as it sounds, it will become desirable for us to repeat many times (say, $m$ times) the process of flipping a coin four times. The result might be a matrix with $m$ rows and four columns. \n",
    "\n",
    "#### Write a loop to repeat the process of \"flipping a coin four times\" 10,000 times. The result should be a 10,000 by 4 matrix."
   ]
  },
  {
   "cell_type": "code",
   "execution_count": null,
   "metadata": {
    "collapsed": true,
    "scrolled": true
   },
   "outputs": [],
   "source": [
    "\n"
   ]
  },
  {
   "cell_type": "markdown",
   "metadata": {},
   "source": [
    "But, as master R programmers, we avoid loops whenever possible. One reason why we do this is because loops are slower than the fancy R alternatives. As an alternative to the loop above, let's use the ${\\tt replicate()}$ function to repeat the coin flipping process.\n",
    "\n",
    "#### Using the help function as your guide, use ${\\tt replicate()}$ to  repeat the process of \"flipping a coin four times\" 10,000 times."
   ]
  },
  {
   "cell_type": "code",
   "execution_count": null,
   "metadata": {
    "collapsed": true
   },
   "outputs": [],
   "source": []
  },
  {
   "cell_type": "markdown",
   "metadata": {},
   "source": [
    "## Part IV: Working with Data Frames\n",
    "\n",
    "Datasets in R are stored as $\\textit{data frames}$. Data frames are just tables of data (vectors of data of equal length). It will be important for future assignments (and in life!) for you to be able to work with data frames.\n",
    "\n",
    "#### Take the vectors below and store them in a data frame, called ${\\tt mydataframe}$, using the function ${\\tt data.frame()}$."
   ]
  },
  {
   "cell_type": "code",
   "execution_count": null,
   "metadata": {
    "collapsed": true
   },
   "outputs": [],
   "source": [
    "d = c(1, 2, 3, 4)\n",
    "e = c(\"red\", \"white\", \"blue\", NA)\n",
    "f = c(TRUE, TRUE, TRUE, FALSE)\n"
   ]
  },
  {
   "cell_type": "markdown",
   "metadata": {},
   "source": [
    "Note that the names of the columns aren't informative (they are just the names of the vectors used to create that dataframe). We can change that..."
   ]
  },
  {
   "cell_type": "code",
   "execution_count": null,
   "metadata": {
    "collapsed": true
   },
   "outputs": [],
   "source": [
    "#rename columns of data frame\n",
    "names(mydataframe) <- c(\"ID\", \"Color\", \"Passed\")\n",
    "mydataframe\n",
    "\n",
    "#name columns while creating data frame\n",
    "dataframe2 <- data.frame(ID=d, Color=e, Passed=f)\n",
    "dataframe2"
   ]
  },
  {
   "cell_type": "markdown",
   "metadata": {},
   "source": [
    "There are a few ways that you can access elements of a dataframe. \n",
    "\n",
    "1. You can access columns of a dataframe by typing ${\\tt mydataframe\\$NameOfColumn}$ or by typing ${\\tt mydataframe[ ,i]}$ (the latter will print the $i^{th}$ column).\n",
    "\n",
    "2. To access the $i^{th}$ row, type ${\\tt mydataframe[i, ]}$.\n",
    "\n",
    "3. To access the $[i,j]$ element, type ${\\tt mydataframe[i,j]}$. Note that data frames are indexed just like matrices: [row, column].\n",
    "\n",
    "#### Print the Color column of the dataframe from above in two different ways. Print the second row. Print the element containing \"white\"."
   ]
  },
  {
   "cell_type": "code",
   "execution_count": null,
   "metadata": {
    "collapsed": true
   },
   "outputs": [],
   "source": []
  },
  {
   "cell_type": "markdown",
   "metadata": {},
   "source": [
    "You can save a dataframe using the function ${\\tt write.table()}$. \n",
    "\n",
    "#### Below, I give code to save ${\\tt mydataframe}$ in a location on my computer. Modify the code to save it somewhere on your computer. I would take this time to think about being organized with your files for this course!\n",
    "\n",
    "Notice the ${\\tt sep}$ argument is set to ${\\tt \"\\t\"}$. This saves the file as a tab separated file. Look at the help file to see other options here."
   ]
  },
  {
   "cell_type": "code",
   "execution_count": null,
   "metadata": {
    "collapsed": true
   },
   "outputs": [],
   "source": [
    "###Writing data to file. The paste() function just allows us to write the URL on multiple lines\n",
    "write.table(mydataframe, paste(\"~/Google Drive/University of Colorado/Boulder\",\n",
    "                               \"/APPM 4570 Statistical Methods/Lecture/Units\",\n",
    "                               \"/Unit-1-EDA/code/example.txt\", sep = \"\"), sep = \"\\t\")"
   ]
  },
  {
   "cell_type": "markdown",
   "metadata": {},
   "source": [
    "Now, let's read the file you saved back into R (this is going to be important for homework assignments!). \n",
    "\n",
    "#### Modify the code below to read your file back into R. Investigate what the ${\\tt header}$ argument is doing!\n",
    "\n",
    "Note that the ${\\tt head}$ function prints the first few rows of your data frame. This can be helpful when you want to see how your data are organized, but don't want to print the whole thing."
   ]
  },
  {
   "cell_type": "code",
   "execution_count": null,
   "metadata": {
    "collapsed": true
   },
   "outputs": [],
   "source": [
    "data <- read.table(paste(\"~/Google Drive/University of Colorado/Boulder\",\n",
    "                         \"/APPM 4570 Statistical Methods/Lecture/Units\",\n",
    "                         \"/Unit-1-EDA/code/example.txt\", sep = \"\"), header = TRUE, sep = \"\\t\")\n",
    "head(data)"
   ]
  },
  {
   "cell_type": "markdown",
   "metadata": {},
   "source": [
    "# Part V: Real-World Data Example\n",
    "\n",
    "The National Institute of Diabetes and Digestive and Kidney Diseases conducted a study on 768 adult female Pima Indians living near Phoenix. The following variables were recorded: \n",
    "\n",
    "1. number of times pregnant;\n",
    "2. plasma glucose concentration at 2 hours in an oral glucose tolerance test \n",
    "3. diastolic blood pressure (mmHg)\n",
    "4. triceps skin fold thickness (mm); \n",
    "5. 2-hour serum insulin (mu U/ml); \n",
    "6. body mass index (weight in kg/(height in m2));\n",
    "7. diabetes pedigree function (a function that represents how likely they are to get the disease by extrapolating from their ancestor’s history); \n",
    "8. age (years); and \n",
    "9. a test whether the patient showed signs of diabetes (coded zero if negative, one if positive). \n",
    "\n",
    "There are many different ways to read in data to R:\n",
    "\n",
    "1. Read data from a URL. You can do this with ${\\tt read.table(\"URL\",...)}$.\n",
    "2. Read data file from your hard drive. We did this above.\n",
    "3. Load a dataset from an R package. \n",
    "\n",
    "We will do option three here since this dataset can be found in a package. First, we install the \"faraway\" package within the R application. \n",
    "\n",
    "#### Open your R application and copy and paste the following:\n",
    "\n",
    "x = c(\"faraway\", \"car\", \"ggplot2\", \"Amelia\", \"ellipse\", \"ggplot2\", \"lars\", \"leaps\", \"lmtest\", \"Matching\", \"pls\", \"quantreg\", \"simex\", \"HistData\", \"needs\", \"readr\", \"data.table\", \"alr4\", \"dplyr\", \"HH\", \"perturb\", \"caret\")\n",
    "\n",
    "install.packages(x, repos = \"http://cran.rstudio.org\")\n",
    "\n",
    "This will install many packages that we'll need this semester, including faraway, which we need for this exercise. To install other packages, you can use ${\\tt install.packages()}$ or you can search packages using the \"Packages and Data\" dropdown menue in R.\n",
    "\n",
    "Next, we load the faraway package and the dataset that we need."
   ]
  },
  {
   "cell_type": "code",
   "execution_count": 27,
   "metadata": {},
   "outputs": [
    {
     "ename": "ERROR",
     "evalue": "Error in library(faraway): there is no package called ‘faraway’\n",
     "output_type": "error",
     "traceback": [
      "Error in library(faraway): there is no package called ‘faraway’\nTraceback:\n",
      "1. library(faraway)",
      "2. stop(txt, domain = NA)"
     ]
    }
   ],
   "source": [
    "library(faraway) #load needed package--we just installed this. \n",
    "#We don't have to install it again\n",
    "#but everytime we open a new Jupyter notebook (or R session) we will need to \n",
    "#load the libraries we need.\n",
    "data(pima) # load data\n",
    "head(pima) # first six rows of data\n"
   ]
  },
  {
   "cell_type": "markdown",
   "metadata": {},
   "source": [
    "#### Use the ${\\tt summary()}$ function to print numerical summaries of this dataset. "
   ]
  },
  {
   "cell_type": "code",
   "execution_count": 26,
   "metadata": {},
   "outputs": [
    {
     "ename": "ERROR",
     "evalue": "Error in summary(faraway): object 'faraway' not found\n",
     "output_type": "error",
     "traceback": [
      "Error in summary(faraway): object 'faraway' not found\nTraceback:\n",
      "1. summary(faraway)"
     ]
    }
   ],
   "source": []
  },
  {
   "cell_type": "markdown",
   "metadata": {},
   "source": [
    "#### Use the ${\\tt sort()}$ function to order the diastolic blood pressure variable from lowest to highest."
   ]
  },
  {
   "cell_type": "code",
   "execution_count": null,
   "metadata": {
    "collapsed": true
   },
   "outputs": [],
   "source": []
  },
  {
   "cell_type": "markdown",
   "metadata": {},
   "source": [
    "Note that 0 is not a reasonable value for blood pressure. This is a ${\\it coding}$ issue; the people recording this data used 0 for missing data. Think about why that is a problem when doing statistical analyses...\n",
    "\n",
    "#### Change all zero values of diastolic blood pressure to ${\\tt NA}$. Then, referring to the summary above, do the same for other variables."
   ]
  },
  {
   "cell_type": "code",
   "execution_count": null,
   "metadata": {
    "collapsed": true
   },
   "outputs": [],
   "source": []
  },
  {
   "cell_type": "markdown",
   "metadata": {},
   "source": [
    "#### Convert the ${\\tt test}$ varible to factor and look at the new summary. What do you notice?"
   ]
  },
  {
   "cell_type": "code",
   "execution_count": null,
   "metadata": {
    "collapsed": true
   },
   "outputs": [],
   "source": []
  },
  {
   "cell_type": "markdown",
   "metadata": {},
   "source": [
    "#### Provide more descriptive labels for the levels of this variable (note that 0 = \"negative\" and 1 = \"positive\"). The easiest way do do this is with the ${\\tt levels()}$ function: ${\\tt levels(x) = value}$. Print the summary again. Much better!"
   ]
  },
  {
   "cell_type": "code",
   "execution_count": null,
   "metadata": {
    "collapsed": true
   },
   "outputs": [],
   "source": []
  },
  {
   "cell_type": "markdown",
   "metadata": {},
   "source": [
    "#### Print a histogram of the ${\\tt diastolic}$ variable. Comment on it's shape."
   ]
  },
  {
   "cell_type": "code",
   "execution_count": null,
   "metadata": {
    "collapsed": true
   },
   "outputs": [],
   "source": []
  },
  {
   "cell_type": "markdown",
   "metadata": {},
   "source": [
    "#### Use the ${\\tt plot}$ function to produce a scatterplot of diabetes ($y$) against diastolic blood pressure ($x$). What do you notice about this plot?"
   ]
  },
  {
   "cell_type": "code",
   "execution_count": null,
   "metadata": {
    "collapsed": true
   },
   "outputs": [],
   "source": []
  },
  {
   "cell_type": "markdown",
   "metadata": {},
   "source": [
    "#### Use the ${\\tt boxplot()}$ function to produce a boxplot of ${\\tt diabetes}$ conditioned on ${\\tt test}$. Interpret this plot."
   ]
  },
  {
   "cell_type": "code",
   "execution_count": null,
   "metadata": {
    "collapsed": true
   },
   "outputs": [],
   "source": []
  },
  {
   "cell_type": "markdown",
   "metadata": {},
   "source": [
    "On future assignments, we will read data from the web. Here's some code that reads in a dataset from a URL."
   ]
  },
  {
   "cell_type": "code",
   "execution_count": 25,
   "metadata": {},
   "outputs": [
    {
     "data": {
      "text/html": [
       "<table>\n",
       "<thead><tr><th scope=col>V1</th><th scope=col>V2</th><th scope=col>V3</th><th scope=col>V4</th><th scope=col>V5</th></tr></thead>\n",
       "<tbody>\n",
       "\t<tr><td> 1   </td><td>307  </td><td> 930 </td><td>36.58</td><td>0    </td></tr>\n",
       "\t<tr><td> 2   </td><td>307  </td><td> 940 </td><td>36.73</td><td>0    </td></tr>\n",
       "\t<tr><td> 3   </td><td>307  </td><td> 950 </td><td>36.93</td><td>0    </td></tr>\n",
       "\t<tr><td> 4   </td><td>307  </td><td>1000 </td><td>37.15</td><td>0    </td></tr>\n",
       "\t<tr><td> 5   </td><td>307  </td><td>1010 </td><td>37.23</td><td>0    </td></tr>\n",
       "\t<tr><td> 6   </td><td>307  </td><td>1020 </td><td>37.24</td><td>0    </td></tr>\n",
       "\t<tr><td> 7   </td><td>307  </td><td>1030 </td><td>37.24</td><td>0    </td></tr>\n",
       "\t<tr><td> 8   </td><td>307  </td><td>1040 </td><td>36.90</td><td>0    </td></tr>\n",
       "\t<tr><td> 9   </td><td>307  </td><td>1050 </td><td>36.95</td><td>0    </td></tr>\n",
       "\t<tr><td>10   </td><td>307  </td><td>1100 </td><td>36.89</td><td>0    </td></tr>\n",
       "\t<tr><td>11   </td><td>307  </td><td>1110 </td><td>36.95</td><td>0    </td></tr>\n",
       "\t<tr><td>12   </td><td>307  </td><td>1120 </td><td>37.00</td><td>0    </td></tr>\n",
       "\t<tr><td>13   </td><td>307  </td><td>1130 </td><td>36.90</td><td>0    </td></tr>\n",
       "\t<tr><td>14   </td><td>307  </td><td>1140 </td><td>36.99</td><td>0    </td></tr>\n",
       "\t<tr><td>15   </td><td>307  </td><td>1150 </td><td>36.99</td><td>0    </td></tr>\n",
       "\t<tr><td>16   </td><td>307  </td><td>1200 </td><td>37.01</td><td>0    </td></tr>\n",
       "\t<tr><td>17   </td><td>307  </td><td>1210 </td><td>37.04</td><td>0    </td></tr>\n",
       "\t<tr><td>18   </td><td>307  </td><td>1220 </td><td>37.04</td><td>0    </td></tr>\n",
       "\t<tr><td>19   </td><td>307  </td><td>1230 </td><td>37.14</td><td>0    </td></tr>\n",
       "\t<tr><td>20   </td><td>307  </td><td>1240 </td><td>37.07</td><td>0    </td></tr>\n",
       "\t<tr><td>21   </td><td>307  </td><td>1250 </td><td>36.98</td><td>0    </td></tr>\n",
       "\t<tr><td>22   </td><td>307  </td><td>1300 </td><td>37.01</td><td>0    </td></tr>\n",
       "\t<tr><td>23   </td><td>307  </td><td>1310 </td><td>36.97</td><td>0    </td></tr>\n",
       "\t<tr><td>24   </td><td>307  </td><td>1320 </td><td>36.97</td><td>0    </td></tr>\n",
       "\t<tr><td>25   </td><td>307  </td><td>1330 </td><td>37.12</td><td>0    </td></tr>\n",
       "\t<tr><td>26   </td><td>307  </td><td>1340 </td><td>37.13</td><td>0    </td></tr>\n",
       "\t<tr><td>27   </td><td>307  </td><td>1350 </td><td>37.14</td><td>0    </td></tr>\n",
       "\t<tr><td>28   </td><td>307  </td><td>1400 </td><td>37.15</td><td>0    </td></tr>\n",
       "\t<tr><td>29   </td><td>307  </td><td>1410 </td><td>37.17</td><td>0    </td></tr>\n",
       "\t<tr><td>30   </td><td>307  </td><td>1420 </td><td>37.12</td><td>0    </td></tr>\n",
       "\t<tr><td>⋮</td><td>⋮</td><td>⋮</td><td>⋮</td><td>⋮</td></tr>\n",
       "\t<tr><td> 71  </td><td>307  </td><td>2110 </td><td>37.95</td><td>1    </td></tr>\n",
       "\t<tr><td> 72  </td><td>307  </td><td>2120 </td><td>37.95</td><td>1    </td></tr>\n",
       "\t<tr><td> 73  </td><td>307  </td><td>2130 </td><td>37.76</td><td>1    </td></tr>\n",
       "\t<tr><td> 74  </td><td>307  </td><td>2140 </td><td>37.60</td><td>1    </td></tr>\n",
       "\t<tr><td> 75  </td><td>307  </td><td>2150 </td><td>37.89</td><td>1    </td></tr>\n",
       "\t<tr><td> 76  </td><td>307  </td><td>2200 </td><td>37.86</td><td>1    </td></tr>\n",
       "\t<tr><td> 77  </td><td>307  </td><td>2210 </td><td>37.71</td><td>1    </td></tr>\n",
       "\t<tr><td> 78  </td><td>307  </td><td>2220 </td><td>37.78</td><td>1    </td></tr>\n",
       "\t<tr><td> 79  </td><td>307  </td><td>2230 </td><td>37.82</td><td>1    </td></tr>\n",
       "\t<tr><td> 80  </td><td>307  </td><td>2240 </td><td>37.76</td><td>1    </td></tr>\n",
       "\t<tr><td> 81  </td><td>307  </td><td>2250 </td><td>37.81</td><td>1    </td></tr>\n",
       "\t<tr><td> 82  </td><td>307  </td><td>2300 </td><td>37.84</td><td>1    </td></tr>\n",
       "\t<tr><td> 83  </td><td>307  </td><td>2310 </td><td>38.01</td><td>1    </td></tr>\n",
       "\t<tr><td> 84  </td><td>307  </td><td>2320 </td><td>38.10</td><td>1    </td></tr>\n",
       "\t<tr><td> 85  </td><td>307  </td><td>2330 </td><td>38.15</td><td>1    </td></tr>\n",
       "\t<tr><td> 86  </td><td>307  </td><td>2340 </td><td>37.92</td><td>1    </td></tr>\n",
       "\t<tr><td> 87  </td><td>307  </td><td>2350 </td><td>37.64</td><td>1    </td></tr>\n",
       "\t<tr><td> 88  </td><td>308  </td><td>   0 </td><td>37.70</td><td>1    </td></tr>\n",
       "\t<tr><td> 89  </td><td>308  </td><td>  10 </td><td>37.46</td><td>1    </td></tr>\n",
       "\t<tr><td> 90  </td><td>308  </td><td>  20 </td><td>37.41</td><td>1    </td></tr>\n",
       "\t<tr><td> 91  </td><td>308  </td><td>  30 </td><td>37.46</td><td>1    </td></tr>\n",
       "\t<tr><td> 92  </td><td>308  </td><td>  40 </td><td>37.56</td><td>1    </td></tr>\n",
       "\t<tr><td> 93  </td><td>308  </td><td>  50 </td><td>37.55</td><td>1    </td></tr>\n",
       "\t<tr><td> 94  </td><td>308  </td><td> 100 </td><td>37.75</td><td>1    </td></tr>\n",
       "\t<tr><td> 95  </td><td>308  </td><td> 110 </td><td>37.76</td><td>1    </td></tr>\n",
       "\t<tr><td> 96  </td><td>308  </td><td> 120 </td><td>37.73</td><td>1    </td></tr>\n",
       "\t<tr><td> 97  </td><td>308  </td><td> 130 </td><td>37.77</td><td>1    </td></tr>\n",
       "\t<tr><td> 98  </td><td>308  </td><td> 140 </td><td>38.01</td><td>1    </td></tr>\n",
       "\t<tr><td> 99  </td><td>308  </td><td> 150 </td><td>38.04</td><td>1    </td></tr>\n",
       "\t<tr><td>100  </td><td>308  </td><td> 200 </td><td>38.07</td><td>1    </td></tr>\n",
       "</tbody>\n",
       "</table>\n"
      ],
      "text/latex": [
       "\\begin{tabular}{r|lllll}\n",
       " V1 & V2 & V3 & V4 & V5\\\\\n",
       "\\hline\n",
       "\t  1    & 307   &  930  & 36.58 & 0    \\\\\n",
       "\t  2    & 307   &  940  & 36.73 & 0    \\\\\n",
       "\t  3    & 307   &  950  & 36.93 & 0    \\\\\n",
       "\t  4    & 307   & 1000  & 37.15 & 0    \\\\\n",
       "\t  5    & 307   & 1010  & 37.23 & 0    \\\\\n",
       "\t  6    & 307   & 1020  & 37.24 & 0    \\\\\n",
       "\t  7    & 307   & 1030  & 37.24 & 0    \\\\\n",
       "\t  8    & 307   & 1040  & 36.90 & 0    \\\\\n",
       "\t  9    & 307   & 1050  & 36.95 & 0    \\\\\n",
       "\t 10    & 307   & 1100  & 36.89 & 0    \\\\\n",
       "\t 11    & 307   & 1110  & 36.95 & 0    \\\\\n",
       "\t 12    & 307   & 1120  & 37.00 & 0    \\\\\n",
       "\t 13    & 307   & 1130  & 36.90 & 0    \\\\\n",
       "\t 14    & 307   & 1140  & 36.99 & 0    \\\\\n",
       "\t 15    & 307   & 1150  & 36.99 & 0    \\\\\n",
       "\t 16    & 307   & 1200  & 37.01 & 0    \\\\\n",
       "\t 17    & 307   & 1210  & 37.04 & 0    \\\\\n",
       "\t 18    & 307   & 1220  & 37.04 & 0    \\\\\n",
       "\t 19    & 307   & 1230  & 37.14 & 0    \\\\\n",
       "\t 20    & 307   & 1240  & 37.07 & 0    \\\\\n",
       "\t 21    & 307   & 1250  & 36.98 & 0    \\\\\n",
       "\t 22    & 307   & 1300  & 37.01 & 0    \\\\\n",
       "\t 23    & 307   & 1310  & 36.97 & 0    \\\\\n",
       "\t 24    & 307   & 1320  & 36.97 & 0    \\\\\n",
       "\t 25    & 307   & 1330  & 37.12 & 0    \\\\\n",
       "\t 26    & 307   & 1340  & 37.13 & 0    \\\\\n",
       "\t 27    & 307   & 1350  & 37.14 & 0    \\\\\n",
       "\t 28    & 307   & 1400  & 37.15 & 0    \\\\\n",
       "\t 29    & 307   & 1410  & 37.17 & 0    \\\\\n",
       "\t 30    & 307   & 1420  & 37.12 & 0    \\\\\n",
       "\t ⋮ & ⋮ & ⋮ & ⋮ & ⋮\\\\\n",
       "\t  71   & 307   & 2110  & 37.95 & 1    \\\\\n",
       "\t  72   & 307   & 2120  & 37.95 & 1    \\\\\n",
       "\t  73   & 307   & 2130  & 37.76 & 1    \\\\\n",
       "\t  74   & 307   & 2140  & 37.60 & 1    \\\\\n",
       "\t  75   & 307   & 2150  & 37.89 & 1    \\\\\n",
       "\t  76   & 307   & 2200  & 37.86 & 1    \\\\\n",
       "\t  77   & 307   & 2210  & 37.71 & 1    \\\\\n",
       "\t  78   & 307   & 2220  & 37.78 & 1    \\\\\n",
       "\t  79   & 307   & 2230  & 37.82 & 1    \\\\\n",
       "\t  80   & 307   & 2240  & 37.76 & 1    \\\\\n",
       "\t  81   & 307   & 2250  & 37.81 & 1    \\\\\n",
       "\t  82   & 307   & 2300  & 37.84 & 1    \\\\\n",
       "\t  83   & 307   & 2310  & 38.01 & 1    \\\\\n",
       "\t  84   & 307   & 2320  & 38.10 & 1    \\\\\n",
       "\t  85   & 307   & 2330  & 38.15 & 1    \\\\\n",
       "\t  86   & 307   & 2340  & 37.92 & 1    \\\\\n",
       "\t  87   & 307   & 2350  & 37.64 & 1    \\\\\n",
       "\t  88   & 308   &    0  & 37.70 & 1    \\\\\n",
       "\t  89   & 308   &   10  & 37.46 & 1    \\\\\n",
       "\t  90   & 308   &   20  & 37.41 & 1    \\\\\n",
       "\t  91   & 308   &   30  & 37.46 & 1    \\\\\n",
       "\t  92   & 308   &   40  & 37.56 & 1    \\\\\n",
       "\t  93   & 308   &   50  & 37.55 & 1    \\\\\n",
       "\t  94   & 308   &  100  & 37.75 & 1    \\\\\n",
       "\t  95   & 308   &  110  & 37.76 & 1    \\\\\n",
       "\t  96   & 308   &  120  & 37.73 & 1    \\\\\n",
       "\t  97   & 308   &  130  & 37.77 & 1    \\\\\n",
       "\t  98   & 308   &  140  & 38.01 & 1    \\\\\n",
       "\t  99   & 308   &  150  & 38.04 & 1    \\\\\n",
       "\t 100   & 308   &  200  & 38.07 & 1    \\\\\n",
       "\\end{tabular}\n"
      ],
      "text/markdown": [
       "\n",
       "V1 | V2 | V3 | V4 | V5 | \n",
       "|---|---|---|---|---|---|---|---|---|---|---|---|---|---|---|---|---|---|---|---|---|---|---|---|---|---|---|---|---|---|---|---|---|---|---|---|---|---|---|---|---|---|---|---|---|---|---|---|---|---|---|---|---|---|---|---|---|---|---|---|---|\n",
       "|  1    | 307   |  930  | 36.58 | 0     | \n",
       "|  2    | 307   |  940  | 36.73 | 0     | \n",
       "|  3    | 307   |  950  | 36.93 | 0     | \n",
       "|  4    | 307   | 1000  | 37.15 | 0     | \n",
       "|  5    | 307   | 1010  | 37.23 | 0     | \n",
       "|  6    | 307   | 1020  | 37.24 | 0     | \n",
       "|  7    | 307   | 1030  | 37.24 | 0     | \n",
       "|  8    | 307   | 1040  | 36.90 | 0     | \n",
       "|  9    | 307   | 1050  | 36.95 | 0     | \n",
       "| 10    | 307   | 1100  | 36.89 | 0     | \n",
       "| 11    | 307   | 1110  | 36.95 | 0     | \n",
       "| 12    | 307   | 1120  | 37.00 | 0     | \n",
       "| 13    | 307   | 1130  | 36.90 | 0     | \n",
       "| 14    | 307   | 1140  | 36.99 | 0     | \n",
       "| 15    | 307   | 1150  | 36.99 | 0     | \n",
       "| 16    | 307   | 1200  | 37.01 | 0     | \n",
       "| 17    | 307   | 1210  | 37.04 | 0     | \n",
       "| 18    | 307   | 1220  | 37.04 | 0     | \n",
       "| 19    | 307   | 1230  | 37.14 | 0     | \n",
       "| 20    | 307   | 1240  | 37.07 | 0     | \n",
       "| 21    | 307   | 1250  | 36.98 | 0     | \n",
       "| 22    | 307   | 1300  | 37.01 | 0     | \n",
       "| 23    | 307   | 1310  | 36.97 | 0     | \n",
       "| 24    | 307   | 1320  | 36.97 | 0     | \n",
       "| 25    | 307   | 1330  | 37.12 | 0     | \n",
       "| 26    | 307   | 1340  | 37.13 | 0     | \n",
       "| 27    | 307   | 1350  | 37.14 | 0     | \n",
       "| 28    | 307   | 1400  | 37.15 | 0     | \n",
       "| 29    | 307   | 1410  | 37.17 | 0     | \n",
       "| 30    | 307   | 1420  | 37.12 | 0     | \n",
       "| ⋮ | ⋮ | ⋮ | ⋮ | ⋮ | \n",
       "|  71   | 307   | 2110  | 37.95 | 1     | \n",
       "|  72   | 307   | 2120  | 37.95 | 1     | \n",
       "|  73   | 307   | 2130  | 37.76 | 1     | \n",
       "|  74   | 307   | 2140  | 37.60 | 1     | \n",
       "|  75   | 307   | 2150  | 37.89 | 1     | \n",
       "|  76   | 307   | 2200  | 37.86 | 1     | \n",
       "|  77   | 307   | 2210  | 37.71 | 1     | \n",
       "|  78   | 307   | 2220  | 37.78 | 1     | \n",
       "|  79   | 307   | 2230  | 37.82 | 1     | \n",
       "|  80   | 307   | 2240  | 37.76 | 1     | \n",
       "|  81   | 307   | 2250  | 37.81 | 1     | \n",
       "|  82   | 307   | 2300  | 37.84 | 1     | \n",
       "|  83   | 307   | 2310  | 38.01 | 1     | \n",
       "|  84   | 307   | 2320  | 38.10 | 1     | \n",
       "|  85   | 307   | 2330  | 38.15 | 1     | \n",
       "|  86   | 307   | 2340  | 37.92 | 1     | \n",
       "|  87   | 307   | 2350  | 37.64 | 1     | \n",
       "|  88   | 308   |    0  | 37.70 | 1     | \n",
       "|  89   | 308   |   10  | 37.46 | 1     | \n",
       "|  90   | 308   |   20  | 37.41 | 1     | \n",
       "|  91   | 308   |   30  | 37.46 | 1     | \n",
       "|  92   | 308   |   40  | 37.56 | 1     | \n",
       "|  93   | 308   |   50  | 37.55 | 1     | \n",
       "|  94   | 308   |  100  | 37.75 | 1     | \n",
       "|  95   | 308   |  110  | 37.76 | 1     | \n",
       "|  96   | 308   |  120  | 37.73 | 1     | \n",
       "|  97   | 308   |  130  | 37.77 | 1     | \n",
       "|  98   | 308   |  140  | 38.01 | 1     | \n",
       "|  99   | 308   |  150  | 38.04 | 1     | \n",
       "| 100   | 308   |  200  | 38.07 | 1     | \n",
       "\n",
       "\n"
      ],
      "text/plain": [
       "    V1  V2  V3   V4    V5\n",
       "1    1  307  930 36.58 0 \n",
       "2    2  307  940 36.73 0 \n",
       "3    3  307  950 36.93 0 \n",
       "4    4  307 1000 37.15 0 \n",
       "5    5  307 1010 37.23 0 \n",
       "6    6  307 1020 37.24 0 \n",
       "7    7  307 1030 37.24 0 \n",
       "8    8  307 1040 36.90 0 \n",
       "9    9  307 1050 36.95 0 \n",
       "10  10  307 1100 36.89 0 \n",
       "11  11  307 1110 36.95 0 \n",
       "12  12  307 1120 37.00 0 \n",
       "13  13  307 1130 36.90 0 \n",
       "14  14  307 1140 36.99 0 \n",
       "15  15  307 1150 36.99 0 \n",
       "16  16  307 1200 37.01 0 \n",
       "17  17  307 1210 37.04 0 \n",
       "18  18  307 1220 37.04 0 \n",
       "19  19  307 1230 37.14 0 \n",
       "20  20  307 1240 37.07 0 \n",
       "21  21  307 1250 36.98 0 \n",
       "22  22  307 1300 37.01 0 \n",
       "23  23  307 1310 36.97 0 \n",
       "24  24  307 1320 36.97 0 \n",
       "25  25  307 1330 37.12 0 \n",
       "26  26  307 1340 37.13 0 \n",
       "27  27  307 1350 37.14 0 \n",
       "28  28  307 1400 37.15 0 \n",
       "29  29  307 1410 37.17 0 \n",
       "30  30  307 1420 37.12 0 \n",
       "⋮   ⋮   ⋮   ⋮    ⋮     ⋮ \n",
       "71   71 307 2110 37.95 1 \n",
       "72   72 307 2120 37.95 1 \n",
       "73   73 307 2130 37.76 1 \n",
       "74   74 307 2140 37.60 1 \n",
       "75   75 307 2150 37.89 1 \n",
       "76   76 307 2200 37.86 1 \n",
       "77   77 307 2210 37.71 1 \n",
       "78   78 307 2220 37.78 1 \n",
       "79   79 307 2230 37.82 1 \n",
       "80   80 307 2240 37.76 1 \n",
       "81   81 307 2250 37.81 1 \n",
       "82   82 307 2300 37.84 1 \n",
       "83   83 307 2310 38.01 1 \n",
       "84   84 307 2320 38.10 1 \n",
       "85   85 307 2330 38.15 1 \n",
       "86   86 307 2340 37.92 1 \n",
       "87   87 307 2350 37.64 1 \n",
       "88   88 308    0 37.70 1 \n",
       "89   89 308   10 37.46 1 \n",
       "90   90 308   20 37.41 1 \n",
       "91   91 308   30 37.46 1 \n",
       "92   92 308   40 37.56 1 \n",
       "93   93 308   50 37.55 1 \n",
       "94   94 308  100 37.75 1 \n",
       "95   95 308  110 37.76 1 \n",
       "96   96 308  120 37.73 1 \n",
       "97   97 308  130 37.77 1 \n",
       "98   98 308  140 38.01 1 \n",
       "99   99 308  150 38.04 1 \n",
       "100 100 308  200 38.07 1 "
      ]
     },
     "metadata": {},
     "output_type": "display_data"
    }
   ],
   "source": [
    "### Reading data from the web...\n",
    "\n",
    "read.table(\"http://www.stats.ox.ac.uk/pub/datasets/csb/ch11b.dat\")"
   ]
  }
 ],
 "metadata": {
  "kernelspec": {
   "display_name": "R",
   "language": "R",
   "name": "ir"
  },
  "language_info": {
   "codemirror_mode": "r",
   "file_extension": ".r",
   "mimetype": "text/x-r-source",
   "name": "R",
   "pygments_lexer": "r",
   "version": "3.4.2"
  }
 },
 "nbformat": 4,
 "nbformat_minor": 2
}
