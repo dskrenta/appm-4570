{
 "cells": [
  {
   "cell_type": "markdown",
   "metadata": {},
   "source": [
    "# Introduction to R/Jupyter\n",
    "\n",
    " This is a Jupyter Notebook. A Jupyter Notebook is an [\"open-source web application that allows you to create and share documents that contain live code, equations, visualizations and narrative text.\"](http://jupyter.org) We will use the R programming languge and LaTex typsetting in Jupyter to prepare assignments and projects (you can also use other languages in Jupyter). The purpose of this note book is to familiarize yourself with programming in R.\n",
    "\n",
    "R is a powerful open source programming language that is used for statistical computation and graphics. In many ways, it is similar to Matlab and Python (so, if you know these languages, learning R will be fairly easy!). \n",
    "\n",
    "The best way to learn R and Jupyter is to jump right in! Below we walk through how to use Jupyter and R. **Text in boldface indicates exercises that I am asking you to complete.**\n"
   ]
  },
  {
   "cell_type": "markdown",
   "metadata": {},
   "source": [
    "## Part I: Basics\n",
    "\n",
    "Jupyter has different types of cells. This cell is a \"markdown\" cell, and is used to write equations (LaTeX) and text. The other type of cell that we will use is a \"code\" cell. This is where we will program using R. You can create a new cell from the plus sign above (delete using the scissor) and select the type of cell using the drop down menu above and to the right. \n",
    "\n",
    "#### Double click on the \"Type Markdown and LaTex: $a^2$\" and type your favorite equation (come on, you know you have one...)."
   ]
  },
  {
   "cell_type": "markdown",
   "metadata": {},
   "source": [
    "$P(\\boldsymbol\\theta \\, | \\, \\boldsymbol y) \\propto P(\\boldsymbol y \\, | \\, \\boldsymbol\\theta)P(\\boldsymbol\\theta)$"
   ]
  },
  {
   "cell_type": "markdown",
   "metadata": {},
   "source": [
    "In R/code cells, you can do (almost) anything that you can do in R, from basic computations to complex statistical modeling. \n",
    "\n",
    "#### Create an R code cell below this cell. Compute the natural log of e. You may have guessed that the right functions for this are ${\\tt log()}$ and ${\\tt exp()}$. But with R, you don't have to guess. You can type \"${\\tt ?? log}$\" to get some general information about functions related to logarithms (the same applies to other concepts); if you type \"? X\" you will get information about the specific function X (e.g., try \"${\\tt ? exp}$\"). Often, a Google search is a really effective way to learn about R functions."
   ]
  },
  {
   "cell_type": "markdown",
   "metadata": {},
   "source": [
    "The function ${\\tt c()}$ will allow you to create vectors (\"c\" for combine). \n",
    "\n",
    "#### In the cell below, create three vectors:\n",
    "\n",
    "1. a vector containing the numbers 1, 2, 5.3, 6, -2, 4;\n",
    "2. a vector containing the strings \"one\", \"two, and \"three\" (strings are formed in R by putting quotes around the words);\n",
    "3. a vector of logicals: TRUE, TRUE, FALSE, TRUE."
   ]
  },
  {
   "cell_type": "code",
   "execution_count": 1,
   "metadata": {},
   "outputs": [
    {
     "data": {
      "text/html": [
       "<ol class=list-inline>\n",
       "\t<li>1</li>\n",
       "\t<li>2</li>\n",
       "\t<li>3</li>\n",
       "</ol>\n"
      ],
      "text/latex": [
       "\\begin{enumerate*}\n",
       "\\item 1\n",
       "\\item 2\n",
       "\\item 3\n",
       "\\end{enumerate*}\n"
      ],
      "text/markdown": [
       "1. 1\n",
       "2. 2\n",
       "3. 3\n",
       "\n",
       "\n"
      ],
      "text/plain": [
       "[1] 1 2 3"
      ]
     },
     "metadata": {},
     "output_type": "display_data"
    },
    {
     "data": {
      "text/html": [
       "<ol class=list-inline>\n",
       "\t<li>1</li>\n",
       "\t<li>2</li>\n",
       "\t<li>5.3</li>\n",
       "\t<li>6</li>\n",
       "\t<li>-2</li>\n",
       "\t<li>4</li>\n",
       "</ol>\n"
      ],
      "text/latex": [
       "\\begin{enumerate*}\n",
       "\\item 1\n",
       "\\item 2\n",
       "\\item 5.3\n",
       "\\item 6\n",
       "\\item -2\n",
       "\\item 4\n",
       "\\end{enumerate*}\n"
      ],
      "text/markdown": [
       "1. 1\n",
       "2. 2\n",
       "3. 5.3\n",
       "4. 6\n",
       "5. -2\n",
       "6. 4\n",
       "\n",
       "\n"
      ],
      "text/plain": [
       "[1]  1.0  2.0  5.3  6.0 -2.0  4.0"
      ]
     },
     "metadata": {},
     "output_type": "display_data"
    },
    {
     "data": {
      "text/html": [
       "<ol class=list-inline>\n",
       "\t<li>'one'</li>\n",
       "\t<li>'two'</li>\n",
       "\t<li>'three'</li>\n",
       "</ol>\n"
      ],
      "text/latex": [
       "\\begin{enumerate*}\n",
       "\\item 'one'\n",
       "\\item 'two'\n",
       "\\item 'three'\n",
       "\\end{enumerate*}\n"
      ],
      "text/markdown": [
       "1. 'one'\n",
       "2. 'two'\n",
       "3. 'three'\n",
       "\n",
       "\n"
      ],
      "text/plain": [
       "[1] \"one\"   \"two\"   \"three\""
      ]
     },
     "metadata": {},
     "output_type": "display_data"
    },
    {
     "data": {
      "text/html": [
       "<ol class=list-inline>\n",
       "\t<li>TRUE</li>\n",
       "\t<li>TRUE</li>\n",
       "\t<li>FALSE</li>\n",
       "\t<li>TRUE</li>\n",
       "</ol>\n"
      ],
      "text/latex": [
       "\\begin{enumerate*}\n",
       "\\item TRUE\n",
       "\\item TRUE\n",
       "\\item FALSE\n",
       "\\item TRUE\n",
       "\\end{enumerate*}\n"
      ],
      "text/markdown": [
       "1. TRUE\n",
       "2. TRUE\n",
       "3. FALSE\n",
       "4. TRUE\n",
       "\n",
       "\n"
      ],
      "text/plain": [
       "[1]  TRUE  TRUE FALSE  TRUE"
      ]
     },
     "metadata": {},
     "output_type": "display_data"
    }
   ],
   "source": [
    "c(1,2,3)\n",
    "c(1, 2, 5.3, 6, -2, 4)\n",
    "c(\"one\", \"two\", \"three\")\n",
    "c(TRUE, TRUE, FALSE, TRUE)"
   ]
  },
  {
   "cell_type": "markdown",
   "metadata": {},
   "source": [
    "#### Next, type ${\\tt seq(1,10)}$ in the R cell below. What does it do? What about ${\\tt seq(1, 20, by = 2)}$? ${\\tt seq(10, 20, len = 100)}$? Why are these convenient?"
   ]
  },
  {
   "cell_type": "code",
   "execution_count": 2,
   "metadata": {},
   "outputs": [
    {
     "data": {
      "text/html": [
       "<ol class=list-inline>\n",
       "\t<li>1</li>\n",
       "\t<li>2</li>\n",
       "\t<li>3</li>\n",
       "\t<li>4</li>\n",
       "\t<li>5</li>\n",
       "\t<li>6</li>\n",
       "\t<li>7</li>\n",
       "\t<li>8</li>\n",
       "\t<li>9</li>\n",
       "\t<li>10</li>\n",
       "</ol>\n"
      ],
      "text/latex": [
       "\\begin{enumerate*}\n",
       "\\item 1\n",
       "\\item 2\n",
       "\\item 3\n",
       "\\item 4\n",
       "\\item 5\n",
       "\\item 6\n",
       "\\item 7\n",
       "\\item 8\n",
       "\\item 9\n",
       "\\item 10\n",
       "\\end{enumerate*}\n"
      ],
      "text/markdown": [
       "1. 1\n",
       "2. 2\n",
       "3. 3\n",
       "4. 4\n",
       "5. 5\n",
       "6. 6\n",
       "7. 7\n",
       "8. 8\n",
       "9. 9\n",
       "10. 10\n",
       "\n",
       "\n"
      ],
      "text/plain": [
       " [1]  1  2  3  4  5  6  7  8  9 10"
      ]
     },
     "metadata": {},
     "output_type": "display_data"
    },
    {
     "data": {
      "text/html": [
       "<ol class=list-inline>\n",
       "\t<li>1</li>\n",
       "\t<li>3</li>\n",
       "\t<li>5</li>\n",
       "\t<li>7</li>\n",
       "\t<li>9</li>\n",
       "\t<li>11</li>\n",
       "\t<li>13</li>\n",
       "\t<li>15</li>\n",
       "\t<li>17</li>\n",
       "\t<li>19</li>\n",
       "</ol>\n"
      ],
      "text/latex": [
       "\\begin{enumerate*}\n",
       "\\item 1\n",
       "\\item 3\n",
       "\\item 5\n",
       "\\item 7\n",
       "\\item 9\n",
       "\\item 11\n",
       "\\item 13\n",
       "\\item 15\n",
       "\\item 17\n",
       "\\item 19\n",
       "\\end{enumerate*}\n"
      ],
      "text/markdown": [
       "1. 1\n",
       "2. 3\n",
       "3. 5\n",
       "4. 7\n",
       "5. 9\n",
       "6. 11\n",
       "7. 13\n",
       "8. 15\n",
       "9. 17\n",
       "10. 19\n",
       "\n",
       "\n"
      ],
      "text/plain": [
       " [1]  1  3  5  7  9 11 13 15 17 19"
      ]
     },
     "metadata": {},
     "output_type": "display_data"
    },
    {
     "data": {
      "text/html": [
       "<ol class=list-inline>\n",
       "\t<li>10</li>\n",
       "\t<li>10.1010101010101</li>\n",
       "\t<li>10.2020202020202</li>\n",
       "\t<li>10.3030303030303</li>\n",
       "\t<li>10.4040404040404</li>\n",
       "\t<li>10.5050505050505</li>\n",
       "\t<li>10.6060606060606</li>\n",
       "\t<li>10.7070707070707</li>\n",
       "\t<li>10.8080808080808</li>\n",
       "\t<li>10.9090909090909</li>\n",
       "\t<li>11.010101010101</li>\n",
       "\t<li>11.1111111111111</li>\n",
       "\t<li>11.2121212121212</li>\n",
       "\t<li>11.3131313131313</li>\n",
       "\t<li>11.4141414141414</li>\n",
       "\t<li>11.5151515151515</li>\n",
       "\t<li>11.6161616161616</li>\n",
       "\t<li>11.7171717171717</li>\n",
       "\t<li>11.8181818181818</li>\n",
       "\t<li>11.9191919191919</li>\n",
       "\t<li>12.020202020202</li>\n",
       "\t<li>12.1212121212121</li>\n",
       "\t<li>12.2222222222222</li>\n",
       "\t<li>12.3232323232323</li>\n",
       "\t<li>12.4242424242424</li>\n",
       "\t<li>12.5252525252525</li>\n",
       "\t<li>12.6262626262626</li>\n",
       "\t<li>12.7272727272727</li>\n",
       "\t<li>12.8282828282828</li>\n",
       "\t<li>12.9292929292929</li>\n",
       "\t<li>13.030303030303</li>\n",
       "\t<li>13.1313131313131</li>\n",
       "\t<li>13.2323232323232</li>\n",
       "\t<li>13.3333333333333</li>\n",
       "\t<li>13.4343434343434</li>\n",
       "\t<li>13.5353535353535</li>\n",
       "\t<li>13.6363636363636</li>\n",
       "\t<li>13.7373737373737</li>\n",
       "\t<li>13.8383838383838</li>\n",
       "\t<li>13.9393939393939</li>\n",
       "\t<li>14.040404040404</li>\n",
       "\t<li>14.1414141414141</li>\n",
       "\t<li>14.2424242424242</li>\n",
       "\t<li>14.3434343434343</li>\n",
       "\t<li>14.4444444444444</li>\n",
       "\t<li>14.5454545454545</li>\n",
       "\t<li>14.6464646464646</li>\n",
       "\t<li>14.7474747474747</li>\n",
       "\t<li>14.8484848484848</li>\n",
       "\t<li>14.9494949494949</li>\n",
       "\t<li>15.0505050505051</li>\n",
       "\t<li>15.1515151515152</li>\n",
       "\t<li>15.2525252525253</li>\n",
       "\t<li>15.3535353535354</li>\n",
       "\t<li>15.4545454545455</li>\n",
       "\t<li>15.5555555555556</li>\n",
       "\t<li>15.6565656565657</li>\n",
       "\t<li>15.7575757575758</li>\n",
       "\t<li>15.8585858585859</li>\n",
       "\t<li>15.959595959596</li>\n",
       "\t<li>16.0606060606061</li>\n",
       "\t<li>16.1616161616162</li>\n",
       "\t<li>16.2626262626263</li>\n",
       "\t<li>16.3636363636364</li>\n",
       "\t<li>16.4646464646465</li>\n",
       "\t<li>16.5656565656566</li>\n",
       "\t<li>16.6666666666667</li>\n",
       "\t<li>16.7676767676768</li>\n",
       "\t<li>16.8686868686869</li>\n",
       "\t<li>16.969696969697</li>\n",
       "\t<li>17.0707070707071</li>\n",
       "\t<li>17.1717171717172</li>\n",
       "\t<li>17.2727272727273</li>\n",
       "\t<li>17.3737373737374</li>\n",
       "\t<li>17.4747474747475</li>\n",
       "\t<li>17.5757575757576</li>\n",
       "\t<li>17.6767676767677</li>\n",
       "\t<li>17.7777777777778</li>\n",
       "\t<li>17.8787878787879</li>\n",
       "\t<li>17.979797979798</li>\n",
       "\t<li>18.0808080808081</li>\n",
       "\t<li>18.1818181818182</li>\n",
       "\t<li>18.2828282828283</li>\n",
       "\t<li>18.3838383838384</li>\n",
       "\t<li>18.4848484848485</li>\n",
       "\t<li>18.5858585858586</li>\n",
       "\t<li>18.6868686868687</li>\n",
       "\t<li>18.7878787878788</li>\n",
       "\t<li>18.8888888888889</li>\n",
       "\t<li>18.989898989899</li>\n",
       "\t<li>19.0909090909091</li>\n",
       "\t<li>19.1919191919192</li>\n",
       "\t<li>19.2929292929293</li>\n",
       "\t<li>19.3939393939394</li>\n",
       "\t<li>19.4949494949495</li>\n",
       "\t<li>19.5959595959596</li>\n",
       "\t<li>19.6969696969697</li>\n",
       "\t<li>19.7979797979798</li>\n",
       "\t<li>19.8989898989899</li>\n",
       "\t<li>20</li>\n",
       "</ol>\n"
      ],
      "text/latex": [
       "\\begin{enumerate*}\n",
       "\\item 10\n",
       "\\item 10.1010101010101\n",
       "\\item 10.2020202020202\n",
       "\\item 10.3030303030303\n",
       "\\item 10.4040404040404\n",
       "\\item 10.5050505050505\n",
       "\\item 10.6060606060606\n",
       "\\item 10.7070707070707\n",
       "\\item 10.8080808080808\n",
       "\\item 10.9090909090909\n",
       "\\item 11.010101010101\n",
       "\\item 11.1111111111111\n",
       "\\item 11.2121212121212\n",
       "\\item 11.3131313131313\n",
       "\\item 11.4141414141414\n",
       "\\item 11.5151515151515\n",
       "\\item 11.6161616161616\n",
       "\\item 11.7171717171717\n",
       "\\item 11.8181818181818\n",
       "\\item 11.9191919191919\n",
       "\\item 12.020202020202\n",
       "\\item 12.1212121212121\n",
       "\\item 12.2222222222222\n",
       "\\item 12.3232323232323\n",
       "\\item 12.4242424242424\n",
       "\\item 12.5252525252525\n",
       "\\item 12.6262626262626\n",
       "\\item 12.7272727272727\n",
       "\\item 12.8282828282828\n",
       "\\item 12.9292929292929\n",
       "\\item 13.030303030303\n",
       "\\item 13.1313131313131\n",
       "\\item 13.2323232323232\n",
       "\\item 13.3333333333333\n",
       "\\item 13.4343434343434\n",
       "\\item 13.5353535353535\n",
       "\\item 13.6363636363636\n",
       "\\item 13.7373737373737\n",
       "\\item 13.8383838383838\n",
       "\\item 13.9393939393939\n",
       "\\item 14.040404040404\n",
       "\\item 14.1414141414141\n",
       "\\item 14.2424242424242\n",
       "\\item 14.3434343434343\n",
       "\\item 14.4444444444444\n",
       "\\item 14.5454545454545\n",
       "\\item 14.6464646464646\n",
       "\\item 14.7474747474747\n",
       "\\item 14.8484848484848\n",
       "\\item 14.9494949494949\n",
       "\\item 15.0505050505051\n",
       "\\item 15.1515151515152\n",
       "\\item 15.2525252525253\n",
       "\\item 15.3535353535354\n",
       "\\item 15.4545454545455\n",
       "\\item 15.5555555555556\n",
       "\\item 15.6565656565657\n",
       "\\item 15.7575757575758\n",
       "\\item 15.8585858585859\n",
       "\\item 15.959595959596\n",
       "\\item 16.0606060606061\n",
       "\\item 16.1616161616162\n",
       "\\item 16.2626262626263\n",
       "\\item 16.3636363636364\n",
       "\\item 16.4646464646465\n",
       "\\item 16.5656565656566\n",
       "\\item 16.6666666666667\n",
       "\\item 16.7676767676768\n",
       "\\item 16.8686868686869\n",
       "\\item 16.969696969697\n",
       "\\item 17.0707070707071\n",
       "\\item 17.1717171717172\n",
       "\\item 17.2727272727273\n",
       "\\item 17.3737373737374\n",
       "\\item 17.4747474747475\n",
       "\\item 17.5757575757576\n",
       "\\item 17.6767676767677\n",
       "\\item 17.7777777777778\n",
       "\\item 17.8787878787879\n",
       "\\item 17.979797979798\n",
       "\\item 18.0808080808081\n",
       "\\item 18.1818181818182\n",
       "\\item 18.2828282828283\n",
       "\\item 18.3838383838384\n",
       "\\item 18.4848484848485\n",
       "\\item 18.5858585858586\n",
       "\\item 18.6868686868687\n",
       "\\item 18.7878787878788\n",
       "\\item 18.8888888888889\n",
       "\\item 18.989898989899\n",
       "\\item 19.0909090909091\n",
       "\\item 19.1919191919192\n",
       "\\item 19.2929292929293\n",
       "\\item 19.3939393939394\n",
       "\\item 19.4949494949495\n",
       "\\item 19.5959595959596\n",
       "\\item 19.6969696969697\n",
       "\\item 19.7979797979798\n",
       "\\item 19.8989898989899\n",
       "\\item 20\n",
       "\\end{enumerate*}\n"
      ],
      "text/markdown": [
       "1. 10\n",
       "2. 10.1010101010101\n",
       "3. 10.2020202020202\n",
       "4. 10.3030303030303\n",
       "5. 10.4040404040404\n",
       "6. 10.5050505050505\n",
       "7. 10.6060606060606\n",
       "8. 10.7070707070707\n",
       "9. 10.8080808080808\n",
       "10. 10.9090909090909\n",
       "11. 11.010101010101\n",
       "12. 11.1111111111111\n",
       "13. 11.2121212121212\n",
       "14. 11.3131313131313\n",
       "15. 11.4141414141414\n",
       "16. 11.5151515151515\n",
       "17. 11.6161616161616\n",
       "18. 11.7171717171717\n",
       "19. 11.8181818181818\n",
       "20. 11.9191919191919\n",
       "21. 12.020202020202\n",
       "22. 12.1212121212121\n",
       "23. 12.2222222222222\n",
       "24. 12.3232323232323\n",
       "25. 12.4242424242424\n",
       "26. 12.5252525252525\n",
       "27. 12.6262626262626\n",
       "28. 12.7272727272727\n",
       "29. 12.8282828282828\n",
       "30. 12.9292929292929\n",
       "31. 13.030303030303\n",
       "32. 13.1313131313131\n",
       "33. 13.2323232323232\n",
       "34. 13.3333333333333\n",
       "35. 13.4343434343434\n",
       "36. 13.5353535353535\n",
       "37. 13.6363636363636\n",
       "38. 13.7373737373737\n",
       "39. 13.8383838383838\n",
       "40. 13.9393939393939\n",
       "41. 14.040404040404\n",
       "42. 14.1414141414141\n",
       "43. 14.2424242424242\n",
       "44. 14.3434343434343\n",
       "45. 14.4444444444444\n",
       "46. 14.5454545454545\n",
       "47. 14.6464646464646\n",
       "48. 14.7474747474747\n",
       "49. 14.8484848484848\n",
       "50. 14.9494949494949\n",
       "51. 15.0505050505051\n",
       "52. 15.1515151515152\n",
       "53. 15.2525252525253\n",
       "54. 15.3535353535354\n",
       "55. 15.4545454545455\n",
       "56. 15.5555555555556\n",
       "57. 15.6565656565657\n",
       "58. 15.7575757575758\n",
       "59. 15.8585858585859\n",
       "60. 15.959595959596\n",
       "61. 16.0606060606061\n",
       "62. 16.1616161616162\n",
       "63. 16.2626262626263\n",
       "64. 16.3636363636364\n",
       "65. 16.4646464646465\n",
       "66. 16.5656565656566\n",
       "67. 16.6666666666667\n",
       "68. 16.7676767676768\n",
       "69. 16.8686868686869\n",
       "70. 16.969696969697\n",
       "71. 17.0707070707071\n",
       "72. 17.1717171717172\n",
       "73. 17.2727272727273\n",
       "74. 17.3737373737374\n",
       "75. 17.4747474747475\n",
       "76. 17.5757575757576\n",
       "77. 17.6767676767677\n",
       "78. 17.7777777777778\n",
       "79. 17.8787878787879\n",
       "80. 17.979797979798\n",
       "81. 18.0808080808081\n",
       "82. 18.1818181818182\n",
       "83. 18.2828282828283\n",
       "84. 18.3838383838384\n",
       "85. 18.4848484848485\n",
       "86. 18.5858585858586\n",
       "87. 18.6868686868687\n",
       "88. 18.7878787878788\n",
       "89. 18.8888888888889\n",
       "90. 18.989898989899\n",
       "91. 19.0909090909091\n",
       "92. 19.1919191919192\n",
       "93. 19.2929292929293\n",
       "94. 19.3939393939394\n",
       "95. 19.4949494949495\n",
       "96. 19.5959595959596\n",
       "97. 19.6969696969697\n",
       "98. 19.7979797979798\n",
       "99. 19.8989898989899\n",
       "100. 20\n",
       "\n",
       "\n"
      ],
      "text/plain": [
       "  [1] 10.00000 10.10101 10.20202 10.30303 10.40404 10.50505 10.60606 10.70707\n",
       "  [9] 10.80808 10.90909 11.01010 11.11111 11.21212 11.31313 11.41414 11.51515\n",
       " [17] 11.61616 11.71717 11.81818 11.91919 12.02020 12.12121 12.22222 12.32323\n",
       " [25] 12.42424 12.52525 12.62626 12.72727 12.82828 12.92929 13.03030 13.13131\n",
       " [33] 13.23232 13.33333 13.43434 13.53535 13.63636 13.73737 13.83838 13.93939\n",
       " [41] 14.04040 14.14141 14.24242 14.34343 14.44444 14.54545 14.64646 14.74747\n",
       " [49] 14.84848 14.94949 15.05051 15.15152 15.25253 15.35354 15.45455 15.55556\n",
       " [57] 15.65657 15.75758 15.85859 15.95960 16.06061 16.16162 16.26263 16.36364\n",
       " [65] 16.46465 16.56566 16.66667 16.76768 16.86869 16.96970 17.07071 17.17172\n",
       " [73] 17.27273 17.37374 17.47475 17.57576 17.67677 17.77778 17.87879 17.97980\n",
       " [81] 18.08081 18.18182 18.28283 18.38384 18.48485 18.58586 18.68687 18.78788\n",
       " [89] 18.88889 18.98990 19.09091 19.19192 19.29293 19.39394 19.49495 19.59596\n",
       " [97] 19.69697 19.79798 19.89899 20.00000"
      ]
     },
     "metadata": {},
     "output_type": "display_data"
    }
   ],
   "source": [
    "seq(1, 10)\n",
    "seq(1, 20, by = 2)\n",
    "seq(10, 20, len = 100)"
   ]
  },
  {
   "cell_type": "markdown",
   "metadata": {},
   "source": [
    "#### What does the ${\\tt rep}$ function do? This function can take in several arguments. To see what they are, use the help file! Explore the arguments \"times\" and \"each\". What do they do?"
   ]
  },
  {
   "cell_type": "code",
   "execution_count": null,
   "metadata": {
    "collapsed": true
   },
   "outputs": [],
   "source": []
  },
  {
   "cell_type": "markdown",
   "metadata": {},
   "source": [
    "You can store vectors in R using ${\\tt =}$ or ${\\tt <-}$. \n",
    "\n",
    "#### Store the numbers 1 through 5 in a vector ${\\tt v1}$. Create another vector, ${\\tt v2}$, and join it together in a new vector, ${\\tt new}$."
   ]
  },
  {
   "cell_type": "code",
   "execution_count": null,
   "metadata": {
    "collapsed": true
   },
   "outputs": [],
   "source": []
  },
  {
   "cell_type": "markdown",
   "metadata": {},
   "source": [
    "Factors, also known as categorical/qualitative variables, are important in statistics. \"Shoe color\" (Black, Brown, etc.), \"drink size\" (S, M, L) and \"sex\" (M, F) are examples of factors. Below, in f1, I create a factor with six groups; note that R treats these values as factors; so, for example, you can't multiply f1 by a number. Try multiplying f1 by 3..."
   ]
  },
  {
   "cell_type": "code",
   "execution_count": null,
   "metadata": {
    "collapsed": true
   },
   "outputs": [],
   "source": [
    "f1 = factor(rep(1:6,3))\n",
    "f1\n",
    "f2 = factor(c(\"a\",7,\"blue\", \"blue\"))\n",
    "f2\n"
   ]
  },
  {
   "cell_type": "markdown",
   "metadata": {},
   "source": [
    "#### In the code cell below, I've written several commonly used functions. Explore. Change/add some arguments. See the power of R! \n",
    "\n",
    "Note that the first function creates (pseudo) random numbers from a normal distribution. Don't worry if you don't know what that is yet; we'll learn about it. But R can generate random numbers...that's cool!"
   ]
  },
  {
   "cell_type": "code",
   "execution_count": null,
   "metadata": {
    "collapsed": true,
    "scrolled": false
   },
   "outputs": [],
   "source": [
    "x <- rnorm(50, mean=5, sd=1) #generates 50 random numbers from a gaussian with mean 5 and sd 1. Don't worry...you'll know what this means soon!\n",
    "hist(x, density = 20)\n",
    "length(x) #return the length of x\n",
    "sum(x) #sum the numbers in x\n",
    "mean(x) #calculate the mean of the numbers in x\n",
    "var(x) #calculate the variance of the numbers in x\n",
    "sd(x) #calculate the standard deviation of x\n",
    "median(x) #calculate the median of x\n",
    "range(x) #calculate the range of x\n",
    "log(x) #calculate the natural log of x\n",
    "summary(x) #return 5-number summary of x\n",
    "\n",
    "hist(x, density = 20, freq = FALSE) #histogram of those random numbers; freq = FALSE makes x a 'density' (integrates to 1); density shades the boxes\n",
    "curve(dnorm(x,mean = mean(x),sd = sd(x)),from = min(x), to = max(x), add = TRUE) #overlay of normal density"
   ]
  },
  {
   "cell_type": "markdown",
   "metadata": {},
   "source": [
    "# Part II: Vector Indexing\n",
    "\n",
    "R (like Matlab and Python) has a nice indexing system. Given a matrix $A$, we can access the $[i,j]$ element of $A$ by writing ${\\tt A[i,j]}$. We can access the ith row by typing ${\\tt A[i,]}$. And, we can access the jth column by typing ${\\tt A[,j]}$. And, we can do even fancier things too...\n",
    "\n",
    "#### Modify the third line of code below to access the second, fourth, and sixth elements of the vector $a$. Take note of whether R starts indexing at 0 or 1!  Also, note that the last line uses the minus sign to access elements $ \\textit{other than}$ those specified in the index."
   ]
  },
  {
   "cell_type": "code",
   "execution_count": null,
   "metadata": {
    "collapsed": true
   },
   "outputs": [],
   "source": [
    "a <- seq(2, 16, by = 2)\n",
    "a\n",
    "a[c(1, 4)]\n",
    "###\n",
    "a[-c(1,5)]"
   ]
  },
  {
   "cell_type": "markdown",
   "metadata": {},
   "source": [
    "#### Write code that prints the third through sixth elements of $a$ (there's a short and long way)."
   ]
  },
  {
   "cell_type": "code",
   "execution_count": null,
   "metadata": {
    "collapsed": true,
    "scrolled": true
   },
   "outputs": [],
   "source": []
  },
  {
   "cell_type": "markdown",
   "metadata": {},
   "source": [
    "Logical indexing is another powerful tool for working with data in R. \n",
    "\n",
    "#### Let's start with typing things like \"$a > 10$\", \"$a \\le 4$\", \"$a == 10$\", and \"$a != 10$\". What do these lines do?"
   ]
  },
  {
   "cell_type": "code",
   "execution_count": null,
   "metadata": {
    "collapsed": true
   },
   "outputs": [],
   "source": []
  },
  {
   "cell_type": "markdown",
   "metadata": {},
   "source": [
    "Now let's look at more complicated logical statements. Note that ${\\tt \\&}$ represents \"and\", and ${\\tt |}$ represents \"or\" in R. \n",
    "\n",
    "#### Write code that prints ${\\tt TRUE}$ for values of $a$ greater than 6 and less than or equal to 10, and ${\\tt FALSE}$ otherwise. Then, write code that prints ${\\tt TRUE}$ for values of $a$  less than or equal to 4 or greater or equal to 12, and ${\\tt FALSE}$ otherwise."
   ]
  },
  {
   "cell_type": "code",
   "execution_count": null,
   "metadata": {
    "collapsed": true
   },
   "outputs": [],
   "source": []
  },
  {
   "cell_type": "markdown",
   "metadata": {},
   "source": [
    "The real power of logical indexing comes when we take these vectors of logicals and put them in the index of a vector. The first line below tells R to print all elements of $a$ such that $a < 6$.\n",
    "\n",
    "#### Write code to print elements of $a$ equal to 10. Then, print elements of $a$ less than six or equal to 10."
   ]
  },
  {
   "cell_type": "code",
   "execution_count": null,
   "metadata": {
    "collapsed": true,
    "scrolled": true
   },
   "outputs": [],
   "source": [
    "#elements of a less than 6\n",
    "a[a < 6]\n",
    "#elements of a equal to 10\n",
    "\n",
    "#elements of a less than 6 or equal to 10\n"
   ]
  },
  {
   "cell_type": "markdown",
   "metadata": {},
   "source": [
    "## Part III: Functions, Loops and Beyond!\n",
    "\n",
    "As we've seen, R has many built in functions; but, you can write your own, too! Below is the syntax.\n",
    "\n",
    "#### Write a function that concatenates two vectors."
   ]
  },
  {
   "cell_type": "code",
   "execution_count": null,
   "metadata": {
    "collapsed": true
   },
   "outputs": [],
   "source": [
    "y = function(input){\n",
    "    #stuff\n",
    "    return(output)\n",
    "}\n",
    "\n"
   ]
  },
  {
   "cell_type": "markdown",
   "metadata": {},
   "source": [
    "The function f1 below produces results like 'T' 'H' 'T' 'T'. We can think of f1 a function that flips a coin four times. \n",
    "\n",
    "#### Write a function f2 that can be interpreted as rolling a fair die eight times. How could you modify the code to roll a biased die?\n",
    "\n",
    "#### Notice that every time you run these function, the results are different! Uncomment the line ${\\tt set.seed(99)}$ and notice what happens."
   ]
  },
  {
   "cell_type": "code",
   "execution_count": null,
   "metadata": {
    "collapsed": true,
    "scrolled": true
   },
   "outputs": [],
   "source": [
    "#set.seed(99)\n",
    "f1 = function(){\n",
    "    s = sample(c(\"H\", \"T\"), size = 4, replace = TRUE)\n",
    "    return(s)\n",
    "}\n",
    "\n",
    "f1()\n"
   ]
  },
  {
   "cell_type": "markdown",
   "metadata": {},
   "source": [
    "In R, just like in C++, Matlab, Python, etc., you can write loops to repeat a sequence of instructions until a certain condition is met.  \n",
    "\n",
    "#### Below is the syntax for a loop. Inside the loop, write a line of code that populates the matrix M with the numbers 1 through 20."
   ]
  },
  {
   "cell_type": "code",
   "execution_count": null,
   "metadata": {
    "collapsed": true
   },
   "outputs": [],
   "source": [
    "M = matrix(NA, ncol = 2, nrow = 10); #check the help file so that you know what this does!\n",
    "\n",
    "for (i in 1:n){\n",
    "    #insert code here\n",
    "}\n"
   ]
  },
  {
   "cell_type": "markdown",
   "metadata": {},
   "source": [
    "#### Now, write a loop to calculate the mean of each column of M."
   ]
  },
  {
   "cell_type": "code",
   "execution_count": null,
   "metadata": {
    "collapsed": true
   },
   "outputs": [],
   "source": []
  },
  {
   "cell_type": "markdown",
   "metadata": {},
   "source": [
    "Here's an incredibly important lesson about R: many tasks that require loops in other languages (e.g., C++) **do not** require loops in R. \n",
    "\n",
    "#### As an example, use the function ${\\tt colMeans()}$ to calculate the means of the columns of M without a loop. Then, look at the help file for ${\\tt colMeans()}$ to see related functions."
   ]
  },
  {
   "cell_type": "code",
   "execution_count": null,
   "metadata": {
    "collapsed": true
   },
   "outputs": [],
   "source": []
  },
  {
   "cell_type": "markdown",
   "metadata": {},
   "source": [
    "Note that the family of functions that includes ${\\tt colMeans()}$ does not include a function to calculate the standard deviation or variance of a column (or row). But we can still do this without loops, using the ${\\tt apply()}$ function.\n",
    "\n",
    "#### Below, the ${\\tt apply()}$ function is set up to calculate the variance of each row of M. Modify the code to calculate the standard deviation of each column of M."
   ]
  },
  {
   "cell_type": "code",
   "execution_count": null,
   "metadata": {
    "collapsed": true
   },
   "outputs": [],
   "source": [
    "apply(M, 1, var)\n",
    "M"
   ]
  },
  {
   "cell_type": "markdown",
   "metadata": {},
   "source": [
    "Recall above that we wrote a function f1 that flips a coin four times. As odd as it sounds, it will become desirable for us to repeat many times (say, $m$ times) the process of flipping a coin four times. The result might be a matrix with $m$ rows and four columns. \n",
    "\n",
    "#### Write a loop to repeat the process of \"flipping a coin four times\" 10,000 times. The result should be a 10,000 by 4 matrix."
   ]
  },
  {
   "cell_type": "code",
   "execution_count": null,
   "metadata": {
    "collapsed": true,
    "scrolled": true
   },
   "outputs": [],
   "source": [
    "\n"
   ]
  },
  {
   "cell_type": "markdown",
   "metadata": {},
   "source": [
    "But, as master R programmers, we avoid loops whenever possible. One reason why we do this is because loops are slower than the fancy R alternatives. As an alternative to the loop above, let's use the ${\\tt replicate()}$ function to repeat the coin flipping process.\n",
    "\n",
    "#### Using the help function as your guide, use ${\\tt replicate()}$ to  repeat the process of \"flipping a coin four times\" 10,000 times."
   ]
  },
  {
   "cell_type": "code",
   "execution_count": null,
   "metadata": {
    "collapsed": true
   },
   "outputs": [],
   "source": []
  },
  {
   "cell_type": "markdown",
   "metadata": {},
   "source": [
    "## Part IV: Working with Data Frames\n",
    "\n",
    "Datasets in R are stored as $\\textit{data frames}$. Data frames are just tables of data (vectors of data of equal length). It will be important for future assignments (and in life!) for you to be able to work with data frames.\n",
    "\n",
    "#### Take the vectors below and store them in a data frame, called ${\\tt mydataframe}$, using the function ${\\tt data.frame()}$."
   ]
  },
  {
   "cell_type": "code",
   "execution_count": null,
   "metadata": {
    "collapsed": true
   },
   "outputs": [],
   "source": [
    "d = c(1, 2, 3, 4)\n",
    "e = c(\"red\", \"white\", \"blue\", NA)\n",
    "f = c(TRUE, TRUE, TRUE, FALSE)\n"
   ]
  },
  {
   "cell_type": "markdown",
   "metadata": {},
   "source": [
    "Note that the names of the columns aren't informative (they are just the names of the vectors used to create that dataframe). We can change that..."
   ]
  },
  {
   "cell_type": "code",
   "execution_count": null,
   "metadata": {
    "collapsed": true
   },
   "outputs": [],
   "source": [
    "#rename columns of data frame\n",
    "names(mydataframe) <- c(\"ID\", \"Color\", \"Passed\")\n",
    "mydataframe\n",
    "\n",
    "#name columns while creating data frame\n",
    "dataframe2 <- data.frame(ID=d, Color=e, Passed=f)\n",
    "dataframe2"
   ]
  },
  {
   "cell_type": "markdown",
   "metadata": {},
   "source": [
    "There are a few ways that you can access elements of a dataframe. \n",
    "\n",
    "1. You can access columns of a dataframe by typing ${\\tt mydataframe\\$NameOfColumn}$ or by typing ${\\tt mydataframe[ ,i]}$ (the latter will print the $i^{th}$ column).\n",
    "\n",
    "2. To access the $i^{th}$ row, type ${\\tt mydataframe[i, ]}$.\n",
    "\n",
    "3. To access the $[i,j]$ element, type ${\\tt mydataframe[i,j]}$. Note that data frames are indexed just like matrices: [row, column].\n",
    "\n",
    "#### Print the Color column of the dataframe from above in two different ways. Print the second row. Print the element containing \"white\"."
   ]
  },
  {
   "cell_type": "code",
   "execution_count": null,
   "metadata": {
    "collapsed": true
   },
   "outputs": [],
   "source": []
  },
  {
   "cell_type": "markdown",
   "metadata": {},
   "source": [
    "You can save a dataframe using the function ${\\tt write.table()}$. \n",
    "\n",
    "#### Below, I give code to save ${\\tt mydataframe}$ in a location on my computer. Modify the code to save it somewhere on your computer. I would take this time to think about being organized with your files for this course!\n",
    "\n",
    "Notice the ${\\tt sep}$ argument is set to ${\\tt \"\\t\"}$. This saves the file as a tab separated file. Look at the help file to see other options here."
   ]
  },
  {
   "cell_type": "code",
   "execution_count": null,
   "metadata": {
    "collapsed": true
   },
   "outputs": [],
   "source": [
    "###Writing data to file. The paste() function just allows us to write the URL on multiple lines\n",
    "write.table(mydataframe, paste(\"~/Google Drive/University of Colorado/Boulder\",\n",
    "                               \"/APPM 4570 Statistical Methods/Lecture/Units\",\n",
    "                               \"/Unit-1-EDA/code/example.txt\", sep = \"\"), sep = \"\\t\")"
   ]
  },
  {
   "cell_type": "markdown",
   "metadata": {},
   "source": [
    "Now, let's read the file you saved back into R (this is going to be important for homework assignments!). \n",
    "\n",
    "#### Modify the code below to read your file back into R. Investigate what the ${\\tt header}$ argument is doing!\n",
    "\n",
    "Note that the ${\\tt head}$ function prints the first few rows of your data frame. This can be helpful when you want to see how your data are organized, but don't want to print the whole thing."
   ]
  },
  {
   "cell_type": "code",
   "execution_count": null,
   "metadata": {
    "collapsed": true
   },
   "outputs": [],
   "source": [
    "data <- read.table(paste(\"~/Google Drive/University of Colorado/Boulder\",\n",
    "                         \"/APPM 4570 Statistical Methods/Lecture/Units\",\n",
    "                         \"/Unit-1-EDA/code/example.txt\", sep = \"\"), header = TRUE, sep = \"\\t\")\n",
    "head(data)"
   ]
  },
  {
   "cell_type": "markdown",
   "metadata": {},
   "source": [
    "# Part V: Real-World Data Example\n",
    "\n",
    "The National Institute of Diabetes and Digestive and Kidney Diseases conducted a study on 768 adult female Pima Indians living near Phoenix. The following variables were recorded: \n",
    "\n",
    "1. number of times pregnant;\n",
    "2. plasma glucose concentration at 2 hours in an oral glucose tolerance test \n",
    "3. diastolic blood pressure (mmHg)\n",
    "4. triceps skin fold thickness (mm); \n",
    "5. 2-hour serum insulin (mu U/ml); \n",
    "6. body mass index (weight in kg/(height in m2));\n",
    "7. diabetes pedigree function (a function that represents how likely they are to get the disease by extrapolating from their ancestor’s history); \n",
    "8. age (years); and \n",
    "9. a test whether the patient showed signs of diabetes (coded zero if negative, one if positive). \n",
    "\n",
    "There are many different ways to read in data to R:\n",
    "\n",
    "1. Read data from a URL. You can do this with ${\\tt read.table(\"URL\",...)}$.\n",
    "2. Read data file from your hard drive. We did this above.\n",
    "3. Load a dataset from an R package. \n",
    "\n",
    "We will do option three here since this dataset can be found in a package. First, we install the \"faraway\" package within the R application. \n",
    "\n",
    "#### Open your R application and copy and paste the following:\n",
    "\n",
    "x = c(\"faraway\", \"car\", \"ggplot2\", \"Amelia\", \"ellipse\", \"ggplot2\", \"lars\", \"leaps\", \"lmtest\", \"Matching\", \"pls\", \"quantreg\", \"simex\", \"HistData\", \"needs\", \"readr\", \"data.table\", \"alr4\", \"dplyr\", \"HH\", \"perturb\", \"caret\")\n",
    "\n",
    "install.packages(x, repos = \"http://cran.rstudio.org\")\n",
    "\n",
    "This will install many packages that we'll need this semester, including faraway, which we need for this exercise. To install other packages, you can use ${\\tt install.packages()}$ or you can search packages using the \"Packages and Data\" dropdown menue in R.\n",
    "\n",
    "Next, we load the faraway package and the dataset that we need."
   ]
  },
  {
   "cell_type": "code",
   "execution_count": null,
   "metadata": {
    "collapsed": true
   },
   "outputs": [],
   "source": [
    "library(faraway) #load needed package--we just installed this. \n",
    "#We don't have to install it again\n",
    "#but everytime we open a new Jupyter notebook (or R session) we will need to \n",
    "#load the libraries we need.\n",
    "data(pima) # load data\n",
    "head(pima) # first six rows of data\n"
   ]
  },
  {
   "cell_type": "markdown",
   "metadata": {},
   "source": [
    "#### Use the ${\\tt summary()}$ function to print numerical summaries of this dataset. "
   ]
  },
  {
   "cell_type": "code",
   "execution_count": null,
   "metadata": {
    "collapsed": true
   },
   "outputs": [],
   "source": []
  },
  {
   "cell_type": "markdown",
   "metadata": {},
   "source": [
    "#### Use the ${\\tt sort()}$ function to order the diastolic blood pressure variable from lowest to highest."
   ]
  },
  {
   "cell_type": "code",
   "execution_count": null,
   "metadata": {
    "collapsed": true
   },
   "outputs": [],
   "source": []
  },
  {
   "cell_type": "markdown",
   "metadata": {},
   "source": [
    "Note that 0 is not a reasonable value for blood pressure. This is a ${\\it coding}$ issue; the people recording this data used 0 for missing data. Think about why that is a problem when doing statistical analyses...\n",
    "\n",
    "#### Change all zero values of diastolic blood pressure to ${\\tt NA}$. Then, referring to the summary above, do the same for other variables."
   ]
  },
  {
   "cell_type": "code",
   "execution_count": null,
   "metadata": {
    "collapsed": true
   },
   "outputs": [],
   "source": []
  },
  {
   "cell_type": "markdown",
   "metadata": {},
   "source": [
    "#### Convert the ${\\tt test}$ varible to factor and look at the new summary. What do you notice?"
   ]
  },
  {
   "cell_type": "code",
   "execution_count": null,
   "metadata": {
    "collapsed": true
   },
   "outputs": [],
   "source": []
  },
  {
   "cell_type": "markdown",
   "metadata": {},
   "source": [
    "#### Provide more descriptive labels for the levels of this variable (note that 0 = \"negative\" and 1 = \"positive\"). The easiest way do do this is with the ${\\tt levels()}$ function: ${\\tt levels(x) = value}$. Print the summary again. Much better!"
   ]
  },
  {
   "cell_type": "code",
   "execution_count": null,
   "metadata": {
    "collapsed": true
   },
   "outputs": [],
   "source": []
  },
  {
   "cell_type": "markdown",
   "metadata": {},
   "source": [
    "#### Print a histogram of the ${\\tt diastolic}$ variable. Comment on it's shape."
   ]
  },
  {
   "cell_type": "code",
   "execution_count": null,
   "metadata": {
    "collapsed": true
   },
   "outputs": [],
   "source": []
  },
  {
   "cell_type": "markdown",
   "metadata": {},
   "source": [
    "#### Use the ${\\tt plot}$ function to produce a scatterplot of diabetes ($y$) against diastolic blood pressure ($x$). What do you notice about this plot?"
   ]
  },
  {
   "cell_type": "code",
   "execution_count": null,
   "metadata": {
    "collapsed": true
   },
   "outputs": [],
   "source": []
  },
  {
   "cell_type": "markdown",
   "metadata": {},
   "source": [
    "#### Use the ${\\tt boxplot()}$ function to produce a boxplot of ${\\tt diabetes}$ conditioned on ${\\tt test}$. Interpret this plot."
   ]
  },
  {
   "cell_type": "code",
   "execution_count": null,
   "metadata": {
    "collapsed": true
   },
   "outputs": [],
   "source": []
  },
  {
   "cell_type": "markdown",
   "metadata": {},
   "source": [
    "On future assignments, we will read data from the web. Here's some code that reads in a dataset from a URL."
   ]
  },
  {
   "cell_type": "code",
   "execution_count": null,
   "metadata": {
    "collapsed": true
   },
   "outputs": [],
   "source": [
    "### Reading data from the web...\n",
    "\n",
    "read.table(\"http://www.stats.ox.ac.uk/pub/datasets/csb/ch11b.dat\")"
   ]
  }
 ],
 "metadata": {
  "kernelspec": {
   "display_name": "R",
   "language": "R",
   "name": "ir"
  },
  "language_info": {
   "codemirror_mode": "r",
   "file_extension": ".r",
   "mimetype": "text/x-r-source",
   "name": "R",
   "pygments_lexer": "r",
   "version": "3.4.2"
  }
 },
 "nbformat": 4,
 "nbformat_minor": 2
}
