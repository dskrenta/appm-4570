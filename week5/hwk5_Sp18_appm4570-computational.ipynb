{
 "cells": [
  {
   "cell_type": "markdown",
   "metadata": {},
   "source": [
    "# Homework #4: Computational Questions\n",
    "*All computations should be done in this notebook using the R kernel. Working in small groups is allowed, but it is important that you make an effort to master the material and hand in your own work.*\n",
    "\n",
    "#### You will be required to submit this notebook, fully compiled with your solutions, as an HTML or ipynb file to Canvas by 2pm on Friday, March 2."
   ]
  },
  {
   "cell_type": "markdown",
   "metadata": {},
   "source": [
    "## Problem 1\n",
    "\n",
    "One really cool (and useful!) application of random variables is approximating integrals/the area under a curve. Consider $f(x) = sin(x)$ on the interval $0 \\le x \\le \\pi$. Let's use uniform random variables to approximate the area under $f(x)$ on this interval. Note that this general idea is used often to solve really important but hard integrals!\n",
    "\n",
    " \n",
    "#### (a) By hand, and using the ${\\tt integrate()}$ function in R, calculate the true area under $f(x)$.\n"
   ]
  },
  {
   "cell_type": "code",
   "execution_count": null,
   "metadata": {
    "collapsed": false
   },
   "outputs": [],
   "source": []
  },
  {
   "cell_type": "markdown",
   "metadata": {},
   "source": [
    "#### (b) Generate $n = 5,000$ uniform random $(x,y)$ coordinates in the rectangle $x \\in [0,\\pi], \\, y \\in [0,1]$. "
   ]
  },
  {
   "cell_type": "code",
   "execution_count": null,
   "metadata": {
    "collapsed": false
   },
   "outputs": [],
   "source": []
  },
  {
   "cell_type": "markdown",
   "metadata": {},
   "source": [
    "#### (c)  Calculate the proportion of points from (b) that fall below $f(x)$ and use this proportion to approximate the area under $f(x)$. "
   ]
  },
  {
   "cell_type": "code",
   "execution_count": null,
   "metadata": {
    "collapsed": false
   },
   "outputs": [],
   "source": []
  },
  {
   "cell_type": "markdown",
   "metadata": {
    "collapsed": false
   },
   "source": [
    "#### (d) Find the error between our approximation and the true area calculated in (a). How can we make this error smaller?\n",
    "\n"
   ]
  },
  {
   "cell_type": "code",
   "execution_count": null,
   "metadata": {
    "collapsed": true
   },
   "outputs": [],
   "source": []
  },
  {
   "cell_type": "markdown",
   "metadata": {},
   "source": [
    "## Problem 2\n",
    "\n",
    "Assume the \"subjective\" interpretation of probability for this problem. That is, probability models your degree of belief in an event or claim.\n",
    "\n",
    "#### (a) In the same window, plot four different beta distributions (pdf): \n",
    "\n",
    "1. beta(1,1)\n",
    "2. beta(0.5,0.5)\n",
    "3. beta(5,5)\n",
    "4. beta(1,5)\n",
    "\n",
    "What is another name for 1?\n"
   ]
  },
  {
   "cell_type": "code",
   "execution_count": null,
   "metadata": {
    "collapsed": true
   },
   "outputs": [],
   "source": []
  },
  {
   "cell_type": "markdown",
   "metadata": {},
   "source": [
    "#### (b) Now, suppose your friend has a coin whose probabilities are unknown to you. Since the beta distribution has support $[0,1]$, it is well-suited to model your beliefs about the probability of heads. Match the following descriptions with the beta distributions from the previous part.\n",
    "\n",
    "\n",
    "i. I am pretty confident that this is a two-headed or two-tailed coin.\n",
    "\n",
    "ii. I have no idea what the probability of heads is.\n",
    "\n",
    "iii. I believe that the probability of heads is low.\n",
    "\n",
    "iv. I believe that the coin is close to fair.\n",
    "\n",
    "\n",
    "\n"
   ]
  },
  {
   "cell_type": "code",
   "execution_count": null,
   "metadata": {
    "collapsed": true
   },
   "outputs": [],
   "source": []
  }
 ],
 "metadata": {
  "kernelspec": {
   "display_name": "R",
   "language": "R",
   "name": "ir"
  },
  "language_info": {
   "codemirror_mode": "r",
   "file_extension": ".r",
   "mimetype": "text/x-r-source",
   "name": "R",
   "pygments_lexer": "r",
   "version": "3.3.2"
  }
 },
 "nbformat": 4,
 "nbformat_minor": 2
}
