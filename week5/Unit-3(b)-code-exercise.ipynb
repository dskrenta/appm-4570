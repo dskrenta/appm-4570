{
 "cells": [
  {
   "cell_type": "markdown",
   "metadata": {},
   "source": [
    "# Unit #3 (b) Code"
   ]
  },
  {
   "cell_type": "markdown",
   "metadata": {},
   "source": [
    "# Problem 1\n",
    "\n",
    "#### Use ${\\tt dexp()}$ to plot--in separate panes of a single window--the pdf of an exponential distribution for $\\lambda \\in \\{1, 2, 5, 7\\}$. More concretely, create an array consisting of elements $1,2,5,7$. Then, generate a grid of $x$ values between 0 and 12 (with, say, 1000 points). Then, calculate the pdf of the exponential at each $x$ value, and plot."
   ]
  },
  {
   "cell_type": "code",
   "execution_count": null,
   "metadata": {
    "collapsed": false
   },
   "outputs": [],
   "source": []
  },
  {
   "cell_type": "markdown",
   "metadata": {},
   "source": [
    "Note that you can plot other pdfs, cdfs, such as: ${\\tt dbeta(), dnorm(), \\text{ or } dunif(),}$."
   ]
  },
  {
   "cell_type": "markdown",
   "metadata": {},
   "source": [
    "# Problem 2\n",
    "Monte Carlo Estimation of $\\pi$.\n",
    "\n",
    "#### (a) Generate two vectors of uniform (-1, 1) random numbers. Call them $x$ and $y$. Find the first quartile and 30th percentile of $X \\sim U(-1,1)$ (use ${\\tt qunif()}$)."
   ]
  },
  {
   "cell_type": "code",
   "execution_count": null,
   "metadata": {
    "collapsed": false
   },
   "outputs": [],
   "source": []
  },
  {
   "cell_type": "markdown",
   "metadata": {},
   "source": [
    "#### (b) Create a vector of logicals, called incircle,that is equal to True if $x^2 + y^2 \\le 1^2$ and False otherwise (for the x and y generated in (a))."
   ]
  },
  {
   "cell_type": "code",
   "execution_count": null,
   "metadata": {
    "collapsed": false
   },
   "outputs": [],
   "source": []
  },
  {
   "cell_type": "markdown",
   "metadata": {},
   "source": [
    "#### (c) Calculate the number of values of incircle that are equal to true (sum(incircle) will work). Use this value to estimate $\\pi$. Describe why this works."
   ]
  },
  {
   "cell_type": "code",
   "execution_count": null,
   "metadata": {
    "collapsed": false
   },
   "outputs": [],
   "source": []
  },
  {
   "cell_type": "markdown",
   "metadata": {},
   "source": []
  },
  {
   "cell_type": "markdown",
   "metadata": {
    "collapsed": true
   },
   "source": [
    "#### (d) How could you use this to estimate the area of a circle with radius 2 centered at the origin?"
   ]
  },
  {
   "cell_type": "markdown",
   "metadata": {
    "collapsed": true
   },
   "source": []
  }
 ],
 "metadata": {
  "kernelspec": {
   "display_name": "R",
   "language": "R",
   "name": "ir"
  },
  "language_info": {
   "codemirror_mode": "r",
   "file_extension": ".r",
   "mimetype": "text/x-r-source",
   "name": "R",
   "pygments_lexer": "r",
   "version": "3.3.2"
  }
 },
 "nbformat": 4,
 "nbformat_minor": 2
}
